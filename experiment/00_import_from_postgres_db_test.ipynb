{
 "cells": [
  {
   "cell_type": "code",
   "execution_count": 1,
   "metadata": {},
   "outputs": [],
   "source": [
    "import psycopg2\n",
    "import pandas as pd\n",
    "\n",
    "def get_data_from_my_postgre_db(password:str, table_name:str)->pd.DataFrame:\n",
    "    \"\"\"connects to marketing_analytics db and returns data from table_name as pandas dataframe .\n",
    "    inputs: database password and table_name\"\"\"\n",
    "    # Connect to the database\n",
    "    conn = psycopg2.connect(\n",
    "        database=\"marketing_analytics\", \n",
    "        user=\"postgres\", \n",
    "        password=password, \n",
    "        host=\"localhost\", \n",
    "        port=\"5432\")\n",
    "    # Create a cursor object\n",
    "    cur = conn.cursor()\n",
    "    # Execute a SQL query\n",
    "    #cur.execute(\"SELECT * FROM bank_customers_churn_dataset\")\n",
    "    cur.execute(\"SELECT * FROM \" + table_name) \n",
    "    # Get the column names from the cursor description\n",
    "    columns = [desc[0] for desc in cur.description]\n",
    "    # Fetch the results i.e. values\n",
    "    results = cur.fetchall()\n",
    "    # Create a dictionary mapping column names to values\n",
    "    data = [dict(zip(columns, row)) for row in results]\n",
    "    # Close the connection\n",
    "    conn.close()\n",
    "    # turn dictionary into dataframe\n",
    "    return pd.DataFrame.from_dict(data)"
   ]
  },
  {
   "cell_type": "code",
   "execution_count": 2,
   "metadata": {},
   "outputs": [],
   "source": [
    "f = open(\"../private.txt\", \"r\")\n",
    "pw = f.read()"
   ]
  },
  {
   "cell_type": "code",
   "execution_count": 4,
   "metadata": {},
   "outputs": [
    {
     "data": {
      "text/html": [
       "<div>\n",
       "<style scoped>\n",
       "    .dataframe tbody tr th:only-of-type {\n",
       "        vertical-align: middle;\n",
       "    }\n",
       "\n",
       "    .dataframe tbody tr th {\n",
       "        vertical-align: top;\n",
       "    }\n",
       "\n",
       "    .dataframe thead th {\n",
       "        text-align: right;\n",
       "    }\n",
       "</style>\n",
       "<table border=\"1\" class=\"dataframe\">\n",
       "  <thead>\n",
       "    <tr style=\"text-align: right;\">\n",
       "      <th></th>\n",
       "      <th>customer_id</th>\n",
       "      <th>credit_score</th>\n",
       "      <th>country</th>\n",
       "      <th>gender</th>\n",
       "      <th>age</th>\n",
       "      <th>tenure</th>\n",
       "      <th>balance</th>\n",
       "      <th>products_number</th>\n",
       "      <th>credit_card</th>\n",
       "      <th>active_member</th>\n",
       "      <th>estimated_salary</th>\n",
       "      <th>churn</th>\n",
       "    </tr>\n",
       "  </thead>\n",
       "  <tbody>\n",
       "    <tr>\n",
       "      <th>0</th>\n",
       "      <td>15634602</td>\n",
       "      <td>619.0</td>\n",
       "      <td>France</td>\n",
       "      <td>Female</td>\n",
       "      <td>42</td>\n",
       "      <td>2</td>\n",
       "      <td>0.00</td>\n",
       "      <td>1</td>\n",
       "      <td>1</td>\n",
       "      <td>1</td>\n",
       "      <td>101348.88</td>\n",
       "      <td>1</td>\n",
       "    </tr>\n",
       "    <tr>\n",
       "      <th>1</th>\n",
       "      <td>15647311</td>\n",
       "      <td>608.0</td>\n",
       "      <td>Spain</td>\n",
       "      <td>Female</td>\n",
       "      <td>41</td>\n",
       "      <td>1</td>\n",
       "      <td>83807.86</td>\n",
       "      <td>1</td>\n",
       "      <td>0</td>\n",
       "      <td>1</td>\n",
       "      <td>112542.58</td>\n",
       "      <td>0</td>\n",
       "    </tr>\n",
       "    <tr>\n",
       "      <th>2</th>\n",
       "      <td>15619304</td>\n",
       "      <td>502.0</td>\n",
       "      <td>France</td>\n",
       "      <td>Female</td>\n",
       "      <td>42</td>\n",
       "      <td>8</td>\n",
       "      <td>159660.80</td>\n",
       "      <td>3</td>\n",
       "      <td>1</td>\n",
       "      <td>0</td>\n",
       "      <td>113931.57</td>\n",
       "      <td>1</td>\n",
       "    </tr>\n",
       "    <tr>\n",
       "      <th>3</th>\n",
       "      <td>15701354</td>\n",
       "      <td>699.0</td>\n",
       "      <td>France</td>\n",
       "      <td>Female</td>\n",
       "      <td>39</td>\n",
       "      <td>1</td>\n",
       "      <td>0.00</td>\n",
       "      <td>2</td>\n",
       "      <td>0</td>\n",
       "      <td>0</td>\n",
       "      <td>93826.63</td>\n",
       "      <td>0</td>\n",
       "    </tr>\n",
       "    <tr>\n",
       "      <th>4</th>\n",
       "      <td>15737888</td>\n",
       "      <td>850.0</td>\n",
       "      <td>Spain</td>\n",
       "      <td>Female</td>\n",
       "      <td>43</td>\n",
       "      <td>2</td>\n",
       "      <td>125510.82</td>\n",
       "      <td>1</td>\n",
       "      <td>1</td>\n",
       "      <td>1</td>\n",
       "      <td>79084.10</td>\n",
       "      <td>0</td>\n",
       "    </tr>\n",
       "  </tbody>\n",
       "</table>\n",
       "</div>"
      ],
      "text/plain": [
       "  customer_id  credit_score country  gender  age tenure    balance  \\\n",
       "0    15634602         619.0  France  Female   42      2       0.00   \n",
       "1    15647311         608.0   Spain  Female   41      1   83807.86   \n",
       "2    15619304         502.0  France  Female   42      8  159660.80   \n",
       "3    15701354         699.0  France  Female   39      1       0.00   \n",
       "4    15737888         850.0   Spain  Female   43      2  125510.82   \n",
       "\n",
       "  products_number credit_card active_member  estimated_salary churn  \n",
       "0               1           1             1         101348.88     1  \n",
       "1               1           0             1         112542.58     0  \n",
       "2               3           1             0         113931.57     1  \n",
       "3               2           0             0          93826.63     0  \n",
       "4               1           1             1          79084.10     0  "
      ]
     },
     "execution_count": 4,
     "metadata": {},
     "output_type": "execute_result"
    }
   ],
   "source": [
    "#table_name = \"adult_dataset\"\n",
    "table_name = \"bank_customers_churn_dataset\"\n",
    "df = get_data_from_my_postgre_db(pw, table_name)\n",
    "\n",
    "df.head()"
   ]
  },
  {
   "cell_type": "code",
   "execution_count": 5,
   "metadata": {},
   "outputs": [
    {
     "data": {
      "text/plain": [
       "(10000, 12)"
      ]
     },
     "execution_count": 5,
     "metadata": {},
     "output_type": "execute_result"
    }
   ],
   "source": [
    "df.shape"
   ]
  },
  {
   "cell_type": "code",
   "execution_count": 6,
   "metadata": {},
   "outputs": [
    {
     "data": {
      "text/plain": [
       "customer_id          object\n",
       "credit_score        float64\n",
       "country              object\n",
       "gender               object\n",
       "age                   int64\n",
       "tenure               object\n",
       "balance             float64\n",
       "products_number      object\n",
       "credit_card          object\n",
       "active_member        object\n",
       "estimated_salary    float64\n",
       "churn                object\n",
       "dtype: object"
      ]
     },
     "execution_count": 6,
     "metadata": {},
     "output_type": "execute_result"
    }
   ],
   "source": [
    "df.dtypes"
   ]
  },
  {
   "cell_type": "code",
   "execution_count": null,
   "metadata": {},
   "outputs": [],
   "source": []
  }
 ],
 "metadata": {
  "kernelspec": {
   "display_name": "customer_cluster_app",
   "language": "python",
   "name": "python3"
  },
  "language_info": {
   "codemirror_mode": {
    "name": "ipython",
    "version": 3
   },
   "file_extension": ".py",
   "mimetype": "text/x-python",
   "name": "python",
   "nbconvert_exporter": "python",
   "pygments_lexer": "ipython3",
   "version": "3.8.15"
  },
  "orig_nbformat": 4,
  "vscode": {
   "interpreter": {
    "hash": "4fd97cb6804767821df0653fcde94becba692fe61545c71ef62d3cf788367974"
   }
  }
 },
 "nbformat": 4,
 "nbformat_minor": 2
}
