{
 "cells": [
  {
   "attachments": {},
   "cell_type": "markdown",
   "metadata": {
    "id": "M27qF7CTrBqc"
   },
   "source": [
    "# Segment the bank churn dataset using GOWER similarity and DBScan Clustering"
   ]
  },
  {
   "cell_type": "code",
   "execution_count": 1,
   "metadata": {},
   "outputs": [],
   "source": [
    "# Data Visualization:\n",
    "# DB Scan: \n",
    "#   https://towardsdatascience.com/how-to-cluster-in-high-dimensions-4ef693bacc6\n",
    "# Clustering categorical and numeric datset:\n",
    "# https://towardsdatascience.com/clustering-on-numerical-and-categorical-features-6e0ebcf1cbad\n",
    "# Clustering Categorical Data Visualization\n",
    "#   https://towardsdatascience.com/clustering-algorithm-for-data-with-mixed-categorical-and-numerical-features-d4e3a48066a0\n",
    "# Explain Clustering Results with Shapley Values:\n",
    "#   https://towardsdatascience.com/how-to-make-clustering-explainable-1582390476cc \n",
    "#   https://medium.com/bricklane-tech/a-new-approach-to-clustering-interpretation-7729cb665ee8\n",
    "# Understand tSNE:\n",
    "#   https://www.youtube.com/watch?v=43ySR7_Yb4E\n",
    "# General Visualization Strategies for high dim data:\n",
    "#   https://towardsdatascience.com/the-art-of-effective-visualization-of-multi-dimensional-data-6c7202990c57"
   ]
  },
  {
   "cell_type": "code",
   "execution_count": 2,
   "metadata": {},
   "outputs": [
    {
     "name": "stderr",
     "output_type": "stream",
     "text": [
      "c:\\Users\\Sebas\\anaconda3\\envs\\customer_cluster_app\\lib\\site-packages\\tqdm\\auto.py:22: TqdmWarning: IProgress not found. Please update jupyter and ipywidgets. See https://ipywidgets.readthedocs.io/en/stable/user_install.html\n",
      "  from .autonotebook import tqdm as notebook_tqdm\n"
     ]
    }
   ],
   "source": [
    "%matplotlib inline\n",
    "import pickle\n",
    "\n",
    "# data processing\n",
    "import numpy as np\n",
    "import pandas as pd\n",
    "from sklearn.model_selection import train_test_split\n",
    "from sklearn.impute import SimpleImputer\n",
    "from sklearn.preprocessing import OneHotEncoder\n",
    "from feature_engine.encoding import RareLabelEncoder\n",
    "from feature_engine.outliers import Winsorizer\n",
    "\n",
    "# data visualization\n",
    "import matplotlib.pyplot as plt\n",
    "import seaborn as sns\n",
    "\n",
    "# Clustering\n",
    "import gower\n",
    "from sklearn.cluster import DBSCAN\n",
    "from sklearn.metrics import silhouette_score\n",
    "\n",
    "# Supervised Learning\n",
    "from sklearn.ensemble import RandomForestClassifier\n",
    "from sklearn.model_selection import GridSearchCV\n",
    "\n",
    "# Model Evaluation\n",
    "from sklearn.metrics import confusion_matrix, ConfusionMatrixDisplay\n",
    "\n",
    "# Cluster Explainability\n",
    "import shap"
   ]
  },
  {
   "attachments": {},
   "cell_type": "markdown",
   "metadata": {},
   "source": [
    "# Import Data\n",
    "the dataset is available here: https://www.kaggle.com/datasets/mathchi/churn-for-bank-customers"
   ]
  },
  {
   "attachments": {},
   "cell_type": "markdown",
   "metadata": {},
   "source": [
    "- CustomerId—contains random values and has no effect on customer leaving the bank.\n",
    "- Surname—the surname of a customer has no impact on their decision to leave the bank.\n",
    "- CreditScore—can have an effect on customer churn, since a customer with a higher credit score is less likely to leave the bank.\n",
    "- Geography—a customer’s location can affect their decision to leave the bank.\n",
    "- Gender—it’s interesting to explore whether gender plays a role in a customer leaving the bank.\n",
    "- Age—this is certainly relevant, since older customers are less likely to leave their bank than younger ones.\n",
    "- Tenure—refers to the number of years that the customer has been a client of the bank. Normally, older clients are more loyal and less likely to leave a bank.\n",
    "-Balance—also a very good indicator of customer churn, as people with a higher balance in their accounts are less likely to leave the bank compared to those with lower balances.\n",
    "- NumOfProducts—refers to the number of products that a customer has purchased through the bank.\n",
    "- HasCrCard—denotes whether or not a customer has a credit card. This column is also relevant, since people with a credit card are less likely to leave the bank.\n",
    "- IsActiveMember—active customers are less likely to leave the bank.\n",
    "- EstimatedSalary—as with balance, people with lower salaries are more likely to leave the bank compared to those with higher salaries.\n",
    "- Churn—whether or not the customer left the bank."
   ]
  },
  {
   "cell_type": "code",
   "execution_count": 3,
   "metadata": {},
   "outputs": [
    {
     "data": {
      "text/html": [
       "<div>\n",
       "<style scoped>\n",
       "    .dataframe tbody tr th:only-of-type {\n",
       "        vertical-align: middle;\n",
       "    }\n",
       "\n",
       "    .dataframe tbody tr th {\n",
       "        vertical-align: top;\n",
       "    }\n",
       "\n",
       "    .dataframe thead th {\n",
       "        text-align: right;\n",
       "    }\n",
       "</style>\n",
       "<table border=\"1\" class=\"dataframe\">\n",
       "  <thead>\n",
       "    <tr style=\"text-align: right;\">\n",
       "      <th></th>\n",
       "      <th>credit_score</th>\n",
       "      <th>country</th>\n",
       "      <th>gender</th>\n",
       "      <th>age</th>\n",
       "      <th>tenure</th>\n",
       "      <th>balance</th>\n",
       "      <th>products_number</th>\n",
       "      <th>credit_card</th>\n",
       "      <th>active_member</th>\n",
       "      <th>estimated_salary</th>\n",
       "    </tr>\n",
       "    <tr>\n",
       "      <th>customer_id</th>\n",
       "      <th></th>\n",
       "      <th></th>\n",
       "      <th></th>\n",
       "      <th></th>\n",
       "      <th></th>\n",
       "      <th></th>\n",
       "      <th></th>\n",
       "      <th></th>\n",
       "      <th></th>\n",
       "      <th></th>\n",
       "    </tr>\n",
       "  </thead>\n",
       "  <tbody>\n",
       "    <tr>\n",
       "      <th>15634602</th>\n",
       "      <td>619</td>\n",
       "      <td>France</td>\n",
       "      <td>Female</td>\n",
       "      <td>42</td>\n",
       "      <td>2</td>\n",
       "      <td>0.00</td>\n",
       "      <td>1</td>\n",
       "      <td>1</td>\n",
       "      <td>1</td>\n",
       "      <td>101348.88</td>\n",
       "    </tr>\n",
       "    <tr>\n",
       "      <th>15647311</th>\n",
       "      <td>608</td>\n",
       "      <td>Spain</td>\n",
       "      <td>Female</td>\n",
       "      <td>41</td>\n",
       "      <td>1</td>\n",
       "      <td>83807.86</td>\n",
       "      <td>1</td>\n",
       "      <td>0</td>\n",
       "      <td>1</td>\n",
       "      <td>112542.58</td>\n",
       "    </tr>\n",
       "    <tr>\n",
       "      <th>15619304</th>\n",
       "      <td>502</td>\n",
       "      <td>France</td>\n",
       "      <td>Female</td>\n",
       "      <td>42</td>\n",
       "      <td>8</td>\n",
       "      <td>159660.80</td>\n",
       "      <td>3</td>\n",
       "      <td>1</td>\n",
       "      <td>0</td>\n",
       "      <td>113931.57</td>\n",
       "    </tr>\n",
       "    <tr>\n",
       "      <th>15701354</th>\n",
       "      <td>699</td>\n",
       "      <td>France</td>\n",
       "      <td>Female</td>\n",
       "      <td>39</td>\n",
       "      <td>1</td>\n",
       "      <td>0.00</td>\n",
       "      <td>2</td>\n",
       "      <td>0</td>\n",
       "      <td>0</td>\n",
       "      <td>93826.63</td>\n",
       "    </tr>\n",
       "    <tr>\n",
       "      <th>15737888</th>\n",
       "      <td>850</td>\n",
       "      <td>Spain</td>\n",
       "      <td>Female</td>\n",
       "      <td>43</td>\n",
       "      <td>2</td>\n",
       "      <td>125510.82</td>\n",
       "      <td>1</td>\n",
       "      <td>1</td>\n",
       "      <td>1</td>\n",
       "      <td>79084.10</td>\n",
       "    </tr>\n",
       "  </tbody>\n",
       "</table>\n",
       "</div>"
      ],
      "text/plain": [
       "             credit_score country  gender  age  tenure    balance  \\\n",
       "customer_id                                                         \n",
       "15634602              619  France  Female   42       2       0.00   \n",
       "15647311              608   Spain  Female   41       1   83807.86   \n",
       "15619304              502  France  Female   42       8  159660.80   \n",
       "15701354              699  France  Female   39       1       0.00   \n",
       "15737888              850   Spain  Female   43       2  125510.82   \n",
       "\n",
       "             products_number  credit_card  active_member  estimated_salary  \n",
       "customer_id                                                                 \n",
       "15634602                   1            1              1         101348.88  \n",
       "15647311                   1            0              1         112542.58  \n",
       "15619304                   3            1              0         113931.57  \n",
       "15701354                   2            0              0          93826.63  \n",
       "15737888                   1            1              1          79084.10  "
      ]
     },
     "execution_count": 3,
     "metadata": {},
     "output_type": "execute_result"
    }
   ],
   "source": [
    "# load the local dataset \n",
    "df = pd.read_csv(\n",
    "        filepath_or_buffer = '../data/bank_customers_churn_dataset.csv',\n",
    "        index_col='customer_id'\n",
    ")\n",
    "\n",
    "# drop churn column for segmentation\n",
    "df.drop('churn', axis=1, inplace=True)\n",
    "\n",
    "df.head()"
   ]
  },
  {
   "cell_type": "code",
   "execution_count": 4,
   "metadata": {},
   "outputs": [
    {
     "data": {
      "text/html": [
       "<div>\n",
       "<style scoped>\n",
       "    .dataframe tbody tr th:only-of-type {\n",
       "        vertical-align: middle;\n",
       "    }\n",
       "\n",
       "    .dataframe tbody tr th {\n",
       "        vertical-align: top;\n",
       "    }\n",
       "\n",
       "    .dataframe thead th {\n",
       "        text-align: right;\n",
       "    }\n",
       "</style>\n",
       "<table border=\"1\" class=\"dataframe\">\n",
       "  <thead>\n",
       "    <tr style=\"text-align: right;\">\n",
       "      <th></th>\n",
       "      <th>credit_score</th>\n",
       "      <th>country</th>\n",
       "      <th>gender</th>\n",
       "      <th>age</th>\n",
       "      <th>tenure</th>\n",
       "      <th>balance</th>\n",
       "      <th>products_number</th>\n",
       "      <th>credit_card</th>\n",
       "      <th>active_member</th>\n",
       "      <th>estimated_salary</th>\n",
       "    </tr>\n",
       "    <tr>\n",
       "      <th>customer_id</th>\n",
       "      <th></th>\n",
       "      <th></th>\n",
       "      <th></th>\n",
       "      <th></th>\n",
       "      <th></th>\n",
       "      <th></th>\n",
       "      <th></th>\n",
       "      <th></th>\n",
       "      <th></th>\n",
       "      <th></th>\n",
       "    </tr>\n",
       "  </thead>\n",
       "  <tbody>\n",
       "    <tr>\n",
       "      <th>15634602</th>\n",
       "      <td>619</td>\n",
       "      <td>France</td>\n",
       "      <td>Female</td>\n",
       "      <td>42</td>\n",
       "      <td>2</td>\n",
       "      <td>0.00</td>\n",
       "      <td>1</td>\n",
       "      <td>yes</td>\n",
       "      <td>yes</td>\n",
       "      <td>101348.88</td>\n",
       "    </tr>\n",
       "    <tr>\n",
       "      <th>15647311</th>\n",
       "      <td>608</td>\n",
       "      <td>Spain</td>\n",
       "      <td>Female</td>\n",
       "      <td>41</td>\n",
       "      <td>1</td>\n",
       "      <td>83807.86</td>\n",
       "      <td>1</td>\n",
       "      <td>no</td>\n",
       "      <td>yes</td>\n",
       "      <td>112542.58</td>\n",
       "    </tr>\n",
       "    <tr>\n",
       "      <th>15619304</th>\n",
       "      <td>502</td>\n",
       "      <td>France</td>\n",
       "      <td>Female</td>\n",
       "      <td>42</td>\n",
       "      <td>8</td>\n",
       "      <td>159660.80</td>\n",
       "      <td>3</td>\n",
       "      <td>yes</td>\n",
       "      <td>no</td>\n",
       "      <td>113931.57</td>\n",
       "    </tr>\n",
       "    <tr>\n",
       "      <th>15701354</th>\n",
       "      <td>699</td>\n",
       "      <td>France</td>\n",
       "      <td>Female</td>\n",
       "      <td>39</td>\n",
       "      <td>1</td>\n",
       "      <td>0.00</td>\n",
       "      <td>2</td>\n",
       "      <td>no</td>\n",
       "      <td>no</td>\n",
       "      <td>93826.63</td>\n",
       "    </tr>\n",
       "    <tr>\n",
       "      <th>15737888</th>\n",
       "      <td>850</td>\n",
       "      <td>Spain</td>\n",
       "      <td>Female</td>\n",
       "      <td>43</td>\n",
       "      <td>2</td>\n",
       "      <td>125510.82</td>\n",
       "      <td>1</td>\n",
       "      <td>yes</td>\n",
       "      <td>yes</td>\n",
       "      <td>79084.10</td>\n",
       "    </tr>\n",
       "  </tbody>\n",
       "</table>\n",
       "</div>"
      ],
      "text/plain": [
       "             credit_score country  gender  age  tenure    balance  \\\n",
       "customer_id                                                         \n",
       "15634602              619  France  Female   42       2       0.00   \n",
       "15647311              608   Spain  Female   41       1   83807.86   \n",
       "15619304              502  France  Female   42       8  159660.80   \n",
       "15701354              699  France  Female   39       1       0.00   \n",
       "15737888              850   Spain  Female   43       2  125510.82   \n",
       "\n",
       "             products_number credit_card active_member  estimated_salary  \n",
       "customer_id                                                               \n",
       "15634602                   1         yes           yes         101348.88  \n",
       "15647311                   1          no           yes         112542.58  \n",
       "15619304                   3         yes            no         113931.57  \n",
       "15701354                   2          no            no          93826.63  \n",
       "15737888                   1         yes           yes          79084.10  "
      ]
     },
     "execution_count": 4,
     "metadata": {},
     "output_type": "execute_result"
    }
   ],
   "source": [
    "# change type of categorical columns \"credit_card\" and \"active_member\"\n",
    "df['credit_card'] = df['credit_card'].apply(lambda x: 'yes' if x == 1 else 'no')\n",
    "df['active_member'] = df['active_member'].apply(lambda x: 'yes' if x == 1 else 'no')\n",
    "\n",
    "df.head()"
   ]
  },
  {
   "cell_type": "code",
   "execution_count": 5,
   "metadata": {},
   "outputs": [
    {
     "name": "stdout",
     "output_type": "stream",
     "text": [
      "['France' 'Spain' 'Germany']\n",
      "['Female' 'Male']\n",
      "['yes' 'no']\n",
      "['yes' 'no']\n"
     ]
    }
   ],
   "source": [
    "# check unique values for categorical values\n",
    "print(df['country'].unique())\n",
    "print(df['gender'].unique())\n",
    "print(df['credit_card'].unique())\n",
    "print(df['active_member'].unique())"
   ]
  },
  {
   "attachments": {},
   "cell_type": "markdown",
   "metadata": {},
   "source": [
    "# Train-Test Split the Data"
   ]
  },
  {
   "cell_type": "code",
   "execution_count": 6,
   "metadata": {},
   "outputs": [
    {
     "data": {
      "text/plain": [
       "(10000, 10)"
      ]
     },
     "execution_count": 6,
     "metadata": {},
     "output_type": "execute_result"
    }
   ],
   "source": [
    "df.shape"
   ]
  },
  {
   "cell_type": "code",
   "execution_count": 7,
   "metadata": {},
   "outputs": [],
   "source": [
    "# way too much data for training; let´s split the data\n",
    "X_train, X_test = train_test_split(df, test_size=0.3, random_state=123)"
   ]
  },
  {
   "cell_type": "code",
   "execution_count": 8,
   "metadata": {},
   "outputs": [
    {
     "data": {
      "text/plain": [
       "(7000, 10)"
      ]
     },
     "execution_count": 8,
     "metadata": {},
     "output_type": "execute_result"
    }
   ],
   "source": [
    "X_train.shape"
   ]
  },
  {
   "cell_type": "code",
   "execution_count": 9,
   "metadata": {},
   "outputs": [
    {
     "data": {
      "text/plain": [
       "(3000, 10)"
      ]
     },
     "execution_count": 9,
     "metadata": {},
     "output_type": "execute_result"
    }
   ],
   "source": [
    "X_test.shape"
   ]
  },
  {
   "cell_type": "code",
   "execution_count": 10,
   "metadata": {},
   "outputs": [
    {
     "data": {
      "text/html": [
       "<div>\n",
       "<style scoped>\n",
       "    .dataframe tbody tr th:only-of-type {\n",
       "        vertical-align: middle;\n",
       "    }\n",
       "\n",
       "    .dataframe tbody tr th {\n",
       "        vertical-align: top;\n",
       "    }\n",
       "\n",
       "    .dataframe thead th {\n",
       "        text-align: right;\n",
       "    }\n",
       "</style>\n",
       "<table border=\"1\" class=\"dataframe\">\n",
       "  <thead>\n",
       "    <tr style=\"text-align: right;\">\n",
       "      <th></th>\n",
       "      <th>credit_score</th>\n",
       "      <th>country</th>\n",
       "      <th>gender</th>\n",
       "      <th>age</th>\n",
       "      <th>tenure</th>\n",
       "      <th>balance</th>\n",
       "      <th>products_number</th>\n",
       "      <th>credit_card</th>\n",
       "      <th>active_member</th>\n",
       "      <th>estimated_salary</th>\n",
       "    </tr>\n",
       "    <tr>\n",
       "      <th>customer_id</th>\n",
       "      <th></th>\n",
       "      <th></th>\n",
       "      <th></th>\n",
       "      <th></th>\n",
       "      <th></th>\n",
       "      <th></th>\n",
       "      <th></th>\n",
       "      <th></th>\n",
       "      <th></th>\n",
       "      <th></th>\n",
       "    </tr>\n",
       "  </thead>\n",
       "  <tbody>\n",
       "    <tr>\n",
       "      <th>15638003</th>\n",
       "      <td>648</td>\n",
       "      <td>Spain</td>\n",
       "      <td>Male</td>\n",
       "      <td>55</td>\n",
       "      <td>1</td>\n",
       "      <td>81370.07</td>\n",
       "      <td>1</td>\n",
       "      <td>no</td>\n",
       "      <td>yes</td>\n",
       "      <td>181534.04</td>\n",
       "    </tr>\n",
       "    <tr>\n",
       "      <th>15808971</th>\n",
       "      <td>693</td>\n",
       "      <td>Spain</td>\n",
       "      <td>Female</td>\n",
       "      <td>57</td>\n",
       "      <td>9</td>\n",
       "      <td>0.00</td>\n",
       "      <td>2</td>\n",
       "      <td>yes</td>\n",
       "      <td>yes</td>\n",
       "      <td>135502.77</td>\n",
       "    </tr>\n",
       "    <tr>\n",
       "      <th>15800482</th>\n",
       "      <td>586</td>\n",
       "      <td>Spain</td>\n",
       "      <td>Female</td>\n",
       "      <td>33</td>\n",
       "      <td>7</td>\n",
       "      <td>0.00</td>\n",
       "      <td>2</td>\n",
       "      <td>yes</td>\n",
       "      <td>yes</td>\n",
       "      <td>168261.40</td>\n",
       "    </tr>\n",
       "    <tr>\n",
       "      <th>15746726</th>\n",
       "      <td>438</td>\n",
       "      <td>Germany</td>\n",
       "      <td>Male</td>\n",
       "      <td>31</td>\n",
       "      <td>8</td>\n",
       "      <td>78398.69</td>\n",
       "      <td>1</td>\n",
       "      <td>yes</td>\n",
       "      <td>no</td>\n",
       "      <td>44937.01</td>\n",
       "    </tr>\n",
       "    <tr>\n",
       "      <th>15750407</th>\n",
       "      <td>768</td>\n",
       "      <td>Germany</td>\n",
       "      <td>Female</td>\n",
       "      <td>43</td>\n",
       "      <td>2</td>\n",
       "      <td>129264.05</td>\n",
       "      <td>2</td>\n",
       "      <td>no</td>\n",
       "      <td>no</td>\n",
       "      <td>19150.14</td>\n",
       "    </tr>\n",
       "  </tbody>\n",
       "</table>\n",
       "</div>"
      ],
      "text/plain": [
       "             credit_score  country  gender  age  tenure    balance  \\\n",
       "customer_id                                                          \n",
       "15638003              648    Spain    Male   55       1   81370.07   \n",
       "15808971              693    Spain  Female   57       9       0.00   \n",
       "15800482              586    Spain  Female   33       7       0.00   \n",
       "15746726              438  Germany    Male   31       8   78398.69   \n",
       "15750407              768  Germany  Female   43       2  129264.05   \n",
       "\n",
       "             products_number credit_card active_member  estimated_salary  \n",
       "customer_id                                                               \n",
       "15638003                   1          no           yes         181534.04  \n",
       "15808971                   2         yes           yes         135502.77  \n",
       "15800482                   2         yes           yes         168261.40  \n",
       "15746726                   1         yes            no          44937.01  \n",
       "15750407                   2          no            no          19150.14  "
      ]
     },
     "execution_count": 10,
     "metadata": {},
     "output_type": "execute_result"
    }
   ],
   "source": [
    "X_train.head()"
   ]
  },
  {
   "cell_type": "markdown",
   "metadata": {},
   "source": [
    "# Exploratory Data Analysis"
   ]
  },
  {
   "cell_type": "code",
   "execution_count": 11,
   "metadata": {},
   "outputs": [
    {
     "name": "stdout",
     "output_type": "stream",
     "text": [
      "<class 'pandas.core.frame.DataFrame'>\n",
      "Int64Index: 7000 entries, 15638003 to 15588461\n",
      "Data columns (total 10 columns):\n",
      " #   Column            Non-Null Count  Dtype  \n",
      "---  ------            --------------  -----  \n",
      " 0   credit_score      7000 non-null   int64  \n",
      " 1   country           7000 non-null   object \n",
      " 2   gender            7000 non-null   object \n",
      " 3   age               7000 non-null   int64  \n",
      " 4   tenure            7000 non-null   int64  \n",
      " 5   balance           7000 non-null   float64\n",
      " 6   products_number   7000 non-null   int64  \n",
      " 7   credit_card       7000 non-null   object \n",
      " 8   active_member     7000 non-null   object \n",
      " 9   estimated_salary  7000 non-null   float64\n",
      "dtypes: float64(2), int64(4), object(4)\n",
      "memory usage: 601.6+ KB\n"
     ]
    }
   ],
   "source": [
    "X_train.info()"
   ]
  },
  {
   "cell_type": "code",
   "execution_count": 12,
   "metadata": {},
   "outputs": [
    {
     "data": {
      "text/plain": [
       "credit_score        0\n",
       "country             0\n",
       "gender              0\n",
       "age                 0\n",
       "tenure              0\n",
       "balance             0\n",
       "products_number     0\n",
       "credit_card         0\n",
       "active_member       0\n",
       "estimated_salary    0\n",
       "dtype: int64"
      ]
     },
     "execution_count": 12,
     "metadata": {},
     "output_type": "execute_result"
    }
   ],
   "source": [
    "X_train.isna().sum()"
   ]
  },
  {
   "attachments": {},
   "cell_type": "markdown",
   "metadata": {},
   "source": [
    "## Impute Missing Values"
   ]
  },
  {
   "cell_type": "code",
   "execution_count": 13,
   "metadata": {},
   "outputs": [
    {
     "data": {
      "image/png": "[encoded data removed]",
      "text/plain": [
       "<Figure size 640x480 with 1 Axes>"
      ]
     },
     "metadata": {},
     "output_type": "display_data"
    }
   ],
   "source": [
    "# Let's see if we have any missing data, luckily we don't!\n",
    "sns.heatmap(X_train.isna(), yticklabels = False, cbar = False, cmap=\"Blues\")\n",
    "plt.show()"
   ]
  },
  {
   "cell_type": "code",
   "execution_count": 14,
   "metadata": {},
   "outputs": [],
   "source": [
    "# get numeric and categorical columns\n",
    "numerics = ['int16', 'int32', 'int64', 'float16', 'float32', 'float64']"
   ]
  },
  {
   "cell_type": "code",
   "execution_count": 15,
   "metadata": {},
   "outputs": [
    {
     "data": {
      "text/plain": [
       "['credit_score',\n",
       " 'age',\n",
       " 'tenure',\n",
       " 'balance',\n",
       " 'products_number',\n",
       " 'estimated_salary']"
      ]
     },
     "execution_count": 15,
     "metadata": {},
     "output_type": "execute_result"
    }
   ],
   "source": [
    "numeric_columns = X_train.select_dtypes(include=numerics).columns.to_list()\n",
    "numeric_columns"
   ]
  },
  {
   "cell_type": "code",
   "execution_count": 16,
   "metadata": {},
   "outputs": [
    {
     "data": {
      "text/plain": [
       "['country', 'gender', 'credit_card', 'active_member']"
      ]
     },
     "execution_count": 16,
     "metadata": {},
     "output_type": "execute_result"
    }
   ],
   "source": [
    "categorical_columns = X_train.select_dtypes(exclude=numerics).columns.to_list()\n",
    "categorical_columns"
   ]
  },
  {
   "cell_type": "code",
   "execution_count": 17,
   "metadata": {},
   "outputs": [
    {
     "data": {
      "text/html": [
       "<div>\n",
       "<style scoped>\n",
       "    .dataframe tbody tr th:only-of-type {\n",
       "        vertical-align: middle;\n",
       "    }\n",
       "\n",
       "    .dataframe tbody tr th {\n",
       "        vertical-align: top;\n",
       "    }\n",
       "\n",
       "    .dataframe thead th {\n",
       "        text-align: right;\n",
       "    }\n",
       "</style>\n",
       "<table border=\"1\" class=\"dataframe\">\n",
       "  <thead>\n",
       "    <tr style=\"text-align: right;\">\n",
       "      <th></th>\n",
       "      <th>credit_score</th>\n",
       "      <th>age</th>\n",
       "      <th>tenure</th>\n",
       "      <th>balance</th>\n",
       "      <th>products_number</th>\n",
       "      <th>estimated_salary</th>\n",
       "    </tr>\n",
       "    <tr>\n",
       "      <th>customer_id</th>\n",
       "      <th></th>\n",
       "      <th></th>\n",
       "      <th></th>\n",
       "      <th></th>\n",
       "      <th></th>\n",
       "      <th></th>\n",
       "    </tr>\n",
       "  </thead>\n",
       "  <tbody>\n",
       "    <tr>\n",
       "      <th>15638003</th>\n",
       "      <td>648.0</td>\n",
       "      <td>55.0</td>\n",
       "      <td>1.0</td>\n",
       "      <td>81370.07</td>\n",
       "      <td>1.0</td>\n",
       "      <td>181534.04</td>\n",
       "    </tr>\n",
       "    <tr>\n",
       "      <th>15808971</th>\n",
       "      <td>693.0</td>\n",
       "      <td>57.0</td>\n",
       "      <td>9.0</td>\n",
       "      <td>0.00</td>\n",
       "      <td>2.0</td>\n",
       "      <td>135502.77</td>\n",
       "    </tr>\n",
       "    <tr>\n",
       "      <th>15800482</th>\n",
       "      <td>586.0</td>\n",
       "      <td>33.0</td>\n",
       "      <td>7.0</td>\n",
       "      <td>0.00</td>\n",
       "      <td>2.0</td>\n",
       "      <td>168261.40</td>\n",
       "    </tr>\n",
       "    <tr>\n",
       "      <th>15746726</th>\n",
       "      <td>438.0</td>\n",
       "      <td>31.0</td>\n",
       "      <td>8.0</td>\n",
       "      <td>78398.69</td>\n",
       "      <td>1.0</td>\n",
       "      <td>44937.01</td>\n",
       "    </tr>\n",
       "    <tr>\n",
       "      <th>15750407</th>\n",
       "      <td>768.0</td>\n",
       "      <td>43.0</td>\n",
       "      <td>2.0</td>\n",
       "      <td>129264.05</td>\n",
       "      <td>2.0</td>\n",
       "      <td>19150.14</td>\n",
       "    </tr>\n",
       "  </tbody>\n",
       "</table>\n",
       "</div>"
      ],
      "text/plain": [
       "             credit_score   age  tenure    balance  products_number  \\\n",
       "customer_id                                                           \n",
       "15638003            648.0  55.0     1.0   81370.07              1.0   \n",
       "15808971            693.0  57.0     9.0       0.00              2.0   \n",
       "15800482            586.0  33.0     7.0       0.00              2.0   \n",
       "15746726            438.0  31.0     8.0   78398.69              1.0   \n",
       "15750407            768.0  43.0     2.0  129264.05              2.0   \n",
       "\n",
       "             estimated_salary  \n",
       "customer_id                    \n",
       "15638003            181534.04  \n",
       "15808971            135502.77  \n",
       "15800482            168261.40  \n",
       "15746726             44937.01  \n",
       "15750407             19150.14  "
      ]
     },
     "execution_count": 17,
     "metadata": {},
     "output_type": "execute_result"
    }
   ],
   "source": [
    "# Impute missing numeric values\n",
    "numeric_imputer = SimpleImputer(missing_values=np.nan, strategy='median')\n",
    "X_train_numeric = numeric_imputer.fit_transform(X_train.select_dtypes(include=numerics))\n",
    "X_train_numeric = pd.DataFrame(X_train_numeric, columns=numeric_columns, index=X_train.index)\n",
    "X_train_numeric.head()"
   ]
  },
  {
   "cell_type": "code",
   "execution_count": 18,
   "metadata": {},
   "outputs": [
    {
     "data": {
      "text/html": [
       "<div>\n",
       "<style scoped>\n",
       "    .dataframe tbody tr th:only-of-type {\n",
       "        vertical-align: middle;\n",
       "    }\n",
       "\n",
       "    .dataframe tbody tr th {\n",
       "        vertical-align: top;\n",
       "    }\n",
       "\n",
       "    .dataframe thead th {\n",
       "        text-align: right;\n",
       "    }\n",
       "</style>\n",
       "<table border=\"1\" class=\"dataframe\">\n",
       "  <thead>\n",
       "    <tr style=\"text-align: right;\">\n",
       "      <th></th>\n",
       "      <th>country</th>\n",
       "      <th>gender</th>\n",
       "      <th>credit_card</th>\n",
       "      <th>active_member</th>\n",
       "    </tr>\n",
       "    <tr>\n",
       "      <th>customer_id</th>\n",
       "      <th></th>\n",
       "      <th></th>\n",
       "      <th></th>\n",
       "      <th></th>\n",
       "    </tr>\n",
       "  </thead>\n",
       "  <tbody>\n",
       "    <tr>\n",
       "      <th>15638003</th>\n",
       "      <td>Spain</td>\n",
       "      <td>Male</td>\n",
       "      <td>no</td>\n",
       "      <td>yes</td>\n",
       "    </tr>\n",
       "    <tr>\n",
       "      <th>15808971</th>\n",
       "      <td>Spain</td>\n",
       "      <td>Female</td>\n",
       "      <td>yes</td>\n",
       "      <td>yes</td>\n",
       "    </tr>\n",
       "    <tr>\n",
       "      <th>15800482</th>\n",
       "      <td>Spain</td>\n",
       "      <td>Female</td>\n",
       "      <td>yes</td>\n",
       "      <td>yes</td>\n",
       "    </tr>\n",
       "    <tr>\n",
       "      <th>15746726</th>\n",
       "      <td>Germany</td>\n",
       "      <td>Male</td>\n",
       "      <td>yes</td>\n",
       "      <td>no</td>\n",
       "    </tr>\n",
       "    <tr>\n",
       "      <th>15750407</th>\n",
       "      <td>Germany</td>\n",
       "      <td>Female</td>\n",
       "      <td>no</td>\n",
       "      <td>no</td>\n",
       "    </tr>\n",
       "  </tbody>\n",
       "</table>\n",
       "</div>"
      ],
      "text/plain": [
       "             country  gender credit_card active_member\n",
       "customer_id                                           \n",
       "15638003       Spain    Male          no           yes\n",
       "15808971       Spain  Female         yes           yes\n",
       "15800482       Spain  Female         yes           yes\n",
       "15746726     Germany    Male         yes            no\n",
       "15750407     Germany  Female          no            no"
      ]
     },
     "execution_count": 18,
     "metadata": {},
     "output_type": "execute_result"
    }
   ],
   "source": [
    "# Impute missing categorical values\n",
    "categorical_imputer = SimpleImputer(missing_values=np.nan, strategy='most_frequent')\n",
    "X_train_categorical = categorical_imputer.fit_transform(X_train.select_dtypes(exclude=numerics))\n",
    "X_train_categorical = pd.DataFrame(X_train_categorical, columns=categorical_columns, index=X_train.index)\n",
    "X_train_categorical.head()"
   ]
  },
  {
   "cell_type": "code",
   "execution_count": 19,
   "metadata": {},
   "outputs": [],
   "source": [
    "# Save imputers both numerical and categorical\n",
    "with open('../artifacts/numeric_imputer.pickle', 'wb') as filename:\n",
    "    pickle.dump(numeric_imputer, filename)\n",
    "\n",
    "with open('../artifacts/categorical_imputer.pickle', 'wb') as filename:\n",
    "    pickle.dump(categorical_imputer, filename)"
   ]
  },
  {
   "cell_type": "code",
   "execution_count": 20,
   "metadata": {},
   "outputs": [
    {
     "data": {
      "text/html": [
       "<div>\n",
       "<style scoped>\n",
       "    .dataframe tbody tr th:only-of-type {\n",
       "        vertical-align: middle;\n",
       "    }\n",
       "\n",
       "    .dataframe tbody tr th {\n",
       "        vertical-align: top;\n",
       "    }\n",
       "\n",
       "    .dataframe thead th {\n",
       "        text-align: right;\n",
       "    }\n",
       "</style>\n",
       "<table border=\"1\" class=\"dataframe\">\n",
       "  <thead>\n",
       "    <tr style=\"text-align: right;\">\n",
       "      <th></th>\n",
       "      <th>credit_score</th>\n",
       "      <th>age</th>\n",
       "      <th>tenure</th>\n",
       "      <th>balance</th>\n",
       "      <th>products_number</th>\n",
       "      <th>estimated_salary</th>\n",
       "      <th>country</th>\n",
       "      <th>gender</th>\n",
       "      <th>credit_card</th>\n",
       "      <th>active_member</th>\n",
       "    </tr>\n",
       "    <tr>\n",
       "      <th>customer_id</th>\n",
       "      <th></th>\n",
       "      <th></th>\n",
       "      <th></th>\n",
       "      <th></th>\n",
       "      <th></th>\n",
       "      <th></th>\n",
       "      <th></th>\n",
       "      <th></th>\n",
       "      <th></th>\n",
       "      <th></th>\n",
       "    </tr>\n",
       "  </thead>\n",
       "  <tbody>\n",
       "    <tr>\n",
       "      <th>15638003</th>\n",
       "      <td>648.0</td>\n",
       "      <td>55.0</td>\n",
       "      <td>1.0</td>\n",
       "      <td>81370.07</td>\n",
       "      <td>1.0</td>\n",
       "      <td>181534.04</td>\n",
       "      <td>Spain</td>\n",
       "      <td>Male</td>\n",
       "      <td>no</td>\n",
       "      <td>yes</td>\n",
       "    </tr>\n",
       "    <tr>\n",
       "      <th>15808971</th>\n",
       "      <td>693.0</td>\n",
       "      <td>57.0</td>\n",
       "      <td>9.0</td>\n",
       "      <td>0.00</td>\n",
       "      <td>2.0</td>\n",
       "      <td>135502.77</td>\n",
       "      <td>Spain</td>\n",
       "      <td>Female</td>\n",
       "      <td>yes</td>\n",
       "      <td>yes</td>\n",
       "    </tr>\n",
       "    <tr>\n",
       "      <th>15800482</th>\n",
       "      <td>586.0</td>\n",
       "      <td>33.0</td>\n",
       "      <td>7.0</td>\n",
       "      <td>0.00</td>\n",
       "      <td>2.0</td>\n",
       "      <td>168261.40</td>\n",
       "      <td>Spain</td>\n",
       "      <td>Female</td>\n",
       "      <td>yes</td>\n",
       "      <td>yes</td>\n",
       "    </tr>\n",
       "    <tr>\n",
       "      <th>15746726</th>\n",
       "      <td>438.0</td>\n",
       "      <td>31.0</td>\n",
       "      <td>8.0</td>\n",
       "      <td>78398.69</td>\n",
       "      <td>1.0</td>\n",
       "      <td>44937.01</td>\n",
       "      <td>Germany</td>\n",
       "      <td>Male</td>\n",
       "      <td>yes</td>\n",
       "      <td>no</td>\n",
       "    </tr>\n",
       "    <tr>\n",
       "      <th>15750407</th>\n",
       "      <td>768.0</td>\n",
       "      <td>43.0</td>\n",
       "      <td>2.0</td>\n",
       "      <td>129264.05</td>\n",
       "      <td>2.0</td>\n",
       "      <td>19150.14</td>\n",
       "      <td>Germany</td>\n",
       "      <td>Female</td>\n",
       "      <td>no</td>\n",
       "      <td>no</td>\n",
       "    </tr>\n",
       "  </tbody>\n",
       "</table>\n",
       "</div>"
      ],
      "text/plain": [
       "             credit_score   age  tenure    balance  products_number  \\\n",
       "customer_id                                                           \n",
       "15638003            648.0  55.0     1.0   81370.07              1.0   \n",
       "15808971            693.0  57.0     9.0       0.00              2.0   \n",
       "15800482            586.0  33.0     7.0       0.00              2.0   \n",
       "15746726            438.0  31.0     8.0   78398.69              1.0   \n",
       "15750407            768.0  43.0     2.0  129264.05              2.0   \n",
       "\n",
       "             estimated_salary  country  gender credit_card active_member  \n",
       "customer_id                                                               \n",
       "15638003            181534.04    Spain    Male          no           yes  \n",
       "15808971            135502.77    Spain  Female         yes           yes  \n",
       "15800482            168261.40    Spain  Female         yes           yes  \n",
       "15746726             44937.01  Germany    Male         yes            no  \n",
       "15750407             19150.14  Germany  Female          no            no  "
      ]
     },
     "execution_count": 20,
     "metadata": {},
     "output_type": "execute_result"
    }
   ],
   "source": [
    "X_train = pd.concat([X_train_numeric, X_train_categorical], axis=1)\n",
    "X_train.head()"
   ]
  },
  {
   "cell_type": "code",
   "execution_count": 21,
   "metadata": {},
   "outputs": [
    {
     "data": {
      "image/png": "[encoded data removed]",
      "text/plain": [
       "<Figure size 640x480 with 1 Axes>"
      ]
     },
     "metadata": {},
     "output_type": "display_data"
    }
   ],
   "source": [
    "# Let's see if we have any missing data, luckily we don't!\n",
    "sns.heatmap(X_train.isna(), yticklabels = False, cbar = False, cmap=\"Blues\")\n",
    "plt.show()"
   ]
  },
  {
   "attachments": {},
   "cell_type": "markdown",
   "metadata": {},
   "source": [
    "## Visualize Categorical Features"
   ]
  },
  {
   "cell_type": "code",
   "execution_count": 22,
   "metadata": {},
   "outputs": [
    {
     "name": "stdout",
     "output_type": "stream",
     "text": [
      "Value counts in category country: \n",
      "France     3512\n",
      "Spain      1745\n",
      "Germany    1743\n",
      "Name: country, dtype: int64\n",
      "Value counts in category gender: \n",
      "Male      3833\n",
      "Female    3167\n",
      "Name: gender, dtype: int64\n",
      "Value counts in category credit_card: \n",
      "yes    4938\n",
      "no     2062\n",
      "Name: credit_card, dtype: int64\n",
      "Value counts in category active_member: \n",
      "yes    3607\n",
      "no     3393\n",
      "Name: active_member, dtype: int64\n"
     ]
    }
   ],
   "source": [
    "# this is important since we might have rare labels which isnt good for grouping customers; the numeric equivalent would be outliers\n",
    "for category in categorical_columns:\n",
    "    print('Value counts in category {}: \\n{}'.format(category, X_train[category].value_counts()))"
   ]
  },
  {
   "attachments": {},
   "cell_type": "markdown",
   "metadata": {},
   "source": [
    "## Encode Rare Labels"
   ]
  },
  {
   "cell_type": "code",
   "execution_count": 23,
   "metadata": {},
   "outputs": [
    {
     "name": "stderr",
     "output_type": "stream",
     "text": [
      "The number of unique categories for variable country is less than that indicated in n_categories. Thus, all categories will be considered frequent\n",
      "The number of unique categories for variable gender is less than that indicated in n_categories. Thus, all categories will be considered frequent\n",
      "The number of unique categories for variable credit_card is less than that indicated in n_categories. Thus, all categories will be considered frequent\n",
      "The number of unique categories for variable active_member is less than that indicated in n_categories. Thus, all categories will be considered frequent\n"
     ]
    },
    {
     "data": {
      "text/html": [
       "<div>\n",
       "<style scoped>\n",
       "    .dataframe tbody tr th:only-of-type {\n",
       "        vertical-align: middle;\n",
       "    }\n",
       "\n",
       "    .dataframe tbody tr th {\n",
       "        vertical-align: top;\n",
       "    }\n",
       "\n",
       "    .dataframe thead th {\n",
       "        text-align: right;\n",
       "    }\n",
       "</style>\n",
       "<table border=\"1\" class=\"dataframe\">\n",
       "  <thead>\n",
       "    <tr style=\"text-align: right;\">\n",
       "      <th></th>\n",
       "      <th>country</th>\n",
       "      <th>gender</th>\n",
       "      <th>credit_card</th>\n",
       "      <th>active_member</th>\n",
       "    </tr>\n",
       "    <tr>\n",
       "      <th>customer_id</th>\n",
       "      <th></th>\n",
       "      <th></th>\n",
       "      <th></th>\n",
       "      <th></th>\n",
       "    </tr>\n",
       "  </thead>\n",
       "  <tbody>\n",
       "    <tr>\n",
       "      <th>15638003</th>\n",
       "      <td>Spain</td>\n",
       "      <td>Male</td>\n",
       "      <td>no</td>\n",
       "      <td>yes</td>\n",
       "    </tr>\n",
       "    <tr>\n",
       "      <th>15808971</th>\n",
       "      <td>Spain</td>\n",
       "      <td>Female</td>\n",
       "      <td>yes</td>\n",
       "      <td>yes</td>\n",
       "    </tr>\n",
       "    <tr>\n",
       "      <th>15800482</th>\n",
       "      <td>Spain</td>\n",
       "      <td>Female</td>\n",
       "      <td>yes</td>\n",
       "      <td>yes</td>\n",
       "    </tr>\n",
       "    <tr>\n",
       "      <th>15746726</th>\n",
       "      <td>Germany</td>\n",
       "      <td>Male</td>\n",
       "      <td>yes</td>\n",
       "      <td>no</td>\n",
       "    </tr>\n",
       "    <tr>\n",
       "      <th>15750407</th>\n",
       "      <td>Germany</td>\n",
       "      <td>Female</td>\n",
       "      <td>no</td>\n",
       "      <td>no</td>\n",
       "    </tr>\n",
       "  </tbody>\n",
       "</table>\n",
       "</div>"
      ],
      "text/plain": [
       "             country  gender credit_card active_member\n",
       "customer_id                                           \n",
       "15638003       Spain    Male          no           yes\n",
       "15808971       Spain  Female         yes           yes\n",
       "15800482       Spain  Female         yes           yes\n",
       "15746726     Germany    Male         yes            no\n",
       "15750407     Germany  Female          no            no"
      ]
     },
     "execution_count": 23,
     "metadata": {},
     "output_type": "execute_result"
    }
   ],
   "source": [
    "rare_encoder = RareLabelEncoder(tol=0.05, n_categories=10)\n",
    "X_train[categorical_columns] = rare_encoder.fit_transform(X_train[categorical_columns])\n",
    "X_train[categorical_columns].head()"
   ]
  },
  {
   "cell_type": "code",
   "execution_count": 24,
   "metadata": {},
   "outputs": [],
   "source": [
    "# Save rare label encoder\n",
    "with open('../artifacts/rare_encoder.pickle', 'wb') as filename:\n",
    "    pickle.dump(rare_encoder, filename)"
   ]
  },
  {
   "cell_type": "markdown",
   "metadata": {},
   "source": [
    "## Visualize Numerical Features"
   ]
  },
  {
   "cell_type": "code",
   "execution_count": 25,
   "metadata": {},
   "outputs": [
    {
     "data": {
      "image/png": "[encoded data removed]",
      "text/plain": [
       "<Figure size 640x480 with 1 Axes>"
      ]
     },
     "metadata": {},
     "output_type": "display_data"
    },
    {
     "data": {
      "image/png": "[encoded data removed]",
      "text/plain": [
       "<Figure size 640x480 with 1 Axes>"
      ]
     },
     "metadata": {},
     "output_type": "display_data"
    },
    {
     "data": {
      "image/png": "[encoded data removed]",
      "text/plain": [
       "<Figure size 640x480 with 1 Axes>"
      ]
     },
     "metadata": {},
     "output_type": "display_data"
    },
    {
     "data": {
      "image/png": "[encoded data removed]",
      "text/plain": [
       "<Figure size 640x480 with 1 Axes>"
      ]
     },
     "metadata": {},
     "output_type": "display_data"
    },
    {
     "data": {
      "image/png": "[encoded data removed]",
      "text/plain": [
       "<Figure size 640x480 with 1 Axes>"
      ]
     },
     "metadata": {},
     "output_type": "display_data"
    },
    {
     "data": {
      "image/png": "[encoded data removed]",
      "text/plain": [
       "<Figure size 640x480 with 1 Axes>"
      ]
     },
     "metadata": {},
     "output_type": "display_data"
    }
   ],
   "source": [
    "# plot the distributions\n",
    "for col in numeric_columns:\n",
    "    plt.hist(X_train[col])\n",
    "    plt.title(col)\n",
    "    plt.show()"
   ]
  },
  {
   "attachments": {},
   "cell_type": "markdown",
   "metadata": {},
   "source": [
    "## Remove Outliers"
   ]
  },
  {
   "cell_type": "code",
   "execution_count": 26,
   "metadata": {},
   "outputs": [],
   "source": [
    "# set up the capper\n",
    "capper = Winsorizer(\n",
    "    capping_method='gaussian', \n",
    "    tail='right', \n",
    "    fold=3, \n",
    "    variables=numeric_columns)"
   ]
  },
  {
   "cell_type": "code",
   "execution_count": 27,
   "metadata": {},
   "outputs": [
    {
     "data": {
      "text/html": [
       "<div>\n",
       "<style scoped>\n",
       "    .dataframe tbody tr th:only-of-type {\n",
       "        vertical-align: middle;\n",
       "    }\n",
       "\n",
       "    .dataframe tbody tr th {\n",
       "        vertical-align: top;\n",
       "    }\n",
       "\n",
       "    .dataframe thead th {\n",
       "        text-align: right;\n",
       "    }\n",
       "</style>\n",
       "<table border=\"1\" class=\"dataframe\">\n",
       "  <thead>\n",
       "    <tr style=\"text-align: right;\">\n",
       "      <th></th>\n",
       "      <th>credit_score</th>\n",
       "      <th>age</th>\n",
       "      <th>tenure</th>\n",
       "      <th>balance</th>\n",
       "      <th>products_number</th>\n",
       "      <th>estimated_salary</th>\n",
       "      <th>country</th>\n",
       "      <th>gender</th>\n",
       "      <th>credit_card</th>\n",
       "      <th>active_member</th>\n",
       "    </tr>\n",
       "    <tr>\n",
       "      <th>customer_id</th>\n",
       "      <th></th>\n",
       "      <th></th>\n",
       "      <th></th>\n",
       "      <th></th>\n",
       "      <th></th>\n",
       "      <th></th>\n",
       "      <th></th>\n",
       "      <th></th>\n",
       "      <th></th>\n",
       "      <th></th>\n",
       "    </tr>\n",
       "  </thead>\n",
       "  <tbody>\n",
       "    <tr>\n",
       "      <th>15638003</th>\n",
       "      <td>648.0</td>\n",
       "      <td>55.0</td>\n",
       "      <td>1.0</td>\n",
       "      <td>81370.07</td>\n",
       "      <td>1.0</td>\n",
       "      <td>181534.04</td>\n",
       "      <td>Spain</td>\n",
       "      <td>Male</td>\n",
       "      <td>no</td>\n",
       "      <td>yes</td>\n",
       "    </tr>\n",
       "    <tr>\n",
       "      <th>15808971</th>\n",
       "      <td>693.0</td>\n",
       "      <td>57.0</td>\n",
       "      <td>9.0</td>\n",
       "      <td>0.00</td>\n",
       "      <td>2.0</td>\n",
       "      <td>135502.77</td>\n",
       "      <td>Spain</td>\n",
       "      <td>Female</td>\n",
       "      <td>yes</td>\n",
       "      <td>yes</td>\n",
       "    </tr>\n",
       "    <tr>\n",
       "      <th>15800482</th>\n",
       "      <td>586.0</td>\n",
       "      <td>33.0</td>\n",
       "      <td>7.0</td>\n",
       "      <td>0.00</td>\n",
       "      <td>2.0</td>\n",
       "      <td>168261.40</td>\n",
       "      <td>Spain</td>\n",
       "      <td>Female</td>\n",
       "      <td>yes</td>\n",
       "      <td>yes</td>\n",
       "    </tr>\n",
       "    <tr>\n",
       "      <th>15746726</th>\n",
       "      <td>438.0</td>\n",
       "      <td>31.0</td>\n",
       "      <td>8.0</td>\n",
       "      <td>78398.69</td>\n",
       "      <td>1.0</td>\n",
       "      <td>44937.01</td>\n",
       "      <td>Germany</td>\n",
       "      <td>Male</td>\n",
       "      <td>yes</td>\n",
       "      <td>no</td>\n",
       "    </tr>\n",
       "    <tr>\n",
       "      <th>15750407</th>\n",
       "      <td>768.0</td>\n",
       "      <td>43.0</td>\n",
       "      <td>2.0</td>\n",
       "      <td>129264.05</td>\n",
       "      <td>2.0</td>\n",
       "      <td>19150.14</td>\n",
       "      <td>Germany</td>\n",
       "      <td>Female</td>\n",
       "      <td>no</td>\n",
       "      <td>no</td>\n",
       "    </tr>\n",
       "  </tbody>\n",
       "</table>\n",
       "</div>"
      ],
      "text/plain": [
       "             credit_score   age  tenure    balance  products_number  \\\n",
       "customer_id                                                           \n",
       "15638003            648.0  55.0     1.0   81370.07              1.0   \n",
       "15808971            693.0  57.0     9.0       0.00              2.0   \n",
       "15800482            586.0  33.0     7.0       0.00              2.0   \n",
       "15746726            438.0  31.0     8.0   78398.69              1.0   \n",
       "15750407            768.0  43.0     2.0  129264.05              2.0   \n",
       "\n",
       "             estimated_salary  country  gender credit_card active_member  \n",
       "customer_id                                                               \n",
       "15638003            181534.04    Spain    Male          no           yes  \n",
       "15808971            135502.77    Spain  Female         yes           yes  \n",
       "15800482            168261.40    Spain  Female         yes           yes  \n",
       "15746726             44937.01  Germany    Male         yes            no  \n",
       "15750407             19150.14  Germany  Female          no            no  "
      ]
     },
     "execution_count": 27,
     "metadata": {},
     "output_type": "execute_result"
    }
   ],
   "source": [
    "# fit the capper\n",
    "X_train[numeric_columns] = capper.fit_transform(X_train[numeric_columns])\n",
    "X_train.head()"
   ]
  },
  {
   "cell_type": "code",
   "execution_count": 28,
   "metadata": {},
   "outputs": [],
   "source": [
    "# Save capper \n",
    "with open('../artifacts/capper.pickle', 'wb') as filename:\n",
    "    pickle.dump(capper, filename)"
   ]
  },
  {
   "cell_type": "code",
   "execution_count": 29,
   "metadata": {},
   "outputs": [
    {
     "data": {
      "image/png": "[encoded data removed]",
      "text/plain": [
       "<Figure size 640x480 with 1 Axes>"
      ]
     },
     "metadata": {},
     "output_type": "display_data"
    },
    {
     "data": {
      "image/png": "[encoded data removed]",
      "text/plain": [
       "<Figure size 640x480 with 1 Axes>"
      ]
     },
     "metadata": {},
     "output_type": "display_data"
    },
    {
     "data": {
      "image/png": "[encoded data removed]",
      "text/plain": [
       "<Figure size 640x480 with 1 Axes>"
      ]
     },
     "metadata": {},
     "output_type": "display_data"
    },
    {
     "data": {
      "image/png": "[encoded data removed]",
      "text/plain": [
       "<Figure size 640x480 with 1 Axes>"
      ]
     },
     "metadata": {},
     "output_type": "display_data"
    },
    {
     "data": {
      "image/png": "[encoded data removed]",
      "text/plain": [
       "<Figure size 640x480 with 1 Axes>"
      ]
     },
     "metadata": {},
     "output_type": "display_data"
    },
    {
     "data": {
      "image/png": "[encoded data removed]",
      "text/plain": [
       "<Figure size 640x480 with 1 Axes>"
      ]
     },
     "metadata": {},
     "output_type": "display_data"
    }
   ],
   "source": [
    "# plot the distributions\n",
    "for col in numeric_columns:\n",
    "    plt.hist(X_train[col])\n",
    "    plt.title(col)\n",
    "    plt.show()"
   ]
  },
  {
   "attachments": {},
   "cell_type": "markdown",
   "metadata": {},
   "source": [
    "# Calculate Customer Similarity using Gower´s Distance"
   ]
  },
  {
   "cell_type": "code",
   "execution_count": 30,
   "metadata": {},
   "outputs": [
    {
     "name": "stdout",
     "output_type": "stream",
     "text": [
      "CPU times: total: 42.7 s\n",
      "Wall time: 42.9 s\n"
     ]
    }
   ],
   "source": [
    "%%time\n",
    "distance_matrix = gower.gower_matrix(X_train)"
   ]
  },
  {
   "cell_type": "code",
   "execution_count": 31,
   "metadata": {},
   "outputs": [
    {
     "data": {
      "text/plain": [
       "(7000, 7000)"
      ]
     },
     "execution_count": 31,
     "metadata": {},
     "output_type": "execute_result"
    }
   ],
   "source": [
    "distance_matrix.shape"
   ]
  },
  {
   "cell_type": "code",
   "execution_count": 32,
   "metadata": {},
   "outputs": [
    {
     "data": {
      "image/png": "[encoded data removed]",
      "text/plain": [
       "<Figure size 640x480 with 1 Axes>"
      ]
     },
     "metadata": {},
     "output_type": "display_data"
    }
   ],
   "source": [
    "customer = 3\n",
    "plt.hist(distance_matrix[:,customer], bins=20)\n",
    "plt.grid()\n",
    "plt.show()"
   ]
  },
  {
   "cell_type": "code",
   "execution_count": 33,
   "metadata": {},
   "outputs": [],
   "source": [
    "# let´s choose a cut-off gower´s distance of e.g. 0.2\n",
    "gower_cutoff = 0.2  "
   ]
  },
  {
   "cell_type": "code",
   "execution_count": 34,
   "metadata": {},
   "outputs": [
    {
     "data": {
      "image/png": "[encoded data removed]",
      "text/plain": [
       "<Figure size 640x480 with 2 Axes>"
      ]
     },
     "metadata": {},
     "output_type": "display_data"
    }
   ],
   "source": [
    "# plot the similarity matrix as heatmap\n",
    "sns.heatmap(\n",
    "    distance_matrix[:10,:10], \n",
    "    yticklabels = False, \n",
    "    cbar = True, \n",
    "    cmap=\"Blues\")\n",
    "plt.show()"
   ]
  },
  {
   "cell_type": "code",
   "execution_count": 35,
   "metadata": {},
   "outputs": [
    {
     "data": {
      "text/plain": [
       "{'index': array([ 100, 4151, 5107, 2888, 4103], dtype=int64),\n",
       " 'values': array([0.        , 0.01547415, 0.03082183, 0.03845113, 0.03979811],\n",
       "       dtype=float32)}"
      ]
     },
     "execution_count": 35,
     "metadata": {},
     "output_type": "execute_result"
    }
   ],
   "source": [
    "# find the top-n customers similar to a particular customer\n",
    "customer=100\n",
    "top_n = gower.gower_topn(\n",
    "    X_train.iloc[customer:customer+1,:], \n",
    "    X_train.iloc[:,], \n",
    "    n = 5)\n",
    "top_n"
   ]
  },
  {
   "cell_type": "code",
   "execution_count": 36,
   "metadata": {},
   "outputs": [
    {
     "data": {
      "text/plain": [
       "array([ 100, 4151, 5107, 2888, 4103], dtype=int64)"
      ]
     },
     "execution_count": 36,
     "metadata": {},
     "output_type": "execute_result"
    }
   ],
   "source": [
    "top_n['index']"
   ]
  },
  {
   "cell_type": "code",
   "execution_count": 37,
   "metadata": {},
   "outputs": [
    {
     "data": {
      "text/html": [
       "<div>\n",
       "<style scoped>\n",
       "    .dataframe tbody tr th:only-of-type {\n",
       "        vertical-align: middle;\n",
       "    }\n",
       "\n",
       "    .dataframe tbody tr th {\n",
       "        vertical-align: top;\n",
       "    }\n",
       "\n",
       "    .dataframe thead th {\n",
       "        text-align: right;\n",
       "    }\n",
       "</style>\n",
       "<table border=\"1\" class=\"dataframe\">\n",
       "  <thead>\n",
       "    <tr style=\"text-align: right;\">\n",
       "      <th></th>\n",
       "      <th>credit_score</th>\n",
       "      <th>age</th>\n",
       "      <th>tenure</th>\n",
       "      <th>balance</th>\n",
       "      <th>products_number</th>\n",
       "      <th>estimated_salary</th>\n",
       "      <th>country</th>\n",
       "      <th>gender</th>\n",
       "      <th>credit_card</th>\n",
       "      <th>active_member</th>\n",
       "    </tr>\n",
       "    <tr>\n",
       "      <th>customer_id</th>\n",
       "      <th></th>\n",
       "      <th></th>\n",
       "      <th></th>\n",
       "      <th></th>\n",
       "      <th></th>\n",
       "      <th></th>\n",
       "      <th></th>\n",
       "      <th></th>\n",
       "      <th></th>\n",
       "      <th></th>\n",
       "    </tr>\n",
       "  </thead>\n",
       "  <tbody>\n",
       "    <tr>\n",
       "      <th>15776605</th>\n",
       "      <td>528.0</td>\n",
       "      <td>36.0</td>\n",
       "      <td>7.0</td>\n",
       "      <td>0.0</td>\n",
       "      <td>2.0</td>\n",
       "      <td>60536.56</td>\n",
       "      <td>Spain</td>\n",
       "      <td>Male</td>\n",
       "      <td>yes</td>\n",
       "      <td>no</td>\n",
       "    </tr>\n",
       "    <tr>\n",
       "      <th>15638068</th>\n",
       "      <td>507.0</td>\n",
       "      <td>32.0</td>\n",
       "      <td>7.0</td>\n",
       "      <td>0.0</td>\n",
       "      <td>2.0</td>\n",
       "      <td>67926.18</td>\n",
       "      <td>Spain</td>\n",
       "      <td>Male</td>\n",
       "      <td>yes</td>\n",
       "      <td>no</td>\n",
       "    </tr>\n",
       "    <tr>\n",
       "      <th>15670615</th>\n",
       "      <td>652.0</td>\n",
       "      <td>37.0</td>\n",
       "      <td>7.0</td>\n",
       "      <td>0.0</td>\n",
       "      <td>2.0</td>\n",
       "      <td>68789.93</td>\n",
       "      <td>Spain</td>\n",
       "      <td>Male</td>\n",
       "      <td>yes</td>\n",
       "      <td>no</td>\n",
       "    </tr>\n",
       "    <tr>\n",
       "      <th>15623644</th>\n",
       "      <td>626.0</td>\n",
       "      <td>29.0</td>\n",
       "      <td>7.0</td>\n",
       "      <td>0.0</td>\n",
       "      <td>2.0</td>\n",
       "      <td>49361.84</td>\n",
       "      <td>Spain</td>\n",
       "      <td>Male</td>\n",
       "      <td>yes</td>\n",
       "      <td>no</td>\n",
       "    </tr>\n",
       "    <tr>\n",
       "      <th>15580149</th>\n",
       "      <td>638.0</td>\n",
       "      <td>41.0</td>\n",
       "      <td>7.0</td>\n",
       "      <td>0.0</td>\n",
       "      <td>2.0</td>\n",
       "      <td>43889.41</td>\n",
       "      <td>Spain</td>\n",
       "      <td>Male</td>\n",
       "      <td>yes</td>\n",
       "      <td>no</td>\n",
       "    </tr>\n",
       "  </tbody>\n",
       "</table>\n",
       "</div>"
      ],
      "text/plain": [
       "             credit_score   age  tenure  balance  products_number  \\\n",
       "customer_id                                                         \n",
       "15776605            528.0  36.0     7.0      0.0              2.0   \n",
       "15638068            507.0  32.0     7.0      0.0              2.0   \n",
       "15670615            652.0  37.0     7.0      0.0              2.0   \n",
       "15623644            626.0  29.0     7.0      0.0              2.0   \n",
       "15580149            638.0  41.0     7.0      0.0              2.0   \n",
       "\n",
       "             estimated_salary country gender credit_card active_member  \n",
       "customer_id                                                             \n",
       "15776605             60536.56   Spain   Male         yes            no  \n",
       "15638068             67926.18   Spain   Male         yes            no  \n",
       "15670615             68789.93   Spain   Male         yes            no  \n",
       "15623644             49361.84   Spain   Male         yes            no  \n",
       "15580149             43889.41   Spain   Male         yes            no  "
      ]
     },
     "execution_count": 37,
     "metadata": {},
     "output_type": "execute_result"
    }
   ],
   "source": [
    "X_train.iloc[top_n['index'],:]"
   ]
  },
  {
   "attachments": {},
   "cell_type": "markdown",
   "metadata": {},
   "source": [
    "# DBScan Clustering"
   ]
  },
  {
   "cell_type": "code",
   "execution_count": 38,
   "metadata": {},
   "outputs": [
    {
     "data": {
      "image/png": "[encoded data removed]",
      "text/plain": [
       "<Figure size 640x480 with 1 Axes>"
      ]
     },
     "metadata": {},
     "output_type": "display_data"
    },
    {
     "name": "stdout",
     "output_type": "stream",
     "text": [
      "CPU times: total: 641 ms\n",
      "Wall time: 643 ms\n"
     ]
    }
   ],
   "source": [
    "%%time\n",
    "# Configuring the parameters of the clustering algorithm\n",
    "dbscan_cluster = DBSCAN(eps=0.1, \n",
    "                        min_samples=25, \n",
    "                        metric=\"precomputed\",\n",
    "                        n_jobs=-1)\n",
    "\n",
    "# Fitting the clustering algorithm\n",
    "dbscan_cluster.fit(distance_matrix)\n",
    "\n",
    "plt.hist(dbscan_cluster.labels_) \n",
    "#plt.ylim(0,1000)\n",
    "plt.show()"
   ]
  },
  {
   "cell_type": "code",
   "execution_count": 39,
   "metadata": {},
   "outputs": [
    {
     "name": "stdout",
     "output_type": "stream",
     "text": [
      "Silhouette score: 0.3489067256450653\n"
     ]
    }
   ],
   "source": [
    "# Compute Cluster Quality using Silhouette Score\n",
    "try:\n",
    "    sc = silhouette_score(\n",
    "        X=distance_matrix, \n",
    "        labels=dbscan_cluster.labels_, \n",
    "        metric=\"precomputed\")\n",
    "    print('Silhouette score: {}'.format(sc))\n",
    "except:\n",
    "    print('Silhouette score cannot be computed.')"
   ]
  },
  {
   "cell_type": "code",
   "execution_count": 40,
   "metadata": {},
   "outputs": [],
   "source": [
    "%%time\n",
    "# lets try different hyperparameters and count the cluster numbers; we dont want like 100 cluster but we do want maybe more than 2 clusters\n",
    "\n",
    "results_list = []\n",
    "eps_range = np.arange(.025, 0.25, .0125)\n",
    "min_sample_range = np.arange(5, 50, 2)\n",
    "\n",
    "for eps in eps_range:\n",
    "    for min_samples in min_sample_range:\n",
    "\n",
    "        # Configuring the parameters of the clustering algorithm\n",
    "        dbscan_cluster = DBSCAN(eps=eps, \n",
    "                                min_samples=min_samples, \n",
    "                                metric=\"precomputed\",\n",
    "                                n_jobs=-1)\n",
    "\n",
    "        # Fitting the clustering algorithm\n",
    "        dbscan_cluster.fit(distance_matrix)\n",
    "\n",
    "        # count the number of datapoints i.e. customers labeled as noise i.e. -1\n",
    "        num_noise_data = list(dbscan_cluster.labels_).count(-1)\n",
    "        \n",
    "        # count the number of clusters different from noise i.e. labeled -1\n",
    "        num_cluster_detected = len(np.unique(dbscan_cluster.labels_[np.where(dbscan_cluster.labels_ >= 0)]))\n",
    "\n",
    "        if num_cluster_detected >= 2:\n",
    "            # calculate cluster quality using the silhouette score\n",
    "            cluster_quality = silhouette_score(X=distance_matrix, \n",
    "                                           labels=dbscan_cluster.labels_, \n",
    "                                           metric=\"precomputed\")\n",
    "        else:\n",
    "            cluster_quality = -1 # the silhouette score is not defined for one single cluster; let´s put the quality then to -1\n",
    "        \n",
    "        # save results\n",
    "        results_list.append([eps, min_samples, cluster_quality, num_cluster_detected, num_noise_data])"
   ]
  },
  {
   "cell_type": "code",
   "execution_count": 44,
   "metadata": {},
   "outputs": [
    {
     "data": {
      "text/plain": [
       "[[0.025, 5, -0.4546994, 25, 6734],\n",
       " [0.025, 7, -0.39765015, 8, 6923],\n",
       " [0.025, 9, -1, 0, 7000],\n",
       " [0.025, 11, -1, 0, 7000],\n",
       " [0.025, 13, -1, 0, 7000],\n",
       " [0.025, 15, -1, 0, 7000],\n",
       " [0.025, 17, -1, 0, 7000],\n",
       " [0.025, 19, -1, 0, 7000],\n",
       " [0.025, 21, -1, 0, 7000],\n",
       " [0.025, 23, -1, 0, 7000],\n",
       " [0.025, 25, -1, 0, 7000],\n",
       " [0.025, 27, -1, 0, 7000],\n",
       " [0.025, 29, -1, 0, 7000],\n",
       " [0.025, 31, -1, 0, 7000],\n",
       " [0.025, 33, -1, 0, 7000],\n",
       " [0.025, 35, -1, 0, 7000],\n",
       " [0.025, 37, -1, 0, 7000],\n",
       " [0.025, 39, -1, 0, 7000],\n",
       " [0.025, 41, -1, 0, 7000],\n",
       " [0.025, 43, -1, 0, 7000],\n",
       " [0.025, 45, -1, 0, 7000],\n",
       " [0.025, 47, -1, 0, 7000],\n",
       " [0.025, 49, -1, 0, 7000],\n",
       " [0.037500000000000006, 5, -0.42501748, 114, 4888],\n",
       " [0.037500000000000006, 7, -0.4695727, 48, 5746],\n",
       " [0.037500000000000006, 9, -0.44095793, 22, 6211],\n",
       " [0.037500000000000006, 11, -0.41559067, 16, 6469],\n",
       " [0.037500000000000006, 13, -0.36077878, 9, 6640],\n",
       " [0.037500000000000006, 15, -0.36738563, 8, 6714],\n",
       " [0.037500000000000006, 17, -0.3323489, 4, 6845],\n",
       " [0.037500000000000006, 19, -0.25824532, 3, 6936],\n",
       " [0.037500000000000006, 21, -1, 0, 7000],\n",
       " [0.037500000000000006, 23, -1, 0, 7000],\n",
       " [0.037500000000000006, 25, -1, 0, 7000],\n",
       " [0.037500000000000006, 27, -1, 0, 7000],\n",
       " [0.037500000000000006, 29, -1, 0, 7000],\n",
       " [0.037500000000000006, 31, -1, 0, 7000],\n",
       " [0.037500000000000006, 33, -1, 0, 7000],\n",
       " [0.037500000000000006, 35, -1, 0, 7000],\n",
       " [0.037500000000000006, 37, -1, 0, 7000],\n",
       " [0.037500000000000006, 39, -1, 0, 7000],\n",
       " [0.037500000000000006, 41, -1, 0, 7000],\n",
       " [0.037500000000000006, 43, -1, 0, 7000],\n",
       " [0.037500000000000006, 45, -1, 0, 7000],\n",
       " [0.037500000000000006, 47, -1, 0, 7000],\n",
       " [0.037500000000000006, 49, -1, 0, 7000],\n",
       " [0.05000000000000001, 5, -0.12583064, 105, 2350],\n",
       " [0.05000000000000001, 7, -0.17054443, 75, 3079],\n",
       " [0.05000000000000001, 9, -0.24529296, 57, 3842],\n",
       " [0.05000000000000001, 11, -0.279218, 44, 4384],\n",
       " [0.05000000000000001, 13, -0.31199518, 31, 4922],\n",
       " [0.05000000000000001, 15, -0.31508073, 22, 5297],\n",
       " [0.05000000000000001, 17, -0.3386785, 18, 5581],\n",
       " [0.05000000000000001, 19, -0.3574563, 16, 5857],\n",
       " [0.05000000000000001, 21, -0.35139593, 11, 6055],\n",
       " [0.05000000000000001, 23, -0.29941773, 6, 6272],\n",
       " [0.05000000000000001, 25, -0.3132166, 6, 6344],\n",
       " [0.05000000000000001, 27, -0.33769232, 7, 6414],\n",
       " [0.05000000000000001, 29, -0.29904994, 4, 6614],\n",
       " [0.05000000000000001, 31, -0.21891375, 3, 6725],\n",
       " [0.05000000000000001, 33, -0.20342445, 2, 6765],\n",
       " [0.05000000000000001, 35, -0.2062545, 2, 6777],\n",
       " [0.05000000000000001, 37, -1, 1, 6843],\n",
       " [0.05000000000000001, 39, -1, 1, 6872],\n",
       " [0.05000000000000001, 41, -1, 1, 6937],\n",
       " [0.05000000000000001, 43, -1, 0, 7000],\n",
       " [0.05000000000000001, 45, -1, 0, 7000],\n",
       " [0.05000000000000001, 47, -1, 0, 7000],\n",
       " [0.05000000000000001, 49, -1, 0, 7000],\n",
       " [0.06250000000000001, 5, 0.17258598, 40, 833],\n",
       " [0.06250000000000001, 7, 0.1417892, 35, 1181],\n",
       " [0.06250000000000001, 9, 0.058939077, 38, 1568],\n",
       " [0.06250000000000001, 11, 0.021047486, 39, 2005],\n",
       " [0.06250000000000001, 13, -0.008362848, 32, 2419],\n",
       " [0.06250000000000001, 15, -0.041583844, 28, 2818],\n",
       " [0.06250000000000001, 17, -0.08381792, 26, 3208],\n",
       " [0.06250000000000001, 19, -0.12417213, 25, 3499],\n",
       " [0.06250000000000001, 21, -0.14432453, 22, 3833],\n",
       " [0.06250000000000001, 23, -0.18671861, 20, 4129],\n",
       " [0.06250000000000001, 25, -0.20131254, 18, 4465],\n",
       " [0.06250000000000001, 27, -0.23517147, 20, 4732],\n",
       " [0.06250000000000001, 29, -0.25979495, 19, 4929],\n",
       " [0.06250000000000001, 31, -0.27707958, 17, 5155],\n",
       " [0.06250000000000001, 33, -0.26918554, 14, 5310],\n",
       " [0.06250000000000001, 35, -0.264369, 11, 5453],\n",
       " [0.06250000000000001, 37, -0.2256875, 7, 5684],\n",
       " [0.06250000000000001, 39, -0.23561807, 7, 5738],\n",
       " [0.06250000000000001, 41, -0.25323635, 7, 5847],\n",
       " [0.06250000000000001, 43, -0.25266832, 6, 5990],\n",
       " [0.06250000000000001, 45, -0.27621362, 6, 6118],\n",
       " [0.06250000000000001, 47, -0.28165948, 6, 6145],\n",
       " [0.06250000000000001, 49, -0.30352673, 6, 6255],\n",
       " [0.07500000000000001, 5, 0.3363092, 24, 247],\n",
       " [0.07500000000000001, 7, 0.3156107, 26, 328],\n",
       " [0.07500000000000001, 9, 0.29902253, 26, 438],\n",
       " [0.07500000000000001, 11, 0.2674998, 29, 584],\n",
       " [0.07500000000000001, 13, 0.24636878, 27, 772],\n",
       " [0.07500000000000001, 15, 0.20684163, 29, 970],\n",
       " [0.07500000000000001, 17, 0.18394354, 27, 1176],\n",
       " [0.07500000000000001, 19, 0.15872736, 25, 1419],\n",
       " [0.07500000000000001, 21, 0.13291003, 25, 1624],\n",
       " [0.07500000000000001, 23, 0.10740433, 24, 1823],\n",
       " [0.07500000000000001, 25, 0.083569415, 22, 2073],\n",
       " [0.07500000000000001, 27, 0.063485324, 21, 2256],\n",
       " [0.07500000000000001, 29, 0.029611344, 22, 2470],\n",
       " [0.07500000000000001, 31, -0.008226704, 21, 2764],\n",
       " [0.07500000000000001, 33, -0.01938814, 20, 2906],\n",
       " [0.07500000000000001, 35, -0.033758596, 18, 3114],\n",
       " [0.07500000000000001, 37, -0.048626635, 17, 3268],\n",
       " [0.07500000000000001, 39, -0.07545814, 17, 3424],\n",
       " [0.07500000000000001, 41, -0.10442097, 16, 3656],\n",
       " [0.07500000000000001, 43, -0.120365895, 15, 3830],\n",
       " [0.07500000000000001, 45, -0.13477996, 13, 4153],\n",
       " [0.07500000000000001, 47, -0.15352711, 13, 4368],\n",
       " [0.07500000000000001, 49, -0.17991556, 15, 4515],\n",
       " [0.08750000000000002, 5, 0.35648665, 24, 75],\n",
       " [0.08750000000000002, 7, 0.35421646, 24, 95],\n",
       " [0.08750000000000002, 9, 0.35230294, 24, 112],\n",
       " [0.08750000000000002, 11, 0.3486101, 24, 143],\n",
       " [0.08750000000000002, 13, 0.33852452, 25, 171],\n",
       " [0.08750000000000002, 15, 0.32749164, 26, 213],\n",
       " [0.08750000000000002, 17, 0.31876436, 26, 275],\n",
       " [0.08750000000000002, 19, 0.29924464, 27, 354],\n",
       " [0.08750000000000002, 21, 0.2903085, 26, 455],\n",
       " [0.08750000000000002, 23, 0.2709422, 26, 583],\n",
       " [0.08750000000000002, 25, 0.25883237, 25, 707],\n",
       " [0.08750000000000002, 27, 0.24613155, 23, 869],\n",
       " [0.08750000000000002, 29, 0.22682588, 23, 1012],\n",
       " [0.08750000000000002, 31, 0.20783353, 23, 1136],\n",
       " [0.08750000000000002, 33, 0.19491567, 23, 1234],\n",
       " [0.08750000000000002, 35, 0.1807711, 22, 1362],\n",
       " [0.08750000000000002, 37, 0.1743808, 20, 1498],\n",
       " [0.08750000000000002, 39, 0.1620269, 19, 1660],\n",
       " [0.08750000000000002, 41, 0.14197668, 20, 1723],\n",
       " [0.08750000000000002, 43, 0.126368, 20, 1826],\n",
       " [0.08750000000000002, 45, 0.10946913, 21, 1920],\n",
       " [0.08750000000000002, 47, 0.0835512, 22, 2065],\n",
       " [0.08750000000000002, 49, 0.082564704, 18, 2325],\n",
       " [0.10000000000000003, 5, 0.36235735, 24, 23],\n",
       " [0.10000000000000003, 7, 0.36160296, 24, 31],\n",
       " [0.10000000000000003, 9, 0.36123437, 24, 36],\n",
       " [0.10000000000000003, 11, 0.36066982, 24, 40],\n",
       " [0.10000000000000003, 13, 0.35988238, 24, 48],\n",
       " [0.10000000000000003, 15, 0.35926315, 24, 53],\n",
       " [0.10000000000000003, 17, 0.35875985, 24, 59],\n",
       " [0.10000000000000003, 19, 0.35701466, 24, 74],\n",
       " [0.10000000000000003, 21, 0.35465926, 24, 91],\n",
       " [0.10000000000000003, 23, 0.35273606, 24, 106],\n",
       " [0.10000000000000003, 25, 0.34890673, 24, 132],\n",
       " [0.10000000000000003, 27, 0.33687592, 25, 161],\n",
       " [0.10000000000000003, 29, 0.32797933, 25, 220],\n",
       " [0.10000000000000003, 31, 0.32012382, 25, 273],\n",
       " [0.10000000000000003, 33, 0.3097414, 25, 341],\n",
       " [0.10000000000000003, 35, 0.30526304, 24, 408],\n",
       " [0.10000000000000003, 37, 0.29215935, 24, 509],\n",
       " [0.10000000000000003, 39, 0.27942774, 24, 604],\n",
       " [0.10000000000000003, 41, 0.2732931, 21, 790],\n",
       " [0.10000000000000003, 43, 0.26210463, 20, 926],\n",
       " [0.10000000000000003, 45, 0.2596368, 19, 980],\n",
       " [0.10000000000000003, 47, 0.26050028, 18, 1044],\n",
       " [0.10000000000000003, 49, 0.25368106, 18, 1086],\n",
       " [0.11250000000000002, 5, -1, 1, 7],\n",
       " [0.11250000000000002, 7, -1, 1, 10],\n",
       " [0.11250000000000002, 9, -1, 1, 12],\n",
       " [0.11250000000000002, 11, -1, 1, 14],\n",
       " [0.11250000000000002, 13, -1, 1, 17],\n",
       " [0.11250000000000002, 15, -1, 1, 19],\n",
       " [0.11250000000000002, 17, -1, 1, 20],\n",
       " [0.11250000000000002, 19, -1, 1, 25],\n",
       " [0.11250000000000002, 21, -1, 1, 29],\n",
       " [0.11250000000000002, 23, -1, 1, 34],\n",
       " [0.11250000000000002, 25, -1, 1, 40],\n",
       " [0.11250000000000002, 27, -1, 1, 45],\n",
       " [0.11250000000000002, 29, -1, 1, 46],\n",
       " [0.11250000000000002, 31, 0.06468992, 2, 60],\n",
       " [0.11250000000000002, 33, 0.06264538, 2, 67],\n",
       " [0.11250000000000002, 35, 0.05904145, 2, 77],\n",
       " [0.11250000000000002, 37, -0.045102898, 3, 108],\n",
       " [0.11250000000000002, 39, -0.042947013, 3, 162],\n",
       " [0.11250000000000002, 41, -0.06938245, 4, 175],\n",
       " [0.11250000000000002, 43, -0.01995783, 3, 236],\n",
       " [0.11250000000000002, 45, -0.014178129, 3, 335],\n",
       " [0.11250000000000002, 47, -0.014746676, 3, 351],\n",
       " [0.11250000000000002, 49, -0.016050823, 3, 429],\n",
       " [0.12500000000000003, 5, -1, 1, 2],\n",
       " [0.12500000000000003, 7, -1, 1, 2],\n",
       " [0.12500000000000003, 9, -1, 1, 2],\n",
       " [0.12500000000000003, 11, -1, 1, 5],\n",
       " [0.12500000000000003, 13, -1, 1, 5],\n",
       " [0.12500000000000003, 15, -1, 1, 6],\n",
       " [0.12500000000000003, 17, -1, 1, 6],\n",
       " [0.12500000000000003, 19, -1, 1, 6],\n",
       " [0.12500000000000003, 21, -1, 1, 6],\n",
       " [0.12500000000000003, 23, -1, 1, 6],\n",
       " [0.12500000000000003, 25, -1, 1, 6],\n",
       " [0.12500000000000003, 27, -1, 1, 6],\n",
       " [0.12500000000000003, 29, -1, 1, 8],\n",
       " [0.12500000000000003, 31, -1, 1, 11],\n",
       " [0.12500000000000003, 33, -1, 1, 11],\n",
       " [0.12500000000000003, 35, -1, 1, 15],\n",
       " [0.12500000000000003, 37, -1, 1, 19],\n",
       " [0.12500000000000003, 39, -1, 1, 27],\n",
       " [0.12500000000000003, 41, -1, 1, 31],\n",
       " [0.12500000000000003, 43, -1, 1, 31],\n",
       " [0.12500000000000003, 45, -1, 1, 40],\n",
       " [0.12500000000000003, 47, -1, 1, 56],\n",
       " [0.12500000000000003, 49, -1, 1, 102],\n",
       " [0.13750000000000004, 5, -1, 1, 0],\n",
       " [0.13750000000000004, 7, -1, 1, 0],\n",
       " [0.13750000000000004, 9, -1, 1, 0],\n",
       " [0.13750000000000004, 11, -1, 1, 0],\n",
       " [0.13750000000000004, 13, -1, 1, 0],\n",
       " [0.13750000000000004, 15, -1, 1, 0],\n",
       " [0.13750000000000004, 17, -1, 1, 0],\n",
       " [0.13750000000000004, 19, -1, 1, 1],\n",
       " [0.13750000000000004, 21, -1, 1, 1],\n",
       " [0.13750000000000004, 23, -1, 1, 1],\n",
       " [0.13750000000000004, 25, -1, 1, 1],\n",
       " [0.13750000000000004, 27, -1, 1, 1],\n",
       " [0.13750000000000004, 29, -1, 1, 1],\n",
       " [0.13750000000000004, 31, -1, 1, 1],\n",
       " [0.13750000000000004, 33, -1, 1, 1],\n",
       " [0.13750000000000004, 35, -1, 1, 1],\n",
       " [0.13750000000000004, 37, -1, 1, 2],\n",
       " [0.13750000000000004, 39, -1, 1, 2],\n",
       " [0.13750000000000004, 41, -1, 1, 2],\n",
       " [0.13750000000000004, 43, -1, 1, 2],\n",
       " [0.13750000000000004, 45, -1, 1, 2],\n",
       " [0.13750000000000004, 47, -1, 1, 2],\n",
       " [0.13750000000000004, 49, -1, 1, 4],\n",
       " [0.15000000000000005, 5, -1, 1, 0],\n",
       " [0.15000000000000005, 7, -1, 1, 0],\n",
       " [0.15000000000000005, 9, -1, 1, 0],\n",
       " [0.15000000000000005, 11, -1, 1, 0],\n",
       " [0.15000000000000005, 13, -1, 1, 0],\n",
       " [0.15000000000000005, 15, -1, 1, 0],\n",
       " [0.15000000000000005, 17, -1, 1, 0],\n",
       " [0.15000000000000005, 19, -1, 1, 0],\n",
       " [0.15000000000000005, 21, -1, 1, 0],\n",
       " [0.15000000000000005, 23, -1, 1, 0],\n",
       " [0.15000000000000005, 25, -1, 1, 0],\n",
       " [0.15000000000000005, 27, -1, 1, 0],\n",
       " [0.15000000000000005, 29, -1, 1, 0],\n",
       " [0.15000000000000005, 31, -1, 1, 1],\n",
       " [0.15000000000000005, 33, -1, 1, 1],\n",
       " [0.15000000000000005, 35, -1, 1, 1],\n",
       " [0.15000000000000005, 37, -1, 1, 1],\n",
       " [0.15000000000000005, 39, -1, 1, 1],\n",
       " [0.15000000000000005, 41, -1, 1, 1],\n",
       " [0.15000000000000005, 43, -1, 1, 1],\n",
       " [0.15000000000000005, 45, -1, 1, 1],\n",
       " [0.15000000000000005, 47, -1, 1, 1],\n",
       " [0.15000000000000005, 49, -1, 1, 1],\n",
       " [0.16250000000000003, 5, -1, 1, 0],\n",
       " [0.16250000000000003, 7, -1, 1, 0],\n",
       " [0.16250000000000003, 9, -1, 1, 0],\n",
       " [0.16250000000000003, 11, -1, 1, 0],\n",
       " [0.16250000000000003, 13, -1, 1, 0],\n",
       " [0.16250000000000003, 15, -1, 1, 0],\n",
       " [0.16250000000000003, 17, -1, 1, 0],\n",
       " [0.16250000000000003, 19, -1, 1, 0],\n",
       " [0.16250000000000003, 21, -1, 1, 0],\n",
       " [0.16250000000000003, 23, -1, 1, 0],\n",
       " [0.16250000000000003, 25, -1, 1, 0],\n",
       " [0.16250000000000003, 27, -1, 1, 0],\n",
       " [0.16250000000000003, 29, -1, 1, 0],\n",
       " [0.16250000000000003, 31, -1, 1, 0],\n",
       " [0.16250000000000003, 33, -1, 1, 0],\n",
       " [0.16250000000000003, 35, -1, 1, 0],\n",
       " [0.16250000000000003, 37, -1, 1, 0],\n",
       " [0.16250000000000003, 39, -1, 1, 0],\n",
       " [0.16250000000000003, 41, -1, 1, 0],\n",
       " [0.16250000000000003, 43, -1, 1, 0],\n",
       " [0.16250000000000003, 45, -1, 1, 0],\n",
       " [0.16250000000000003, 47, -1, 1, 0],\n",
       " [0.16250000000000003, 49, -1, 1, 0],\n",
       " [0.17500000000000004, 5, -1, 1, 0],\n",
       " [0.17500000000000004, 7, -1, 1, 0],\n",
       " [0.17500000000000004, 9, -1, 1, 0],\n",
       " [0.17500000000000004, 11, -1, 1, 0],\n",
       " [0.17500000000000004, 13, -1, 1, 0],\n",
       " [0.17500000000000004, 15, -1, 1, 0],\n",
       " [0.17500000000000004, 17, -1, 1, 0],\n",
       " [0.17500000000000004, 19, -1, 1, 0],\n",
       " [0.17500000000000004, 21, -1, 1, 0],\n",
       " [0.17500000000000004, 23, -1, 1, 0],\n",
       " [0.17500000000000004, 25, -1, 1, 0],\n",
       " [0.17500000000000004, 27, -1, 1, 0],\n",
       " [0.17500000000000004, 29, -1, 1, 0],\n",
       " [0.17500000000000004, 31, -1, 1, 0],\n",
       " [0.17500000000000004, 33, -1, 1, 0],\n",
       " [0.17500000000000004, 35, -1, 1, 0],\n",
       " [0.17500000000000004, 37, -1, 1, 0],\n",
       " [0.17500000000000004, 39, -1, 1, 0],\n",
       " [0.17500000000000004, 41, -1, 1, 0],\n",
       " [0.17500000000000004, 43, -1, 1, 0],\n",
       " [0.17500000000000004, 45, -1, 1, 0],\n",
       " [0.17500000000000004, 47, -1, 1, 0],\n",
       " [0.17500000000000004, 49, -1, 1, 0],\n",
       " [0.18750000000000006, 5, -1, 1, 0],\n",
       " [0.18750000000000006, 7, -1, 1, 0],\n",
       " [0.18750000000000006, 9, -1, 1, 0],\n",
       " [0.18750000000000006, 11, -1, 1, 0],\n",
       " [0.18750000000000006, 13, -1, 1, 0],\n",
       " [0.18750000000000006, 15, -1, 1, 0],\n",
       " [0.18750000000000006, 17, -1, 1, 0],\n",
       " [0.18750000000000006, 19, -1, 1, 0],\n",
       " [0.18750000000000006, 21, -1, 1, 0],\n",
       " [0.18750000000000006, 23, -1, 1, 0],\n",
       " [0.18750000000000006, 25, -1, 1, 0],\n",
       " [0.18750000000000006, 27, -1, 1, 0],\n",
       " [0.18750000000000006, 29, -1, 1, 0],\n",
       " [0.18750000000000006, 31, -1, 1, 0],\n",
       " [0.18750000000000006, 33, -1, 1, 0],\n",
       " [0.18750000000000006, 35, -1, 1, 0],\n",
       " [0.18750000000000006, 37, -1, 1, 0],\n",
       " [0.18750000000000006, 39, -1, 1, 0],\n",
       " [0.18750000000000006, 41, -1, 1, 0],\n",
       " [0.18750000000000006, 43, -1, 1, 0],\n",
       " [0.18750000000000006, 45, -1, 1, 0],\n",
       " [0.18750000000000006, 47, -1, 1, 0],\n",
       " [0.18750000000000006, 49, -1, 1, 0],\n",
       " [0.20000000000000004, 5, -1, 1, 0],\n",
       " [0.20000000000000004, 7, -1, 1, 0],\n",
       " [0.20000000000000004, 9, -1, 1, 0],\n",
       " [0.20000000000000004, 11, -1, 1, 0],\n",
       " [0.20000000000000004, 13, -1, 1, 0],\n",
       " [0.20000000000000004, 15, -1, 1, 0],\n",
       " [0.20000000000000004, 17, -1, 1, 0],\n",
       " [0.20000000000000004, 19, -1, 1, 0],\n",
       " [0.20000000000000004, 21, -1, 1, 0],\n",
       " [0.20000000000000004, 23, -1, 1, 0],\n",
       " [0.20000000000000004, 25, -1, 1, 0],\n",
       " [0.20000000000000004, 27, -1, 1, 0],\n",
       " [0.20000000000000004, 29, -1, 1, 0],\n",
       " [0.20000000000000004, 31, -1, 1, 0],\n",
       " [0.20000000000000004, 33, -1, 1, 0],\n",
       " [0.20000000000000004, 35, -1, 1, 0],\n",
       " [0.20000000000000004, 37, -1, 1, 0],\n",
       " [0.20000000000000004, 39, -1, 1, 0],\n",
       " [0.20000000000000004, 41, -1, 1, 0],\n",
       " [0.20000000000000004, 43, -1, 1, 0],\n",
       " [0.20000000000000004, 45, -1, 1, 0],\n",
       " [0.20000000000000004, 47, -1, 1, 0],\n",
       " [0.20000000000000004, 49, -1, 1, 0],\n",
       " [0.21250000000000005, 5, -1, 1, 0],\n",
       " [0.21250000000000005, 7, -1, 1, 0],\n",
       " [0.21250000000000005, 9, -1, 1, 0],\n",
       " [0.21250000000000005, 11, -1, 1, 0],\n",
       " [0.21250000000000005, 13, -1, 1, 0],\n",
       " [0.21250000000000005, 15, -1, 1, 0],\n",
       " [0.21250000000000005, 17, -1, 1, 0],\n",
       " [0.21250000000000005, 19, -1, 1, 0],\n",
       " [0.21250000000000005, 21, -1, 1, 0],\n",
       " [0.21250000000000005, 23, -1, 1, 0],\n",
       " [0.21250000000000005, 25, -1, 1, 0],\n",
       " [0.21250000000000005, 27, -1, 1, 0],\n",
       " [0.21250000000000005, 29, -1, 1, 0],\n",
       " [0.21250000000000005, 31, -1, 1, 0],\n",
       " [0.21250000000000005, 33, -1, 1, 0],\n",
       " [0.21250000000000005, 35, -1, 1, 0],\n",
       " [0.21250000000000005, 37, -1, 1, 0],\n",
       " [0.21250000000000005, 39, -1, 1, 0],\n",
       " [0.21250000000000005, 41, -1, 1, 0],\n",
       " [0.21250000000000005, 43, -1, 1, 0],\n",
       " [0.21250000000000005, 45, -1, 1, 0],\n",
       " [0.21250000000000005, 47, -1, 1, 0],\n",
       " [0.21250000000000005, 49, -1, 1, 0],\n",
       " [0.22500000000000006, 5, -1, 1, 0],\n",
       " [0.22500000000000006, 7, -1, 1, 0],\n",
       " [0.22500000000000006, 9, -1, 1, 0],\n",
       " [0.22500000000000006, 11, -1, 1, 0],\n",
       " [0.22500000000000006, 13, -1, 1, 0],\n",
       " [0.22500000000000006, 15, -1, 1, 0],\n",
       " [0.22500000000000006, 17, -1, 1, 0],\n",
       " [0.22500000000000006, 19, -1, 1, 0],\n",
       " [0.22500000000000006, 21, -1, 1, 0],\n",
       " [0.22500000000000006, 23, -1, 1, 0],\n",
       " [0.22500000000000006, 25, -1, 1, 0],\n",
       " [0.22500000000000006, 27, -1, 1, 0],\n",
       " [0.22500000000000006, 29, -1, 1, 0],\n",
       " [0.22500000000000006, 31, -1, 1, 0],\n",
       " [0.22500000000000006, 33, -1, 1, 0],\n",
       " [0.22500000000000006, 35, -1, 1, 0],\n",
       " [0.22500000000000006, 37, -1, 1, 0],\n",
       " [0.22500000000000006, 39, -1, 1, 0],\n",
       " [0.22500000000000006, 41, -1, 1, 0],\n",
       " [0.22500000000000006, 43, -1, 1, 0],\n",
       " [0.22500000000000006, 45, -1, 1, 0],\n",
       " [0.22500000000000006, 47, -1, 1, 0],\n",
       " [0.22500000000000006, 49, -1, 1, 0],\n",
       " [0.23750000000000007, 5, -1, 1, 0],\n",
       " [0.23750000000000007, 7, -1, 1, 0],\n",
       " [0.23750000000000007, 9, -1, 1, 0],\n",
       " [0.23750000000000007, 11, -1, 1, 0],\n",
       " [0.23750000000000007, 13, -1, 1, 0],\n",
       " [0.23750000000000007, 15, -1, 1, 0],\n",
       " [0.23750000000000007, 17, -1, 1, 0],\n",
       " [0.23750000000000007, 19, -1, 1, 0],\n",
       " [0.23750000000000007, 21, -1, 1, 0],\n",
       " [0.23750000000000007, 23, -1, 1, 0],\n",
       " [0.23750000000000007, 25, -1, 1, 0],\n",
       " [0.23750000000000007, 27, -1, 1, 0],\n",
       " [0.23750000000000007, 29, -1, 1, 0],\n",
       " [0.23750000000000007, 31, -1, 1, 0],\n",
       " [0.23750000000000007, 33, -1, 1, 0],\n",
       " [0.23750000000000007, 35, -1, 1, 0],\n",
       " [0.23750000000000007, 37, -1, 1, 0],\n",
       " [0.23750000000000007, 39, -1, 1, 0],\n",
       " [0.23750000000000007, 41, -1, 1, 0],\n",
       " [0.23750000000000007, 43, -1, 1, 0],\n",
       " [0.23750000000000007, 45, -1, 1, 0],\n",
       " [0.23750000000000007, 47, -1, 1, 0],\n",
       " [0.23750000000000007, 49, -1, 1, 0]]"
      ]
     },
     "execution_count": 44,
     "metadata": {},
     "output_type": "execute_result"
    }
   ],
   "source": [
    "results_list"
   ]
  },
  {
   "cell_type": "code",
   "execution_count": 54,
   "metadata": {},
   "outputs": [
    {
     "data": {
      "text/html": [
       "<div>\n",
       "<style scoped>\n",
       "    .dataframe tbody tr th:only-of-type {\n",
       "        vertical-align: middle;\n",
       "    }\n",
       "\n",
       "    .dataframe tbody tr th {\n",
       "        vertical-align: top;\n",
       "    }\n",
       "\n",
       "    .dataframe thead th {\n",
       "        text-align: right;\n",
       "    }\n",
       "</style>\n",
       "<table border=\"1\" class=\"dataframe\">\n",
       "  <thead>\n",
       "    <tr style=\"text-align: right;\">\n",
       "      <th></th>\n",
       "      <th>eps</th>\n",
       "      <th>min_samples</th>\n",
       "      <th>cluster_quality</th>\n",
       "      <th>num_clusters</th>\n",
       "      <th>num_noise_data</th>\n",
       "    </tr>\n",
       "  </thead>\n",
       "  <tbody>\n",
       "    <tr>\n",
       "      <th>0</th>\n",
       "      <td>0.025</td>\n",
       "      <td>5</td>\n",
       "      <td>-0.454699</td>\n",
       "      <td>25</td>\n",
       "      <td>6734</td>\n",
       "    </tr>\n",
       "    <tr>\n",
       "      <th>1</th>\n",
       "      <td>0.025</td>\n",
       "      <td>7</td>\n",
       "      <td>-0.397650</td>\n",
       "      <td>8</td>\n",
       "      <td>6923</td>\n",
       "    </tr>\n",
       "    <tr>\n",
       "      <th>2</th>\n",
       "      <td>0.025</td>\n",
       "      <td>9</td>\n",
       "      <td>-1.000000</td>\n",
       "      <td>0</td>\n",
       "      <td>7000</td>\n",
       "    </tr>\n",
       "    <tr>\n",
       "      <th>3</th>\n",
       "      <td>0.025</td>\n",
       "      <td>11</td>\n",
       "      <td>-1.000000</td>\n",
       "      <td>0</td>\n",
       "      <td>7000</td>\n",
       "    </tr>\n",
       "    <tr>\n",
       "      <th>4</th>\n",
       "      <td>0.025</td>\n",
       "      <td>13</td>\n",
       "      <td>-1.000000</td>\n",
       "      <td>0</td>\n",
       "      <td>7000</td>\n",
       "    </tr>\n",
       "  </tbody>\n",
       "</table>\n",
       "</div>"
      ],
      "text/plain": [
       "     eps  min_samples  cluster_quality  num_clusters  num_noise_data\n",
       "0  0.025            5        -0.454699            25            6734\n",
       "1  0.025            7        -0.397650             8            6923\n",
       "2  0.025            9        -1.000000             0            7000\n",
       "3  0.025           11        -1.000000             0            7000\n",
       "4  0.025           13        -1.000000             0            7000"
      ]
     },
     "execution_count": 54,
     "metadata": {},
     "output_type": "execute_result"
    }
   ],
   "source": [
    "clustering_results_df = pd.DataFrame(results_list, columns = (\"eps\", \"min_samples\", \"cluster_quality\", \"num_clusters\", \"num_noise_data\"))\n",
    "clustering_results_df.head()"
   ]
  },
  {
   "cell_type": "code",
   "execution_count": 56,
   "metadata": {},
   "outputs": [
    {
     "data": {
      "text/html": [
       "<div>\n",
       "<style scoped>\n",
       "    .dataframe tbody tr th:only-of-type {\n",
       "        vertical-align: middle;\n",
       "    }\n",
       "\n",
       "    .dataframe tbody tr th {\n",
       "        vertical-align: top;\n",
       "    }\n",
       "\n",
       "    .dataframe thead th {\n",
       "        text-align: right;\n",
       "    }\n",
       "</style>\n",
       "<table border=\"1\" class=\"dataframe\">\n",
       "  <thead>\n",
       "    <tr style=\"text-align: right;\">\n",
       "      <th></th>\n",
       "      <th>eps</th>\n",
       "      <th>min_samples</th>\n",
       "      <th>cluster_quality</th>\n",
       "      <th>num_noise_data</th>\n",
       "    </tr>\n",
       "    <tr>\n",
       "      <th>num_clusters</th>\n",
       "      <th></th>\n",
       "      <th></th>\n",
       "      <th></th>\n",
       "      <th></th>\n",
       "    </tr>\n",
       "  </thead>\n",
       "  <tbody>\n",
       "    <tr>\n",
       "      <th>0</th>\n",
       "      <td>0.02500</td>\n",
       "      <td>34.0</td>\n",
       "      <td>-1.000000</td>\n",
       "      <td>7000.0</td>\n",
       "    </tr>\n",
       "    <tr>\n",
       "      <th>1</th>\n",
       "      <td>0.17500</td>\n",
       "      <td>27.0</td>\n",
       "      <td>-1.000000</td>\n",
       "      <td>0.0</td>\n",
       "    </tr>\n",
       "    <tr>\n",
       "      <th>2</th>\n",
       "      <td>0.11250</td>\n",
       "      <td>33.0</td>\n",
       "      <td>0.059041</td>\n",
       "      <td>77.0</td>\n",
       "    </tr>\n",
       "    <tr>\n",
       "      <th>3</th>\n",
       "      <td>0.11250</td>\n",
       "      <td>41.0</td>\n",
       "      <td>-0.031452</td>\n",
       "      <td>343.0</td>\n",
       "    </tr>\n",
       "    <tr>\n",
       "      <th>4</th>\n",
       "      <td>0.05000</td>\n",
       "      <td>29.0</td>\n",
       "      <td>-0.299050</td>\n",
       "      <td>6614.0</td>\n",
       "    </tr>\n",
       "    <tr>\n",
       "      <th>6</th>\n",
       "      <td>0.06250</td>\n",
       "      <td>44.0</td>\n",
       "      <td>-0.290539</td>\n",
       "      <td>6200.0</td>\n",
       "    </tr>\n",
       "    <tr>\n",
       "      <th>7</th>\n",
       "      <td>0.06250</td>\n",
       "      <td>38.0</td>\n",
       "      <td>-0.244427</td>\n",
       "      <td>5792.5</td>\n",
       "    </tr>\n",
       "    <tr>\n",
       "      <th>8</th>\n",
       "      <td>0.03125</td>\n",
       "      <td>11.0</td>\n",
       "      <td>-0.382518</td>\n",
       "      <td>6818.5</td>\n",
       "    </tr>\n",
       "    <tr>\n",
       "      <th>9</th>\n",
       "      <td>0.03750</td>\n",
       "      <td>13.0</td>\n",
       "      <td>-0.360779</td>\n",
       "      <td>6640.0</td>\n",
       "    </tr>\n",
       "    <tr>\n",
       "      <th>11</th>\n",
       "      <td>0.05625</td>\n",
       "      <td>28.0</td>\n",
       "      <td>-0.307882</td>\n",
       "      <td>5754.0</td>\n",
       "    </tr>\n",
       "    <tr>\n",
       "      <th>13</th>\n",
       "      <td>0.07500</td>\n",
       "      <td>46.0</td>\n",
       "      <td>-0.144154</td>\n",
       "      <td>4260.5</td>\n",
       "    </tr>\n",
       "    <tr>\n",
       "      <th>14</th>\n",
       "      <td>0.06250</td>\n",
       "      <td>33.0</td>\n",
       "      <td>-0.269186</td>\n",
       "      <td>5310.0</td>\n",
       "    </tr>\n",
       "    <tr>\n",
       "      <th>15</th>\n",
       "      <td>0.07500</td>\n",
       "      <td>46.0</td>\n",
       "      <td>-0.150141</td>\n",
       "      <td>4172.5</td>\n",
       "    </tr>\n",
       "    <tr>\n",
       "      <th>16</th>\n",
       "      <td>0.05000</td>\n",
       "      <td>19.0</td>\n",
       "      <td>-0.357456</td>\n",
       "      <td>5857.0</td>\n",
       "    </tr>\n",
       "    <tr>\n",
       "      <th>17</th>\n",
       "      <td>0.07500</td>\n",
       "      <td>37.0</td>\n",
       "      <td>-0.075458</td>\n",
       "      <td>3424.0</td>\n",
       "    </tr>\n",
       "    <tr>\n",
       "      <th>18</th>\n",
       "      <td>0.08125</td>\n",
       "      <td>41.0</td>\n",
       "      <td>0.024403</td>\n",
       "      <td>2719.5</td>\n",
       "    </tr>\n",
       "    <tr>\n",
       "      <th>19</th>\n",
       "      <td>0.08750</td>\n",
       "      <td>39.0</td>\n",
       "      <td>0.162027</td>\n",
       "      <td>1660.0</td>\n",
       "    </tr>\n",
       "    <tr>\n",
       "      <th>20</th>\n",
       "      <td>0.08750</td>\n",
       "      <td>37.0</td>\n",
       "      <td>0.126368</td>\n",
       "      <td>1826.0</td>\n",
       "    </tr>\n",
       "    <tr>\n",
       "      <th>21</th>\n",
       "      <td>0.08125</td>\n",
       "      <td>36.0</td>\n",
       "      <td>0.086477</td>\n",
       "      <td>2088.0</td>\n",
       "    </tr>\n",
       "    <tr>\n",
       "      <th>22</th>\n",
       "      <td>0.07500</td>\n",
       "      <td>25.0</td>\n",
       "      <td>0.029611</td>\n",
       "      <td>2470.0</td>\n",
       "    </tr>\n",
       "    <tr>\n",
       "      <th>23</th>\n",
       "      <td>0.08750</td>\n",
       "      <td>30.0</td>\n",
       "      <td>0.217330</td>\n",
       "      <td>1074.0</td>\n",
       "    </tr>\n",
       "    <tr>\n",
       "      <th>24</th>\n",
       "      <td>0.10000</td>\n",
       "      <td>14.0</td>\n",
       "      <td>0.354438</td>\n",
       "      <td>93.0</td>\n",
       "    </tr>\n",
       "    <tr>\n",
       "      <th>25</th>\n",
       "      <td>0.08750</td>\n",
       "      <td>23.0</td>\n",
       "      <td>0.284287</td>\n",
       "      <td>524.0</td>\n",
       "    </tr>\n",
       "    <tr>\n",
       "      <th>26</th>\n",
       "      <td>0.08750</td>\n",
       "      <td>17.0</td>\n",
       "      <td>0.299023</td>\n",
       "      <td>438.0</td>\n",
       "    </tr>\n",
       "    <tr>\n",
       "      <th>27</th>\n",
       "      <td>0.07500</td>\n",
       "      <td>17.0</td>\n",
       "      <td>0.246369</td>\n",
       "      <td>772.0</td>\n",
       "    </tr>\n",
       "    <tr>\n",
       "      <th>28</th>\n",
       "      <td>0.06250</td>\n",
       "      <td>15.0</td>\n",
       "      <td>-0.041584</td>\n",
       "      <td>2818.0</td>\n",
       "    </tr>\n",
       "    <tr>\n",
       "      <th>29</th>\n",
       "      <td>0.07500</td>\n",
       "      <td>13.0</td>\n",
       "      <td>0.237171</td>\n",
       "      <td>777.0</td>\n",
       "    </tr>\n",
       "    <tr>\n",
       "      <th>31</th>\n",
       "      <td>0.05000</td>\n",
       "      <td>13.0</td>\n",
       "      <td>-0.311995</td>\n",
       "      <td>4922.0</td>\n",
       "    </tr>\n",
       "    <tr>\n",
       "      <th>32</th>\n",
       "      <td>0.06250</td>\n",
       "      <td>13.0</td>\n",
       "      <td>-0.008363</td>\n",
       "      <td>2419.0</td>\n",
       "    </tr>\n",
       "    <tr>\n",
       "      <th>35</th>\n",
       "      <td>0.06250</td>\n",
       "      <td>7.0</td>\n",
       "      <td>0.141789</td>\n",
       "      <td>1181.0</td>\n",
       "    </tr>\n",
       "    <tr>\n",
       "      <th>38</th>\n",
       "      <td>0.06250</td>\n",
       "      <td>9.0</td>\n",
       "      <td>0.058939</td>\n",
       "      <td>1568.0</td>\n",
       "    </tr>\n",
       "    <tr>\n",
       "      <th>39</th>\n",
       "      <td>0.06250</td>\n",
       "      <td>11.0</td>\n",
       "      <td>0.021047</td>\n",
       "      <td>2005.0</td>\n",
       "    </tr>\n",
       "    <tr>\n",
       "      <th>40</th>\n",
       "      <td>0.06250</td>\n",
       "      <td>5.0</td>\n",
       "      <td>0.172586</td>\n",
       "      <td>833.0</td>\n",
       "    </tr>\n",
       "    <tr>\n",
       "      <th>44</th>\n",
       "      <td>0.05000</td>\n",
       "      <td>11.0</td>\n",
       "      <td>-0.279218</td>\n",
       "      <td>4384.0</td>\n",
       "    </tr>\n",
       "    <tr>\n",
       "      <th>48</th>\n",
       "      <td>0.03750</td>\n",
       "      <td>7.0</td>\n",
       "      <td>-0.469573</td>\n",
       "      <td>5746.0</td>\n",
       "    </tr>\n",
       "    <tr>\n",
       "      <th>57</th>\n",
       "      <td>0.05000</td>\n",
       "      <td>9.0</td>\n",
       "      <td>-0.245293</td>\n",
       "      <td>3842.0</td>\n",
       "    </tr>\n",
       "    <tr>\n",
       "      <th>75</th>\n",
       "      <td>0.05000</td>\n",
       "      <td>7.0</td>\n",
       "      <td>-0.170544</td>\n",
       "      <td>3079.0</td>\n",
       "    </tr>\n",
       "    <tr>\n",
       "      <th>105</th>\n",
       "      <td>0.05000</td>\n",
       "      <td>5.0</td>\n",
       "      <td>-0.125831</td>\n",
       "      <td>2350.0</td>\n",
       "    </tr>\n",
       "    <tr>\n",
       "      <th>114</th>\n",
       "      <td>0.03750</td>\n",
       "      <td>5.0</td>\n",
       "      <td>-0.425017</td>\n",
       "      <td>4888.0</td>\n",
       "    </tr>\n",
       "  </tbody>\n",
       "</table>\n",
       "</div>"
      ],
      "text/plain": [
       "                  eps  min_samples  cluster_quality  num_noise_data\n",
       "num_clusters                                                       \n",
       "0             0.02500         34.0        -1.000000          7000.0\n",
       "1             0.17500         27.0        -1.000000             0.0\n",
       "2             0.11250         33.0         0.059041            77.0\n",
       "3             0.11250         41.0        -0.031452           343.0\n",
       "4             0.05000         29.0        -0.299050          6614.0\n",
       "6             0.06250         44.0        -0.290539          6200.0\n",
       "7             0.06250         38.0        -0.244427          5792.5\n",
       "8             0.03125         11.0        -0.382518          6818.5\n",
       "9             0.03750         13.0        -0.360779          6640.0\n",
       "11            0.05625         28.0        -0.307882          5754.0\n",
       "13            0.07500         46.0        -0.144154          4260.5\n",
       "14            0.06250         33.0        -0.269186          5310.0\n",
       "15            0.07500         46.0        -0.150141          4172.5\n",
       "16            0.05000         19.0        -0.357456          5857.0\n",
       "17            0.07500         37.0        -0.075458          3424.0\n",
       "18            0.08125         41.0         0.024403          2719.5\n",
       "19            0.08750         39.0         0.162027          1660.0\n",
       "20            0.08750         37.0         0.126368          1826.0\n",
       "21            0.08125         36.0         0.086477          2088.0\n",
       "22            0.07500         25.0         0.029611          2470.0\n",
       "23            0.08750         30.0         0.217330          1074.0\n",
       "24            0.10000         14.0         0.354438            93.0\n",
       "25            0.08750         23.0         0.284287           524.0\n",
       "26            0.08750         17.0         0.299023           438.0\n",
       "27            0.07500         17.0         0.246369           772.0\n",
       "28            0.06250         15.0        -0.041584          2818.0\n",
       "29            0.07500         13.0         0.237171           777.0\n",
       "31            0.05000         13.0        -0.311995          4922.0\n",
       "32            0.06250         13.0        -0.008363          2419.0\n",
       "35            0.06250          7.0         0.141789          1181.0\n",
       "38            0.06250          9.0         0.058939          1568.0\n",
       "39            0.06250         11.0         0.021047          2005.0\n",
       "40            0.06250          5.0         0.172586           833.0\n",
       "44            0.05000         11.0        -0.279218          4384.0\n",
       "48            0.03750          7.0        -0.469573          5746.0\n",
       "57            0.05000          9.0        -0.245293          3842.0\n",
       "75            0.05000          7.0        -0.170544          3079.0\n",
       "105           0.05000          5.0        -0.125831          2350.0\n",
       "114           0.03750          5.0        -0.425017          4888.0"
      ]
     },
     "execution_count": 56,
     "metadata": {},
     "output_type": "execute_result"
    }
   ],
   "source": [
    "clustering_results_df.groupby(by='num_clusters').median()"
   ]
  },
  {
   "cell_type": "code",
   "execution_count": 81,
   "metadata": {},
   "outputs": [
    {
     "data": {
      "text/plain": [
       "Text(0, 0.5, 'cluster quality - sillouhette score')"
      ]
     },
     "execution_count": 81,
     "metadata": {},
     "output_type": "execute_result"
    },
    {
     "data": {
      "image/png": "[encoded data removed]",
      "text/plain": [
       "<Figure size 640x480 with 1 Axes>"
      ]
     },
     "metadata": {},
     "output_type": "display_data"
    }
   ],
   "source": [
    "x = clustering_results_df['num_clusters'].values\n",
    "y = clustering_results_df['cluster_quality'].values\n",
    "s = clustering_results_df['num_noise_data'].values\n",
    "\n",
    "plt.scatter(\n",
    "    x,\n",
    "    y,\n",
    "    s = 100*s/s.max())\n",
    "plt.grid()\n",
    "plt.xlim(0,50)\n",
    "plt.xlabel('number clusters')#\n",
    "plt.ylabel('cluster quality - sillouhette score')"
   ]
  },
  {
   "cell_type": "code",
   "execution_count": 97,
   "metadata": {},
   "outputs": [
    {
     "data": {
      "text/html": [
       "<div>\n",
       "<style scoped>\n",
       "    .dataframe tbody tr th:only-of-type {\n",
       "        vertical-align: middle;\n",
       "    }\n",
       "\n",
       "    .dataframe tbody tr th {\n",
       "        vertical-align: top;\n",
       "    }\n",
       "\n",
       "    .dataframe thead th {\n",
       "        text-align: right;\n",
       "    }\n",
       "</style>\n",
       "<table border=\"1\" class=\"dataframe\">\n",
       "  <thead>\n",
       "    <tr style=\"text-align: right;\">\n",
       "      <th></th>\n",
       "      <th>eps</th>\n",
       "      <th>min_samples</th>\n",
       "      <th>cluster_quality</th>\n",
       "      <th>num_clusters</th>\n",
       "      <th>num_noise_data</th>\n",
       "    </tr>\n",
       "  </thead>\n",
       "  <tbody>\n",
       "    <tr>\n",
       "      <th>159</th>\n",
       "      <td>0.1000</td>\n",
       "      <td>47</td>\n",
       "      <td>0.260500</td>\n",
       "      <td>18</td>\n",
       "      <td>1044</td>\n",
       "    </tr>\n",
       "    <tr>\n",
       "      <th>160</th>\n",
       "      <td>0.1000</td>\n",
       "      <td>49</td>\n",
       "      <td>0.253681</td>\n",
       "      <td>18</td>\n",
       "      <td>1086</td>\n",
       "    </tr>\n",
       "    <tr>\n",
       "      <th>137</th>\n",
       "      <td>0.0875</td>\n",
       "      <td>49</td>\n",
       "      <td>0.082565</td>\n",
       "      <td>18</td>\n",
       "      <td>2325</td>\n",
       "    </tr>\n",
       "    <tr>\n",
       "      <th>107</th>\n",
       "      <td>0.0750</td>\n",
       "      <td>35</td>\n",
       "      <td>-0.033759</td>\n",
       "      <td>18</td>\n",
       "      <td>3114</td>\n",
       "    </tr>\n",
       "    <tr>\n",
       "      <th>79</th>\n",
       "      <td>0.0625</td>\n",
       "      <td>25</td>\n",
       "      <td>-0.201313</td>\n",
       "      <td>18</td>\n",
       "      <td>4465</td>\n",
       "    </tr>\n",
       "    <tr>\n",
       "      <th>52</th>\n",
       "      <td>0.0500</td>\n",
       "      <td>17</td>\n",
       "      <td>-0.338679</td>\n",
       "      <td>18</td>\n",
       "      <td>5581</td>\n",
       "    </tr>\n",
       "  </tbody>\n",
       "</table>\n",
       "</div>"
      ],
      "text/plain": [
       "        eps  min_samples  cluster_quality  num_clusters  num_noise_data\n",
       "159  0.1000           47         0.260500            18            1044\n",
       "160  0.1000           49         0.253681            18            1086\n",
       "137  0.0875           49         0.082565            18            2325\n",
       "107  0.0750           35        -0.033759            18            3114\n",
       "79   0.0625           25        -0.201313            18            4465\n",
       "52   0.0500           17        -0.338679            18            5581"
      ]
     },
     "execution_count": 97,
     "metadata": {},
     "output_type": "execute_result"
    }
   ],
   "source": [
    "nclusters = 18\n",
    "db_config = clustering_results_df[clustering_results_df[\"num_clusters\"] == nclusters].sort_values(by=\"cluster_quality\", ascending=False)\n",
    "db_config "
   ]
  },
  {
   "cell_type": "code",
   "execution_count": 98,
   "metadata": {},
   "outputs": [
    {
     "name": "stdout",
     "output_type": "stream",
     "text": [
      "0.1 47\n"
     ]
    },
    {
     "data": {
      "image/png": "[encoded data removed]",
      "text/plain": [
       "<Figure size 640x480 with 1 Axes>"
      ]
     },
     "metadata": {},
     "output_type": "display_data"
    },
    {
     "name": "stdout",
     "output_type": "stream",
     "text": [
      "0.1 49\n"
     ]
    },
    {
     "data": {
      "image/png": "[encoded data removed]",
      "text/plain": [
       "<Figure size 640x480 with 1 Axes>"
      ]
     },
     "metadata": {},
     "output_type": "display_data"
    },
    {
     "name": "stdout",
     "output_type": "stream",
     "text": [
      "0.088 49\n"
     ]
    },
    {
     "data": {
      "image/png": "[encoded data removed]",
      "text/plain": [
       "<Figure size 640x480 with 1 Axes>"
      ]
     },
     "metadata": {},
     "output_type": "display_data"
    },
    {
     "name": "stdout",
     "output_type": "stream",
     "text": [
      "0.075 35\n"
     ]
    },
    {
     "data": {
      "image/png": "[encoded data removed]",
      "text/plain": [
       "<Figure size 640x480 with 1 Axes>"
      ]
     },
     "metadata": {},
     "output_type": "display_data"
    },
    {
     "name": "stdout",
     "output_type": "stream",
     "text": [
      "0.063 25\n"
     ]
    },
    {
     "data": {
      "image/png": "[encoded data removed]",
      "text/plain": [
       "<Figure size 640x480 with 1 Axes>"
      ]
     },
     "metadata": {},
     "output_type": "display_data"
    },
    {
     "name": "stdout",
     "output_type": "stream",
     "text": [
      "0.05 17\n"
     ]
    },
    {
     "data": {
      "image/png": "[encoded data removed]",
      "text/plain": [
       "<Figure size 640x480 with 1 Axes>"
      ]
     },
     "metadata": {},
     "output_type": "display_data"
    }
   ],
   "source": [
    "for conf in np.array(db_config[['eps', 'min_samples']]):\n",
    "    eps = np.round(conf[0],3)\n",
    "    min_samples = int(conf[1])\n",
    "    print(eps, min_samples)\n",
    "\n",
    "    # Configuring the parameters of the clustering algorithm\n",
    "    dbscan_cluster = DBSCAN(eps=eps, \n",
    "                            min_samples=min_samples, \n",
    "                            metric=\"precomputed\",\n",
    "                            n_jobs=-1)\n",
    "\n",
    "    # Fitting the clustering algorithm\n",
    "    dbscan_cluster.fit(distance_matrix)\n",
    "\n",
    "    plt.hist(dbscan_cluster.labels_) \n",
    "    #plt.yscale('log')\n",
    "    plt.grid()\n",
    "    plt.show()"
   ]
  },
  {
   "cell_type": "code",
   "execution_count": 100,
   "metadata": {},
   "outputs": [
    {
     "data": {
      "image/png": "[encoded data removed]",
      "text/plain": [
       "<Figure size 640x480 with 1 Axes>"
      ]
     },
     "metadata": {},
     "output_type": "display_data"
    }
   ],
   "source": [
    "# Configuring the parameters of the clustering algorithm\n",
    "dbscan_cluster = DBSCAN(eps=0.1, \n",
    "                        min_samples=47, \n",
    "                        metric=\"precomputed\",\n",
    "                        n_jobs=-1)\n",
    "\n",
    "# Fitting the clustering algorithm\n",
    "dbscan_cluster.fit(distance_matrix)\n",
    "\n",
    "plt.hist(dbscan_cluster.labels_) \n",
    "#plt.yscale('log')\n",
    "plt.grid()\n",
    "plt.show()"
   ]
  },
  {
   "cell_type": "code",
   "execution_count": 101,
   "metadata": {},
   "outputs": [
    {
     "data": {
      "text/html": [
       "<div>\n",
       "<style scoped>\n",
       "    .dataframe tbody tr th:only-of-type {\n",
       "        vertical-align: middle;\n",
       "    }\n",
       "\n",
       "    .dataframe tbody tr th {\n",
       "        vertical-align: top;\n",
       "    }\n",
       "\n",
       "    .dataframe thead th {\n",
       "        text-align: right;\n",
       "    }\n",
       "</style>\n",
       "<table border=\"1\" class=\"dataframe\">\n",
       "  <thead>\n",
       "    <tr style=\"text-align: right;\">\n",
       "      <th></th>\n",
       "      <th>credit_score</th>\n",
       "      <th>age</th>\n",
       "      <th>tenure</th>\n",
       "      <th>balance</th>\n",
       "      <th>products_number</th>\n",
       "      <th>credit_card</th>\n",
       "      <th>active_member</th>\n",
       "      <th>estimated_salary</th>\n",
       "      <th>country</th>\n",
       "      <th>gender</th>\n",
       "      <th>cluster</th>\n",
       "    </tr>\n",
       "    <tr>\n",
       "      <th>customer_id</th>\n",
       "      <th></th>\n",
       "      <th></th>\n",
       "      <th></th>\n",
       "      <th></th>\n",
       "      <th></th>\n",
       "      <th></th>\n",
       "      <th></th>\n",
       "      <th></th>\n",
       "      <th></th>\n",
       "      <th></th>\n",
       "      <th></th>\n",
       "    </tr>\n",
       "  </thead>\n",
       "  <tbody>\n",
       "    <tr>\n",
       "      <th>15638003</th>\n",
       "      <td>648.0</td>\n",
       "      <td>55.0</td>\n",
       "      <td>1.0</td>\n",
       "      <td>81370.07</td>\n",
       "      <td>1.0</td>\n",
       "      <td>0.0</td>\n",
       "      <td>1.0</td>\n",
       "      <td>181534.04</td>\n",
       "      <td>Spain</td>\n",
       "      <td>Male</td>\n",
       "      <td>-1</td>\n",
       "    </tr>\n",
       "    <tr>\n",
       "      <th>15808971</th>\n",
       "      <td>693.0</td>\n",
       "      <td>57.0</td>\n",
       "      <td>9.0</td>\n",
       "      <td>0.00</td>\n",
       "      <td>2.0</td>\n",
       "      <td>1.0</td>\n",
       "      <td>1.0</td>\n",
       "      <td>135502.77</td>\n",
       "      <td>Spain</td>\n",
       "      <td>Female</td>\n",
       "      <td>0</td>\n",
       "    </tr>\n",
       "    <tr>\n",
       "      <th>15800482</th>\n",
       "      <td>586.0</td>\n",
       "      <td>33.0</td>\n",
       "      <td>7.0</td>\n",
       "      <td>0.00</td>\n",
       "      <td>2.0</td>\n",
       "      <td>1.0</td>\n",
       "      <td>1.0</td>\n",
       "      <td>168261.40</td>\n",
       "      <td>Spain</td>\n",
       "      <td>Female</td>\n",
       "      <td>0</td>\n",
       "    </tr>\n",
       "    <tr>\n",
       "      <th>15746726</th>\n",
       "      <td>438.0</td>\n",
       "      <td>31.0</td>\n",
       "      <td>8.0</td>\n",
       "      <td>78398.69</td>\n",
       "      <td>1.0</td>\n",
       "      <td>1.0</td>\n",
       "      <td>0.0</td>\n",
       "      <td>44937.01</td>\n",
       "      <td>Germany</td>\n",
       "      <td>Male</td>\n",
       "      <td>11</td>\n",
       "    </tr>\n",
       "    <tr>\n",
       "      <th>15750407</th>\n",
       "      <td>768.0</td>\n",
       "      <td>43.0</td>\n",
       "      <td>2.0</td>\n",
       "      <td>129264.05</td>\n",
       "      <td>2.0</td>\n",
       "      <td>0.0</td>\n",
       "      <td>0.0</td>\n",
       "      <td>19150.14</td>\n",
       "      <td>Germany</td>\n",
       "      <td>Female</td>\n",
       "      <td>-1</td>\n",
       "    </tr>\n",
       "  </tbody>\n",
       "</table>\n",
       "</div>"
      ],
      "text/plain": [
       "             credit_score   age  tenure    balance  products_number  \\\n",
       "customer_id                                                           \n",
       "15638003            648.0  55.0     1.0   81370.07              1.0   \n",
       "15808971            693.0  57.0     9.0       0.00              2.0   \n",
       "15800482            586.0  33.0     7.0       0.00              2.0   \n",
       "15746726            438.0  31.0     8.0   78398.69              1.0   \n",
       "15750407            768.0  43.0     2.0  129264.05              2.0   \n",
       "\n",
       "             credit_card  active_member  estimated_salary  country  gender  \\\n",
       "customer_id                                                                  \n",
       "15638003             0.0            1.0         181534.04    Spain    Male   \n",
       "15808971             1.0            1.0         135502.77    Spain  Female   \n",
       "15800482             1.0            1.0         168261.40    Spain  Female   \n",
       "15746726             1.0            0.0          44937.01  Germany    Male   \n",
       "15750407             0.0            0.0          19150.14  Germany  Female   \n",
       "\n",
       "             cluster  \n",
       "customer_id           \n",
       "15638003          -1  \n",
       "15808971           0  \n",
       "15800482           0  \n",
       "15746726          11  \n",
       "15750407          -1  "
      ]
     },
     "execution_count": 101,
     "metadata": {},
     "output_type": "execute_result"
    }
   ],
   "source": [
    "# Adding the results to a new column in the dataframe\n",
    "X_train[\"cluster\"] = dbscan_cluster.labels_\n",
    "X_train.head()"
   ]
  },
  {
   "cell_type": "code",
   "execution_count": 102,
   "metadata": {},
   "outputs": [],
   "source": [
    "# Relabel Clusters starting from 0\n",
    "X_train[\"cluster\"] = X_train[\"cluster\"] + 1"
   ]
  },
  {
   "cell_type": "markdown",
   "metadata": {},
   "source": [
    "# Train Model on Cluster Label"
   ]
  },
  {
   "attachments": {},
   "cell_type": "markdown",
   "metadata": {},
   "source": [
    "### One Hote Encode"
   ]
  },
  {
   "cell_type": "code",
   "execution_count": 103,
   "metadata": {},
   "outputs": [],
   "source": [
    "enc = OneHotEncoder(\n",
    "    handle_unknown='ignore',\n",
    "    sparse=False,\n",
    "    drop='first')"
   ]
  },
  {
   "cell_type": "code",
   "execution_count": 104,
   "metadata": {},
   "outputs": [
    {
     "name": "stderr",
     "output_type": "stream",
     "text": [
      "`sparse` was renamed to `sparse_output` in version 1.2 and will be removed in 1.4. `sparse_output` is ignored unless you leave `sparse` to its default value.\n"
     ]
    },
    {
     "data": {
      "text/html": [
       "<style>#sk-container-id-1 {color: black;background-color: white;}#sk-container-id-1 pre{padding: 0;}#sk-container-id-1 div.sk-toggleable {background-color: white;}#sk-container-id-1 label.sk-toggleable__label {cursor: pointer;display: block;width: 100%;margin-bottom: 0;padding: 0.3em;box-sizing: border-box;text-align: center;}#sk-container-id-1 label.sk-toggleable__label-arrow:before {content: \"▸\";float: left;margin-right: 0.25em;color: #696969;}#sk-container-id-1 label.sk-toggleable__label-arrow:hover:before {color: black;}#sk-container-id-1 div.sk-estimator:hover label.sk-toggleable__label-arrow:before {color: black;}#sk-container-id-1 div.sk-toggleable__content {max-height: 0;max-width: 0;overflow: hidden;text-align: left;background-color: #f0f8ff;}#sk-container-id-1 div.sk-toggleable__content pre {margin: 0.2em;color: black;border-radius: 0.25em;background-color: #f0f8ff;}#sk-container-id-1 input.sk-toggleable__control:checked~div.sk-toggleable__content {max-height: 200px;max-width: 100%;overflow: auto;}#sk-container-id-1 input.sk-toggleable__control:checked~label.sk-toggleable__label-arrow:before {content: \"▾\";}#sk-container-id-1 div.sk-estimator input.sk-toggleable__control:checked~label.sk-toggleable__label {background-color: #d4ebff;}#sk-container-id-1 div.sk-label input.sk-toggleable__control:checked~label.sk-toggleable__label {background-color: #d4ebff;}#sk-container-id-1 input.sk-hidden--visually {border: 0;clip: rect(1px 1px 1px 1px);clip: rect(1px, 1px, 1px, 1px);height: 1px;margin: -1px;overflow: hidden;padding: 0;position: absolute;width: 1px;}#sk-container-id-1 div.sk-estimator {font-family: monospace;background-color: #f0f8ff;border: 1px dotted black;border-radius: 0.25em;box-sizing: border-box;margin-bottom: 0.5em;}#sk-container-id-1 div.sk-estimator:hover {background-color: #d4ebff;}#sk-container-id-1 div.sk-parallel-item::after {content: \"\";width: 100%;border-bottom: 1px solid gray;flex-grow: 1;}#sk-container-id-1 div.sk-label:hover label.sk-toggleable__label {background-color: #d4ebff;}#sk-container-id-1 div.sk-serial::before {content: \"\";position: absolute;border-left: 1px solid gray;box-sizing: border-box;top: 0;bottom: 0;left: 50%;z-index: 0;}#sk-container-id-1 div.sk-serial {display: flex;flex-direction: column;align-items: center;background-color: white;padding-right: 0.2em;padding-left: 0.2em;position: relative;}#sk-container-id-1 div.sk-item {position: relative;z-index: 1;}#sk-container-id-1 div.sk-parallel {display: flex;align-items: stretch;justify-content: center;background-color: white;position: relative;}#sk-container-id-1 div.sk-item::before, #sk-container-id-1 div.sk-parallel-item::before {content: \"\";position: absolute;border-left: 1px solid gray;box-sizing: border-box;top: 0;bottom: 0;left: 50%;z-index: -1;}#sk-container-id-1 div.sk-parallel-item {display: flex;flex-direction: column;z-index: 1;position: relative;background-color: white;}#sk-container-id-1 div.sk-parallel-item:first-child::after {align-self: flex-end;width: 50%;}#sk-container-id-1 div.sk-parallel-item:last-child::after {align-self: flex-start;width: 50%;}#sk-container-id-1 div.sk-parallel-item:only-child::after {width: 0;}#sk-container-id-1 div.sk-dashed-wrapped {border: 1px dashed gray;margin: 0 0.4em 0.5em 0.4em;box-sizing: border-box;padding-bottom: 0.4em;background-color: white;}#sk-container-id-1 div.sk-label label {font-family: monospace;font-weight: bold;display: inline-block;line-height: 1.2em;}#sk-container-id-1 div.sk-label-container {text-align: center;}#sk-container-id-1 div.sk-container {/* jupyter's `normalize.less` sets `[hidden] { display: none; }` but bootstrap.min.css set `[hidden] { display: none !important; }` so we also need the `!important` here to be able to override the default hidden behavior on the sphinx rendered scikit-learn.org. See: https://github.com/scikit-learn/scikit-learn/issues/21755 */display: inline-block !important;position: relative;}#sk-container-id-1 div.sk-text-repr-fallback {display: none;}</style><div id=\"sk-container-id-1\" class=\"sk-top-container\"><div class=\"sk-text-repr-fallback\"><pre>OneHotEncoder(drop=&#x27;first&#x27;, handle_unknown=&#x27;ignore&#x27;, sparse=False,\n",
       "              sparse_output=False)</pre><b>In a Jupyter environment, please rerun this cell to show the HTML representation or trust the notebook. <br />On GitHub, the HTML representation is unable to render, please try loading this page with nbviewer.org.</b></div><div class=\"sk-container\" hidden><div class=\"sk-item\"><div class=\"sk-estimator sk-toggleable\"><input class=\"sk-toggleable__control sk-hidden--visually\" id=\"sk-estimator-id-1\" type=\"checkbox\" checked><label for=\"sk-estimator-id-1\" class=\"sk-toggleable__label sk-toggleable__label-arrow\">OneHotEncoder</label><div class=\"sk-toggleable__content\"><pre>OneHotEncoder(drop=&#x27;first&#x27;, handle_unknown=&#x27;ignore&#x27;, sparse=False,\n",
       "              sparse_output=False)</pre></div></div></div></div></div>"
      ],
      "text/plain": [
       "OneHotEncoder(drop='first', handle_unknown='ignore', sparse=False,\n",
       "              sparse_output=False)"
      ]
     },
     "execution_count": 104,
     "metadata": {},
     "output_type": "execute_result"
    }
   ],
   "source": [
    "enc.fit(X_train[categorical_columns])"
   ]
  },
  {
   "cell_type": "code",
   "execution_count": 105,
   "metadata": {},
   "outputs": [],
   "source": [
    "X_train_hot_enc = enc.transform(X_train[categorical_columns])"
   ]
  },
  {
   "cell_type": "code",
   "execution_count": 106,
   "metadata": {},
   "outputs": [],
   "source": [
    "# Save one hot encoder\n",
    "with open('../artifacts/enc.pickle', 'wb') as filename:\n",
    "    pickle.dump(enc, filename)"
   ]
  },
  {
   "cell_type": "code",
   "execution_count": 107,
   "metadata": {},
   "outputs": [
    {
     "data": {
      "text/html": [
       "<div>\n",
       "<style scoped>\n",
       "    .dataframe tbody tr th:only-of-type {\n",
       "        vertical-align: middle;\n",
       "    }\n",
       "\n",
       "    .dataframe tbody tr th {\n",
       "        vertical-align: top;\n",
       "    }\n",
       "\n",
       "    .dataframe thead th {\n",
       "        text-align: right;\n",
       "    }\n",
       "</style>\n",
       "<table border=\"1\" class=\"dataframe\">\n",
       "  <thead>\n",
       "    <tr style=\"text-align: right;\">\n",
       "      <th></th>\n",
       "      <th>country_Germany</th>\n",
       "      <th>country_Spain</th>\n",
       "      <th>gender_Male</th>\n",
       "    </tr>\n",
       "    <tr>\n",
       "      <th>customer_id</th>\n",
       "      <th></th>\n",
       "      <th></th>\n",
       "      <th></th>\n",
       "    </tr>\n",
       "  </thead>\n",
       "  <tbody>\n",
       "    <tr>\n",
       "      <th>15638003</th>\n",
       "      <td>0.0</td>\n",
       "      <td>1.0</td>\n",
       "      <td>1.0</td>\n",
       "    </tr>\n",
       "    <tr>\n",
       "      <th>15808971</th>\n",
       "      <td>0.0</td>\n",
       "      <td>1.0</td>\n",
       "      <td>0.0</td>\n",
       "    </tr>\n",
       "    <tr>\n",
       "      <th>15800482</th>\n",
       "      <td>0.0</td>\n",
       "      <td>1.0</td>\n",
       "      <td>0.0</td>\n",
       "    </tr>\n",
       "    <tr>\n",
       "      <th>15746726</th>\n",
       "      <td>1.0</td>\n",
       "      <td>0.0</td>\n",
       "      <td>1.0</td>\n",
       "    </tr>\n",
       "    <tr>\n",
       "      <th>15750407</th>\n",
       "      <td>1.0</td>\n",
       "      <td>0.0</td>\n",
       "      <td>0.0</td>\n",
       "    </tr>\n",
       "  </tbody>\n",
       "</table>\n",
       "</div>"
      ],
      "text/plain": [
       "             country_Germany  country_Spain  gender_Male\n",
       "customer_id                                             \n",
       "15638003                 0.0            1.0          1.0\n",
       "15808971                 0.0            1.0          0.0\n",
       "15800482                 0.0            1.0          0.0\n",
       "15746726                 1.0            0.0          1.0\n",
       "15750407                 1.0            0.0          0.0"
      ]
     },
     "execution_count": 107,
     "metadata": {},
     "output_type": "execute_result"
    }
   ],
   "source": [
    "X_train_cat_hotenc = pd.DataFrame(X_train_hot_enc, columns=enc.get_feature_names_out()) \n",
    "X_train_cat_hotenc.index = X_train.index \n",
    "X_train_cat_hotenc.head()"
   ]
  },
  {
   "cell_type": "code",
   "execution_count": 108,
   "metadata": {},
   "outputs": [
    {
     "data": {
      "text/html": [
       "<div>\n",
       "<style scoped>\n",
       "    .dataframe tbody tr th:only-of-type {\n",
       "        vertical-align: middle;\n",
       "    }\n",
       "\n",
       "    .dataframe tbody tr th {\n",
       "        vertical-align: top;\n",
       "    }\n",
       "\n",
       "    .dataframe thead th {\n",
       "        text-align: right;\n",
       "    }\n",
       "</style>\n",
       "<table border=\"1\" class=\"dataframe\">\n",
       "  <thead>\n",
       "    <tr style=\"text-align: right;\">\n",
       "      <th></th>\n",
       "      <th>credit_score</th>\n",
       "      <th>age</th>\n",
       "      <th>tenure</th>\n",
       "      <th>balance</th>\n",
       "      <th>products_number</th>\n",
       "      <th>credit_card</th>\n",
       "      <th>active_member</th>\n",
       "      <th>estimated_salary</th>\n",
       "      <th>country_Germany</th>\n",
       "      <th>country_Spain</th>\n",
       "      <th>gender_Male</th>\n",
       "    </tr>\n",
       "    <tr>\n",
       "      <th>customer_id</th>\n",
       "      <th></th>\n",
       "      <th></th>\n",
       "      <th></th>\n",
       "      <th></th>\n",
       "      <th></th>\n",
       "      <th></th>\n",
       "      <th></th>\n",
       "      <th></th>\n",
       "      <th></th>\n",
       "      <th></th>\n",
       "      <th></th>\n",
       "    </tr>\n",
       "  </thead>\n",
       "  <tbody>\n",
       "    <tr>\n",
       "      <th>15638003</th>\n",
       "      <td>648.0</td>\n",
       "      <td>55.0</td>\n",
       "      <td>1.0</td>\n",
       "      <td>81370.07</td>\n",
       "      <td>1.0</td>\n",
       "      <td>0.0</td>\n",
       "      <td>1.0</td>\n",
       "      <td>181534.04</td>\n",
       "      <td>0.0</td>\n",
       "      <td>1.0</td>\n",
       "      <td>1.0</td>\n",
       "    </tr>\n",
       "    <tr>\n",
       "      <th>15808971</th>\n",
       "      <td>693.0</td>\n",
       "      <td>57.0</td>\n",
       "      <td>9.0</td>\n",
       "      <td>0.00</td>\n",
       "      <td>2.0</td>\n",
       "      <td>1.0</td>\n",
       "      <td>1.0</td>\n",
       "      <td>135502.77</td>\n",
       "      <td>0.0</td>\n",
       "      <td>1.0</td>\n",
       "      <td>0.0</td>\n",
       "    </tr>\n",
       "    <tr>\n",
       "      <th>15800482</th>\n",
       "      <td>586.0</td>\n",
       "      <td>33.0</td>\n",
       "      <td>7.0</td>\n",
       "      <td>0.00</td>\n",
       "      <td>2.0</td>\n",
       "      <td>1.0</td>\n",
       "      <td>1.0</td>\n",
       "      <td>168261.40</td>\n",
       "      <td>0.0</td>\n",
       "      <td>1.0</td>\n",
       "      <td>0.0</td>\n",
       "    </tr>\n",
       "    <tr>\n",
       "      <th>15746726</th>\n",
       "      <td>438.0</td>\n",
       "      <td>31.0</td>\n",
       "      <td>8.0</td>\n",
       "      <td>78398.69</td>\n",
       "      <td>1.0</td>\n",
       "      <td>1.0</td>\n",
       "      <td>0.0</td>\n",
       "      <td>44937.01</td>\n",
       "      <td>1.0</td>\n",
       "      <td>0.0</td>\n",
       "      <td>1.0</td>\n",
       "    </tr>\n",
       "    <tr>\n",
       "      <th>15750407</th>\n",
       "      <td>768.0</td>\n",
       "      <td>43.0</td>\n",
       "      <td>2.0</td>\n",
       "      <td>129264.05</td>\n",
       "      <td>2.0</td>\n",
       "      <td>0.0</td>\n",
       "      <td>0.0</td>\n",
       "      <td>19150.14</td>\n",
       "      <td>1.0</td>\n",
       "      <td>0.0</td>\n",
       "      <td>0.0</td>\n",
       "    </tr>\n",
       "    <tr>\n",
       "      <th>...</th>\n",
       "      <td>...</td>\n",
       "      <td>...</td>\n",
       "      <td>...</td>\n",
       "      <td>...</td>\n",
       "      <td>...</td>\n",
       "      <td>...</td>\n",
       "      <td>...</td>\n",
       "      <td>...</td>\n",
       "      <td>...</td>\n",
       "      <td>...</td>\n",
       "      <td>...</td>\n",
       "    </tr>\n",
       "    <tr>\n",
       "      <th>15609187</th>\n",
       "      <td>455.0</td>\n",
       "      <td>27.0</td>\n",
       "      <td>5.0</td>\n",
       "      <td>155879.09</td>\n",
       "      <td>2.0</td>\n",
       "      <td>0.0</td>\n",
       "      <td>0.0</td>\n",
       "      <td>70774.97</td>\n",
       "      <td>0.0</td>\n",
       "      <td>0.0</td>\n",
       "      <td>0.0</td>\n",
       "    </tr>\n",
       "    <tr>\n",
       "      <th>15767064</th>\n",
       "      <td>614.0</td>\n",
       "      <td>36.0</td>\n",
       "      <td>1.0</td>\n",
       "      <td>44054.84</td>\n",
       "      <td>1.0</td>\n",
       "      <td>1.0</td>\n",
       "      <td>1.0</td>\n",
       "      <td>73329.08</td>\n",
       "      <td>0.0</td>\n",
       "      <td>1.0</td>\n",
       "      <td>0.0</td>\n",
       "    </tr>\n",
       "    <tr>\n",
       "      <th>15781505</th>\n",
       "      <td>685.0</td>\n",
       "      <td>20.0</td>\n",
       "      <td>4.0</td>\n",
       "      <td>104719.94</td>\n",
       "      <td>2.0</td>\n",
       "      <td>1.0</td>\n",
       "      <td>0.0</td>\n",
       "      <td>38691.34</td>\n",
       "      <td>0.0</td>\n",
       "      <td>0.0</td>\n",
       "      <td>1.0</td>\n",
       "    </tr>\n",
       "    <tr>\n",
       "      <th>15777826</th>\n",
       "      <td>643.0</td>\n",
       "      <td>30.0</td>\n",
       "      <td>5.0</td>\n",
       "      <td>94443.77</td>\n",
       "      <td>1.0</td>\n",
       "      <td>1.0</td>\n",
       "      <td>1.0</td>\n",
       "      <td>165614.40</td>\n",
       "      <td>0.0</td>\n",
       "      <td>0.0</td>\n",
       "      <td>1.0</td>\n",
       "    </tr>\n",
       "    <tr>\n",
       "      <th>15588461</th>\n",
       "      <td>686.0</td>\n",
       "      <td>35.0</td>\n",
       "      <td>4.0</td>\n",
       "      <td>0.00</td>\n",
       "      <td>1.0</td>\n",
       "      <td>1.0</td>\n",
       "      <td>0.0</td>\n",
       "      <td>8816.37</td>\n",
       "      <td>0.0</td>\n",
       "      <td>0.0</td>\n",
       "      <td>1.0</td>\n",
       "    </tr>\n",
       "  </tbody>\n",
       "</table>\n",
       "<p>7000 rows × 11 columns</p>\n",
       "</div>"
      ],
      "text/plain": [
       "             credit_score   age  tenure    balance  products_number  \\\n",
       "customer_id                                                           \n",
       "15638003            648.0  55.0     1.0   81370.07              1.0   \n",
       "15808971            693.0  57.0     9.0       0.00              2.0   \n",
       "15800482            586.0  33.0     7.0       0.00              2.0   \n",
       "15746726            438.0  31.0     8.0   78398.69              1.0   \n",
       "15750407            768.0  43.0     2.0  129264.05              2.0   \n",
       "...                   ...   ...     ...        ...              ...   \n",
       "15609187            455.0  27.0     5.0  155879.09              2.0   \n",
       "15767064            614.0  36.0     1.0   44054.84              1.0   \n",
       "15781505            685.0  20.0     4.0  104719.94              2.0   \n",
       "15777826            643.0  30.0     5.0   94443.77              1.0   \n",
       "15588461            686.0  35.0     4.0       0.00              1.0   \n",
       "\n",
       "             credit_card  active_member  estimated_salary  country_Germany  \\\n",
       "customer_id                                                                  \n",
       "15638003             0.0            1.0         181534.04              0.0   \n",
       "15808971             1.0            1.0         135502.77              0.0   \n",
       "15800482             1.0            1.0         168261.40              0.0   \n",
       "15746726             1.0            0.0          44937.01              1.0   \n",
       "15750407             0.0            0.0          19150.14              1.0   \n",
       "...                  ...            ...               ...              ...   \n",
       "15609187             0.0            0.0          70774.97              0.0   \n",
       "15767064             1.0            1.0          73329.08              0.0   \n",
       "15781505             1.0            0.0          38691.34              0.0   \n",
       "15777826             1.0            1.0         165614.40              0.0   \n",
       "15588461             1.0            0.0           8816.37              0.0   \n",
       "\n",
       "             country_Spain  gender_Male  \n",
       "customer_id                              \n",
       "15638003               1.0          1.0  \n",
       "15808971               1.0          0.0  \n",
       "15800482               1.0          0.0  \n",
       "15746726               0.0          1.0  \n",
       "15750407               0.0          0.0  \n",
       "...                    ...          ...  \n",
       "15609187               0.0          0.0  \n",
       "15767064               1.0          0.0  \n",
       "15781505               0.0          1.0  \n",
       "15777826               0.0          1.0  \n",
       "15588461               0.0          1.0  \n",
       "\n",
       "[7000 rows x 11 columns]"
      ]
     },
     "execution_count": 108,
     "metadata": {},
     "output_type": "execute_result"
    }
   ],
   "source": [
    "X_train_hotenc = pd.concat([X_train[numeric_columns], X_train_cat_hotenc], axis=1) \n",
    "X_train_hotenc"
   ]
  },
  {
   "cell_type": "code",
   "execution_count": 109,
   "metadata": {},
   "outputs": [],
   "source": [
    "y = X_train['cluster']"
   ]
  },
  {
   "cell_type": "code",
   "execution_count": 110,
   "metadata": {},
   "outputs": [],
   "source": [
    "# create a train/test split\n",
    "X_train_hotenc_train, X_train_hotenc_test, y_train, y_test = train_test_split(\n",
    "    X_train_hotenc, \n",
    "    y, \n",
    "    test_size=0.3, \n",
    "    random_state=123)"
   ]
  },
  {
   "attachments": {},
   "cell_type": "markdown",
   "metadata": {},
   "source": [
    "# Training Sklearn Random Forest b/c of Multiclass Shap Compatibility!"
   ]
  },
  {
   "cell_type": "code",
   "execution_count": 111,
   "metadata": {},
   "outputs": [],
   "source": [
    "clf = RandomForestClassifier(\n",
    "    n_estimators=100, \n",
    "    max_depth=None,\n",
    "    min_samples_split=3,\n",
    "    min_samples_leaf=3,\n",
    "    max_features='log2', \n",
    "    random_state=123)"
   ]
  },
  {
   "cell_type": "code",
   "execution_count": 112,
   "metadata": {},
   "outputs": [
    {
     "data": {
      "text/html": [
       "<style>#sk-container-id-2 {color: black;background-color: white;}#sk-container-id-2 pre{padding: 0;}#sk-container-id-2 div.sk-toggleable {background-color: white;}#sk-container-id-2 label.sk-toggleable__label {cursor: pointer;display: block;width: 100%;margin-bottom: 0;padding: 0.3em;box-sizing: border-box;text-align: center;}#sk-container-id-2 label.sk-toggleable__label-arrow:before {content: \"▸\";float: left;margin-right: 0.25em;color: #696969;}#sk-container-id-2 label.sk-toggleable__label-arrow:hover:before {color: black;}#sk-container-id-2 div.sk-estimator:hover label.sk-toggleable__label-arrow:before {color: black;}#sk-container-id-2 div.sk-toggleable__content {max-height: 0;max-width: 0;overflow: hidden;text-align: left;background-color: #f0f8ff;}#sk-container-id-2 div.sk-toggleable__content pre {margin: 0.2em;color: black;border-radius: 0.25em;background-color: #f0f8ff;}#sk-container-id-2 input.sk-toggleable__control:checked~div.sk-toggleable__content {max-height: 200px;max-width: 100%;overflow: auto;}#sk-container-id-2 input.sk-toggleable__control:checked~label.sk-toggleable__label-arrow:before {content: \"▾\";}#sk-container-id-2 div.sk-estimator input.sk-toggleable__control:checked~label.sk-toggleable__label {background-color: #d4ebff;}#sk-container-id-2 div.sk-label input.sk-toggleable__control:checked~label.sk-toggleable__label {background-color: #d4ebff;}#sk-container-id-2 input.sk-hidden--visually {border: 0;clip: rect(1px 1px 1px 1px);clip: rect(1px, 1px, 1px, 1px);height: 1px;margin: -1px;overflow: hidden;padding: 0;position: absolute;width: 1px;}#sk-container-id-2 div.sk-estimator {font-family: monospace;background-color: #f0f8ff;border: 1px dotted black;border-radius: 0.25em;box-sizing: border-box;margin-bottom: 0.5em;}#sk-container-id-2 div.sk-estimator:hover {background-color: #d4ebff;}#sk-container-id-2 div.sk-parallel-item::after {content: \"\";width: 100%;border-bottom: 1px solid gray;flex-grow: 1;}#sk-container-id-2 div.sk-label:hover label.sk-toggleable__label {background-color: #d4ebff;}#sk-container-id-2 div.sk-serial::before {content: \"\";position: absolute;border-left: 1px solid gray;box-sizing: border-box;top: 0;bottom: 0;left: 50%;z-index: 0;}#sk-container-id-2 div.sk-serial {display: flex;flex-direction: column;align-items: center;background-color: white;padding-right: 0.2em;padding-left: 0.2em;position: relative;}#sk-container-id-2 div.sk-item {position: relative;z-index: 1;}#sk-container-id-2 div.sk-parallel {display: flex;align-items: stretch;justify-content: center;background-color: white;position: relative;}#sk-container-id-2 div.sk-item::before, #sk-container-id-2 div.sk-parallel-item::before {content: \"\";position: absolute;border-left: 1px solid gray;box-sizing: border-box;top: 0;bottom: 0;left: 50%;z-index: -1;}#sk-container-id-2 div.sk-parallel-item {display: flex;flex-direction: column;z-index: 1;position: relative;background-color: white;}#sk-container-id-2 div.sk-parallel-item:first-child::after {align-self: flex-end;width: 50%;}#sk-container-id-2 div.sk-parallel-item:last-child::after {align-self: flex-start;width: 50%;}#sk-container-id-2 div.sk-parallel-item:only-child::after {width: 0;}#sk-container-id-2 div.sk-dashed-wrapped {border: 1px dashed gray;margin: 0 0.4em 0.5em 0.4em;box-sizing: border-box;padding-bottom: 0.4em;background-color: white;}#sk-container-id-2 div.sk-label label {font-family: monospace;font-weight: bold;display: inline-block;line-height: 1.2em;}#sk-container-id-2 div.sk-label-container {text-align: center;}#sk-container-id-2 div.sk-container {/* jupyter's `normalize.less` sets `[hidden] { display: none; }` but bootstrap.min.css set `[hidden] { display: none !important; }` so we also need the `!important` here to be able to override the default hidden behavior on the sphinx rendered scikit-learn.org. See: https://github.com/scikit-learn/scikit-learn/issues/21755 */display: inline-block !important;position: relative;}#sk-container-id-2 div.sk-text-repr-fallback {display: none;}</style><div id=\"sk-container-id-2\" class=\"sk-top-container\"><div class=\"sk-text-repr-fallback\"><pre>RandomForestClassifier(max_features=&#x27;log2&#x27;, min_samples_leaf=3,\n",
       "                       min_samples_split=3, random_state=123)</pre><b>In a Jupyter environment, please rerun this cell to show the HTML representation or trust the notebook. <br />On GitHub, the HTML representation is unable to render, please try loading this page with nbviewer.org.</b></div><div class=\"sk-container\" hidden><div class=\"sk-item\"><div class=\"sk-estimator sk-toggleable\"><input class=\"sk-toggleable__control sk-hidden--visually\" id=\"sk-estimator-id-2\" type=\"checkbox\" checked><label for=\"sk-estimator-id-2\" class=\"sk-toggleable__label sk-toggleable__label-arrow\">RandomForestClassifier</label><div class=\"sk-toggleable__content\"><pre>RandomForestClassifier(max_features=&#x27;log2&#x27;, min_samples_leaf=3,\n",
       "                       min_samples_split=3, random_state=123)</pre></div></div></div></div></div>"
      ],
      "text/plain": [
       "RandomForestClassifier(max_features='log2', min_samples_leaf=3,\n",
       "                       min_samples_split=3, random_state=123)"
      ]
     },
     "execution_count": 112,
     "metadata": {},
     "output_type": "execute_result"
    }
   ],
   "source": [
    "clf.fit(X_train_hotenc_train, y_train)"
   ]
  },
  {
   "cell_type": "code",
   "execution_count": 113,
   "metadata": {},
   "outputs": [
    {
     "data": {
      "text/plain": [
       "0.9863265306122448"
      ]
     },
     "execution_count": 113,
     "metadata": {},
     "output_type": "execute_result"
    }
   ],
   "source": [
    "# evaluate accuracy on training set\n",
    "clf.score(X_train_hotenc_train, y_train)"
   ]
  },
  {
   "cell_type": "code",
   "execution_count": 114,
   "metadata": {},
   "outputs": [
    {
     "data": {
      "text/plain": [
       "0.9723809523809523"
      ]
     },
     "execution_count": 114,
     "metadata": {},
     "output_type": "execute_result"
    }
   ],
   "source": [
    "# evaluate accuracy on test set\n",
    "clf.score(X_train_hotenc_test, y_test)"
   ]
  },
  {
   "cell_type": "code",
   "execution_count": 115,
   "metadata": {},
   "outputs": [
    {
     "data": {
      "text/plain": [
       "array([ 3,  3,  9, ...,  3, 15,  1], dtype=int64)"
      ]
     },
     "execution_count": 115,
     "metadata": {},
     "output_type": "execute_result"
    }
   ],
   "source": [
    "pred = clf.predict(X_train_hotenc_train)\n",
    "pred"
   ]
  },
  {
   "attachments": {},
   "cell_type": "markdown",
   "metadata": {},
   "source": [
    "### Tuning Random Forest"
   ]
  },
  {
   "cell_type": "code",
   "execution_count": 116,
   "metadata": {},
   "outputs": [],
   "source": [
    "parameters = {\n",
    "    'n_estimators': (50, 100, 200),\n",
    "    'max_depth': (3, 5, None),\n",
    "    'min_samples_split': (1, 3, 6),\n",
    "    'min_samples_leaf': (1, 3, 6),\n",
    "    }\n",
    "\n",
    "model = GridSearchCV(\n",
    "    clf, \n",
    "    parameters,\n",
    "    cv=3, \n",
    "    n_jobs =-1)"
   ]
  },
  {
   "cell_type": "code",
   "execution_count": 117,
   "metadata": {},
   "outputs": [
    {
     "data": {
      "text/html": [
       "<style>#sk-container-id-3 {color: black;background-color: white;}#sk-container-id-3 pre{padding: 0;}#sk-container-id-3 div.sk-toggleable {background-color: white;}#sk-container-id-3 label.sk-toggleable__label {cursor: pointer;display: block;width: 100%;margin-bottom: 0;padding: 0.3em;box-sizing: border-box;text-align: center;}#sk-container-id-3 label.sk-toggleable__label-arrow:before {content: \"▸\";float: left;margin-right: 0.25em;color: #696969;}#sk-container-id-3 label.sk-toggleable__label-arrow:hover:before {color: black;}#sk-container-id-3 div.sk-estimator:hover label.sk-toggleable__label-arrow:before {color: black;}#sk-container-id-3 div.sk-toggleable__content {max-height: 0;max-width: 0;overflow: hidden;text-align: left;background-color: #f0f8ff;}#sk-container-id-3 div.sk-toggleable__content pre {margin: 0.2em;color: black;border-radius: 0.25em;background-color: #f0f8ff;}#sk-container-id-3 input.sk-toggleable__control:checked~div.sk-toggleable__content {max-height: 200px;max-width: 100%;overflow: auto;}#sk-container-id-3 input.sk-toggleable__control:checked~label.sk-toggleable__label-arrow:before {content: \"▾\";}#sk-container-id-3 div.sk-estimator input.sk-toggleable__control:checked~label.sk-toggleable__label {background-color: #d4ebff;}#sk-container-id-3 div.sk-label input.sk-toggleable__control:checked~label.sk-toggleable__label {background-color: #d4ebff;}#sk-container-id-3 input.sk-hidden--visually {border: 0;clip: rect(1px 1px 1px 1px);clip: rect(1px, 1px, 1px, 1px);height: 1px;margin: -1px;overflow: hidden;padding: 0;position: absolute;width: 1px;}#sk-container-id-3 div.sk-estimator {font-family: monospace;background-color: #f0f8ff;border: 1px dotted black;border-radius: 0.25em;box-sizing: border-box;margin-bottom: 0.5em;}#sk-container-id-3 div.sk-estimator:hover {background-color: #d4ebff;}#sk-container-id-3 div.sk-parallel-item::after {content: \"\";width: 100%;border-bottom: 1px solid gray;flex-grow: 1;}#sk-container-id-3 div.sk-label:hover label.sk-toggleable__label {background-color: #d4ebff;}#sk-container-id-3 div.sk-serial::before {content: \"\";position: absolute;border-left: 1px solid gray;box-sizing: border-box;top: 0;bottom: 0;left: 50%;z-index: 0;}#sk-container-id-3 div.sk-serial {display: flex;flex-direction: column;align-items: center;background-color: white;padding-right: 0.2em;padding-left: 0.2em;position: relative;}#sk-container-id-3 div.sk-item {position: relative;z-index: 1;}#sk-container-id-3 div.sk-parallel {display: flex;align-items: stretch;justify-content: center;background-color: white;position: relative;}#sk-container-id-3 div.sk-item::before, #sk-container-id-3 div.sk-parallel-item::before {content: \"\";position: absolute;border-left: 1px solid gray;box-sizing: border-box;top: 0;bottom: 0;left: 50%;z-index: -1;}#sk-container-id-3 div.sk-parallel-item {display: flex;flex-direction: column;z-index: 1;position: relative;background-color: white;}#sk-container-id-3 div.sk-parallel-item:first-child::after {align-self: flex-end;width: 50%;}#sk-container-id-3 div.sk-parallel-item:last-child::after {align-self: flex-start;width: 50%;}#sk-container-id-3 div.sk-parallel-item:only-child::after {width: 0;}#sk-container-id-3 div.sk-dashed-wrapped {border: 1px dashed gray;margin: 0 0.4em 0.5em 0.4em;box-sizing: border-box;padding-bottom: 0.4em;background-color: white;}#sk-container-id-3 div.sk-label label {font-family: monospace;font-weight: bold;display: inline-block;line-height: 1.2em;}#sk-container-id-3 div.sk-label-container {text-align: center;}#sk-container-id-3 div.sk-container {/* jupyter's `normalize.less` sets `[hidden] { display: none; }` but bootstrap.min.css set `[hidden] { display: none !important; }` so we also need the `!important` here to be able to override the default hidden behavior on the sphinx rendered scikit-learn.org. See: https://github.com/scikit-learn/scikit-learn/issues/21755 */display: inline-block !important;position: relative;}#sk-container-id-3 div.sk-text-repr-fallback {display: none;}</style><div id=\"sk-container-id-3\" class=\"sk-top-container\"><div class=\"sk-text-repr-fallback\"><pre>GridSearchCV(cv=3,\n",
       "             estimator=RandomForestClassifier(max_features=&#x27;log2&#x27;,\n",
       "                                              min_samples_leaf=3,\n",
       "                                              min_samples_split=3,\n",
       "                                              random_state=123),\n",
       "             n_jobs=-1,\n",
       "             param_grid={&#x27;max_depth&#x27;: (3, 5, None),\n",
       "                         &#x27;min_samples_leaf&#x27;: (1, 3, 6),\n",
       "                         &#x27;min_samples_split&#x27;: (1, 3, 6),\n",
       "                         &#x27;n_estimators&#x27;: (50, 100, 200)})</pre><b>In a Jupyter environment, please rerun this cell to show the HTML representation or trust the notebook. <br />On GitHub, the HTML representation is unable to render, please try loading this page with nbviewer.org.</b></div><div class=\"sk-container\" hidden><div class=\"sk-item sk-dashed-wrapped\"><div class=\"sk-label-container\"><div class=\"sk-label sk-toggleable\"><input class=\"sk-toggleable__control sk-hidden--visually\" id=\"sk-estimator-id-3\" type=\"checkbox\" ><label for=\"sk-estimator-id-3\" class=\"sk-toggleable__label sk-toggleable__label-arrow\">GridSearchCV</label><div class=\"sk-toggleable__content\"><pre>GridSearchCV(cv=3,\n",
       "             estimator=RandomForestClassifier(max_features=&#x27;log2&#x27;,\n",
       "                                              min_samples_leaf=3,\n",
       "                                              min_samples_split=3,\n",
       "                                              random_state=123),\n",
       "             n_jobs=-1,\n",
       "             param_grid={&#x27;max_depth&#x27;: (3, 5, None),\n",
       "                         &#x27;min_samples_leaf&#x27;: (1, 3, 6),\n",
       "                         &#x27;min_samples_split&#x27;: (1, 3, 6),\n",
       "                         &#x27;n_estimators&#x27;: (50, 100, 200)})</pre></div></div></div><div class=\"sk-parallel\"><div class=\"sk-parallel-item\"><div class=\"sk-item\"><div class=\"sk-label-container\"><div class=\"sk-label sk-toggleable\"><input class=\"sk-toggleable__control sk-hidden--visually\" id=\"sk-estimator-id-4\" type=\"checkbox\" ><label for=\"sk-estimator-id-4\" class=\"sk-toggleable__label sk-toggleable__label-arrow\">estimator: RandomForestClassifier</label><div class=\"sk-toggleable__content\"><pre>RandomForestClassifier(max_features=&#x27;log2&#x27;, min_samples_leaf=3,\n",
       "                       min_samples_split=3, random_state=123)</pre></div></div></div><div class=\"sk-serial\"><div class=\"sk-item\"><div class=\"sk-estimator sk-toggleable\"><input class=\"sk-toggleable__control sk-hidden--visually\" id=\"sk-estimator-id-5\" type=\"checkbox\" ><label for=\"sk-estimator-id-5\" class=\"sk-toggleable__label sk-toggleable__label-arrow\">RandomForestClassifier</label><div class=\"sk-toggleable__content\"><pre>RandomForestClassifier(max_features=&#x27;log2&#x27;, min_samples_leaf=3,\n",
       "                       min_samples_split=3, random_state=123)</pre></div></div></div></div></div></div></div></div></div></div>"
      ],
      "text/plain": [
       "GridSearchCV(cv=3,\n",
       "             estimator=RandomForestClassifier(max_features='log2',\n",
       "                                              min_samples_leaf=3,\n",
       "                                              min_samples_split=3,\n",
       "                                              random_state=123),\n",
       "             n_jobs=-1,\n",
       "             param_grid={'max_depth': (3, 5, None),\n",
       "                         'min_samples_leaf': (1, 3, 6),\n",
       "                         'min_samples_split': (1, 3, 6),\n",
       "                         'n_estimators': (50, 100, 200)})"
      ]
     },
     "execution_count": 117,
     "metadata": {},
     "output_type": "execute_result"
    }
   ],
   "source": [
    "model.fit(X_train_hotenc_train, y_train)"
   ]
  },
  {
   "cell_type": "code",
   "execution_count": 118,
   "metadata": {},
   "outputs": [
    {
     "data": {
      "text/plain": [
       "1.0"
      ]
     },
     "execution_count": 118,
     "metadata": {},
     "output_type": "execute_result"
    }
   ],
   "source": [
    "# evaluate accuracy on training set\n",
    "model.score(X_train_hotenc_train, y_train)"
   ]
  },
  {
   "cell_type": "code",
   "execution_count": 119,
   "metadata": {},
   "outputs": [
    {
     "data": {
      "text/plain": [
       "0.9714285714285714"
      ]
     },
     "execution_count": 119,
     "metadata": {},
     "output_type": "execute_result"
    }
   ],
   "source": [
    "# evaluate accuracy on test set\n",
    "model.score(X_train_hotenc_test, y_test)"
   ]
  },
  {
   "cell_type": "code",
   "execution_count": 120,
   "metadata": {},
   "outputs": [
    {
     "data": {
      "text/plain": [
       "array([ 3,  3,  9, ...,  3, 15,  1], dtype=int64)"
      ]
     },
     "execution_count": 120,
     "metadata": {},
     "output_type": "execute_result"
    }
   ],
   "source": [
    "# predict\n",
    "model.predict(X_train_hotenc_train)"
   ]
  },
  {
   "cell_type": "code",
   "execution_count": 121,
   "metadata": {},
   "outputs": [
    {
     "data": {
      "text/plain": [
       "{'max_depth': None,\n",
       " 'min_samples_leaf': 1,\n",
       " 'min_samples_split': 1,\n",
       " 'n_estimators': 100}"
      ]
     },
     "execution_count": 121,
     "metadata": {},
     "output_type": "execute_result"
    }
   ],
   "source": [
    "model.best_params_"
   ]
  },
  {
   "cell_type": "code",
   "execution_count": 122,
   "metadata": {},
   "outputs": [],
   "source": [
    "# Save the trained classifier\n",
    "with open('../artifacts/model.pickle', 'wb') as filename:\n",
    "    pickle.dump(model, filename)"
   ]
  },
  {
   "attachments": {},
   "cell_type": "markdown",
   "metadata": {},
   "source": [
    "# Model Evaluation"
   ]
  },
  {
   "cell_type": "code",
   "execution_count": 132,
   "metadata": {},
   "outputs": [
    {
     "data": {
      "image/png": "[encoded data removed]",
      "text/plain": [
       "<Figure size 640x480 with 2 Axes>"
      ]
     },
     "metadata": {},
     "output_type": "display_data"
    }
   ],
   "source": [
    "# plot confusion matrix for training data\n",
    "cm = confusion_matrix(y_train, model.predict(X_train_hotenc_train), labels=clf.classes_)\n",
    "\n",
    "cm_disp = ConfusionMatrixDisplay(confusion_matrix=cm, display_labels=clf.classes_)\n",
    "cm_disp.plot(values_format='d')\n",
    "plt.show()"
   ]
  },
  {
   "cell_type": "code",
   "execution_count": 133,
   "metadata": {},
   "outputs": [
    {
     "data": {
      "image/png": "[encoded data removed]",
      "text/plain": [
       "<Figure size 640x480 with 2 Axes>"
      ]
     },
     "metadata": {},
     "output_type": "display_data"
    }
   ],
   "source": [
    "# plot confusion matrix for training data\n",
    "cm = confusion_matrix(y_test, model.predict(X_train_hotenc_test), labels=clf.classes_)\n",
    "\n",
    "disp = ConfusionMatrixDisplay(\n",
    "    confusion_matrix=cm,                            \n",
    "    display_labels=clf.classes_)\n",
    "disp.plot()\n",
    "plt.show()"
   ]
  }
 ],
 "metadata": {
  "colab": {
   "provenance": []
  },
  "instance_type": "ml.t3.medium",
  "kernelspec": {
   "display_name": "customer_cluster_app",
   "language": "python",
   "name": "python3"
  },
  "language_info": {
   "codemirror_mode": {
    "name": "ipython",
    "version": 3
   },
   "file_extension": ".py",
   "mimetype": "text/x-python",
   "name": "python",
   "nbconvert_exporter": "python",
   "pygments_lexer": "ipython3",
   "version": "3.8.15"
  },
  "vscode": {
   "interpreter": {
    "hash": "4fd97cb6804767821df0653fcde94becba692fe61545c71ef62d3cf788367974"
   }
  }
 },
 "nbformat": 4,
 "nbformat_minor": 4
}
