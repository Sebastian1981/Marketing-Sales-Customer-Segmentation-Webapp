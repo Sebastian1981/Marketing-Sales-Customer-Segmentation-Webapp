{
 "cells": [
  {
   "attachments": {},
   "cell_type": "markdown",
   "metadata": {
    "id": "M27qF7CTrBqc"
   },
   "source": [
    "# Segment the adult dataset using GOWER similarity and DBScan Clustering"
   ]
  },
  {
   "cell_type": "code",
   "execution_count": 1,
   "metadata": {},
   "outputs": [],
   "source": [
    "# Data Visualization:\n",
    "# DB Scan: \n",
    "#   https://towardsdatascience.com/how-to-cluster-in-high-dimensions-4ef693bacc6\n",
    "# Clustering categorical and numeric datset:\n",
    "# https://towardsdatascience.com/clustering-on-numerical-and-categorical-features-6e0ebcf1cbad\n",
    "# Clustering Categorical Data Visualization\n",
    "#   https://towardsdatascience.com/clustering-algorithm-for-data-with-mixed-categorical-and-numerical-features-d4e3a48066a0\n",
    "# Explain Clustering Results with Shapley Values:\n",
    "#   https://towardsdatascience.com/how-to-make-clustering-explainable-1582390476cc \n",
    "#   https://medium.com/bricklane-tech/a-new-approach-to-clustering-interpretation-7729cb665ee8\n",
    "# Understand tSNE:\n",
    "#   https://www.youtube.com/watch?v=43ySR7_Yb4E\n",
    "# General Visualization Strategies for high dim data:\n",
    "#   https://towardsdatascience.com/the-art-of-effective-visualization-of-multi-dimensional-data-6c7202990c57"
   ]
  },
  {
   "cell_type": "code",
   "execution_count": 2,
   "metadata": {},
   "outputs": [],
   "source": [
    "%matplotlib inline\n",
    "import pickle\n",
    "\n",
    "# data processing\n",
    "import numpy as np\n",
    "import pandas as pd\n",
    "from sklearn.model_selection import train_test_split\n",
    "from sklearn.impute import SimpleImputer\n",
    "from sklearn.preprocessing import OneHotEncoder\n",
    "from feature_engine.encoding import RareLabelEncoder\n",
    "from feature_engine.outliers import Winsorizer\n",
    "\n",
    "# data visualization\n",
    "import matplotlib.pyplot as plt\n",
    "import seaborn as sns\n",
    "\n",
    "# Clustering\n",
    "import gower\n",
    "from sklearn.cluster import DBSCAN\n",
    "from sklearn.metrics import silhouette_score\n",
    "\n",
    "# Supervised Learning\n",
    "from sklearn.ensemble import RandomForestClassifier\n",
    "from sklearn.model_selection import GridSearchCV\n",
    "\n",
    "# Model Evaluation\n",
    "from sklearn.metrics import confusion_matrix, ConfusionMatrixDisplay\n",
    "\n",
    "# Cluster Explainability\n",
    "import shap"
   ]
  },
  {
   "attachments": {},
   "cell_type": "markdown",
   "metadata": {},
   "source": [
    "# Import Data\n",
    "the dataset is available here: https://archive.ics.uci.edu/ml/datasets or on kaggle datasets"
   ]
  },
  {
   "cell_type": "code",
   "execution_count": 3,
   "metadata": {},
   "outputs": [],
   "source": [
    "# CUSTID: Identification of Credit Card holder \n",
    "# BALANCE: Balance amount left in customer's account to make purchases\n",
    "# BALANCE_FREQUENCY: How frequently the Balance is updated, score between 0 and 1 (1 = frequently updated, 0 = not frequently updated)\n",
    "# PURCHASES: Amount of purchases made from account\n",
    "# ONEOFFPURCHASES: Maximum purchase amount done in one-go\n",
    "# INSTALLMENTS_PURCHASES: Amount of purchase done in installment\n",
    "# CASH_ADVANCE: Cash in advance given by the user\n",
    "# PURCHASES_FREQUENCY: How frequently the Purchases are being made, score between 0 and 1 (1 = frequently purchased, 0 = not frequently purchased)\n",
    "# ONEOFF_PURCHASES_FREQUENCY: How frequently Purchases are happening in one-go (1 = frequently purchased, 0 = not frequently purchased)\n",
    "# PURCHASES_INSTALLMENTS_FREQUENCY: How frequently purchases in installments are being done (1 = frequently done, 0 = not frequently done)\n",
    "# CASH_ADVANCE_FREQUENCY: How frequently the cash in advance being paid\n",
    "# CASH_ADVANCE_TRX: Number of Transactions made with \"Cash in Advance\"\n",
    "# PURCHASES_TRX: Number of purchase transactions made\n",
    "# CREDIT_LIMIT: Limit of Credit Card for user\n",
    "# PAYMENTS: Amount of Payment done by user\n",
    "# MINIMUM_PAYMENTS: Minimum amount of payments made by user  \n",
    "# PRC_FULL_PAYMENT: Percent of full payment paid by user\n",
    "# TENURE: Tenure of credit card service for user"
   ]
  },
  {
   "cell_type": "code",
   "execution_count": 4,
   "metadata": {},
   "outputs": [
    {
     "data": {
      "text/html": [
       "<div>\n",
       "<style scoped>\n",
       "    .dataframe tbody tr th:only-of-type {\n",
       "        vertical-align: middle;\n",
       "    }\n",
       "\n",
       "    .dataframe tbody tr th {\n",
       "        vertical-align: top;\n",
       "    }\n",
       "\n",
       "    .dataframe thead th {\n",
       "        text-align: right;\n",
       "    }\n",
       "</style>\n",
       "<table border=\"1\" class=\"dataframe\">\n",
       "  <thead>\n",
       "    <tr style=\"text-align: right;\">\n",
       "      <th></th>\n",
       "      <th>CUST_ID</th>\n",
       "      <th>BALANCE</th>\n",
       "      <th>BALANCE_FREQUENCY</th>\n",
       "      <th>PURCHASES</th>\n",
       "      <th>ONEOFF_PURCHASES</th>\n",
       "      <th>INSTALLMENTS_PURCHASES</th>\n",
       "      <th>CASH_ADVANCE</th>\n",
       "      <th>PURCHASES_FREQUENCY</th>\n",
       "      <th>ONEOFF_PURCHASES_FREQUENCY</th>\n",
       "      <th>PURCHASES_INSTALLMENTS_FREQUENCY</th>\n",
       "      <th>CASH_ADVANCE_FREQUENCY</th>\n",
       "      <th>CASH_ADVANCE_TRX</th>\n",
       "      <th>PURCHASES_TRX</th>\n",
       "      <th>CREDIT_LIMIT</th>\n",
       "      <th>PAYMENTS</th>\n",
       "      <th>MINIMUM_PAYMENTS</th>\n",
       "      <th>PRC_FULL_PAYMENT</th>\n",
       "      <th>TENURE</th>\n",
       "    </tr>\n",
       "  </thead>\n",
       "  <tbody>\n",
       "    <tr>\n",
       "      <th>0</th>\n",
       "      <td>C10001</td>\n",
       "      <td>40.900749</td>\n",
       "      <td>0.818182</td>\n",
       "      <td>95.40</td>\n",
       "      <td>0.00</td>\n",
       "      <td>95.4</td>\n",
       "      <td>0.000000</td>\n",
       "      <td>0.166667</td>\n",
       "      <td>0.000000</td>\n",
       "      <td>0.083333</td>\n",
       "      <td>0.000000</td>\n",
       "      <td>0</td>\n",
       "      <td>2</td>\n",
       "      <td>1000.0</td>\n",
       "      <td>201.802084</td>\n",
       "      <td>139.509787</td>\n",
       "      <td>0.000000</td>\n",
       "      <td>12</td>\n",
       "    </tr>\n",
       "    <tr>\n",
       "      <th>1</th>\n",
       "      <td>C10002</td>\n",
       "      <td>3202.467416</td>\n",
       "      <td>0.909091</td>\n",
       "      <td>0.00</td>\n",
       "      <td>0.00</td>\n",
       "      <td>0.0</td>\n",
       "      <td>6442.945483</td>\n",
       "      <td>0.000000</td>\n",
       "      <td>0.000000</td>\n",
       "      <td>0.000000</td>\n",
       "      <td>0.250000</td>\n",
       "      <td>4</td>\n",
       "      <td>0</td>\n",
       "      <td>7000.0</td>\n",
       "      <td>4103.032597</td>\n",
       "      <td>1072.340217</td>\n",
       "      <td>0.222222</td>\n",
       "      <td>12</td>\n",
       "    </tr>\n",
       "    <tr>\n",
       "      <th>2</th>\n",
       "      <td>C10003</td>\n",
       "      <td>2495.148862</td>\n",
       "      <td>1.000000</td>\n",
       "      <td>773.17</td>\n",
       "      <td>773.17</td>\n",
       "      <td>0.0</td>\n",
       "      <td>0.000000</td>\n",
       "      <td>1.000000</td>\n",
       "      <td>1.000000</td>\n",
       "      <td>0.000000</td>\n",
       "      <td>0.000000</td>\n",
       "      <td>0</td>\n",
       "      <td>12</td>\n",
       "      <td>7500.0</td>\n",
       "      <td>622.066742</td>\n",
       "      <td>627.284787</td>\n",
       "      <td>0.000000</td>\n",
       "      <td>12</td>\n",
       "    </tr>\n",
       "    <tr>\n",
       "      <th>3</th>\n",
       "      <td>C10004</td>\n",
       "      <td>1666.670542</td>\n",
       "      <td>0.636364</td>\n",
       "      <td>1499.00</td>\n",
       "      <td>1499.00</td>\n",
       "      <td>0.0</td>\n",
       "      <td>205.788017</td>\n",
       "      <td>0.083333</td>\n",
       "      <td>0.083333</td>\n",
       "      <td>0.000000</td>\n",
       "      <td>0.083333</td>\n",
       "      <td>1</td>\n",
       "      <td>1</td>\n",
       "      <td>7500.0</td>\n",
       "      <td>0.000000</td>\n",
       "      <td>NaN</td>\n",
       "      <td>0.000000</td>\n",
       "      <td>12</td>\n",
       "    </tr>\n",
       "    <tr>\n",
       "      <th>4</th>\n",
       "      <td>C10005</td>\n",
       "      <td>817.714335</td>\n",
       "      <td>1.000000</td>\n",
       "      <td>16.00</td>\n",
       "      <td>16.00</td>\n",
       "      <td>0.0</td>\n",
       "      <td>0.000000</td>\n",
       "      <td>0.083333</td>\n",
       "      <td>0.083333</td>\n",
       "      <td>0.000000</td>\n",
       "      <td>0.000000</td>\n",
       "      <td>0</td>\n",
       "      <td>1</td>\n",
       "      <td>1200.0</td>\n",
       "      <td>678.334763</td>\n",
       "      <td>244.791237</td>\n",
       "      <td>0.000000</td>\n",
       "      <td>12</td>\n",
       "    </tr>\n",
       "  </tbody>\n",
       "</table>\n",
       "</div>"
      ],
      "text/plain": [
       "  CUST_ID      BALANCE  BALANCE_FREQUENCY  PURCHASES  ONEOFF_PURCHASES  \\\n",
       "0  C10001    40.900749           0.818182      95.40              0.00   \n",
       "1  C10002  3202.467416           0.909091       0.00              0.00   \n",
       "2  C10003  2495.148862           1.000000     773.17            773.17   \n",
       "3  C10004  1666.670542           0.636364    1499.00           1499.00   \n",
       "4  C10005   817.714335           1.000000      16.00             16.00   \n",
       "\n",
       "   INSTALLMENTS_PURCHASES  CASH_ADVANCE  PURCHASES_FREQUENCY  \\\n",
       "0                    95.4      0.000000             0.166667   \n",
       "1                     0.0   6442.945483             0.000000   \n",
       "2                     0.0      0.000000             1.000000   \n",
       "3                     0.0    205.788017             0.083333   \n",
       "4                     0.0      0.000000             0.083333   \n",
       "\n",
       "   ONEOFF_PURCHASES_FREQUENCY  PURCHASES_INSTALLMENTS_FREQUENCY  \\\n",
       "0                    0.000000                          0.083333   \n",
       "1                    0.000000                          0.000000   \n",
       "2                    1.000000                          0.000000   \n",
       "3                    0.083333                          0.000000   \n",
       "4                    0.083333                          0.000000   \n",
       "\n",
       "   CASH_ADVANCE_FREQUENCY  CASH_ADVANCE_TRX  PURCHASES_TRX  CREDIT_LIMIT  \\\n",
       "0                0.000000                 0              2        1000.0   \n",
       "1                0.250000                 4              0        7000.0   \n",
       "2                0.000000                 0             12        7500.0   \n",
       "3                0.083333                 1              1        7500.0   \n",
       "4                0.000000                 0              1        1200.0   \n",
       "\n",
       "      PAYMENTS  MINIMUM_PAYMENTS  PRC_FULL_PAYMENT  TENURE  \n",
       "0   201.802084        139.509787          0.000000      12  \n",
       "1  4103.032597       1072.340217          0.222222      12  \n",
       "2   622.066742        627.284787          0.000000      12  \n",
       "3     0.000000               NaN          0.000000      12  \n",
       "4   678.334763        244.791237          0.000000      12  "
      ]
     },
     "execution_count": 4,
     "metadata": {},
     "output_type": "execute_result"
    }
   ],
   "source": [
    "# You have to include the full link to the csv file containing your dataset\n",
    "df = pd.read_csv('../data/bank_customer_dataset.csv')\n",
    "\n",
    "df.head()"
   ]
  },
  {
   "attachments": {},
   "cell_type": "markdown",
   "metadata": {},
   "source": [
    "# Train-Test Split the Data"
   ]
  },
  {
   "cell_type": "code",
   "execution_count": 5,
   "metadata": {},
   "outputs": [
    {
     "data": {
      "text/plain": [
       "(8950, 18)"
      ]
     },
     "execution_count": 5,
     "metadata": {},
     "output_type": "execute_result"
    }
   ],
   "source": [
    "df.shape"
   ]
  },
  {
   "cell_type": "code",
   "execution_count": 6,
   "metadata": {},
   "outputs": [],
   "source": [
    "# way too much data for training; let´s split the data\n",
    "X_train, X_test = train_test_split(df, test_size=0.4, random_state=123)"
   ]
  },
  {
   "cell_type": "code",
   "execution_count": 7,
   "metadata": {},
   "outputs": [
    {
     "data": {
      "text/plain": [
       "(5370, 18)"
      ]
     },
     "execution_count": 7,
     "metadata": {},
     "output_type": "execute_result"
    }
   ],
   "source": [
    "X_train.shape"
   ]
  },
  {
   "cell_type": "code",
   "execution_count": 8,
   "metadata": {},
   "outputs": [
    {
     "data": {
      "text/plain": [
       "(3580, 18)"
      ]
     },
     "execution_count": 8,
     "metadata": {},
     "output_type": "execute_result"
    }
   ],
   "source": [
    "X_test.shape"
   ]
  },
  {
   "cell_type": "code",
   "execution_count": 9,
   "metadata": {},
   "outputs": [
    {
     "data": {
      "text/html": [
       "<div>\n",
       "<style scoped>\n",
       "    .dataframe tbody tr th:only-of-type {\n",
       "        vertical-align: middle;\n",
       "    }\n",
       "\n",
       "    .dataframe tbody tr th {\n",
       "        vertical-align: top;\n",
       "    }\n",
       "\n",
       "    .dataframe thead th {\n",
       "        text-align: right;\n",
       "    }\n",
       "</style>\n",
       "<table border=\"1\" class=\"dataframe\">\n",
       "  <thead>\n",
       "    <tr style=\"text-align: right;\">\n",
       "      <th></th>\n",
       "      <th>CUST_ID</th>\n",
       "      <th>BALANCE</th>\n",
       "      <th>BALANCE_FREQUENCY</th>\n",
       "      <th>PURCHASES</th>\n",
       "      <th>ONEOFF_PURCHASES</th>\n",
       "      <th>INSTALLMENTS_PURCHASES</th>\n",
       "      <th>CASH_ADVANCE</th>\n",
       "      <th>PURCHASES_FREQUENCY</th>\n",
       "      <th>ONEOFF_PURCHASES_FREQUENCY</th>\n",
       "      <th>PURCHASES_INSTALLMENTS_FREQUENCY</th>\n",
       "      <th>CASH_ADVANCE_FREQUENCY</th>\n",
       "      <th>CASH_ADVANCE_TRX</th>\n",
       "      <th>PURCHASES_TRX</th>\n",
       "      <th>CREDIT_LIMIT</th>\n",
       "      <th>PAYMENTS</th>\n",
       "      <th>MINIMUM_PAYMENTS</th>\n",
       "      <th>PRC_FULL_PAYMENT</th>\n",
       "      <th>TENURE</th>\n",
       "    </tr>\n",
       "  </thead>\n",
       "  <tbody>\n",
       "    <tr>\n",
       "      <th>5587</th>\n",
       "      <td>C15743</td>\n",
       "      <td>2932.136377</td>\n",
       "      <td>1.0</td>\n",
       "      <td>0.0</td>\n",
       "      <td>0.0</td>\n",
       "      <td>0.0</td>\n",
       "      <td>1866.470014</td>\n",
       "      <td>0.0</td>\n",
       "      <td>0.000000</td>\n",
       "      <td>0.0</td>\n",
       "      <td>0.583333</td>\n",
       "      <td>12</td>\n",
       "      <td>0</td>\n",
       "      <td>3500.0</td>\n",
       "      <td>809.813492</td>\n",
       "      <td>849.210431</td>\n",
       "      <td>0.000000</td>\n",
       "      <td>12</td>\n",
       "    </tr>\n",
       "    <tr>\n",
       "      <th>8560</th>\n",
       "      <td>C18793</td>\n",
       "      <td>382.378002</td>\n",
       "      <td>1.0</td>\n",
       "      <td>0.0</td>\n",
       "      <td>0.0</td>\n",
       "      <td>0.0</td>\n",
       "      <td>1097.698179</td>\n",
       "      <td>0.0</td>\n",
       "      <td>0.000000</td>\n",
       "      <td>0.0</td>\n",
       "      <td>0.250000</td>\n",
       "      <td>5</td>\n",
       "      <td>0</td>\n",
       "      <td>1500.0</td>\n",
       "      <td>679.788131</td>\n",
       "      <td>185.106686</td>\n",
       "      <td>0.100000</td>\n",
       "      <td>12</td>\n",
       "    </tr>\n",
       "    <tr>\n",
       "      <th>5469</th>\n",
       "      <td>C15622</td>\n",
       "      <td>1097.285930</td>\n",
       "      <td>1.0</td>\n",
       "      <td>0.0</td>\n",
       "      <td>0.0</td>\n",
       "      <td>0.0</td>\n",
       "      <td>37.643261</td>\n",
       "      <td>0.0</td>\n",
       "      <td>0.000000</td>\n",
       "      <td>0.0</td>\n",
       "      <td>0.166667</td>\n",
       "      <td>2</td>\n",
       "      <td>0</td>\n",
       "      <td>1200.0</td>\n",
       "      <td>236.375748</td>\n",
       "      <td>259.212980</td>\n",
       "      <td>0.000000</td>\n",
       "      <td>12</td>\n",
       "    </tr>\n",
       "    <tr>\n",
       "      <th>6053</th>\n",
       "      <td>C16224</td>\n",
       "      <td>463.071288</td>\n",
       "      <td>1.0</td>\n",
       "      <td>0.0</td>\n",
       "      <td>0.0</td>\n",
       "      <td>0.0</td>\n",
       "      <td>1381.989484</td>\n",
       "      <td>0.0</td>\n",
       "      <td>0.000000</td>\n",
       "      <td>0.0</td>\n",
       "      <td>0.250000</td>\n",
       "      <td>7</td>\n",
       "      <td>0</td>\n",
       "      <td>1000.0</td>\n",
       "      <td>5445.356870</td>\n",
       "      <td>4496.934117</td>\n",
       "      <td>0.400000</td>\n",
       "      <td>12</td>\n",
       "    </tr>\n",
       "    <tr>\n",
       "      <th>3611</th>\n",
       "      <td>C13713</td>\n",
       "      <td>93.672733</td>\n",
       "      <td>1.0</td>\n",
       "      <td>674.3</td>\n",
       "      <td>69.5</td>\n",
       "      <td>604.8</td>\n",
       "      <td>0.000000</td>\n",
       "      <td>1.0</td>\n",
       "      <td>0.166667</td>\n",
       "      <td>1.0</td>\n",
       "      <td>0.000000</td>\n",
       "      <td>0</td>\n",
       "      <td>26</td>\n",
       "      <td>5400.0</td>\n",
       "      <td>812.396962</td>\n",
       "      <td>194.901529</td>\n",
       "      <td>0.083333</td>\n",
       "      <td>12</td>\n",
       "    </tr>\n",
       "  </tbody>\n",
       "</table>\n",
       "</div>"
      ],
      "text/plain": [
       "     CUST_ID      BALANCE  BALANCE_FREQUENCY  PURCHASES  ONEOFF_PURCHASES  \\\n",
       "5587  C15743  2932.136377                1.0        0.0               0.0   \n",
       "8560  C18793   382.378002                1.0        0.0               0.0   \n",
       "5469  C15622  1097.285930                1.0        0.0               0.0   \n",
       "6053  C16224   463.071288                1.0        0.0               0.0   \n",
       "3611  C13713    93.672733                1.0      674.3              69.5   \n",
       "\n",
       "      INSTALLMENTS_PURCHASES  CASH_ADVANCE  PURCHASES_FREQUENCY  \\\n",
       "5587                     0.0   1866.470014                  0.0   \n",
       "8560                     0.0   1097.698179                  0.0   \n",
       "5469                     0.0     37.643261                  0.0   \n",
       "6053                     0.0   1381.989484                  0.0   \n",
       "3611                   604.8      0.000000                  1.0   \n",
       "\n",
       "      ONEOFF_PURCHASES_FREQUENCY  PURCHASES_INSTALLMENTS_FREQUENCY  \\\n",
       "5587                    0.000000                               0.0   \n",
       "8560                    0.000000                               0.0   \n",
       "5469                    0.000000                               0.0   \n",
       "6053                    0.000000                               0.0   \n",
       "3611                    0.166667                               1.0   \n",
       "\n",
       "      CASH_ADVANCE_FREQUENCY  CASH_ADVANCE_TRX  PURCHASES_TRX  CREDIT_LIMIT  \\\n",
       "5587                0.583333                12              0        3500.0   \n",
       "8560                0.250000                 5              0        1500.0   \n",
       "5469                0.166667                 2              0        1200.0   \n",
       "6053                0.250000                 7              0        1000.0   \n",
       "3611                0.000000                 0             26        5400.0   \n",
       "\n",
       "         PAYMENTS  MINIMUM_PAYMENTS  PRC_FULL_PAYMENT  TENURE  \n",
       "5587   809.813492        849.210431          0.000000      12  \n",
       "8560   679.788131        185.106686          0.100000      12  \n",
       "5469   236.375748        259.212980          0.000000      12  \n",
       "6053  5445.356870       4496.934117          0.400000      12  \n",
       "3611   812.396962        194.901529          0.083333      12  "
      ]
     },
     "execution_count": 9,
     "metadata": {},
     "output_type": "execute_result"
    }
   ],
   "source": [
    "X_train.head()"
   ]
  },
  {
   "cell_type": "markdown",
   "metadata": {},
   "source": [
    "# Exploratory Data Analysis"
   ]
  },
  {
   "cell_type": "code",
   "execution_count": 10,
   "metadata": {},
   "outputs": [
    {
     "name": "stdout",
     "output_type": "stream",
     "text": [
      "<class 'pandas.core.frame.DataFrame'>\n",
      "Int64Index: 5370 entries, 5587 to 3582\n",
      "Data columns (total 18 columns):\n",
      " #   Column                            Non-Null Count  Dtype  \n",
      "---  ------                            --------------  -----  \n",
      " 0   CUST_ID                           5370 non-null   object \n",
      " 1   BALANCE                           5370 non-null   float64\n",
      " 2   BALANCE_FREQUENCY                 5370 non-null   float64\n",
      " 3   PURCHASES                         5370 non-null   float64\n",
      " 4   ONEOFF_PURCHASES                  5370 non-null   float64\n",
      " 5   INSTALLMENTS_PURCHASES            5370 non-null   float64\n",
      " 6   CASH_ADVANCE                      5370 non-null   float64\n",
      " 7   PURCHASES_FREQUENCY               5370 non-null   float64\n",
      " 8   ONEOFF_PURCHASES_FREQUENCY        5370 non-null   float64\n",
      " 9   PURCHASES_INSTALLMENTS_FREQUENCY  5370 non-null   float64\n",
      " 10  CASH_ADVANCE_FREQUENCY            5370 non-null   float64\n",
      " 11  CASH_ADVANCE_TRX                  5370 non-null   int64  \n",
      " 12  PURCHASES_TRX                     5370 non-null   int64  \n",
      " 13  CREDIT_LIMIT                      5370 non-null   float64\n",
      " 14  PAYMENTS                          5370 non-null   float64\n",
      " 15  MINIMUM_PAYMENTS                  5182 non-null   float64\n",
      " 16  PRC_FULL_PAYMENT                  5370 non-null   float64\n",
      " 17  TENURE                            5370 non-null   int64  \n",
      "dtypes: float64(14), int64(3), object(1)\n",
      "memory usage: 797.1+ KB\n"
     ]
    }
   ],
   "source": [
    "X_train.info()"
   ]
  },
  {
   "cell_type": "code",
   "execution_count": 11,
   "metadata": {},
   "outputs": [
    {
     "data": {
      "text/plain": [
       "CUST_ID                               0\n",
       "BALANCE                               0\n",
       "BALANCE_FREQUENCY                     0\n",
       "PURCHASES                             0\n",
       "ONEOFF_PURCHASES                      0\n",
       "INSTALLMENTS_PURCHASES                0\n",
       "CASH_ADVANCE                          0\n",
       "PURCHASES_FREQUENCY                   0\n",
       "ONEOFF_PURCHASES_FREQUENCY            0\n",
       "PURCHASES_INSTALLMENTS_FREQUENCY      0\n",
       "CASH_ADVANCE_FREQUENCY                0\n",
       "CASH_ADVANCE_TRX                      0\n",
       "PURCHASES_TRX                         0\n",
       "CREDIT_LIMIT                          0\n",
       "PAYMENTS                              0\n",
       "MINIMUM_PAYMENTS                    188\n",
       "PRC_FULL_PAYMENT                      0\n",
       "TENURE                                0\n",
       "dtype: int64"
      ]
     },
     "execution_count": 11,
     "metadata": {},
     "output_type": "execute_result"
    }
   ],
   "source": [
    "X_train.isna().sum()"
   ]
  },
  {
   "attachments": {},
   "cell_type": "markdown",
   "metadata": {},
   "source": [
    "## Impute Missing Values"
   ]
  },
  {
   "cell_type": "code",
   "execution_count": 12,
   "metadata": {},
   "outputs": [
    {
     "data": {
      "image/png": "[encoded data removed]",
      "text/plain": [
       "<Figure size 432x288 with 1 Axes>"
      ]
     },
     "metadata": {
      "needs_background": "light"
     },
     "output_type": "display_data"
    }
   ],
   "source": [
    "# Let's see if we have any missing data, luckily we don't!\n",
    "sns.heatmap(X_train.isna(), yticklabels = False, cbar = False, cmap=\"Blues\")\n",
    "plt.show()"
   ]
  },
  {
   "cell_type": "code",
   "execution_count": 13,
   "metadata": {},
   "outputs": [],
   "source": [
    "# get numeric and categorical columns\n",
    "numerics = ['int16', 'int32', 'int64', 'float16', 'float32', 'float64']"
   ]
  },
  {
   "cell_type": "code",
   "execution_count": 14,
   "metadata": {},
   "outputs": [
    {
     "data": {
      "text/plain": [
       "['BALANCE',\n",
       " 'BALANCE_FREQUENCY',\n",
       " 'PURCHASES',\n",
       " 'ONEOFF_PURCHASES',\n",
       " 'INSTALLMENTS_PURCHASES',\n",
       " 'CASH_ADVANCE',\n",
       " 'PURCHASES_FREQUENCY',\n",
       " 'ONEOFF_PURCHASES_FREQUENCY',\n",
       " 'PURCHASES_INSTALLMENTS_FREQUENCY',\n",
       " 'CASH_ADVANCE_FREQUENCY',\n",
       " 'CASH_ADVANCE_TRX',\n",
       " 'PURCHASES_TRX',\n",
       " 'CREDIT_LIMIT',\n",
       " 'PAYMENTS',\n",
       " 'MINIMUM_PAYMENTS',\n",
       " 'PRC_FULL_PAYMENT',\n",
       " 'TENURE']"
      ]
     },
     "execution_count": 14,
     "metadata": {},
     "output_type": "execute_result"
    }
   ],
   "source": [
    "numeric_columns = X_train.select_dtypes(include=numerics).columns.to_list()\n",
    "numeric_columns"
   ]
  },
  {
   "cell_type": "code",
   "execution_count": 15,
   "metadata": {},
   "outputs": [
    {
     "data": {
      "text/plain": [
       "['CUST_ID']"
      ]
     },
     "execution_count": 15,
     "metadata": {},
     "output_type": "execute_result"
    }
   ],
   "source": [
    "categorical_columns = X_train.select_dtypes(exclude=numerics).columns.to_list()\n",
    "categorical_columns"
   ]
  },
  {
   "cell_type": "code",
   "execution_count": 16,
   "metadata": {},
   "outputs": [],
   "source": [
    "# this means except for the customer id there is no categorical feature!"
   ]
  },
  {
   "cell_type": "code",
   "execution_count": 17,
   "metadata": {},
   "outputs": [
    {
     "data": {
      "text/html": [
       "<div>\n",
       "<style scoped>\n",
       "    .dataframe tbody tr th:only-of-type {\n",
       "        vertical-align: middle;\n",
       "    }\n",
       "\n",
       "    .dataframe tbody tr th {\n",
       "        vertical-align: top;\n",
       "    }\n",
       "\n",
       "    .dataframe thead th {\n",
       "        text-align: right;\n",
       "    }\n",
       "</style>\n",
       "<table border=\"1\" class=\"dataframe\">\n",
       "  <thead>\n",
       "    <tr style=\"text-align: right;\">\n",
       "      <th></th>\n",
       "      <th>BALANCE</th>\n",
       "      <th>BALANCE_FREQUENCY</th>\n",
       "      <th>PURCHASES</th>\n",
       "      <th>ONEOFF_PURCHASES</th>\n",
       "      <th>INSTALLMENTS_PURCHASES</th>\n",
       "      <th>CASH_ADVANCE</th>\n",
       "      <th>PURCHASES_FREQUENCY</th>\n",
       "      <th>ONEOFF_PURCHASES_FREQUENCY</th>\n",
       "      <th>PURCHASES_INSTALLMENTS_FREQUENCY</th>\n",
       "      <th>CASH_ADVANCE_FREQUENCY</th>\n",
       "      <th>CASH_ADVANCE_TRX</th>\n",
       "      <th>PURCHASES_TRX</th>\n",
       "      <th>CREDIT_LIMIT</th>\n",
       "      <th>PAYMENTS</th>\n",
       "      <th>MINIMUM_PAYMENTS</th>\n",
       "      <th>PRC_FULL_PAYMENT</th>\n",
       "      <th>TENURE</th>\n",
       "    </tr>\n",
       "  </thead>\n",
       "  <tbody>\n",
       "    <tr>\n",
       "      <th>5587</th>\n",
       "      <td>2932.136377</td>\n",
       "      <td>1.0</td>\n",
       "      <td>0.0</td>\n",
       "      <td>0.0</td>\n",
       "      <td>0.0</td>\n",
       "      <td>1866.470014</td>\n",
       "      <td>0.0</td>\n",
       "      <td>0.000000</td>\n",
       "      <td>0.0</td>\n",
       "      <td>0.583333</td>\n",
       "      <td>12.0</td>\n",
       "      <td>0.0</td>\n",
       "      <td>3500.0</td>\n",
       "      <td>809.813492</td>\n",
       "      <td>849.210431</td>\n",
       "      <td>0.000000</td>\n",
       "      <td>12.0</td>\n",
       "    </tr>\n",
       "    <tr>\n",
       "      <th>8560</th>\n",
       "      <td>382.378002</td>\n",
       "      <td>1.0</td>\n",
       "      <td>0.0</td>\n",
       "      <td>0.0</td>\n",
       "      <td>0.0</td>\n",
       "      <td>1097.698179</td>\n",
       "      <td>0.0</td>\n",
       "      <td>0.000000</td>\n",
       "      <td>0.0</td>\n",
       "      <td>0.250000</td>\n",
       "      <td>5.0</td>\n",
       "      <td>0.0</td>\n",
       "      <td>1500.0</td>\n",
       "      <td>679.788131</td>\n",
       "      <td>185.106686</td>\n",
       "      <td>0.100000</td>\n",
       "      <td>12.0</td>\n",
       "    </tr>\n",
       "    <tr>\n",
       "      <th>5469</th>\n",
       "      <td>1097.285930</td>\n",
       "      <td>1.0</td>\n",
       "      <td>0.0</td>\n",
       "      <td>0.0</td>\n",
       "      <td>0.0</td>\n",
       "      <td>37.643261</td>\n",
       "      <td>0.0</td>\n",
       "      <td>0.000000</td>\n",
       "      <td>0.0</td>\n",
       "      <td>0.166667</td>\n",
       "      <td>2.0</td>\n",
       "      <td>0.0</td>\n",
       "      <td>1200.0</td>\n",
       "      <td>236.375748</td>\n",
       "      <td>259.212980</td>\n",
       "      <td>0.000000</td>\n",
       "      <td>12.0</td>\n",
       "    </tr>\n",
       "    <tr>\n",
       "      <th>6053</th>\n",
       "      <td>463.071288</td>\n",
       "      <td>1.0</td>\n",
       "      <td>0.0</td>\n",
       "      <td>0.0</td>\n",
       "      <td>0.0</td>\n",
       "      <td>1381.989484</td>\n",
       "      <td>0.0</td>\n",
       "      <td>0.000000</td>\n",
       "      <td>0.0</td>\n",
       "      <td>0.250000</td>\n",
       "      <td>7.0</td>\n",
       "      <td>0.0</td>\n",
       "      <td>1000.0</td>\n",
       "      <td>5445.356870</td>\n",
       "      <td>4496.934117</td>\n",
       "      <td>0.400000</td>\n",
       "      <td>12.0</td>\n",
       "    </tr>\n",
       "    <tr>\n",
       "      <th>3611</th>\n",
       "      <td>93.672733</td>\n",
       "      <td>1.0</td>\n",
       "      <td>674.3</td>\n",
       "      <td>69.5</td>\n",
       "      <td>604.8</td>\n",
       "      <td>0.000000</td>\n",
       "      <td>1.0</td>\n",
       "      <td>0.166667</td>\n",
       "      <td>1.0</td>\n",
       "      <td>0.000000</td>\n",
       "      <td>0.0</td>\n",
       "      <td>26.0</td>\n",
       "      <td>5400.0</td>\n",
       "      <td>812.396962</td>\n",
       "      <td>194.901529</td>\n",
       "      <td>0.083333</td>\n",
       "      <td>12.0</td>\n",
       "    </tr>\n",
       "  </tbody>\n",
       "</table>\n",
       "</div>"
      ],
      "text/plain": [
       "          BALANCE  BALANCE_FREQUENCY  PURCHASES  ONEOFF_PURCHASES  \\\n",
       "5587  2932.136377                1.0        0.0               0.0   \n",
       "8560   382.378002                1.0        0.0               0.0   \n",
       "5469  1097.285930                1.0        0.0               0.0   \n",
       "6053   463.071288                1.0        0.0               0.0   \n",
       "3611    93.672733                1.0      674.3              69.5   \n",
       "\n",
       "      INSTALLMENTS_PURCHASES  CASH_ADVANCE  PURCHASES_FREQUENCY  \\\n",
       "5587                     0.0   1866.470014                  0.0   \n",
       "8560                     0.0   1097.698179                  0.0   \n",
       "5469                     0.0     37.643261                  0.0   \n",
       "6053                     0.0   1381.989484                  0.0   \n",
       "3611                   604.8      0.000000                  1.0   \n",
       "\n",
       "      ONEOFF_PURCHASES_FREQUENCY  PURCHASES_INSTALLMENTS_FREQUENCY  \\\n",
       "5587                    0.000000                               0.0   \n",
       "8560                    0.000000                               0.0   \n",
       "5469                    0.000000                               0.0   \n",
       "6053                    0.000000                               0.0   \n",
       "3611                    0.166667                               1.0   \n",
       "\n",
       "      CASH_ADVANCE_FREQUENCY  CASH_ADVANCE_TRX  PURCHASES_TRX  CREDIT_LIMIT  \\\n",
       "5587                0.583333              12.0            0.0        3500.0   \n",
       "8560                0.250000               5.0            0.0        1500.0   \n",
       "5469                0.166667               2.0            0.0        1200.0   \n",
       "6053                0.250000               7.0            0.0        1000.0   \n",
       "3611                0.000000               0.0           26.0        5400.0   \n",
       "\n",
       "         PAYMENTS  MINIMUM_PAYMENTS  PRC_FULL_PAYMENT  TENURE  \n",
       "5587   809.813492        849.210431          0.000000    12.0  \n",
       "8560   679.788131        185.106686          0.100000    12.0  \n",
       "5469   236.375748        259.212980          0.000000    12.0  \n",
       "6053  5445.356870       4496.934117          0.400000    12.0  \n",
       "3611   812.396962        194.901529          0.083333    12.0  "
      ]
     },
     "execution_count": 17,
     "metadata": {},
     "output_type": "execute_result"
    }
   ],
   "source": [
    "# Impute missing numeric values\n",
    "numeric_imputer = SimpleImputer(missing_values=np.nan, strategy='median')\n",
    "X_train_numeric = numeric_imputer.fit_transform(X_train.select_dtypes(include=numerics))\n",
    "X_train_numeric = pd.DataFrame(X_train_numeric, columns=numeric_columns, index=X_train.index)\n",
    "X_train_numeric.head()"
   ]
  },
  {
   "cell_type": "code",
   "execution_count": 18,
   "metadata": {},
   "outputs": [],
   "source": [
    "## Impute missing categorical values\n",
    "#categorical_imputer = SimpleImputer(missing_values=np.nan, strategy='most_frequent')\n",
    "#X_train_categorical = categorical_imputer.fit_transform(X_train.select_dtypes(exclude=numerics))\n",
    "#X_train_categorical = pd.DataFrame(X_train_categorical, columns=categorical_columns, index=X_train.index)\n",
    "#X_train_categorical.head()"
   ]
  },
  {
   "cell_type": "code",
   "execution_count": 19,
   "metadata": {},
   "outputs": [],
   "source": [
    "# Save imputers both numerical and categorical\n",
    "with open('../artifacts/numeric_imputer.pickle', 'wb') as filename:\n",
    "    pickle.dump(numeric_imputer, filename)\n",
    "\n",
    "#with open('../artifacts/categorical_imputer.pickle', 'wb') as filename:\n",
    "#    pickle.dump(categorical_imputer, filename)"
   ]
  },
  {
   "cell_type": "code",
   "execution_count": 20,
   "metadata": {},
   "outputs": [
    {
     "data": {
      "text/html": [
       "<div>\n",
       "<style scoped>\n",
       "    .dataframe tbody tr th:only-of-type {\n",
       "        vertical-align: middle;\n",
       "    }\n",
       "\n",
       "    .dataframe tbody tr th {\n",
       "        vertical-align: top;\n",
       "    }\n",
       "\n",
       "    .dataframe thead th {\n",
       "        text-align: right;\n",
       "    }\n",
       "</style>\n",
       "<table border=\"1\" class=\"dataframe\">\n",
       "  <thead>\n",
       "    <tr style=\"text-align: right;\">\n",
       "      <th></th>\n",
       "      <th>BALANCE</th>\n",
       "      <th>BALANCE_FREQUENCY</th>\n",
       "      <th>PURCHASES</th>\n",
       "      <th>ONEOFF_PURCHASES</th>\n",
       "      <th>INSTALLMENTS_PURCHASES</th>\n",
       "      <th>CASH_ADVANCE</th>\n",
       "      <th>PURCHASES_FREQUENCY</th>\n",
       "      <th>ONEOFF_PURCHASES_FREQUENCY</th>\n",
       "      <th>PURCHASES_INSTALLMENTS_FREQUENCY</th>\n",
       "      <th>CASH_ADVANCE_FREQUENCY</th>\n",
       "      <th>CASH_ADVANCE_TRX</th>\n",
       "      <th>PURCHASES_TRX</th>\n",
       "      <th>CREDIT_LIMIT</th>\n",
       "      <th>PAYMENTS</th>\n",
       "      <th>MINIMUM_PAYMENTS</th>\n",
       "      <th>PRC_FULL_PAYMENT</th>\n",
       "      <th>TENURE</th>\n",
       "    </tr>\n",
       "  </thead>\n",
       "  <tbody>\n",
       "    <tr>\n",
       "      <th>5587</th>\n",
       "      <td>2932.136377</td>\n",
       "      <td>1.0</td>\n",
       "      <td>0.0</td>\n",
       "      <td>0.0</td>\n",
       "      <td>0.0</td>\n",
       "      <td>1866.470014</td>\n",
       "      <td>0.0</td>\n",
       "      <td>0.000000</td>\n",
       "      <td>0.0</td>\n",
       "      <td>0.583333</td>\n",
       "      <td>12.0</td>\n",
       "      <td>0.0</td>\n",
       "      <td>3500.0</td>\n",
       "      <td>809.813492</td>\n",
       "      <td>849.210431</td>\n",
       "      <td>0.000000</td>\n",
       "      <td>12.0</td>\n",
       "    </tr>\n",
       "    <tr>\n",
       "      <th>8560</th>\n",
       "      <td>382.378002</td>\n",
       "      <td>1.0</td>\n",
       "      <td>0.0</td>\n",
       "      <td>0.0</td>\n",
       "      <td>0.0</td>\n",
       "      <td>1097.698179</td>\n",
       "      <td>0.0</td>\n",
       "      <td>0.000000</td>\n",
       "      <td>0.0</td>\n",
       "      <td>0.250000</td>\n",
       "      <td>5.0</td>\n",
       "      <td>0.0</td>\n",
       "      <td>1500.0</td>\n",
       "      <td>679.788131</td>\n",
       "      <td>185.106686</td>\n",
       "      <td>0.100000</td>\n",
       "      <td>12.0</td>\n",
       "    </tr>\n",
       "    <tr>\n",
       "      <th>5469</th>\n",
       "      <td>1097.285930</td>\n",
       "      <td>1.0</td>\n",
       "      <td>0.0</td>\n",
       "      <td>0.0</td>\n",
       "      <td>0.0</td>\n",
       "      <td>37.643261</td>\n",
       "      <td>0.0</td>\n",
       "      <td>0.000000</td>\n",
       "      <td>0.0</td>\n",
       "      <td>0.166667</td>\n",
       "      <td>2.0</td>\n",
       "      <td>0.0</td>\n",
       "      <td>1200.0</td>\n",
       "      <td>236.375748</td>\n",
       "      <td>259.212980</td>\n",
       "      <td>0.000000</td>\n",
       "      <td>12.0</td>\n",
       "    </tr>\n",
       "    <tr>\n",
       "      <th>6053</th>\n",
       "      <td>463.071288</td>\n",
       "      <td>1.0</td>\n",
       "      <td>0.0</td>\n",
       "      <td>0.0</td>\n",
       "      <td>0.0</td>\n",
       "      <td>1381.989484</td>\n",
       "      <td>0.0</td>\n",
       "      <td>0.000000</td>\n",
       "      <td>0.0</td>\n",
       "      <td>0.250000</td>\n",
       "      <td>7.0</td>\n",
       "      <td>0.0</td>\n",
       "      <td>1000.0</td>\n",
       "      <td>5445.356870</td>\n",
       "      <td>4496.934117</td>\n",
       "      <td>0.400000</td>\n",
       "      <td>12.0</td>\n",
       "    </tr>\n",
       "    <tr>\n",
       "      <th>3611</th>\n",
       "      <td>93.672733</td>\n",
       "      <td>1.0</td>\n",
       "      <td>674.3</td>\n",
       "      <td>69.5</td>\n",
       "      <td>604.8</td>\n",
       "      <td>0.000000</td>\n",
       "      <td>1.0</td>\n",
       "      <td>0.166667</td>\n",
       "      <td>1.0</td>\n",
       "      <td>0.000000</td>\n",
       "      <td>0.0</td>\n",
       "      <td>26.0</td>\n",
       "      <td>5400.0</td>\n",
       "      <td>812.396962</td>\n",
       "      <td>194.901529</td>\n",
       "      <td>0.083333</td>\n",
       "      <td>12.0</td>\n",
       "    </tr>\n",
       "  </tbody>\n",
       "</table>\n",
       "</div>"
      ],
      "text/plain": [
       "          BALANCE  BALANCE_FREQUENCY  PURCHASES  ONEOFF_PURCHASES  \\\n",
       "5587  2932.136377                1.0        0.0               0.0   \n",
       "8560   382.378002                1.0        0.0               0.0   \n",
       "5469  1097.285930                1.0        0.0               0.0   \n",
       "6053   463.071288                1.0        0.0               0.0   \n",
       "3611    93.672733                1.0      674.3              69.5   \n",
       "\n",
       "      INSTALLMENTS_PURCHASES  CASH_ADVANCE  PURCHASES_FREQUENCY  \\\n",
       "5587                     0.0   1866.470014                  0.0   \n",
       "8560                     0.0   1097.698179                  0.0   \n",
       "5469                     0.0     37.643261                  0.0   \n",
       "6053                     0.0   1381.989484                  0.0   \n",
       "3611                   604.8      0.000000                  1.0   \n",
       "\n",
       "      ONEOFF_PURCHASES_FREQUENCY  PURCHASES_INSTALLMENTS_FREQUENCY  \\\n",
       "5587                    0.000000                               0.0   \n",
       "8560                    0.000000                               0.0   \n",
       "5469                    0.000000                               0.0   \n",
       "6053                    0.000000                               0.0   \n",
       "3611                    0.166667                               1.0   \n",
       "\n",
       "      CASH_ADVANCE_FREQUENCY  CASH_ADVANCE_TRX  PURCHASES_TRX  CREDIT_LIMIT  \\\n",
       "5587                0.583333              12.0            0.0        3500.0   \n",
       "8560                0.250000               5.0            0.0        1500.0   \n",
       "5469                0.166667               2.0            0.0        1200.0   \n",
       "6053                0.250000               7.0            0.0        1000.0   \n",
       "3611                0.000000               0.0           26.0        5400.0   \n",
       "\n",
       "         PAYMENTS  MINIMUM_PAYMENTS  PRC_FULL_PAYMENT  TENURE  \n",
       "5587   809.813492        849.210431          0.000000    12.0  \n",
       "8560   679.788131        185.106686          0.100000    12.0  \n",
       "5469   236.375748        259.212980          0.000000    12.0  \n",
       "6053  5445.356870       4496.934117          0.400000    12.0  \n",
       "3611   812.396962        194.901529          0.083333    12.0  "
      ]
     },
     "execution_count": 20,
     "metadata": {},
     "output_type": "execute_result"
    }
   ],
   "source": [
    "X_train = X_train_numeric.copy()\n",
    "X_train.head()"
   ]
  },
  {
   "cell_type": "code",
   "execution_count": 21,
   "metadata": {},
   "outputs": [
    {
     "data": {
      "image/png": "[encoded data removed]",
      "text/plain": [
       "<Figure size 432x288 with 1 Axes>"
      ]
     },
     "metadata": {
      "needs_background": "light"
     },
     "output_type": "display_data"
    }
   ],
   "source": [
    "# Let's see if we have any missing data, luckily we don't!\n",
    "sns.heatmap(X_train.isna(), yticklabels = False, cbar = False, cmap=\"Blues\")\n",
    "plt.show()"
   ]
  },
  {
   "cell_type": "markdown",
   "metadata": {},
   "source": [
    "## Visualize Numerical Features"
   ]
  },
  {
   "cell_type": "code",
   "execution_count": 22,
   "metadata": {},
   "outputs": [
    {
     "data": {
      "image/png": "[encoded data removed]",
      "text/plain": [
       "<Figure size 432x288 with 1 Axes>"
      ]
     },
     "metadata": {
      "needs_background": "light"
     },
     "output_type": "display_data"
    },
    {
     "data": {
      "image/png": "[encoded data removed]",
      "text/plain": [
       "<Figure size 432x288 with 1 Axes>"
      ]
     },
     "metadata": {
      "needs_background": "light"
     },
     "output_type": "display_data"
    },
    {
     "data": {
      "image/png": "[encoded data removed]",
      "text/plain": [
       "<Figure size 432x288 with 1 Axes>"
      ]
     },
     "metadata": {
      "needs_background": "light"
     },
     "output_type": "display_data"
    },
    {
     "data": {
      "image/png": "[encoded data removed]",
      "text/plain": [
       "<Figure size 432x288 with 1 Axes>"
      ]
     },
     "metadata": {
      "needs_background": "light"
     },
     "output_type": "display_data"
    },
    {
     "data": {
      "image/png": "[encoded data removed]",
      "text/plain": [
       "<Figure size 432x288 with 1 Axes>"
      ]
     },
     "metadata": {
      "needs_background": "light"
     },
     "output_type": "display_data"
    },
    {
     "data": {
      "image/png": "[encoded data removed]",
      "text/plain": [
       "<Figure size 432x288 with 1 Axes>"
      ]
     },
     "metadata": {
      "needs_background": "light"
     },
     "output_type": "display_data"
    },
    {
     "data": {
      "image/png": "[encoded data removed]",
      "text/plain": [
       "<Figure size 432x288 with 1 Axes>"
      ]
     },
     "metadata": {
      "needs_background": "light"
     },
     "output_type": "display_data"
    },
    {
     "data": {
      "image/png": "[encoded data removed]",
      "text/plain": [
       "<Figure size 432x288 with 1 Axes>"
      ]
     },
     "metadata": {
      "needs_background": "light"
     },
     "output_type": "display_data"
    },
    {
     "data": {
      "image/png": "[encoded data removed]",
      "text/plain": [
       "<Figure size 432x288 with 1 Axes>"
      ]
     },
     "metadata": {
      "needs_background": "light"
     },
     "output_type": "display_data"
    },
    {
     "data": {
      "image/png": "[encoded data removed]",
      "text/plain": [
       "<Figure size 432x288 with 1 Axes>"
      ]
     },
     "metadata": {
      "needs_background": "light"
     },
     "output_type": "display_data"
    },
    {
     "data": {
      "image/png": "[encoded data removed]",
      "text/plain": [
       "<Figure size 432x288 with 1 Axes>"
      ]
     },
     "metadata": {
      "needs_background": "light"
     },
     "output_type": "display_data"
    },
    {
     "data": {
      "image/png": "[encoded data removed]",
      "text/plain": [
       "<Figure size 432x288 with 1 Axes>"
      ]
     },
     "metadata": {
      "needs_background": "light"
     },
     "output_type": "display_data"
    },
    {
     "data": {
      "image/png": "[encoded data removed]",
      "text/plain": [
       "<Figure size 432x288 with 1 Axes>"
      ]
     },
     "metadata": {
      "needs_background": "light"
     },
     "output_type": "display_data"
    },
    {
     "data": {
      "image/png": "[encoded data removed]",
      "text/plain": [
       "<Figure size 432x288 with 1 Axes>"
      ]
     },
     "metadata": {
      "needs_background": "light"
     },
     "output_type": "display_data"
    },
    {
     "data": {
      "image/png": "[encoded data removed]",
      "text/plain": [
       "<Figure size 432x288 with 1 Axes>"
      ]
     },
     "metadata": {
      "needs_background": "light"
     },
     "output_type": "display_data"
    },
    {
     "data": {
      "image/png": "[encoded data removed]",
      "text/plain": [
       "<Figure size 432x288 with 1 Axes>"
      ]
     },
     "metadata": {
      "needs_background": "light"
     },
     "output_type": "display_data"
    },
    {
     "data": {
      "image/png": "[encoded data removed]",
      "text/plain": [
       "<Figure size 432x288 with 1 Axes>"
      ]
     },
     "metadata": {
      "needs_background": "light"
     },
     "output_type": "display_data"
    }
   ],
   "source": [
    "# plot the distributions\n",
    "for col in numeric_columns:\n",
    "    plt.hist(X_train[col])\n",
    "    plt.title(col)\n",
    "    plt.show()"
   ]
  },
  {
   "attachments": {},
   "cell_type": "markdown",
   "metadata": {},
   "source": [
    "## Remove Outliers"
   ]
  },
  {
   "cell_type": "code",
   "execution_count": 23,
   "metadata": {},
   "outputs": [],
   "source": [
    "# set up the capper\n",
    "capper = Winsorizer(\n",
    "    capping_method='gaussian', \n",
    "    tail='right', \n",
    "    fold=3, \n",
    "    variables=numeric_columns)"
   ]
  },
  {
   "cell_type": "code",
   "execution_count": 24,
   "metadata": {},
   "outputs": [
    {
     "data": {
      "text/html": [
       "<div>\n",
       "<style scoped>\n",
       "    .dataframe tbody tr th:only-of-type {\n",
       "        vertical-align: middle;\n",
       "    }\n",
       "\n",
       "    .dataframe tbody tr th {\n",
       "        vertical-align: top;\n",
       "    }\n",
       "\n",
       "    .dataframe thead th {\n",
       "        text-align: right;\n",
       "    }\n",
       "</style>\n",
       "<table border=\"1\" class=\"dataframe\">\n",
       "  <thead>\n",
       "    <tr style=\"text-align: right;\">\n",
       "      <th></th>\n",
       "      <th>BALANCE</th>\n",
       "      <th>BALANCE_FREQUENCY</th>\n",
       "      <th>PURCHASES</th>\n",
       "      <th>ONEOFF_PURCHASES</th>\n",
       "      <th>INSTALLMENTS_PURCHASES</th>\n",
       "      <th>CASH_ADVANCE</th>\n",
       "      <th>PURCHASES_FREQUENCY</th>\n",
       "      <th>ONEOFF_PURCHASES_FREQUENCY</th>\n",
       "      <th>PURCHASES_INSTALLMENTS_FREQUENCY</th>\n",
       "      <th>CASH_ADVANCE_FREQUENCY</th>\n",
       "      <th>CASH_ADVANCE_TRX</th>\n",
       "      <th>PURCHASES_TRX</th>\n",
       "      <th>CREDIT_LIMIT</th>\n",
       "      <th>PAYMENTS</th>\n",
       "      <th>MINIMUM_PAYMENTS</th>\n",
       "      <th>PRC_FULL_PAYMENT</th>\n",
       "      <th>TENURE</th>\n",
       "    </tr>\n",
       "  </thead>\n",
       "  <tbody>\n",
       "    <tr>\n",
       "      <th>5587</th>\n",
       "      <td>2932.136377</td>\n",
       "      <td>1.0</td>\n",
       "      <td>0.0</td>\n",
       "      <td>0.0</td>\n",
       "      <td>0.0</td>\n",
       "      <td>1866.470014</td>\n",
       "      <td>0.0</td>\n",
       "      <td>0.000000</td>\n",
       "      <td>0.0</td>\n",
       "      <td>0.583333</td>\n",
       "      <td>12.0</td>\n",
       "      <td>0.0</td>\n",
       "      <td>3500.0</td>\n",
       "      <td>809.813492</td>\n",
       "      <td>849.210431</td>\n",
       "      <td>0.000000</td>\n",
       "      <td>12.0</td>\n",
       "    </tr>\n",
       "    <tr>\n",
       "      <th>8560</th>\n",
       "      <td>382.378002</td>\n",
       "      <td>1.0</td>\n",
       "      <td>0.0</td>\n",
       "      <td>0.0</td>\n",
       "      <td>0.0</td>\n",
       "      <td>1097.698179</td>\n",
       "      <td>0.0</td>\n",
       "      <td>0.000000</td>\n",
       "      <td>0.0</td>\n",
       "      <td>0.250000</td>\n",
       "      <td>5.0</td>\n",
       "      <td>0.0</td>\n",
       "      <td>1500.0</td>\n",
       "      <td>679.788131</td>\n",
       "      <td>185.106686</td>\n",
       "      <td>0.100000</td>\n",
       "      <td>12.0</td>\n",
       "    </tr>\n",
       "    <tr>\n",
       "      <th>5469</th>\n",
       "      <td>1097.285930</td>\n",
       "      <td>1.0</td>\n",
       "      <td>0.0</td>\n",
       "      <td>0.0</td>\n",
       "      <td>0.0</td>\n",
       "      <td>37.643261</td>\n",
       "      <td>0.0</td>\n",
       "      <td>0.000000</td>\n",
       "      <td>0.0</td>\n",
       "      <td>0.166667</td>\n",
       "      <td>2.0</td>\n",
       "      <td>0.0</td>\n",
       "      <td>1200.0</td>\n",
       "      <td>236.375748</td>\n",
       "      <td>259.212980</td>\n",
       "      <td>0.000000</td>\n",
       "      <td>12.0</td>\n",
       "    </tr>\n",
       "    <tr>\n",
       "      <th>6053</th>\n",
       "      <td>463.071288</td>\n",
       "      <td>1.0</td>\n",
       "      <td>0.0</td>\n",
       "      <td>0.0</td>\n",
       "      <td>0.0</td>\n",
       "      <td>1381.989484</td>\n",
       "      <td>0.0</td>\n",
       "      <td>0.000000</td>\n",
       "      <td>0.0</td>\n",
       "      <td>0.250000</td>\n",
       "      <td>7.0</td>\n",
       "      <td>0.0</td>\n",
       "      <td>1000.0</td>\n",
       "      <td>5445.356870</td>\n",
       "      <td>4496.934117</td>\n",
       "      <td>0.400000</td>\n",
       "      <td>12.0</td>\n",
       "    </tr>\n",
       "    <tr>\n",
       "      <th>3611</th>\n",
       "      <td>93.672733</td>\n",
       "      <td>1.0</td>\n",
       "      <td>674.3</td>\n",
       "      <td>69.5</td>\n",
       "      <td>604.8</td>\n",
       "      <td>0.000000</td>\n",
       "      <td>1.0</td>\n",
       "      <td>0.166667</td>\n",
       "      <td>1.0</td>\n",
       "      <td>0.000000</td>\n",
       "      <td>0.0</td>\n",
       "      <td>26.0</td>\n",
       "      <td>5400.0</td>\n",
       "      <td>812.396962</td>\n",
       "      <td>194.901529</td>\n",
       "      <td>0.083333</td>\n",
       "      <td>12.0</td>\n",
       "    </tr>\n",
       "  </tbody>\n",
       "</table>\n",
       "</div>"
      ],
      "text/plain": [
       "          BALANCE  BALANCE_FREQUENCY  PURCHASES  ONEOFF_PURCHASES  \\\n",
       "5587  2932.136377                1.0        0.0               0.0   \n",
       "8560   382.378002                1.0        0.0               0.0   \n",
       "5469  1097.285930                1.0        0.0               0.0   \n",
       "6053   463.071288                1.0        0.0               0.0   \n",
       "3611    93.672733                1.0      674.3              69.5   \n",
       "\n",
       "      INSTALLMENTS_PURCHASES  CASH_ADVANCE  PURCHASES_FREQUENCY  \\\n",
       "5587                     0.0   1866.470014                  0.0   \n",
       "8560                     0.0   1097.698179                  0.0   \n",
       "5469                     0.0     37.643261                  0.0   \n",
       "6053                     0.0   1381.989484                  0.0   \n",
       "3611                   604.8      0.000000                  1.0   \n",
       "\n",
       "      ONEOFF_PURCHASES_FREQUENCY  PURCHASES_INSTALLMENTS_FREQUENCY  \\\n",
       "5587                    0.000000                               0.0   \n",
       "8560                    0.000000                               0.0   \n",
       "5469                    0.000000                               0.0   \n",
       "6053                    0.000000                               0.0   \n",
       "3611                    0.166667                               1.0   \n",
       "\n",
       "      CASH_ADVANCE_FREQUENCY  CASH_ADVANCE_TRX  PURCHASES_TRX  CREDIT_LIMIT  \\\n",
       "5587                0.583333              12.0            0.0        3500.0   \n",
       "8560                0.250000               5.0            0.0        1500.0   \n",
       "5469                0.166667               2.0            0.0        1200.0   \n",
       "6053                0.250000               7.0            0.0        1000.0   \n",
       "3611                0.000000               0.0           26.0        5400.0   \n",
       "\n",
       "         PAYMENTS  MINIMUM_PAYMENTS  PRC_FULL_PAYMENT  TENURE  \n",
       "5587   809.813492        849.210431          0.000000    12.0  \n",
       "8560   679.788131        185.106686          0.100000    12.0  \n",
       "5469   236.375748        259.212980          0.000000    12.0  \n",
       "6053  5445.356870       4496.934117          0.400000    12.0  \n",
       "3611   812.396962        194.901529          0.083333    12.0  "
      ]
     },
     "execution_count": 24,
     "metadata": {},
     "output_type": "execute_result"
    }
   ],
   "source": [
    "# fit the capper\n",
    "X_train[numeric_columns] = capper.fit_transform(X_train[numeric_columns])\n",
    "X_train.head()"
   ]
  },
  {
   "cell_type": "code",
   "execution_count": 25,
   "metadata": {},
   "outputs": [],
   "source": [
    "# Save capper \n",
    "with open('../artifacts/capper.pickle', 'wb') as filename:\n",
    "    pickle.dump(capper, filename)"
   ]
  },
  {
   "cell_type": "code",
   "execution_count": 26,
   "metadata": {},
   "outputs": [
    {
     "data": {
      "image/png": "[encoded data removed]",
      "text/plain": [
       "<Figure size 432x288 with 1 Axes>"
      ]
     },
     "metadata": {
      "needs_background": "light"
     },
     "output_type": "display_data"
    },
    {
     "data": {
      "image/png": "[encoded data removed]",
      "text/plain": [
       "<Figure size 432x288 with 1 Axes>"
      ]
     },
     "metadata": {
      "needs_background": "light"
     },
     "output_type": "display_data"
    },
    {
     "data": {
      "image/png": "[encoded data removed]",
      "text/plain": [
       "<Figure size 432x288 with 1 Axes>"
      ]
     },
     "metadata": {
      "needs_background": "light"
     },
     "output_type": "display_data"
    },
    {
     "data": {
      "image/png": "[encoded data removed]",
      "text/plain": [
       "<Figure size 432x288 with 1 Axes>"
      ]
     },
     "metadata": {
      "needs_background": "light"
     },
     "output_type": "display_data"
    },
    {
     "data": {
      "image/png": "[encoded data removed]",
      "text/plain": [
       "<Figure size 432x288 with 1 Axes>"
      ]
     },
     "metadata": {
      "needs_background": "light"
     },
     "output_type": "display_data"
    },
    {
     "data": {
      "image/png": "[encoded data removed]",
      "text/plain": [
       "<Figure size 432x288 with 1 Axes>"
      ]
     },
     "metadata": {
      "needs_background": "light"
     },
     "output_type": "display_data"
    },
    {
     "data": {
      "image/png": "[encoded data removed]",
      "text/plain": [
       "<Figure size 432x288 with 1 Axes>"
      ]
     },
     "metadata": {
      "needs_background": "light"
     },
     "output_type": "display_data"
    },
    {
     "data": {
      "image/png": "[encoded data removed]",
      "text/plain": [
       "<Figure size 432x288 with 1 Axes>"
      ]
     },
     "metadata": {
      "needs_background": "light"
     },
     "output_type": "display_data"
    },
    {
     "data": {
      "image/png": "[encoded data removed]",
      "text/plain": [
       "<Figure size 432x288 with 1 Axes>"
      ]
     },
     "metadata": {
      "needs_background": "light"
     },
     "output_type": "display_data"
    },
    {
     "data": {
      "image/png": "[encoded data removed]",
      "text/plain": [
       "<Figure size 432x288 with 1 Axes>"
      ]
     },
     "metadata": {
      "needs_background": "light"
     },
     "output_type": "display_data"
    },
    {
     "data": {
      "image/png": "[encoded data removed]",
      "text/plain": [
       "<Figure size 432x288 with 1 Axes>"
      ]
     },
     "metadata": {
      "needs_background": "light"
     },
     "output_type": "display_data"
    },
    {
     "data": {
      "image/png": "[encoded data removed]",
      "text/plain": [
       "<Figure size 432x288 with 1 Axes>"
      ]
     },
     "metadata": {
      "needs_background": "light"
     },
     "output_type": "display_data"
    },
    {
     "data": {
      "image/png": "[encoded data removed]",
      "text/plain": [
       "<Figure size 432x288 with 1 Axes>"
      ]
     },
     "metadata": {
      "needs_background": "light"
     },
     "output_type": "display_data"
    },
    {
     "data": {
      "image/png": "[encoded data removed]",
      "text/plain": [
       "<Figure size 432x288 with 1 Axes>"
      ]
     },
     "metadata": {
      "needs_background": "light"
     },
     "output_type": "display_data"
    },
    {
     "data": {
      "image/png": "[encoded data removed]",
      "text/plain": [
       "<Figure size 432x288 with 1 Axes>"
      ]
     },
     "metadata": {
      "needs_background": "light"
     },
     "output_type": "display_data"
    },
    {
     "data": {
      "image/png": "[encoded data removed]",
      "text/plain": [
       "<Figure size 432x288 with 1 Axes>"
      ]
     },
     "metadata": {
      "needs_background": "light"
     },
     "output_type": "display_data"
    },
    {
     "data": {
      "image/png": "[encoded data removed]",
      "text/plain": [
       "<Figure size 432x288 with 1 Axes>"
      ]
     },
     "metadata": {
      "needs_background": "light"
     },
     "output_type": "display_data"
    }
   ],
   "source": [
    "# plot the distributions\n",
    "for col in numeric_columns:\n",
    "    plt.hist(X_train[col])\n",
    "    plt.title(col)\n",
    "    plt.show()"
   ]
  },
  {
   "attachments": {},
   "cell_type": "markdown",
   "metadata": {},
   "source": [
    "# Let´s look at Correlated Features"
   ]
  },
  {
   "cell_type": "code",
   "execution_count": 27,
   "metadata": {},
   "outputs": [
    {
     "data": {
      "image/png": "[encoded data removed]",
      "text/plain": [
       "<Figure size 720x720 with 2 Axes>"
      ]
     },
     "metadata": {
      "needs_background": "light"
     },
     "output_type": "display_data"
    }
   ],
   "source": [
    "fig, ax = plt.subplots(\n",
    "    nrows=1,\n",
    "    ncols=1,\n",
    "    figsize=(10,10))\n",
    "sns.heatmap(\n",
    "    data=X_train.corr(),\n",
    "    vmin=-1,\n",
    "    vmax=1,\n",
    "    robust=True,\n",
    "    ax=ax\n",
    ")\n",
    "ax.set_title('Correlation Heatmap')\n",
    "plt.show()"
   ]
  },
  {
   "attachments": {},
   "cell_type": "markdown",
   "metadata": {},
   "source": [
    "# Feature Compression using PCA"
   ]
  },
  {
   "cell_type": "code",
   "execution_count": 28,
   "metadata": {},
   "outputs": [],
   "source": [
    "from sklearn.decomposition import PCA"
   ]
  },
  {
   "cell_type": "code",
   "execution_count": 29,
   "metadata": {},
   "outputs": [
    {
     "name": "stdout",
     "output_type": "stream",
     "text": [
      "number components: 0 / explained variance: 0.0\n",
      "number components: 1 / explained variance: 0.5782590938887293\n",
      "number components: 2 / explained variance: 0.722915497763629\n",
      "number components: 3 / explained variance: 0.8614383689137582\n",
      "number components: 4 / explained variance: 0.9336565098427053\n",
      "number components: 5 / explained variance: 0.9659135170510246\n",
      "number components: 6 / explained variance: 0.9865042710955283\n",
      "number components: 7 / explained variance: 0.9994762773946054\n",
      "number components: 8 / explained variance: 0.9999951508110638\n",
      "number components: 9 / explained variance: 0.9999994418352671\n"
     ]
    }
   ],
   "source": [
    "for n in range(10):\n",
    "    pca = PCA(n_components=n, svd_solver='full')\n",
    "    pca.fit(X_train)\n",
    "    print('number components: {} / explained variance: {}'.format(n, pca.explained_variance_ratio_.sum()))"
   ]
  },
  {
   "cell_type": "code",
   "execution_count": 30,
   "metadata": {},
   "outputs": [
    {
     "data": {
      "text/html": [
       "<div>\n",
       "<style scoped>\n",
       "    .dataframe tbody tr th:only-of-type {\n",
       "        vertical-align: middle;\n",
       "    }\n",
       "\n",
       "    .dataframe tbody tr th {\n",
       "        vertical-align: top;\n",
       "    }\n",
       "\n",
       "    .dataframe thead th {\n",
       "        text-align: right;\n",
       "    }\n",
       "</style>\n",
       "<table border=\"1\" class=\"dataframe\">\n",
       "  <thead>\n",
       "    <tr style=\"text-align: right;\">\n",
       "      <th></th>\n",
       "      <th>pc 1</th>\n",
       "      <th>pc 2</th>\n",
       "      <th>pc 3</th>\n",
       "      <th>pc 4</th>\n",
       "      <th>pc 5</th>\n",
       "      <th>pc 6</th>\n",
       "      <th>pc 7</th>\n",
       "      <th>pc 8</th>\n",
       "      <th>pc 9</th>\n",
       "      <th>pc 10</th>\n",
       "    </tr>\n",
       "  </thead>\n",
       "  <tbody>\n",
       "    <tr>\n",
       "      <th>0</th>\n",
       "      <td>-681.746974</td>\n",
       "      <td>1737.511994</td>\n",
       "      <td>-1347.200530</td>\n",
       "      <td>-416.388895</td>\n",
       "      <td>-391.670710</td>\n",
       "      <td>-443.374773</td>\n",
       "      <td>23.952477</td>\n",
       "      <td>14.071425</td>\n",
       "      <td>3.311504</td>\n",
       "      <td>5.949153</td>\n",
       "    </tr>\n",
       "    <tr>\n",
       "      <th>1</th>\n",
       "      <td>-3419.734239</td>\n",
       "      <td>624.191709</td>\n",
       "      <td>-184.745594</td>\n",
       "      <td>661.038752</td>\n",
       "      <td>-275.889198</td>\n",
       "      <td>79.189356</td>\n",
       "      <td>-100.775215</td>\n",
       "      <td>15.618370</td>\n",
       "      <td>2.667526</td>\n",
       "      <td>1.391581</td>\n",
       "    </tr>\n",
       "    <tr>\n",
       "      <th>2</th>\n",
       "      <td>-3784.205490</td>\n",
       "      <td>344.427933</td>\n",
       "      <td>-403.350252</td>\n",
       "      <td>-393.498264</td>\n",
       "      <td>49.748839</td>\n",
       "      <td>-589.279478</td>\n",
       "      <td>-45.335836</td>\n",
       "      <td>19.531539</td>\n",
       "      <td>3.630188</td>\n",
       "      <td>0.305164</td>\n",
       "    </tr>\n",
       "    <tr>\n",
       "      <th>3</th>\n",
       "      <td>-1769.245302</td>\n",
       "      <td>3652.467648</td>\n",
       "      <td>2986.188395</td>\n",
       "      <td>475.689750</td>\n",
       "      <td>3676.356770</td>\n",
       "      <td>1834.724991</td>\n",
       "      <td>-1076.655547</td>\n",
       "      <td>-24.302163</td>\n",
       "      <td>2.212866</td>\n",
       "      <td>2.869501</td>\n",
       "    </tr>\n",
       "    <tr>\n",
       "      <th>4</th>\n",
       "      <td>-248.017763</td>\n",
       "      <td>-1924.753835</td>\n",
       "      <td>-645.573363</td>\n",
       "      <td>675.898068</td>\n",
       "      <td>328.212238</td>\n",
       "      <td>277.083962</td>\n",
       "      <td>308.328423</td>\n",
       "      <td>-12.354237</td>\n",
       "      <td>-12.334304</td>\n",
       "      <td>-0.368523</td>\n",
       "    </tr>\n",
       "  </tbody>\n",
       "</table>\n",
       "</div>"
      ],
      "text/plain": [
       "          pc 1         pc 2         pc 3        pc 4         pc 5  \\\n",
       "0  -681.746974  1737.511994 -1347.200530 -416.388895  -391.670710   \n",
       "1 -3419.734239   624.191709  -184.745594  661.038752  -275.889198   \n",
       "2 -3784.205490   344.427933  -403.350252 -393.498264    49.748839   \n",
       "3 -1769.245302  3652.467648  2986.188395  475.689750  3676.356770   \n",
       "4  -248.017763 -1924.753835  -645.573363  675.898068   328.212238   \n",
       "\n",
       "          pc 6         pc 7       pc 8       pc 9     pc 10  \n",
       "0  -443.374773    23.952477  14.071425   3.311504  5.949153  \n",
       "1    79.189356  -100.775215  15.618370   2.667526  1.391581  \n",
       "2  -589.279478   -45.335836  19.531539   3.630188  0.305164  \n",
       "3  1834.724991 -1076.655547 -24.302163   2.212866  2.869501  \n",
       "4   277.083962   308.328423 -12.354237 -12.334304 -0.368523  "
      ]
     },
     "execution_count": 30,
     "metadata": {},
     "output_type": "execute_result"
    }
   ],
   "source": [
    "# lets choose n=4 components\n",
    "pca = PCA(n_components=10, svd_solver='full')\n",
    "X_train_pca = pca.fit_transform(X_train)\n",
    "\n",
    "X_train_pca = pd.DataFrame(\n",
    "    data=X_train_pca,\n",
    "    columns=['pc 1', 'pc 2', 'pc 3','pc 4','pc 5','pc 6','pc 7','pc 8','pc 9','pc 10']\n",
    ")\n",
    "\n",
    "X_train_pca.head()"
   ]
  },
  {
   "cell_type": "code",
   "execution_count": null,
   "metadata": {},
   "outputs": [],
   "source": [
    "# it turns out that feature compression doesn´t really improve finding clusters; \n",
    "# the opposite is the case?!?! why, i haven´t found out yet; maybe b/c the loss of \n",
    "# information is too significant b/c PCA only captures linear relationships between features?!\n",
    "# so let´s continue without PCA!"
   ]
  },
  {
   "attachments": {},
   "cell_type": "markdown",
   "metadata": {},
   "source": [
    "# Calculate Customer Similarity using Gower´s Distance"
   ]
  },
  {
   "cell_type": "code",
   "execution_count": 31,
   "metadata": {},
   "outputs": [
    {
     "name": "stdout",
     "output_type": "stream",
     "text": [
      "CPU times: total: 1.5 s\n",
      "Wall time: 1.51 s\n"
     ]
    }
   ],
   "source": [
    "%%time\n",
    "distance_matrix = gower.gower_matrix(X_train)"
   ]
  },
  {
   "cell_type": "code",
   "execution_count": 32,
   "metadata": {},
   "outputs": [
    {
     "data": {
      "text/plain": [
       "(5370, 5370)"
      ]
     },
     "execution_count": 32,
     "metadata": {},
     "output_type": "execute_result"
    }
   ],
   "source": [
    "distance_matrix.shape"
   ]
  },
  {
   "cell_type": "code",
   "execution_count": 33,
   "metadata": {},
   "outputs": [
    {
     "data": {
      "image/png": "[encoded data removed]",
      "text/plain": [
       "<Figure size 432x288 with 1 Axes>"
      ]
     },
     "metadata": {
      "needs_background": "light"
     },
     "output_type": "display_data"
    }
   ],
   "source": [
    "customer = 3\n",
    "plt.hist(distance_matrix[:,customer], bins=20)\n",
    "plt.grid()\n",
    "plt.show()"
   ]
  },
  {
   "cell_type": "code",
   "execution_count": 34,
   "metadata": {},
   "outputs": [],
   "source": [
    "# let´s choose a cut-off gower´s distance of e.g. 0.2\n",
    "gower_cutoff = 0.1 "
   ]
  },
  {
   "cell_type": "code",
   "execution_count": 35,
   "metadata": {},
   "outputs": [
    {
     "data": {
      "image/png": "[encoded data removed]",
      "text/plain": [
       "<Figure size 432x288 with 2 Axes>"
      ]
     },
     "metadata": {
      "needs_background": "light"
     },
     "output_type": "display_data"
    }
   ],
   "source": [
    "# plot the similarity matrix as heatmap\n",
    "sns.heatmap(\n",
    "    distance_matrix[:10,:10], \n",
    "    yticklabels = False, \n",
    "    cbar = True, \n",
    "    cmap=\"Blues\")\n",
    "plt.show()"
   ]
  },
  {
   "cell_type": "code",
   "execution_count": 36,
   "metadata": {},
   "outputs": [
    {
     "data": {
      "text/plain": [
       "{'index': array([ 100,  895, 2247, 3688, 4640], dtype=int64),\n",
       " 'values': array([0.        , 0.04648447, 0.0506317 , 0.05274915, 0.06150863],\n",
       "       dtype=float32)}"
      ]
     },
     "execution_count": 36,
     "metadata": {},
     "output_type": "execute_result"
    }
   ],
   "source": [
    "# find the top-n customers similar to a particular customer\n",
    "customer=100\n",
    "top_n = gower.gower_topn(\n",
    "    X_train.iloc[customer:customer+1,:], \n",
    "    X_train.iloc[:,], \n",
    "    n = 5)\n",
    "top_n"
   ]
  },
  {
   "cell_type": "code",
   "execution_count": 37,
   "metadata": {},
   "outputs": [
    {
     "data": {
      "text/plain": [
       "array([ 100,  895, 2247, 3688, 4640], dtype=int64)"
      ]
     },
     "execution_count": 37,
     "metadata": {},
     "output_type": "execute_result"
    }
   ],
   "source": [
    "top_n['index']"
   ]
  },
  {
   "cell_type": "code",
   "execution_count": 38,
   "metadata": {},
   "outputs": [
    {
     "data": {
      "text/html": [
       "<div>\n",
       "<style scoped>\n",
       "    .dataframe tbody tr th:only-of-type {\n",
       "        vertical-align: middle;\n",
       "    }\n",
       "\n",
       "    .dataframe tbody tr th {\n",
       "        vertical-align: top;\n",
       "    }\n",
       "\n",
       "    .dataframe thead th {\n",
       "        text-align: right;\n",
       "    }\n",
       "</style>\n",
       "<table border=\"1\" class=\"dataframe\">\n",
       "  <thead>\n",
       "    <tr style=\"text-align: right;\">\n",
       "      <th></th>\n",
       "      <th>BALANCE</th>\n",
       "      <th>BALANCE_FREQUENCY</th>\n",
       "      <th>PURCHASES</th>\n",
       "      <th>ONEOFF_PURCHASES</th>\n",
       "      <th>INSTALLMENTS_PURCHASES</th>\n",
       "      <th>CASH_ADVANCE</th>\n",
       "      <th>PURCHASES_FREQUENCY</th>\n",
       "      <th>ONEOFF_PURCHASES_FREQUENCY</th>\n",
       "      <th>PURCHASES_INSTALLMENTS_FREQUENCY</th>\n",
       "      <th>CASH_ADVANCE_FREQUENCY</th>\n",
       "      <th>CASH_ADVANCE_TRX</th>\n",
       "      <th>PURCHASES_TRX</th>\n",
       "      <th>CREDIT_LIMIT</th>\n",
       "      <th>PAYMENTS</th>\n",
       "      <th>MINIMUM_PAYMENTS</th>\n",
       "      <th>PRC_FULL_PAYMENT</th>\n",
       "      <th>TENURE</th>\n",
       "    </tr>\n",
       "  </thead>\n",
       "  <tbody>\n",
       "    <tr>\n",
       "      <th>2431</th>\n",
       "      <td>451.905949</td>\n",
       "      <td>1.0</td>\n",
       "      <td>4468.71</td>\n",
       "      <td>3870.15</td>\n",
       "      <td>598.56</td>\n",
       "      <td>0.0</td>\n",
       "      <td>1.0</td>\n",
       "      <td>1.0</td>\n",
       "      <td>0.416667</td>\n",
       "      <td>0.0</td>\n",
       "      <td>0.0</td>\n",
       "      <td>53.0</td>\n",
       "      <td>4000.0</td>\n",
       "      <td>4009.961094</td>\n",
       "      <td>184.310480</td>\n",
       "      <td>1.000000</td>\n",
       "      <td>12.0</td>\n",
       "    </tr>\n",
       "    <tr>\n",
       "      <th>3195</th>\n",
       "      <td>452.094148</td>\n",
       "      <td>1.0</td>\n",
       "      <td>5073.53</td>\n",
       "      <td>4752.26</td>\n",
       "      <td>321.27</td>\n",
       "      <td>0.0</td>\n",
       "      <td>1.0</td>\n",
       "      <td>1.0</td>\n",
       "      <td>0.666667</td>\n",
       "      <td>0.0</td>\n",
       "      <td>0.0</td>\n",
       "      <td>54.0</td>\n",
       "      <td>7000.0</td>\n",
       "      <td>3923.560419</td>\n",
       "      <td>176.275371</td>\n",
       "      <td>1.000000</td>\n",
       "      <td>12.0</td>\n",
       "    </tr>\n",
       "    <tr>\n",
       "      <th>4950</th>\n",
       "      <td>468.294595</td>\n",
       "      <td>1.0</td>\n",
       "      <td>4164.14</td>\n",
       "      <td>3215.54</td>\n",
       "      <td>948.60</td>\n",
       "      <td>0.0</td>\n",
       "      <td>1.0</td>\n",
       "      <td>1.0</td>\n",
       "      <td>1.000000</td>\n",
       "      <td>0.0</td>\n",
       "      <td>0.0</td>\n",
       "      <td>53.0</td>\n",
       "      <td>4000.0</td>\n",
       "      <td>3958.926162</td>\n",
       "      <td>203.066713</td>\n",
       "      <td>1.000000</td>\n",
       "      <td>12.0</td>\n",
       "    </tr>\n",
       "    <tr>\n",
       "      <th>7655</th>\n",
       "      <td>208.581872</td>\n",
       "      <td>1.0</td>\n",
       "      <td>2608.02</td>\n",
       "      <td>2155.67</td>\n",
       "      <td>452.35</td>\n",
       "      <td>0.0</td>\n",
       "      <td>1.0</td>\n",
       "      <td>1.0</td>\n",
       "      <td>0.416667</td>\n",
       "      <td>0.0</td>\n",
       "      <td>0.0</td>\n",
       "      <td>51.0</td>\n",
       "      <td>3500.0</td>\n",
       "      <td>2625.802250</td>\n",
       "      <td>178.035597</td>\n",
       "      <td>0.916667</td>\n",
       "      <td>12.0</td>\n",
       "    </tr>\n",
       "    <tr>\n",
       "      <th>5039</th>\n",
       "      <td>434.099616</td>\n",
       "      <td>1.0</td>\n",
       "      <td>4392.05</td>\n",
       "      <td>3817.98</td>\n",
       "      <td>574.07</td>\n",
       "      <td>0.0</td>\n",
       "      <td>1.0</td>\n",
       "      <td>1.0</td>\n",
       "      <td>1.000000</td>\n",
       "      <td>0.0</td>\n",
       "      <td>0.0</td>\n",
       "      <td>79.0</td>\n",
       "      <td>6000.0</td>\n",
       "      <td>4076.914448</td>\n",
       "      <td>188.019302</td>\n",
       "      <td>1.000000</td>\n",
       "      <td>12.0</td>\n",
       "    </tr>\n",
       "  </tbody>\n",
       "</table>\n",
       "</div>"
      ],
      "text/plain": [
       "         BALANCE  BALANCE_FREQUENCY  PURCHASES  ONEOFF_PURCHASES  \\\n",
       "2431  451.905949                1.0    4468.71           3870.15   \n",
       "3195  452.094148                1.0    5073.53           4752.26   \n",
       "4950  468.294595                1.0    4164.14           3215.54   \n",
       "7655  208.581872                1.0    2608.02           2155.67   \n",
       "5039  434.099616                1.0    4392.05           3817.98   \n",
       "\n",
       "      INSTALLMENTS_PURCHASES  CASH_ADVANCE  PURCHASES_FREQUENCY  \\\n",
       "2431                  598.56           0.0                  1.0   \n",
       "3195                  321.27           0.0                  1.0   \n",
       "4950                  948.60           0.0                  1.0   \n",
       "7655                  452.35           0.0                  1.0   \n",
       "5039                  574.07           0.0                  1.0   \n",
       "\n",
       "      ONEOFF_PURCHASES_FREQUENCY  PURCHASES_INSTALLMENTS_FREQUENCY  \\\n",
       "2431                         1.0                          0.416667   \n",
       "3195                         1.0                          0.666667   \n",
       "4950                         1.0                          1.000000   \n",
       "7655                         1.0                          0.416667   \n",
       "5039                         1.0                          1.000000   \n",
       "\n",
       "      CASH_ADVANCE_FREQUENCY  CASH_ADVANCE_TRX  PURCHASES_TRX  CREDIT_LIMIT  \\\n",
       "2431                     0.0               0.0           53.0        4000.0   \n",
       "3195                     0.0               0.0           54.0        7000.0   \n",
       "4950                     0.0               0.0           53.0        4000.0   \n",
       "7655                     0.0               0.0           51.0        3500.0   \n",
       "5039                     0.0               0.0           79.0        6000.0   \n",
       "\n",
       "         PAYMENTS  MINIMUM_PAYMENTS  PRC_FULL_PAYMENT  TENURE  \n",
       "2431  4009.961094        184.310480          1.000000    12.0  \n",
       "3195  3923.560419        176.275371          1.000000    12.0  \n",
       "4950  3958.926162        203.066713          1.000000    12.0  \n",
       "7655  2625.802250        178.035597          0.916667    12.0  \n",
       "5039  4076.914448        188.019302          1.000000    12.0  "
      ]
     },
     "execution_count": 38,
     "metadata": {},
     "output_type": "execute_result"
    }
   ],
   "source": [
    "pd.DataFrame(\n",
    "    data=X_train.iloc[top_n['index'],:],\n",
    "    columns =X_train.columns\n",
    ")  "
   ]
  },
  {
   "attachments": {},
   "cell_type": "markdown",
   "metadata": {},
   "source": [
    "# DBScan Clustering"
   ]
  },
  {
   "cell_type": "code",
   "execution_count": 39,
   "metadata": {},
   "outputs": [
    {
     "data": {
      "image/png": "[encoded data removed]",
      "text/plain": [
       "<Figure size 432x288 with 1 Axes>"
      ]
     },
     "metadata": {
      "needs_background": "light"
     },
     "output_type": "display_data"
    },
    {
     "name": "stdout",
     "output_type": "stream",
     "text": [
      "CPU times: total: 344 ms\n",
      "Wall time: 343 ms\n"
     ]
    }
   ],
   "source": [
    "%%time\n",
    "# Configuring the parameters of the clustering algorithm\n",
    "dbscan_cluster = DBSCAN(eps=0.1, \n",
    "                        min_samples=25, \n",
    "                        metric=\"precomputed\",\n",
    "                        n_jobs=-1)\n",
    "\n",
    "# Fitting the clustering algorithm\n",
    "dbscan_cluster.fit(distance_matrix)\n",
    "\n",
    "plt.hist(dbscan_cluster.labels_) \n",
    "#plt.ylim(0,1000)\n",
    "plt.show()"
   ]
  },
  {
   "cell_type": "code",
   "execution_count": 40,
   "metadata": {},
   "outputs": [
    {
     "data": {
      "text/plain": [
       "0.40564752"
      ]
     },
     "execution_count": 40,
     "metadata": {},
     "output_type": "execute_result"
    }
   ],
   "source": [
    "# Compute Cluster Quality using Silhouette Score\n",
    "silhouette_score(\n",
    "    X=distance_matrix, \n",
    "    labels=dbscan_cluster.labels_, \n",
    "    metric=\"precomputed\")"
   ]
  },
  {
   "cell_type": "code",
   "execution_count": 41,
   "metadata": {},
   "outputs": [],
   "source": [
    "%%time\n",
    "# lets try different hyperparameters and count the cluster numbers; we dont want like 100 cluster but we do want maybe more than 2 clusters\n",
    "\n",
    "results_list = []\n",
    "eps_range = np.arange(.025, 0.25, .0125)\n",
    "min_sample_range = np.arange(5, 50, 2)\n",
    "\n",
    "for eps in eps_range:\n",
    "    for min_samples in min_sample_range:\n",
    "\n",
    "        # Configuring the parameters of the clustering algorithm\n",
    "        dbscan_cluster = DBSCAN(eps=eps, \n",
    "                                min_samples=min_samples, \n",
    "                                metric=\"precomputed\",\n",
    "                                n_jobs=-1)\n",
    "\n",
    "        # Fitting the clustering algorithm\n",
    "        dbscan_cluster.fit(distance_matrix)\n",
    "\n",
    "        # count the number of datapoints i.e. customers labeled as noise i.e. -1\n",
    "        num_noise_data = list(dbscan_cluster.labels_).count(-1)\n",
    "        \n",
    "        # count the number of clusters different from noise i.e. labeled -1\n",
    "        num_cluster_detected = len(np.unique(dbscan_cluster.labels_[np.where(dbscan_cluster.labels_ >= 0)]))\n",
    "\n",
    "        if num_cluster_detected >= 2:\n",
    "            # calculate cluster quality using the silhouette score\n",
    "            cluster_quality = silhouette_score(X=distance_matrix, \n",
    "                                           labels=dbscan_cluster.labels_, \n",
    "                                           metric=\"precomputed\")\n",
    "        else:\n",
    "            cluster_quality = -1 # the silhouette score is not defined for one single cluster; let´s put the quality then to -1\n",
    "        \n",
    "        # save results\n",
    "        results_list.append([eps, min_samples, cluster_quality, num_cluster_detected, num_noise_data])"
   ]
  },
  {
   "cell_type": "code",
   "execution_count": null,
   "metadata": {},
   "outputs": [
    {
     "data": {
      "text/plain": [
       "[[0.025, 5, -0.39814463, 18, 3237],\n",
       " [0.025, 7, -0.36828026, 13, 3411],\n",
       " [0.025, 9, -0.28851026, 6, 3547],\n",
       " [0.025, 11, -0.3369843, 6, 3654],\n",
       " [0.025, 13, -0.2865864, 5, 3734],\n",
       " [0.025, 15, -0.19429004, 4, 3808],\n",
       " [0.025, 17, -0.098965265, 2, 3916],\n",
       " [0.025, 19, -0.22031079, 3, 3958],\n",
       " [0.025, 21, -0.22139686, 3, 3984],\n",
       " [0.025, 23, -0.12409938, 2, 4046],\n",
       " [0.025, 25, -0.12898213, 2, 4074],\n",
       " [0.025, 27, -0.13379093, 2, 4101],\n",
       " [0.025, 29, -0.13728209, 2, 4132],\n",
       " [0.025, 31, -0.14330225, 2, 4164],\n",
       " [0.025, 33, -0.20770663, 3, 4194],\n",
       " [0.025, 35, -0.21063735, 3, 4213],\n",
       " [0.025, 37, -0.21792436, 3, 4268],\n",
       " [0.025, 39, -0.21883228, 3, 4272],\n",
       " [0.025, 41, -0.23307933, 3, 4353],\n",
       " [0.025, 43, -0.24701503, 3, 4401],\n",
       " [0.025, 45, -0.24852206, 3, 4407],\n",
       " [0.025, 47, -0.25076607, 3, 4421],\n",
       " [0.025, 49, -0.2538579, 3, 4435],\n",
       " [0.037500000000000006, 5, -0.30307585, 9, 2114],\n",
       " [0.037500000000000006, 7, -0.17675647, 4, 2263],\n",
       " [0.037500000000000006, 9, -0.012851209, 3, 2378],\n",
       " [0.037500000000000006, 11, 0.06697133, 2, 2473],\n",
       " [0.037500000000000006, 13, -1, 1, 2564],\n",
       " [0.037500000000000006, 15, -1, 1, 2603],\n",
       " [0.037500000000000006, 17, -1, 1, 2649],\n",
       " [0.037500000000000006, 19, -0.009122188, 2, 2716],\n",
       " [0.037500000000000006, 21, -0.011136832, 2, 2767],\n",
       " [0.037500000000000006, 23, -0.017561207, 2, 2802],\n",
       " [0.037500000000000006, 25, -0.0889851, 3, 2891],\n",
       " [0.037500000000000006, 27, -0.08951708, 3, 2918],\n",
       " [0.037500000000000006, 29, -1, 1, 3011],\n",
       " [0.037500000000000006, 31, -1, 1, 3051],\n",
       " [0.037500000000000006, 33, -1, 1, 3080],\n",
       " [0.037500000000000006, 35, -1, 1, 3104],\n",
       " [0.037500000000000006, 37, -1, 1, 3137],\n",
       " [0.037500000000000006, 39, -1, 1, 3166],\n",
       " [0.037500000000000006, 41, -1, 1, 3197],\n",
       " [0.037500000000000006, 43, -1, 1, 3217],\n",
       " [0.037500000000000006, 45, -1, 1, 3261],\n",
       " [0.037500000000000006, 47, -1, 1, 3299],\n",
       " [0.037500000000000006, 49, -1, 1, 3348],\n",
       " [0.05000000000000001, 5, -0.07709206, 8, 1327],\n",
       " [0.05000000000000001, 7, 0.22457974, 2, 1466],\n",
       " [0.05000000000000001, 9, -0.010109999, 3, 1562],\n",
       " [0.05000000000000001, 11, 0.11965192, 2, 1624],\n",
       " [0.05000000000000001, 13, 0.07127726, 3, 1681],\n",
       " [0.05000000000000001, 15, -1, 1, 1758],\n",
       " [0.05000000000000001, 17, -1, 1, 1784],\n",
       " [0.05000000000000001, 19, -1, 1, 1828],\n",
       " [0.05000000000000001, 21, -1, 1, 1876],\n",
       " [0.05000000000000001, 23, -1, 1, 1920],\n",
       " [0.05000000000000001, 25, -1, 1, 1945],\n",
       " [0.05000000000000001, 27, -1, 1, 1980],\n",
       " [0.05000000000000001, 29, -1, 1, 2015],\n",
       " [0.05000000000000001, 31, -1, 1, 2055],\n",
       " [0.05000000000000001, 33, -1, 1, 2083],\n",
       " [0.05000000000000001, 35, -1, 1, 2125],\n",
       " [0.05000000000000001, 37, -1, 1, 2155],\n",
       " [0.05000000000000001, 39, -1, 1, 2178],\n",
       " [0.05000000000000001, 41, 0.02148855, 2, 2199],\n",
       " [0.05000000000000001, 43, 0.019516245, 2, 2235],\n",
       " [0.05000000000000001, 45, -1, 1, 2298],\n",
       " [0.05000000000000001, 47, -1, 1, 2325],\n",
       " [0.05000000000000001, 49, -1, 1, 2342],\n",
       " [0.06250000000000001, 5, 0.00598931, 5, 785],\n",
       " [0.06250000000000001, 7, 0.13387284, 5, 850],\n",
       " [0.06250000000000001, 9, 0.13497928, 4, 913],\n",
       " [0.06250000000000001, 11, -1, 1, 993],\n",
       " [0.06250000000000001, 13, -1, 1, 1034],\n",
       " [0.06250000000000001, 15, -1, 1, 1081],\n",
       " [0.06250000000000001, 17, -1, 1, 1122],\n",
       " [0.06250000000000001, 19, -1, 1, 1153],\n",
       " [0.06250000000000001, 21, -1, 1, 1184],\n",
       " [0.06250000000000001, 23, -1, 1, 1207],\n",
       " [0.06250000000000001, 25, -1, 1, 1235],\n",
       " [0.06250000000000001, 27, -1, 1, 1267],\n",
       " [0.06250000000000001, 29, -1, 1, 1297],\n",
       " [0.06250000000000001, 31, 0.13464771, 2, 1311],\n",
       " [0.06250000000000001, 33, -1, 1, 1354],\n",
       " [0.06250000000000001, 35, -1, 1, 1364],\n",
       " [0.06250000000000001, 37, -1, 1, 1397],\n",
       " [0.06250000000000001, 39, -1, 1, 1417],\n",
       " [0.06250000000000001, 41, -1, 1, 1432],\n",
       " [0.06250000000000001, 43, -1, 1, 1446],\n",
       " [0.06250000000000001, 45, -1, 1, 1470],\n",
       " [0.06250000000000001, 47, -1, 1, 1491],\n",
       " [0.06250000000000001, 49, -1, 1, 1518],\n",
       " [0.07500000000000001, 5, -1, 1, 448],\n",
       " [0.07500000000000001, 7, 0.29036167, 4, 472],\n",
       " [0.07500000000000001, 9, 0.2960971, 3, 515],\n",
       " [0.07500000000000001, 11, -1, 1, 579],\n",
       " [0.07500000000000001, 13, -1, 1, 610],\n",
       " [0.07500000000000001, 15, -1, 1, 633],\n",
       " [0.07500000000000001, 17, -1, 1, 656],\n",
       " [0.07500000000000001, 19, -1, 1, 680],\n",
       " [0.07500000000000001, 21, -1, 1, 693],\n",
       " [0.07500000000000001, 23, -1, 1, 726],\n",
       " [0.07500000000000001, 25, -1, 1, 746],\n",
       " [0.07500000000000001, 27, -1, 1, 762],\n",
       " [0.07500000000000001, 29, -1, 1, 776],\n",
       " [0.07500000000000001, 31, -1, 1, 796],\n",
       " [0.07500000000000001, 33, -1, 1, 807],\n",
       " [0.07500000000000001, 35, -1, 1, 817],\n",
       " [0.07500000000000001, 37, -1, 1, 837],\n",
       " [0.07500000000000001, 39, -1, 1, 857],\n",
       " [0.07500000000000001, 41, -1, 1, 872],\n",
       " [0.07500000000000001, 43, -1, 1, 890],\n",
       " [0.07500000000000001, 45, -1, 1, 899],\n",
       " [0.07500000000000001, 47, -1, 1, 917],\n",
       " [0.07500000000000001, 49, -1, 1, 924],\n",
       " [0.08750000000000002, 5, -1, 1, 256],\n",
       " [0.08750000000000002, 7, -1, 1, 284],\n",
       " [0.08750000000000002, 9, -1, 1, 311],\n",
       " [0.08750000000000002, 11, 0.31968242, 3, 327],\n",
       " [0.08750000000000002, 13, -1, 1, 369],\n",
       " [0.08750000000000002, 15, -1, 1, 390],\n",
       " [0.08750000000000002, 17, 0.35075074, 2, 408],\n",
       " [0.08750000000000002, 19, -1, 1, 443],\n",
       " [0.08750000000000002, 21, -1, 1, 450],\n",
       " [0.08750000000000002, 23, -1, 1, 460],\n",
       " [0.08750000000000002, 25, -1, 1, 474],\n",
       " [0.08750000000000002, 27, -1, 1, 489],\n",
       " [0.08750000000000002, 29, -1, 1, 496],\n",
       " [0.08750000000000002, 31, -1, 1, 510],\n",
       " [0.08750000000000002, 33, -1, 1, 517],\n",
       " [0.08750000000000002, 35, -1, 1, 525],\n",
       " [0.08750000000000002, 37, -1, 1, 530],\n",
       " [0.08750000000000002, 39, -1, 1, 535],\n",
       " [0.08750000000000002, 41, -1, 1, 542],\n",
       " [0.08750000000000002, 43, -1, 1, 551],\n",
       " [0.08750000000000002, 45, -1, 1, 560],\n",
       " [0.08750000000000002, 47, -1, 1, 565],\n",
       " [0.08750000000000002, 49, -1, 1, 572],\n",
       " [0.10000000000000003, 5, -1, 1, 142],\n",
       " [0.10000000000000003, 7, -1, 1, 159],\n",
       " [0.10000000000000003, 9, -1, 1, 170],\n",
       " [0.10000000000000003, 11, -1, 1, 184],\n",
       " [0.10000000000000003, 13, -1, 1, 198],\n",
       " [0.10000000000000003, 15, -1, 1, 211],\n",
       " [0.10000000000000003, 17, -1, 1, 226],\n",
       " [0.10000000000000003, 19, -1, 1, 240],\n",
       " [0.10000000000000003, 21, -1, 1, 248],\n",
       " [0.10000000000000003, 23, -1, 1, 266],\n",
       " [0.10000000000000003, 25, -1, 1, 288],\n",
       " [0.10000000000000003, 27, -1, 1, 296],\n",
       " [0.10000000000000003, 29, -1, 1, 302],\n",
       " [0.10000000000000003, 31, -1, 1, 317],\n",
       " [0.10000000000000003, 33, -1, 1, 321],\n",
       " [0.10000000000000003, 35, -1, 1, 331],\n",
       " [0.10000000000000003, 37, -1, 1, 337],\n",
       " [0.10000000000000003, 39, -1, 1, 340],\n",
       " [0.10000000000000003, 41, -1, 1, 354],\n",
       " [0.10000000000000003, 43, -1, 1, 355],\n",
       " [0.10000000000000003, 45, -1, 1, 359],\n",
       " [0.10000000000000003, 47, -1, 1, 370],\n",
       " [0.10000000000000003, 49, -1, 1, 374],\n",
       " [0.11250000000000002, 5, -1, 1, 82],\n",
       " [0.11250000000000002, 7, -1, 1, 89],\n",
       " [0.11250000000000002, 9, -1, 1, 99],\n",
       " [0.11250000000000002, 11, -1, 1, 110],\n",
       " [0.11250000000000002, 13, -1, 1, 114],\n",
       " [0.11250000000000002, 15, -1, 1, 123],\n",
       " [0.11250000000000002, 17, -1, 1, 130],\n",
       " [0.11250000000000002, 19, -1, 1, 134],\n",
       " [0.11250000000000002, 21, -1, 1, 139],\n",
       " [0.11250000000000002, 23, -1, 1, 148],\n",
       " [0.11250000000000002, 25, -1, 1, 156],\n",
       " [0.11250000000000002, 27, -1, 1, 166],\n",
       " [0.11250000000000002, 29, -1, 1, 174],\n",
       " [0.11250000000000002, 31, -1, 1, 180],\n",
       " [0.11250000000000002, 33, -1, 1, 201],\n",
       " [0.11250000000000002, 35, -1, 1, 206],\n",
       " [0.11250000000000002, 37, -1, 1, 208],\n",
       " [0.11250000000000002, 39, -1, 1, 212],\n",
       " [0.11250000000000002, 41, -1, 1, 215],\n",
       " [0.11250000000000002, 43, -1, 1, 225],\n",
       " [0.11250000000000002, 45, -1, 1, 236],\n",
       " [0.11250000000000002, 47, -1, 1, 241],\n",
       " [0.11250000000000002, 49, -1, 1, 243],\n",
       " [0.12500000000000003, 5, -1, 1, 45],\n",
       " [0.12500000000000003, 7, -1, 1, 56],\n",
       " [0.12500000000000003, 9, -1, 1, 59],\n",
       " [0.12500000000000003, 11, -1, 1, 65],\n",
       " [0.12500000000000003, 13, -1, 1, 68],\n",
       " [0.12500000000000003, 15, -1, 1, 73],\n",
       " [0.12500000000000003, 17, -1, 1, 77],\n",
       " [0.12500000000000003, 19, -1, 1, 82],\n",
       " [0.12500000000000003, 21, -1, 1, 84],\n",
       " [0.12500000000000003, 23, -1, 1, 87],\n",
       " [0.12500000000000003, 25, -1, 1, 88],\n",
       " [0.12500000000000003, 27, -1, 1, 90],\n",
       " [0.12500000000000003, 29, -1, 1, 96],\n",
       " [0.12500000000000003, 31, -1, 1, 103],\n",
       " [0.12500000000000003, 33, -1, 1, 105],\n",
       " [0.12500000000000003, 35, -1, 1, 108],\n",
       " [0.12500000000000003, 37, -1, 1, 115],\n",
       " [0.12500000000000003, 39, -1, 1, 119],\n",
       " [0.12500000000000003, 41, -1, 1, 119],\n",
       " [0.12500000000000003, 43, -1, 1, 123],\n",
       " [0.12500000000000003, 45, -1, 1, 135],\n",
       " [0.12500000000000003, 47, -1, 1, 140],\n",
       " [0.12500000000000003, 49, -1, 1, 142],\n",
       " [0.13750000000000004, 5, -1, 1, 19],\n",
       " [0.13750000000000004, 7, -1, 1, 26],\n",
       " [0.13750000000000004, 9, -1, 1, 28],\n",
       " [0.13750000000000004, 11, -1, 1, 34],\n",
       " [0.13750000000000004, 13, -1, 1, 35],\n",
       " [0.13750000000000004, 15, -1, 1, 38],\n",
       " [0.13750000000000004, 17, -1, 1, 39],\n",
       " [0.13750000000000004, 19, -1, 1, 40],\n",
       " [0.13750000000000004, 21, -1, 1, 44],\n",
       " [0.13750000000000004, 23, -1, 1, 45],\n",
       " [0.13750000000000004, 25, -1, 1, 46],\n",
       " [0.13750000000000004, 27, -1, 1, 47],\n",
       " [0.13750000000000004, 29, -1, 1, 47],\n",
       " [0.13750000000000004, 31, -1, 1, 49],\n",
       " [0.13750000000000004, 33, -1, 1, 51],\n",
       " [0.13750000000000004, 35, -1, 1, 51],\n",
       " [0.13750000000000004, 37, -1, 1, 56],\n",
       " [0.13750000000000004, 39, -1, 1, 58],\n",
       " [0.13750000000000004, 41, -1, 1, 63],\n",
       " [0.13750000000000004, 43, -1, 1, 63],\n",
       " [0.13750000000000004, 45, -1, 1, 67],\n",
       " [0.13750000000000004, 47, -1, 1, 68],\n",
       " [0.13750000000000004, 49, -1, 1, 70],\n",
       " [0.15000000000000005, 5, -1, 1, 10],\n",
       " [0.15000000000000005, 7, -1, 1, 11],\n",
       " [0.15000000000000005, 9, -1, 1, 15],\n",
       " [0.15000000000000005, 11, -1, 1, 16],\n",
       " [0.15000000000000005, 13, -1, 1, 21],\n",
       " [0.15000000000000005, 15, -1, 1, 22],\n",
       " [0.15000000000000005, 17, -1, 1, 23],\n",
       " [0.15000000000000005, 19, -1, 1, 23],\n",
       " [0.15000000000000005, 21, -1, 1, 23],\n",
       " [0.15000000000000005, 23, -1, 1, 24],\n",
       " [0.15000000000000005, 25, -1, 1, 27],\n",
       " [0.15000000000000005, 27, -1, 1, 29],\n",
       " [0.15000000000000005, 29, -1, 1, 30],\n",
       " [0.15000000000000005, 31, -1, 1, 31],\n",
       " [0.15000000000000005, 33, -1, 1, 32],\n",
       " [0.15000000000000005, 35, -1, 1, 32],\n",
       " [0.15000000000000005, 37, -1, 1, 32],\n",
       " [0.15000000000000005, 39, -1, 1, 32],\n",
       " [0.15000000000000005, 41, -1, 1, 33],\n",
       " [0.15000000000000005, 43, -1, 1, 35],\n",
       " [0.15000000000000005, 45, -1, 1, 35],\n",
       " [0.15000000000000005, 47, -1, 1, 36],\n",
       " [0.15000000000000005, 49, -1, 1, 36],\n",
       " [0.16250000000000003, 5, -1, 1, 6],\n",
       " [0.16250000000000003, 7, -1, 1, 6],\n",
       " [0.16250000000000003, 9, -1, 1, 6],\n",
       " [0.16250000000000003, 11, -1, 1, 6],\n",
       " [0.16250000000000003, 13, -1, 1, 11],\n",
       " [0.16250000000000003, 15, -1, 1, 11],\n",
       " [0.16250000000000003, 17, -1, 1, 12],\n",
       " [0.16250000000000003, 19, -1, 1, 12],\n",
       " [0.16250000000000003, 21, -1, 1, 15],\n",
       " [0.16250000000000003, 23, -1, 1, 16],\n",
       " [0.16250000000000003, 25, -1, 1, 16],\n",
       " [0.16250000000000003, 27, -1, 1, 16],\n",
       " [0.16250000000000003, 29, -1, 1, 17],\n",
       " [0.16250000000000003, 31, -1, 1, 18],\n",
       " [0.16250000000000003, 33, -1, 1, 21],\n",
       " [0.16250000000000003, 35, -1, 1, 22],\n",
       " [0.16250000000000003, 37, -1, 1, 22],\n",
       " [0.16250000000000003, 39, -1, 1, 22],\n",
       " [0.16250000000000003, 41, -1, 1, 23],\n",
       " [0.16250000000000003, 43, -1, 1, 23],\n",
       " [0.16250000000000003, 45, -1, 1, 23],\n",
       " [0.16250000000000003, 47, -1, 1, 24],\n",
       " [0.16250000000000003, 49, -1, 1, 24],\n",
       " [0.17500000000000004, 5, -1, 1, 4],\n",
       " [0.17500000000000004, 7, -1, 1, 4],\n",
       " [0.17500000000000004, 9, -1, 1, 4],\n",
       " [0.17500000000000004, 11, -1, 1, 4],\n",
       " [0.17500000000000004, 13, -1, 1, 4],\n",
       " [0.17500000000000004, 15, -1, 1, 8],\n",
       " [0.17500000000000004, 17, -1, 1, 8],\n",
       " [0.17500000000000004, 19, -1, 1, 8],\n",
       " [0.17500000000000004, 21, -1, 1, 8],\n",
       " [0.17500000000000004, 23, -1, 1, 8],\n",
       " [0.17500000000000004, 25, -1, 1, 8],\n",
       " [0.17500000000000004, 27, -1, 1, 9],\n",
       " [0.17500000000000004, 29, -1, 1, 9],\n",
       " [0.17500000000000004, 31, -1, 1, 9],\n",
       " [0.17500000000000004, 33, -1, 1, 9],\n",
       " [0.17500000000000004, 35, -1, 1, 10],\n",
       " [0.17500000000000004, 37, -1, 1, 10],\n",
       " [0.17500000000000004, 39, -1, 1, 12],\n",
       " [0.17500000000000004, 41, -1, 1, 12],\n",
       " [0.17500000000000004, 43, -1, 1, 13],\n",
       " [0.17500000000000004, 45, -1, 1, 13],\n",
       " [0.17500000000000004, 47, -1, 1, 13],\n",
       " [0.17500000000000004, 49, -1, 1, 14],\n",
       " [0.18750000000000006, 5, -1, 1, 2],\n",
       " [0.18750000000000006, 7, -1, 1, 2],\n",
       " [0.18750000000000006, 9, -1, 1, 2],\n",
       " [0.18750000000000006, 11, -1, 1, 2],\n",
       " [0.18750000000000006, 13, -1, 1, 3],\n",
       " [0.18750000000000006, 15, -1, 1, 3],\n",
       " [0.18750000000000006, 17, -1, 1, 3],\n",
       " [0.18750000000000006, 19, -1, 1, 6],\n",
       " [0.18750000000000006, 21, -1, 1, 6],\n",
       " [0.18750000000000006, 23, -1, 1, 6],\n",
       " [0.18750000000000006, 25, -1, 1, 6],\n",
       " [0.18750000000000006, 27, -1, 1, 6],\n",
       " [0.18750000000000006, 29, -1, 1, 6],\n",
       " [0.18750000000000006, 31, -1, 1, 6],\n",
       " [0.18750000000000006, 33, -1, 1, 6],\n",
       " [0.18750000000000006, 35, -1, 1, 6],\n",
       " [0.18750000000000006, 37, -1, 1, 6],\n",
       " [0.18750000000000006, 39, -1, 1, 6],\n",
       " [0.18750000000000006, 41, -1, 1, 7],\n",
       " [0.18750000000000006, 43, -1, 1, 8],\n",
       " [0.18750000000000006, 45, -1, 1, 8],\n",
       " [0.18750000000000006, 47, -1, 1, 8],\n",
       " [0.18750000000000006, 49, -1, 1, 8],\n",
       " [0.20000000000000004, 5, -1, 1, 0],\n",
       " [0.20000000000000004, 7, -1, 1, 0],\n",
       " [0.20000000000000004, 9, -1, 1, 0],\n",
       " [0.20000000000000004, 11, -1, 1, 0],\n",
       " [0.20000000000000004, 13, -1, 1, 0],\n",
       " [0.20000000000000004, 15, -1, 1, 0],\n",
       " [0.20000000000000004, 17, -1, 1, 0],\n",
       " [0.20000000000000004, 19, -1, 1, 0],\n",
       " [0.20000000000000004, 21, -1, 1, 0],\n",
       " [0.20000000000000004, 23, -1, 1, 1],\n",
       " [0.20000000000000004, 25, -1, 1, 4],\n",
       " [0.20000000000000004, 27, -1, 1, 4],\n",
       " [0.20000000000000004, 29, -1, 1, 4],\n",
       " [0.20000000000000004, 31, -1, 1, 4],\n",
       " [0.20000000000000004, 33, -1, 1, 4],\n",
       " [0.20000000000000004, 35, -1, 1, 4],\n",
       " [0.20000000000000004, 37, -1, 1, 4],\n",
       " [0.20000000000000004, 39, -1, 1, 4],\n",
       " [0.20000000000000004, 41, -1, 1, 4],\n",
       " [0.20000000000000004, 43, -1, 1, 4],\n",
       " [0.20000000000000004, 45, -1, 1, 4],\n",
       " [0.20000000000000004, 47, -1, 1, 4],\n",
       " [0.20000000000000004, 49, -1, 1, 4],\n",
       " [0.21250000000000005, 5, -1, 1, 0],\n",
       " [0.21250000000000005, 7, -1, 1, 0],\n",
       " [0.21250000000000005, 9, -1, 1, 0],\n",
       " [0.21250000000000005, 11, -1, 1, 0],\n",
       " [0.21250000000000005, 13, -1, 1, 0],\n",
       " [0.21250000000000005, 15, -1, 1, 0],\n",
       " [0.21250000000000005, 17, -1, 1, 0],\n",
       " [0.21250000000000005, 19, -1, 1, 0],\n",
       " [0.21250000000000005, 21, -1, 1, 0],\n",
       " [0.21250000000000005, 23, -1, 1, 0],\n",
       " [0.21250000000000005, 25, -1, 1, 0],\n",
       " [0.21250000000000005, 27, -1, 1, 0],\n",
       " [0.21250000000000005, 29, -1, 1, 0],\n",
       " [0.21250000000000005, 31, -1, 1, 0],\n",
       " [0.21250000000000005, 33, -1, 1, 1],\n",
       " [0.21250000000000005, 35, -1, 1, 1],\n",
       " [0.21250000000000005, 37, -1, 1, 1],\n",
       " [0.21250000000000005, 39, -1, 1, 1],\n",
       " [0.21250000000000005, 41, -1, 1, 1],\n",
       " [0.21250000000000005, 43, -1, 1, 1],\n",
       " [0.21250000000000005, 45, -1, 1, 1],\n",
       " [0.21250000000000005, 47, -1, 1, 1],\n",
       " [0.21250000000000005, 49, -1, 1, 1],\n",
       " [0.22500000000000006, 5, -1, 1, 0],\n",
       " [0.22500000000000006, 7, -1, 1, 0],\n",
       " [0.22500000000000006, 9, -1, 1, 0],\n",
       " [0.22500000000000006, 11, -1, 1, 0],\n",
       " [0.22500000000000006, 13, -1, 1, 0],\n",
       " [0.22500000000000006, 15, -1, 1, 0],\n",
       " [0.22500000000000006, 17, -1, 1, 0],\n",
       " [0.22500000000000006, 19, -1, 1, 0],\n",
       " [0.22500000000000006, 21, -1, 1, 0],\n",
       " [0.22500000000000006, 23, -1, 1, 0],\n",
       " [0.22500000000000006, 25, -1, 1, 0],\n",
       " [0.22500000000000006, 27, -1, 1, 0],\n",
       " [0.22500000000000006, 29, -1, 1, 0],\n",
       " [0.22500000000000006, 31, -1, 1, 0],\n",
       " [0.22500000000000006, 33, -1, 1, 0],\n",
       " [0.22500000000000006, 35, -1, 1, 0],\n",
       " [0.22500000000000006, 37, -1, 1, 0],\n",
       " [0.22500000000000006, 39, -1, 1, 0],\n",
       " [0.22500000000000006, 41, -1, 1, 0],\n",
       " [0.22500000000000006, 43, -1, 1, 0],\n",
       " [0.22500000000000006, 45, -1, 1, 0],\n",
       " [0.22500000000000006, 47, -1, 1, 0],\n",
       " [0.22500000000000006, 49, -1, 1, 0],\n",
       " [0.23750000000000007, 5, -1, 1, 0],\n",
       " [0.23750000000000007, 7, -1, 1, 0],\n",
       " [0.23750000000000007, 9, -1, 1, 0],\n",
       " [0.23750000000000007, 11, -1, 1, 0],\n",
       " [0.23750000000000007, 13, -1, 1, 0],\n",
       " [0.23750000000000007, 15, -1, 1, 0],\n",
       " [0.23750000000000007, 17, -1, 1, 0],\n",
       " [0.23750000000000007, 19, -1, 1, 0],\n",
       " [0.23750000000000007, 21, -1, 1, 0],\n",
       " [0.23750000000000007, 23, -1, 1, 0],\n",
       " [0.23750000000000007, 25, -1, 1, 0],\n",
       " [0.23750000000000007, 27, -1, 1, 0],\n",
       " [0.23750000000000007, 29, -1, 1, 0],\n",
       " [0.23750000000000007, 31, -1, 1, 0],\n",
       " [0.23750000000000007, 33, -1, 1, 0],\n",
       " [0.23750000000000007, 35, -1, 1, 0],\n",
       " [0.23750000000000007, 37, -1, 1, 0],\n",
       " [0.23750000000000007, 39, -1, 1, 0],\n",
       " [0.23750000000000007, 41, -1, 1, 0],\n",
       " [0.23750000000000007, 43, -1, 1, 0],\n",
       " [0.23750000000000007, 45, -1, 1, 0],\n",
       " [0.23750000000000007, 47, -1, 1, 0],\n",
       " [0.23750000000000007, 49, -1, 1, 0]]"
      ]
     },
     "execution_count": 70,
     "metadata": {},
     "output_type": "execute_result"
    }
   ],
   "source": [
    "results_list"
   ]
  },
  {
   "cell_type": "code",
   "execution_count": null,
   "metadata": {},
   "outputs": [
    {
     "data": {
      "text/html": [
       "<div>\n",
       "<style scoped>\n",
       "    .dataframe tbody tr th:only-of-type {\n",
       "        vertical-align: middle;\n",
       "    }\n",
       "\n",
       "    .dataframe tbody tr th {\n",
       "        vertical-align: top;\n",
       "    }\n",
       "\n",
       "    .dataframe thead th {\n",
       "        text-align: right;\n",
       "    }\n",
       "</style>\n",
       "<table border=\"1\" class=\"dataframe\">\n",
       "  <thead>\n",
       "    <tr style=\"text-align: right;\">\n",
       "      <th></th>\n",
       "      <th>eps</th>\n",
       "      <th>min_samples</th>\n",
       "      <th>cluster_quality</th>\n",
       "      <th>num_clusters</th>\n",
       "      <th>num_noise_data</th>\n",
       "    </tr>\n",
       "  </thead>\n",
       "  <tbody>\n",
       "    <tr>\n",
       "      <th>0</th>\n",
       "      <td>0.0250</td>\n",
       "      <td>5</td>\n",
       "      <td>-0.398145</td>\n",
       "      <td>18</td>\n",
       "      <td>3237</td>\n",
       "    </tr>\n",
       "    <tr>\n",
       "      <th>1</th>\n",
       "      <td>0.0250</td>\n",
       "      <td>7</td>\n",
       "      <td>-0.368280</td>\n",
       "      <td>13</td>\n",
       "      <td>3411</td>\n",
       "    </tr>\n",
       "    <tr>\n",
       "      <th>2</th>\n",
       "      <td>0.0250</td>\n",
       "      <td>9</td>\n",
       "      <td>-0.288510</td>\n",
       "      <td>6</td>\n",
       "      <td>3547</td>\n",
       "    </tr>\n",
       "    <tr>\n",
       "      <th>3</th>\n",
       "      <td>0.0250</td>\n",
       "      <td>11</td>\n",
       "      <td>-0.336984</td>\n",
       "      <td>6</td>\n",
       "      <td>3654</td>\n",
       "    </tr>\n",
       "    <tr>\n",
       "      <th>4</th>\n",
       "      <td>0.0250</td>\n",
       "      <td>13</td>\n",
       "      <td>-0.286586</td>\n",
       "      <td>5</td>\n",
       "      <td>3734</td>\n",
       "    </tr>\n",
       "    <tr>\n",
       "      <th>...</th>\n",
       "      <td>...</td>\n",
       "      <td>...</td>\n",
       "      <td>...</td>\n",
       "      <td>...</td>\n",
       "      <td>...</td>\n",
       "    </tr>\n",
       "    <tr>\n",
       "      <th>409</th>\n",
       "      <td>0.2375</td>\n",
       "      <td>41</td>\n",
       "      <td>-1.000000</td>\n",
       "      <td>1</td>\n",
       "      <td>0</td>\n",
       "    </tr>\n",
       "    <tr>\n",
       "      <th>410</th>\n",
       "      <td>0.2375</td>\n",
       "      <td>43</td>\n",
       "      <td>-1.000000</td>\n",
       "      <td>1</td>\n",
       "      <td>0</td>\n",
       "    </tr>\n",
       "    <tr>\n",
       "      <th>411</th>\n",
       "      <td>0.2375</td>\n",
       "      <td>45</td>\n",
       "      <td>-1.000000</td>\n",
       "      <td>1</td>\n",
       "      <td>0</td>\n",
       "    </tr>\n",
       "    <tr>\n",
       "      <th>412</th>\n",
       "      <td>0.2375</td>\n",
       "      <td>47</td>\n",
       "      <td>-1.000000</td>\n",
       "      <td>1</td>\n",
       "      <td>0</td>\n",
       "    </tr>\n",
       "    <tr>\n",
       "      <th>413</th>\n",
       "      <td>0.2375</td>\n",
       "      <td>49</td>\n",
       "      <td>-1.000000</td>\n",
       "      <td>1</td>\n",
       "      <td>0</td>\n",
       "    </tr>\n",
       "  </tbody>\n",
       "</table>\n",
       "<p>414 rows × 5 columns</p>\n",
       "</div>"
      ],
      "text/plain": [
       "        eps  min_samples  cluster_quality  num_clusters  num_noise_data\n",
       "0    0.0250            5        -0.398145            18            3237\n",
       "1    0.0250            7        -0.368280            13            3411\n",
       "2    0.0250            9        -0.288510             6            3547\n",
       "3    0.0250           11        -0.336984             6            3654\n",
       "4    0.0250           13        -0.286586             5            3734\n",
       "..      ...          ...              ...           ...             ...\n",
       "409  0.2375           41        -1.000000             1               0\n",
       "410  0.2375           43        -1.000000             1               0\n",
       "411  0.2375           45        -1.000000             1               0\n",
       "412  0.2375           47        -1.000000             1               0\n",
       "413  0.2375           49        -1.000000             1               0\n",
       "\n",
       "[414 rows x 5 columns]"
      ]
     },
     "execution_count": 71,
     "metadata": {},
     "output_type": "execute_result"
    }
   ],
   "source": [
    "clustering_results_df = pd.DataFrame(results_list, columns = (\"eps\", \"min_samples\", \"cluster_quality\", \"num_clusters\", \"num_noise_data\"))\n",
    "clustering_results_df"
   ]
  },
  {
   "cell_type": "code",
   "execution_count": null,
   "metadata": {},
   "outputs": [
    {
     "data": {
      "text/html": [
       "<div>\n",
       "<style scoped>\n",
       "    .dataframe tbody tr th:only-of-type {\n",
       "        vertical-align: middle;\n",
       "    }\n",
       "\n",
       "    .dataframe tbody tr th {\n",
       "        vertical-align: top;\n",
       "    }\n",
       "\n",
       "    .dataframe thead th {\n",
       "        text-align: right;\n",
       "    }\n",
       "</style>\n",
       "<table border=\"1\" class=\"dataframe\">\n",
       "  <thead>\n",
       "    <tr style=\"text-align: right;\">\n",
       "      <th></th>\n",
       "      <th>eps</th>\n",
       "      <th>min_samples</th>\n",
       "      <th>cluster_quality</th>\n",
       "      <th>num_clusters</th>\n",
       "      <th>num_noise_data</th>\n",
       "    </tr>\n",
       "  </thead>\n",
       "  <tbody>\n",
       "    <tr>\n",
       "      <th>121</th>\n",
       "      <td>0.0875</td>\n",
       "      <td>17</td>\n",
       "      <td>0.350751</td>\n",
       "      <td>2</td>\n",
       "      <td>408</td>\n",
       "    </tr>\n",
       "    <tr>\n",
       "      <th>47</th>\n",
       "      <td>0.0500</td>\n",
       "      <td>7</td>\n",
       "      <td>0.224580</td>\n",
       "      <td>2</td>\n",
       "      <td>1466</td>\n",
       "    </tr>\n",
       "    <tr>\n",
       "      <th>82</th>\n",
       "      <td>0.0625</td>\n",
       "      <td>31</td>\n",
       "      <td>0.134648</td>\n",
       "      <td>2</td>\n",
       "      <td>1311</td>\n",
       "    </tr>\n",
       "    <tr>\n",
       "      <th>49</th>\n",
       "      <td>0.0500</td>\n",
       "      <td>11</td>\n",
       "      <td>0.119652</td>\n",
       "      <td>2</td>\n",
       "      <td>1624</td>\n",
       "    </tr>\n",
       "    <tr>\n",
       "      <th>26</th>\n",
       "      <td>0.0375</td>\n",
       "      <td>11</td>\n",
       "      <td>0.066971</td>\n",
       "      <td>2</td>\n",
       "      <td>2473</td>\n",
       "    </tr>\n",
       "    <tr>\n",
       "      <th>64</th>\n",
       "      <td>0.0500</td>\n",
       "      <td>41</td>\n",
       "      <td>0.021489</td>\n",
       "      <td>2</td>\n",
       "      <td>2199</td>\n",
       "    </tr>\n",
       "    <tr>\n",
       "      <th>65</th>\n",
       "      <td>0.0500</td>\n",
       "      <td>43</td>\n",
       "      <td>0.019516</td>\n",
       "      <td>2</td>\n",
       "      <td>2235</td>\n",
       "    </tr>\n",
       "    <tr>\n",
       "      <th>30</th>\n",
       "      <td>0.0375</td>\n",
       "      <td>19</td>\n",
       "      <td>-0.009122</td>\n",
       "      <td>2</td>\n",
       "      <td>2716</td>\n",
       "    </tr>\n",
       "    <tr>\n",
       "      <th>31</th>\n",
       "      <td>0.0375</td>\n",
       "      <td>21</td>\n",
       "      <td>-0.011137</td>\n",
       "      <td>2</td>\n",
       "      <td>2767</td>\n",
       "    </tr>\n",
       "    <tr>\n",
       "      <th>32</th>\n",
       "      <td>0.0375</td>\n",
       "      <td>23</td>\n",
       "      <td>-0.017561</td>\n",
       "      <td>2</td>\n",
       "      <td>2802</td>\n",
       "    </tr>\n",
       "    <tr>\n",
       "      <th>6</th>\n",
       "      <td>0.0250</td>\n",
       "      <td>17</td>\n",
       "      <td>-0.098965</td>\n",
       "      <td>2</td>\n",
       "      <td>3916</td>\n",
       "    </tr>\n",
       "    <tr>\n",
       "      <th>9</th>\n",
       "      <td>0.0250</td>\n",
       "      <td>23</td>\n",
       "      <td>-0.124099</td>\n",
       "      <td>2</td>\n",
       "      <td>4046</td>\n",
       "    </tr>\n",
       "    <tr>\n",
       "      <th>10</th>\n",
       "      <td>0.0250</td>\n",
       "      <td>25</td>\n",
       "      <td>-0.128982</td>\n",
       "      <td>2</td>\n",
       "      <td>4074</td>\n",
       "    </tr>\n",
       "    <tr>\n",
       "      <th>11</th>\n",
       "      <td>0.0250</td>\n",
       "      <td>27</td>\n",
       "      <td>-0.133791</td>\n",
       "      <td>2</td>\n",
       "      <td>4101</td>\n",
       "    </tr>\n",
       "    <tr>\n",
       "      <th>12</th>\n",
       "      <td>0.0250</td>\n",
       "      <td>29</td>\n",
       "      <td>-0.137282</td>\n",
       "      <td>2</td>\n",
       "      <td>4132</td>\n",
       "    </tr>\n",
       "    <tr>\n",
       "      <th>13</th>\n",
       "      <td>0.0250</td>\n",
       "      <td>31</td>\n",
       "      <td>-0.143302</td>\n",
       "      <td>2</td>\n",
       "      <td>4164</td>\n",
       "    </tr>\n",
       "  </tbody>\n",
       "</table>\n",
       "</div>"
      ],
      "text/plain": [
       "        eps  min_samples  cluster_quality  num_clusters  num_noise_data\n",
       "121  0.0875           17         0.350751             2             408\n",
       "47   0.0500            7         0.224580             2            1466\n",
       "82   0.0625           31         0.134648             2            1311\n",
       "49   0.0500           11         0.119652             2            1624\n",
       "26   0.0375           11         0.066971             2            2473\n",
       "64   0.0500           41         0.021489             2            2199\n",
       "65   0.0500           43         0.019516             2            2235\n",
       "30   0.0375           19        -0.009122             2            2716\n",
       "31   0.0375           21        -0.011137             2            2767\n",
       "32   0.0375           23        -0.017561             2            2802\n",
       "6    0.0250           17        -0.098965             2            3916\n",
       "9    0.0250           23        -0.124099             2            4046\n",
       "10   0.0250           25        -0.128982             2            4074\n",
       "11   0.0250           27        -0.133791             2            4101\n",
       "12   0.0250           29        -0.137282             2            4132\n",
       "13   0.0250           31        -0.143302             2            4164"
      ]
     },
     "execution_count": 76,
     "metadata": {},
     "output_type": "execute_result"
    }
   ],
   "source": [
    "nclusters = 2\n",
    "db_config = clustering_results_df[clustering_results_df[\"num_clusters\"] == nclusters].sort_values(by=\"cluster_quality\", ascending=False)\n",
    "db_config "
   ]
  },
  {
   "cell_type": "code",
   "execution_count": null,
   "metadata": {},
   "outputs": [
    {
     "name": "stdout",
     "output_type": "stream",
     "text": [
      "0.088 17\n"
     ]
    },
    {
     "data": {
      "image/png": "[encoded data removed]",
      "text/plain": [
       "<Figure size 432x288 with 1 Axes>"
      ]
     },
     "metadata": {
      "needs_background": "light"
     },
     "output_type": "display_data"
    },
    {
     "name": "stdout",
     "output_type": "stream",
     "text": [
      "0.05 7\n"
     ]
    },
    {
     "data": {
      "image/png": "[encoded data removed]",
      "text/plain": [
       "<Figure size 432x288 with 1 Axes>"
      ]
     },
     "metadata": {
      "needs_background": "light"
     },
     "output_type": "display_data"
    },
    {
     "name": "stdout",
     "output_type": "stream",
     "text": [
      "0.063 31\n"
     ]
    },
    {
     "data": {
      "image/png": "[encoded data removed]",
      "text/plain": [
       "<Figure size 432x288 with 1 Axes>"
      ]
     },
     "metadata": {
      "needs_background": "light"
     },
     "output_type": "display_data"
    },
    {
     "name": "stdout",
     "output_type": "stream",
     "text": [
      "0.05 11\n"
     ]
    },
    {
     "data": {
      "image/png": "[encoded data removed]",
      "text/plain": [
       "<Figure size 432x288 with 1 Axes>"
      ]
     },
     "metadata": {
      "needs_background": "light"
     },
     "output_type": "display_data"
    },
    {
     "name": "stdout",
     "output_type": "stream",
     "text": [
      "0.038 11\n"
     ]
    },
    {
     "data": {
      "image/png": "[encoded data removed]",
      "text/plain": [
       "<Figure size 432x288 with 1 Axes>"
      ]
     },
     "metadata": {
      "needs_background": "light"
     },
     "output_type": "display_data"
    },
    {
     "name": "stdout",
     "output_type": "stream",
     "text": [
      "0.05 41\n"
     ]
    },
    {
     "data": {
      "image/png": "[encoded data removed]",
      "text/plain": [
       "<Figure size 432x288 with 1 Axes>"
      ]
     },
     "metadata": {
      "needs_background": "light"
     },
     "output_type": "display_data"
    },
    {
     "name": "stdout",
     "output_type": "stream",
     "text": [
      "0.05 43\n"
     ]
    },
    {
     "data": {
      "image/png": "[encoded data removed]",
      "text/plain": [
       "<Figure size 432x288 with 1 Axes>"
      ]
     },
     "metadata": {
      "needs_background": "light"
     },
     "output_type": "display_data"
    },
    {
     "name": "stdout",
     "output_type": "stream",
     "text": [
      "0.038 19\n"
     ]
    },
    {
     "data": {
      "image/png": "[encoded data removed]",
      "text/plain": [
       "<Figure size 432x288 with 1 Axes>"
      ]
     },
     "metadata": {
      "needs_background": "light"
     },
     "output_type": "display_data"
    },
    {
     "name": "stdout",
     "output_type": "stream",
     "text": [
      "0.038 21\n"
     ]
    },
    {
     "data": {
      "image/png": "[encoded data removed]",
      "text/plain": [
       "<Figure size 432x288 with 1 Axes>"
      ]
     },
     "metadata": {
      "needs_background": "light"
     },
     "output_type": "display_data"
    },
    {
     "name": "stdout",
     "output_type": "stream",
     "text": [
      "0.038 23\n"
     ]
    },
    {
     "data": {
      "image/png": "[encoded data removed]",
      "text/plain": [
       "<Figure size 432x288 with 1 Axes>"
      ]
     },
     "metadata": {
      "needs_background": "light"
     },
     "output_type": "display_data"
    },
    {
     "name": "stdout",
     "output_type": "stream",
     "text": [
      "0.025 17\n"
     ]
    },
    {
     "data": {
      "image/png": "[encoded data removed]",
      "text/plain": [
       "<Figure size 432x288 with 1 Axes>"
      ]
     },
     "metadata": {
      "needs_background": "light"
     },
     "output_type": "display_data"
    },
    {
     "name": "stdout",
     "output_type": "stream",
     "text": [
      "0.025 23\n"
     ]
    },
    {
     "data": {
      "image/png": "[encoded data removed]",
      "text/plain": [
       "<Figure size 432x288 with 1 Axes>"
      ]
     },
     "metadata": {
      "needs_background": "light"
     },
     "output_type": "display_data"
    },
    {
     "name": "stdout",
     "output_type": "stream",
     "text": [
      "0.025 25\n"
     ]
    },
    {
     "data": {
      "image/png": "[encoded data removed]",
      "text/plain": [
       "<Figure size 432x288 with 1 Axes>"
      ]
     },
     "metadata": {
      "needs_background": "light"
     },
     "output_type": "display_data"
    },
    {
     "name": "stdout",
     "output_type": "stream",
     "text": [
      "0.025 27\n"
     ]
    },
    {
     "data": {
      "image/png": "[encoded data removed]",
      "text/plain": [
       "<Figure size 432x288 with 1 Axes>"
      ]
     },
     "metadata": {
      "needs_background": "light"
     },
     "output_type": "display_data"
    },
    {
     "name": "stdout",
     "output_type": "stream",
     "text": [
      "0.025 29\n"
     ]
    },
    {
     "data": {
      "image/png": "[encoded data removed]",
      "text/plain": [
       "<Figure size 432x288 with 1 Axes>"
      ]
     },
     "metadata": {
      "needs_background": "light"
     },
     "output_type": "display_data"
    },
    {
     "name": "stdout",
     "output_type": "stream",
     "text": [
      "0.025 31\n"
     ]
    },
    {
     "data": {
      "image/png": "[encoded data removed]",
      "text/plain": [
       "<Figure size 432x288 with 1 Axes>"
      ]
     },
     "metadata": {
      "needs_background": "light"
     },
     "output_type": "display_data"
    }
   ],
   "source": [
    "for conf in np.array(db_config[['eps', 'min_samples']]):\n",
    "    eps = np.round(conf[0],3)\n",
    "    min_samples = int(conf[1])\n",
    "    print(eps, min_samples)\n",
    "\n",
    "    # Configuring the parameters of the clustering algorithm\n",
    "    dbscan_cluster = DBSCAN(eps=eps, \n",
    "                            min_samples=min_samples, \n",
    "                            metric=\"precomputed\",\n",
    "                            n_jobs=-1)\n",
    "\n",
    "    # Fitting the clustering algorithm\n",
    "    dbscan_cluster.fit(distance_matrix)\n",
    "\n",
    "    plt.hist(dbscan_cluster.labels_) \n",
    "    #plt.yscale('log')\n",
    "    plt.grid()\n",
    "    plt.show()"
   ]
  },
  {
   "cell_type": "code",
   "execution_count": null,
   "metadata": {},
   "outputs": [
    {
     "data": {
      "image/png": "[encoded data removed]",
      "text/plain": [
       "<Figure size 432x288 with 1 Axes>"
      ]
     },
     "metadata": {
      "needs_background": "light"
     },
     "output_type": "display_data"
    }
   ],
   "source": [
    "# Configuring the parameters of the clustering algorithm\n",
    "dbscan_cluster = DBSCAN(eps=0.025, \n",
    "                        min_samples=17, \n",
    "                        metric=\"precomputed\",\n",
    "                        n_jobs=-1)\n",
    "\n",
    "# Fitting the clustering algorithm\n",
    "dbscan_cluster.fit(distance_matrix)\n",
    "\n",
    "plt.hist(dbscan_cluster.labels_) \n",
    "plt.yscale('log')\n",
    "plt.grid()\n",
    "plt.show()"
   ]
  },
  {
   "cell_type": "code",
   "execution_count": null,
   "metadata": {},
   "outputs": [
    {
     "data": {
      "text/html": [
       "<div>\n",
       "<style scoped>\n",
       "    .dataframe tbody tr th:only-of-type {\n",
       "        vertical-align: middle;\n",
       "    }\n",
       "\n",
       "    .dataframe tbody tr th {\n",
       "        vertical-align: top;\n",
       "    }\n",
       "\n",
       "    .dataframe thead th {\n",
       "        text-align: right;\n",
       "    }\n",
       "</style>\n",
       "<table border=\"1\" class=\"dataframe\">\n",
       "  <thead>\n",
       "    <tr style=\"text-align: right;\">\n",
       "      <th></th>\n",
       "      <th>BALANCE</th>\n",
       "      <th>BALANCE_FREQUENCY</th>\n",
       "      <th>PURCHASES</th>\n",
       "      <th>ONEOFF_PURCHASES</th>\n",
       "      <th>INSTALLMENTS_PURCHASES</th>\n",
       "      <th>CASH_ADVANCE</th>\n",
       "      <th>PURCHASES_FREQUENCY</th>\n",
       "      <th>ONEOFF_PURCHASES_FREQUENCY</th>\n",
       "      <th>PURCHASES_INSTALLMENTS_FREQUENCY</th>\n",
       "      <th>CASH_ADVANCE_FREQUENCY</th>\n",
       "      <th>CASH_ADVANCE_TRX</th>\n",
       "      <th>PURCHASES_TRX</th>\n",
       "      <th>CREDIT_LIMIT</th>\n",
       "      <th>PAYMENTS</th>\n",
       "      <th>MINIMUM_PAYMENTS</th>\n",
       "      <th>PRC_FULL_PAYMENT</th>\n",
       "      <th>TENURE</th>\n",
       "      <th>cluster</th>\n",
       "    </tr>\n",
       "  </thead>\n",
       "  <tbody>\n",
       "    <tr>\n",
       "      <th>5587</th>\n",
       "      <td>2932.136377</td>\n",
       "      <td>1.0</td>\n",
       "      <td>0.0</td>\n",
       "      <td>0.0</td>\n",
       "      <td>0.0</td>\n",
       "      <td>1866.470014</td>\n",
       "      <td>0.0</td>\n",
       "      <td>0.000000</td>\n",
       "      <td>0.0</td>\n",
       "      <td>0.583333</td>\n",
       "      <td>12.0</td>\n",
       "      <td>0.0</td>\n",
       "      <td>3500.0</td>\n",
       "      <td>809.813492</td>\n",
       "      <td>849.210431</td>\n",
       "      <td>0.000000</td>\n",
       "      <td>12.0</td>\n",
       "      <td>-1</td>\n",
       "    </tr>\n",
       "    <tr>\n",
       "      <th>8560</th>\n",
       "      <td>382.378002</td>\n",
       "      <td>1.0</td>\n",
       "      <td>0.0</td>\n",
       "      <td>0.0</td>\n",
       "      <td>0.0</td>\n",
       "      <td>1097.698179</td>\n",
       "      <td>0.0</td>\n",
       "      <td>0.000000</td>\n",
       "      <td>0.0</td>\n",
       "      <td>0.250000</td>\n",
       "      <td>5.0</td>\n",
       "      <td>0.0</td>\n",
       "      <td>1500.0</td>\n",
       "      <td>679.788131</td>\n",
       "      <td>185.106686</td>\n",
       "      <td>0.100000</td>\n",
       "      <td>12.0</td>\n",
       "      <td>0</td>\n",
       "    </tr>\n",
       "    <tr>\n",
       "      <th>5469</th>\n",
       "      <td>1097.285930</td>\n",
       "      <td>1.0</td>\n",
       "      <td>0.0</td>\n",
       "      <td>0.0</td>\n",
       "      <td>0.0</td>\n",
       "      <td>37.643261</td>\n",
       "      <td>0.0</td>\n",
       "      <td>0.000000</td>\n",
       "      <td>0.0</td>\n",
       "      <td>0.166667</td>\n",
       "      <td>2.0</td>\n",
       "      <td>0.0</td>\n",
       "      <td>1200.0</td>\n",
       "      <td>236.375748</td>\n",
       "      <td>259.212980</td>\n",
       "      <td>0.000000</td>\n",
       "      <td>12.0</td>\n",
       "      <td>0</td>\n",
       "    </tr>\n",
       "    <tr>\n",
       "      <th>6053</th>\n",
       "      <td>463.071288</td>\n",
       "      <td>1.0</td>\n",
       "      <td>0.0</td>\n",
       "      <td>0.0</td>\n",
       "      <td>0.0</td>\n",
       "      <td>1381.989484</td>\n",
       "      <td>0.0</td>\n",
       "      <td>0.000000</td>\n",
       "      <td>0.0</td>\n",
       "      <td>0.250000</td>\n",
       "      <td>7.0</td>\n",
       "      <td>0.0</td>\n",
       "      <td>1000.0</td>\n",
       "      <td>5445.356870</td>\n",
       "      <td>4496.934117</td>\n",
       "      <td>0.400000</td>\n",
       "      <td>12.0</td>\n",
       "      <td>-1</td>\n",
       "    </tr>\n",
       "    <tr>\n",
       "      <th>3611</th>\n",
       "      <td>93.672733</td>\n",
       "      <td>1.0</td>\n",
       "      <td>674.3</td>\n",
       "      <td>69.5</td>\n",
       "      <td>604.8</td>\n",
       "      <td>0.000000</td>\n",
       "      <td>1.0</td>\n",
       "      <td>0.166667</td>\n",
       "      <td>1.0</td>\n",
       "      <td>0.000000</td>\n",
       "      <td>0.0</td>\n",
       "      <td>26.0</td>\n",
       "      <td>5400.0</td>\n",
       "      <td>812.396962</td>\n",
       "      <td>194.901529</td>\n",
       "      <td>0.083333</td>\n",
       "      <td>12.0</td>\n",
       "      <td>1</td>\n",
       "    </tr>\n",
       "  </tbody>\n",
       "</table>\n",
       "</div>"
      ],
      "text/plain": [
       "          BALANCE  BALANCE_FREQUENCY  PURCHASES  ONEOFF_PURCHASES  \\\n",
       "5587  2932.136377                1.0        0.0               0.0   \n",
       "8560   382.378002                1.0        0.0               0.0   \n",
       "5469  1097.285930                1.0        0.0               0.0   \n",
       "6053   463.071288                1.0        0.0               0.0   \n",
       "3611    93.672733                1.0      674.3              69.5   \n",
       "\n",
       "      INSTALLMENTS_PURCHASES  CASH_ADVANCE  PURCHASES_FREQUENCY  \\\n",
       "5587                     0.0   1866.470014                  0.0   \n",
       "8560                     0.0   1097.698179                  0.0   \n",
       "5469                     0.0     37.643261                  0.0   \n",
       "6053                     0.0   1381.989484                  0.0   \n",
       "3611                   604.8      0.000000                  1.0   \n",
       "\n",
       "      ONEOFF_PURCHASES_FREQUENCY  PURCHASES_INSTALLMENTS_FREQUENCY  \\\n",
       "5587                    0.000000                               0.0   \n",
       "8560                    0.000000                               0.0   \n",
       "5469                    0.000000                               0.0   \n",
       "6053                    0.000000                               0.0   \n",
       "3611                    0.166667                               1.0   \n",
       "\n",
       "      CASH_ADVANCE_FREQUENCY  CASH_ADVANCE_TRX  PURCHASES_TRX  CREDIT_LIMIT  \\\n",
       "5587                0.583333              12.0            0.0        3500.0   \n",
       "8560                0.250000               5.0            0.0        1500.0   \n",
       "5469                0.166667               2.0            0.0        1200.0   \n",
       "6053                0.250000               7.0            0.0        1000.0   \n",
       "3611                0.000000               0.0           26.0        5400.0   \n",
       "\n",
       "         PAYMENTS  MINIMUM_PAYMENTS  PRC_FULL_PAYMENT  TENURE  cluster  \n",
       "5587   809.813492        849.210431          0.000000    12.0       -1  \n",
       "8560   679.788131        185.106686          0.100000    12.0        0  \n",
       "5469   236.375748        259.212980          0.000000    12.0        0  \n",
       "6053  5445.356870       4496.934117          0.400000    12.0       -1  \n",
       "3611   812.396962        194.901529          0.083333    12.0        1  "
      ]
     },
     "execution_count": 79,
     "metadata": {},
     "output_type": "execute_result"
    }
   ],
   "source": [
    "# Adding the results to a new column in the dataframe\n",
    "X_train[\"cluster\"] = dbscan_cluster.labels_\n",
    "X_train.head()"
   ]
  },
  {
   "cell_type": "code",
   "execution_count": null,
   "metadata": {},
   "outputs": [],
   "source": [
    "# Relabel Clusters starting from 0\n",
    "X_train[\"cluster\"] = X_train[\"cluster\"] + 1"
   ]
  },
  {
   "cell_type": "markdown",
   "metadata": {},
   "source": [
    "# Train Model on Cluster Label"
   ]
  },
  {
   "cell_type": "code",
   "execution_count": null,
   "metadata": {},
   "outputs": [
    {
     "data": {
      "text/html": [
       "<div>\n",
       "<style scoped>\n",
       "    .dataframe tbody tr th:only-of-type {\n",
       "        vertical-align: middle;\n",
       "    }\n",
       "\n",
       "    .dataframe tbody tr th {\n",
       "        vertical-align: top;\n",
       "    }\n",
       "\n",
       "    .dataframe thead th {\n",
       "        text-align: right;\n",
       "    }\n",
       "</style>\n",
       "<table border=\"1\" class=\"dataframe\">\n",
       "  <thead>\n",
       "    <tr style=\"text-align: right;\">\n",
       "      <th></th>\n",
       "      <th>BALANCE</th>\n",
       "      <th>BALANCE_FREQUENCY</th>\n",
       "      <th>PURCHASES</th>\n",
       "      <th>ONEOFF_PURCHASES</th>\n",
       "      <th>INSTALLMENTS_PURCHASES</th>\n",
       "      <th>CASH_ADVANCE</th>\n",
       "      <th>PURCHASES_FREQUENCY</th>\n",
       "      <th>ONEOFF_PURCHASES_FREQUENCY</th>\n",
       "      <th>PURCHASES_INSTALLMENTS_FREQUENCY</th>\n",
       "      <th>CASH_ADVANCE_FREQUENCY</th>\n",
       "      <th>CASH_ADVANCE_TRX</th>\n",
       "      <th>PURCHASES_TRX</th>\n",
       "      <th>CREDIT_LIMIT</th>\n",
       "      <th>PAYMENTS</th>\n",
       "      <th>MINIMUM_PAYMENTS</th>\n",
       "      <th>PRC_FULL_PAYMENT</th>\n",
       "      <th>TENURE</th>\n",
       "    </tr>\n",
       "  </thead>\n",
       "  <tbody>\n",
       "    <tr>\n",
       "      <th>5587</th>\n",
       "      <td>2932.136377</td>\n",
       "      <td>1.0</td>\n",
       "      <td>0.00</td>\n",
       "      <td>0.00</td>\n",
       "      <td>0.00</td>\n",
       "      <td>1866.470014</td>\n",
       "      <td>0.000000</td>\n",
       "      <td>0.000000</td>\n",
       "      <td>0.000000</td>\n",
       "      <td>0.583333</td>\n",
       "      <td>12.0</td>\n",
       "      <td>0.0</td>\n",
       "      <td>3500.0</td>\n",
       "      <td>809.813492</td>\n",
       "      <td>849.210431</td>\n",
       "      <td>0.000000</td>\n",
       "      <td>12.0</td>\n",
       "    </tr>\n",
       "    <tr>\n",
       "      <th>8560</th>\n",
       "      <td>382.378002</td>\n",
       "      <td>1.0</td>\n",
       "      <td>0.00</td>\n",
       "      <td>0.00</td>\n",
       "      <td>0.00</td>\n",
       "      <td>1097.698179</td>\n",
       "      <td>0.000000</td>\n",
       "      <td>0.000000</td>\n",
       "      <td>0.000000</td>\n",
       "      <td>0.250000</td>\n",
       "      <td>5.0</td>\n",
       "      <td>0.0</td>\n",
       "      <td>1500.0</td>\n",
       "      <td>679.788131</td>\n",
       "      <td>185.106686</td>\n",
       "      <td>0.100000</td>\n",
       "      <td>12.0</td>\n",
       "    </tr>\n",
       "    <tr>\n",
       "      <th>5469</th>\n",
       "      <td>1097.285930</td>\n",
       "      <td>1.0</td>\n",
       "      <td>0.00</td>\n",
       "      <td>0.00</td>\n",
       "      <td>0.00</td>\n",
       "      <td>37.643261</td>\n",
       "      <td>0.000000</td>\n",
       "      <td>0.000000</td>\n",
       "      <td>0.000000</td>\n",
       "      <td>0.166667</td>\n",
       "      <td>2.0</td>\n",
       "      <td>0.0</td>\n",
       "      <td>1200.0</td>\n",
       "      <td>236.375748</td>\n",
       "      <td>259.212980</td>\n",
       "      <td>0.000000</td>\n",
       "      <td>12.0</td>\n",
       "    </tr>\n",
       "    <tr>\n",
       "      <th>6053</th>\n",
       "      <td>463.071288</td>\n",
       "      <td>1.0</td>\n",
       "      <td>0.00</td>\n",
       "      <td>0.00</td>\n",
       "      <td>0.00</td>\n",
       "      <td>1381.989484</td>\n",
       "      <td>0.000000</td>\n",
       "      <td>0.000000</td>\n",
       "      <td>0.000000</td>\n",
       "      <td>0.250000</td>\n",
       "      <td>7.0</td>\n",
       "      <td>0.0</td>\n",
       "      <td>1000.0</td>\n",
       "      <td>5445.356870</td>\n",
       "      <td>4496.934117</td>\n",
       "      <td>0.400000</td>\n",
       "      <td>12.0</td>\n",
       "    </tr>\n",
       "    <tr>\n",
       "      <th>3611</th>\n",
       "      <td>93.672733</td>\n",
       "      <td>1.0</td>\n",
       "      <td>674.30</td>\n",
       "      <td>69.50</td>\n",
       "      <td>604.80</td>\n",
       "      <td>0.000000</td>\n",
       "      <td>1.000000</td>\n",
       "      <td>0.166667</td>\n",
       "      <td>1.000000</td>\n",
       "      <td>0.000000</td>\n",
       "      <td>0.0</td>\n",
       "      <td>26.0</td>\n",
       "      <td>5400.0</td>\n",
       "      <td>812.396962</td>\n",
       "      <td>194.901529</td>\n",
       "      <td>0.083333</td>\n",
       "      <td>12.0</td>\n",
       "    </tr>\n",
       "    <tr>\n",
       "      <th>...</th>\n",
       "      <td>...</td>\n",
       "      <td>...</td>\n",
       "      <td>...</td>\n",
       "      <td>...</td>\n",
       "      <td>...</td>\n",
       "      <td>...</td>\n",
       "      <td>...</td>\n",
       "      <td>...</td>\n",
       "      <td>...</td>\n",
       "      <td>...</td>\n",
       "      <td>...</td>\n",
       "      <td>...</td>\n",
       "      <td>...</td>\n",
       "      <td>...</td>\n",
       "      <td>...</td>\n",
       "      <td>...</td>\n",
       "      <td>...</td>\n",
       "    </tr>\n",
       "    <tr>\n",
       "      <th>7382</th>\n",
       "      <td>1150.042040</td>\n",
       "      <td>1.0</td>\n",
       "      <td>1283.45</td>\n",
       "      <td>318.67</td>\n",
       "      <td>964.78</td>\n",
       "      <td>47.044876</td>\n",
       "      <td>1.000000</td>\n",
       "      <td>0.250000</td>\n",
       "      <td>0.916667</td>\n",
       "      <td>0.083333</td>\n",
       "      <td>1.0</td>\n",
       "      <td>27.0</td>\n",
       "      <td>3500.0</td>\n",
       "      <td>2430.864396</td>\n",
       "      <td>419.675603</td>\n",
       "      <td>0.000000</td>\n",
       "      <td>12.0</td>\n",
       "    </tr>\n",
       "    <tr>\n",
       "      <th>7763</th>\n",
       "      <td>845.815387</td>\n",
       "      <td>1.0</td>\n",
       "      <td>37.50</td>\n",
       "      <td>0.00</td>\n",
       "      <td>37.50</td>\n",
       "      <td>0.000000</td>\n",
       "      <td>0.083333</td>\n",
       "      <td>0.000000</td>\n",
       "      <td>0.083333</td>\n",
       "      <td>0.000000</td>\n",
       "      <td>0.0</td>\n",
       "      <td>1.0</td>\n",
       "      <td>1000.0</td>\n",
       "      <td>0.000000</td>\n",
       "      <td>311.800297</td>\n",
       "      <td>0.000000</td>\n",
       "      <td>12.0</td>\n",
       "    </tr>\n",
       "    <tr>\n",
       "      <th>5218</th>\n",
       "      <td>528.651164</td>\n",
       "      <td>1.0</td>\n",
       "      <td>4978.23</td>\n",
       "      <td>2870.42</td>\n",
       "      <td>2107.81</td>\n",
       "      <td>0.000000</td>\n",
       "      <td>0.916667</td>\n",
       "      <td>0.833333</td>\n",
       "      <td>0.500000</td>\n",
       "      <td>0.000000</td>\n",
       "      <td>0.0</td>\n",
       "      <td>60.0</td>\n",
       "      <td>6000.0</td>\n",
       "      <td>4465.155013</td>\n",
       "      <td>165.366492</td>\n",
       "      <td>0.916667</td>\n",
       "      <td>12.0</td>\n",
       "    </tr>\n",
       "    <tr>\n",
       "      <th>1346</th>\n",
       "      <td>661.135323</td>\n",
       "      <td>1.0</td>\n",
       "      <td>568.81</td>\n",
       "      <td>141.69</td>\n",
       "      <td>427.12</td>\n",
       "      <td>618.553380</td>\n",
       "      <td>0.750000</td>\n",
       "      <td>0.083333</td>\n",
       "      <td>0.666667</td>\n",
       "      <td>0.166667</td>\n",
       "      <td>2.0</td>\n",
       "      <td>10.0</td>\n",
       "      <td>1700.0</td>\n",
       "      <td>239.759567</td>\n",
       "      <td>208.292600</td>\n",
       "      <td>0.000000</td>\n",
       "      <td>12.0</td>\n",
       "    </tr>\n",
       "    <tr>\n",
       "      <th>3582</th>\n",
       "      <td>143.025504</td>\n",
       "      <td>1.0</td>\n",
       "      <td>1312.35</td>\n",
       "      <td>1312.35</td>\n",
       "      <td>0.00</td>\n",
       "      <td>0.000000</td>\n",
       "      <td>0.916667</td>\n",
       "      <td>0.916667</td>\n",
       "      <td>0.000000</td>\n",
       "      <td>0.000000</td>\n",
       "      <td>0.0</td>\n",
       "      <td>12.0</td>\n",
       "      <td>300.0</td>\n",
       "      <td>1212.600880</td>\n",
       "      <td>178.466749</td>\n",
       "      <td>0.500000</td>\n",
       "      <td>12.0</td>\n",
       "    </tr>\n",
       "  </tbody>\n",
       "</table>\n",
       "<p>5370 rows × 17 columns</p>\n",
       "</div>"
      ],
      "text/plain": [
       "          BALANCE  BALANCE_FREQUENCY  PURCHASES  ONEOFF_PURCHASES  \\\n",
       "5587  2932.136377                1.0       0.00              0.00   \n",
       "8560   382.378002                1.0       0.00              0.00   \n",
       "5469  1097.285930                1.0       0.00              0.00   \n",
       "6053   463.071288                1.0       0.00              0.00   \n",
       "3611    93.672733                1.0     674.30             69.50   \n",
       "...           ...                ...        ...               ...   \n",
       "7382  1150.042040                1.0    1283.45            318.67   \n",
       "7763   845.815387                1.0      37.50              0.00   \n",
       "5218   528.651164                1.0    4978.23           2870.42   \n",
       "1346   661.135323                1.0     568.81            141.69   \n",
       "3582   143.025504                1.0    1312.35           1312.35   \n",
       "\n",
       "      INSTALLMENTS_PURCHASES  CASH_ADVANCE  PURCHASES_FREQUENCY  \\\n",
       "5587                    0.00   1866.470014             0.000000   \n",
       "8560                    0.00   1097.698179             0.000000   \n",
       "5469                    0.00     37.643261             0.000000   \n",
       "6053                    0.00   1381.989484             0.000000   \n",
       "3611                  604.80      0.000000             1.000000   \n",
       "...                      ...           ...                  ...   \n",
       "7382                  964.78     47.044876             1.000000   \n",
       "7763                   37.50      0.000000             0.083333   \n",
       "5218                 2107.81      0.000000             0.916667   \n",
       "1346                  427.12    618.553380             0.750000   \n",
       "3582                    0.00      0.000000             0.916667   \n",
       "\n",
       "      ONEOFF_PURCHASES_FREQUENCY  PURCHASES_INSTALLMENTS_FREQUENCY  \\\n",
       "5587                    0.000000                          0.000000   \n",
       "8560                    0.000000                          0.000000   \n",
       "5469                    0.000000                          0.000000   \n",
       "6053                    0.000000                          0.000000   \n",
       "3611                    0.166667                          1.000000   \n",
       "...                          ...                               ...   \n",
       "7382                    0.250000                          0.916667   \n",
       "7763                    0.000000                          0.083333   \n",
       "5218                    0.833333                          0.500000   \n",
       "1346                    0.083333                          0.666667   \n",
       "3582                    0.916667                          0.000000   \n",
       "\n",
       "      CASH_ADVANCE_FREQUENCY  CASH_ADVANCE_TRX  PURCHASES_TRX  CREDIT_LIMIT  \\\n",
       "5587                0.583333              12.0            0.0        3500.0   \n",
       "8560                0.250000               5.0            0.0        1500.0   \n",
       "5469                0.166667               2.0            0.0        1200.0   \n",
       "6053                0.250000               7.0            0.0        1000.0   \n",
       "3611                0.000000               0.0           26.0        5400.0   \n",
       "...                      ...               ...            ...           ...   \n",
       "7382                0.083333               1.0           27.0        3500.0   \n",
       "7763                0.000000               0.0            1.0        1000.0   \n",
       "5218                0.000000               0.0           60.0        6000.0   \n",
       "1346                0.166667               2.0           10.0        1700.0   \n",
       "3582                0.000000               0.0           12.0         300.0   \n",
       "\n",
       "         PAYMENTS  MINIMUM_PAYMENTS  PRC_FULL_PAYMENT  TENURE  \n",
       "5587   809.813492        849.210431          0.000000    12.0  \n",
       "8560   679.788131        185.106686          0.100000    12.0  \n",
       "5469   236.375748        259.212980          0.000000    12.0  \n",
       "6053  5445.356870       4496.934117          0.400000    12.0  \n",
       "3611   812.396962        194.901529          0.083333    12.0  \n",
       "...           ...               ...               ...     ...  \n",
       "7382  2430.864396        419.675603          0.000000    12.0  \n",
       "7763     0.000000        311.800297          0.000000    12.0  \n",
       "5218  4465.155013        165.366492          0.916667    12.0  \n",
       "1346   239.759567        208.292600          0.000000    12.0  \n",
       "3582  1212.600880        178.466749          0.500000    12.0  \n",
       "\n",
       "[5370 rows x 17 columns]"
      ]
     },
     "execution_count": 81,
     "metadata": {},
     "output_type": "execute_result"
    }
   ],
   "source": [
    "X_train.iloc[:,:-1]"
   ]
  },
  {
   "cell_type": "code",
   "execution_count": null,
   "metadata": {},
   "outputs": [],
   "source": [
    "y = X_train['cluster']"
   ]
  },
  {
   "cell_type": "code",
   "execution_count": null,
   "metadata": {},
   "outputs": [],
   "source": [
    "# create a train/test split\n",
    "X_train_train, X_train_test, y_train, y_test = train_test_split(\n",
    "    X_train.iloc[:,:-1], \n",
    "    y, \n",
    "    test_size=0.3, \n",
    "    random_state=123)"
   ]
  },
  {
   "attachments": {},
   "cell_type": "markdown",
   "metadata": {},
   "source": [
    "# Training Sklearn Random Forest b/c of Multiclass Shap Compatibility!"
   ]
  },
  {
   "cell_type": "code",
   "execution_count": null,
   "metadata": {},
   "outputs": [],
   "source": [
    "clf = RandomForestClassifier(\n",
    "    n_estimators=100, \n",
    "    max_depth=None,\n",
    "    min_samples_split=3,\n",
    "    min_samples_leaf=3,\n",
    "    max_features='log2', \n",
    "    random_state=123)"
   ]
  },
  {
   "cell_type": "code",
   "execution_count": null,
   "metadata": {},
   "outputs": [
    {
     "data": {
      "text/html": [
       "<style>#sk-container-id-1 {color: black;background-color: white;}#sk-container-id-1 pre{padding: 0;}#sk-container-id-1 div.sk-toggleable {background-color: white;}#sk-container-id-1 label.sk-toggleable__label {cursor: pointer;display: block;width: 100%;margin-bottom: 0;padding: 0.3em;box-sizing: border-box;text-align: center;}#sk-container-id-1 label.sk-toggleable__label-arrow:before {content: \"▸\";float: left;margin-right: 0.25em;color: #696969;}#sk-container-id-1 label.sk-toggleable__label-arrow:hover:before {color: black;}#sk-container-id-1 div.sk-estimator:hover label.sk-toggleable__label-arrow:before {color: black;}#sk-container-id-1 div.sk-toggleable__content {max-height: 0;max-width: 0;overflow: hidden;text-align: left;background-color: #f0f8ff;}#sk-container-id-1 div.sk-toggleable__content pre {margin: 0.2em;color: black;border-radius: 0.25em;background-color: #f0f8ff;}#sk-container-id-1 input.sk-toggleable__control:checked~div.sk-toggleable__content {max-height: 200px;max-width: 100%;overflow: auto;}#sk-container-id-1 input.sk-toggleable__control:checked~label.sk-toggleable__label-arrow:before {content: \"▾\";}#sk-container-id-1 div.sk-estimator input.sk-toggleable__control:checked~label.sk-toggleable__label {background-color: #d4ebff;}#sk-container-id-1 div.sk-label input.sk-toggleable__control:checked~label.sk-toggleable__label {background-color: #d4ebff;}#sk-container-id-1 input.sk-hidden--visually {border: 0;clip: rect(1px 1px 1px 1px);clip: rect(1px, 1px, 1px, 1px);height: 1px;margin: -1px;overflow: hidden;padding: 0;position: absolute;width: 1px;}#sk-container-id-1 div.sk-estimator {font-family: monospace;background-color: #f0f8ff;border: 1px dotted black;border-radius: 0.25em;box-sizing: border-box;margin-bottom: 0.5em;}#sk-container-id-1 div.sk-estimator:hover {background-color: #d4ebff;}#sk-container-id-1 div.sk-parallel-item::after {content: \"\";width: 100%;border-bottom: 1px solid gray;flex-grow: 1;}#sk-container-id-1 div.sk-label:hover label.sk-toggleable__label {background-color: #d4ebff;}#sk-container-id-1 div.sk-serial::before {content: \"\";position: absolute;border-left: 1px solid gray;box-sizing: border-box;top: 0;bottom: 0;left: 50%;z-index: 0;}#sk-container-id-1 div.sk-serial {display: flex;flex-direction: column;align-items: center;background-color: white;padding-right: 0.2em;padding-left: 0.2em;position: relative;}#sk-container-id-1 div.sk-item {position: relative;z-index: 1;}#sk-container-id-1 div.sk-parallel {display: flex;align-items: stretch;justify-content: center;background-color: white;position: relative;}#sk-container-id-1 div.sk-item::before, #sk-container-id-1 div.sk-parallel-item::before {content: \"\";position: absolute;border-left: 1px solid gray;box-sizing: border-box;top: 0;bottom: 0;left: 50%;z-index: -1;}#sk-container-id-1 div.sk-parallel-item {display: flex;flex-direction: column;z-index: 1;position: relative;background-color: white;}#sk-container-id-1 div.sk-parallel-item:first-child::after {align-self: flex-end;width: 50%;}#sk-container-id-1 div.sk-parallel-item:last-child::after {align-self: flex-start;width: 50%;}#sk-container-id-1 div.sk-parallel-item:only-child::after {width: 0;}#sk-container-id-1 div.sk-dashed-wrapped {border: 1px dashed gray;margin: 0 0.4em 0.5em 0.4em;box-sizing: border-box;padding-bottom: 0.4em;background-color: white;}#sk-container-id-1 div.sk-label label {font-family: monospace;font-weight: bold;display: inline-block;line-height: 1.2em;}#sk-container-id-1 div.sk-label-container {text-align: center;}#sk-container-id-1 div.sk-container {/* jupyter's `normalize.less` sets `[hidden] { display: none; }` but bootstrap.min.css set `[hidden] { display: none !important; }` so we also need the `!important` here to be able to override the default hidden behavior on the sphinx rendered scikit-learn.org. See: https://github.com/scikit-learn/scikit-learn/issues/21755 */display: inline-block !important;position: relative;}#sk-container-id-1 div.sk-text-repr-fallback {display: none;}</style><div id=\"sk-container-id-1\" class=\"sk-top-container\"><div class=\"sk-text-repr-fallback\"><pre>RandomForestClassifier(max_features=&#x27;log2&#x27;, min_samples_leaf=3,\n",
       "                       min_samples_split=3, random_state=123)</pre><b>In a Jupyter environment, please rerun this cell to show the HTML representation or trust the notebook. <br />On GitHub, the HTML representation is unable to render, please try loading this page with nbviewer.org.</b></div><div class=\"sk-container\" hidden><div class=\"sk-item\"><div class=\"sk-estimator sk-toggleable\"><input class=\"sk-toggleable__control sk-hidden--visually\" id=\"sk-estimator-id-1\" type=\"checkbox\" checked><label for=\"sk-estimator-id-1\" class=\"sk-toggleable__label sk-toggleable__label-arrow\">RandomForestClassifier</label><div class=\"sk-toggleable__content\"><pre>RandomForestClassifier(max_features=&#x27;log2&#x27;, min_samples_leaf=3,\n",
       "                       min_samples_split=3, random_state=123)</pre></div></div></div></div></div>"
      ],
      "text/plain": [
       "RandomForestClassifier(max_features='log2', min_samples_leaf=3,\n",
       "                       min_samples_split=3, random_state=123)"
      ]
     },
     "execution_count": 85,
     "metadata": {},
     "output_type": "execute_result"
    }
   ],
   "source": [
    "clf.fit(X_train_train, y_train)"
   ]
  },
  {
   "cell_type": "code",
   "execution_count": null,
   "metadata": {},
   "outputs": [
    {
     "data": {
      "text/plain": [
       "0.99122106943336"
      ]
     },
     "execution_count": 86,
     "metadata": {},
     "output_type": "execute_result"
    }
   ],
   "source": [
    "# evaluate accuracy on training set\n",
    "clf.score(X_train_train, y_train)"
   ]
  },
  {
   "cell_type": "code",
   "execution_count": null,
   "metadata": {},
   "outputs": [
    {
     "data": {
      "text/plain": [
       "0.9515828677839852"
      ]
     },
     "execution_count": 87,
     "metadata": {},
     "output_type": "execute_result"
    }
   ],
   "source": [
    "# evaluate accuracy on test set\n",
    "clf.score(X_train_test, y_test)"
   ]
  },
  {
   "cell_type": "code",
   "execution_count": null,
   "metadata": {},
   "outputs": [
    {
     "data": {
      "text/plain": [
       "array([0, 0, 0, ..., 0, 0, 0], dtype=int64)"
      ]
     },
     "execution_count": 88,
     "metadata": {},
     "output_type": "execute_result"
    }
   ],
   "source": [
    "pred = clf.predict(X_train_train)\n",
    "pred"
   ]
  },
  {
   "attachments": {},
   "cell_type": "markdown",
   "metadata": {},
   "source": [
    "### Tuning Random Forest"
   ]
  },
  {
   "cell_type": "code",
   "execution_count": null,
   "metadata": {},
   "outputs": [],
   "source": [
    "parameters = {\n",
    "    'n_estimators': (50, 100, 200),\n",
    "    'max_depth': (3, 5, None),\n",
    "    'min_samples_split': (1, 3, 6),\n",
    "    'min_samples_leaf': (1, 3, 6),\n",
    "    }\n",
    "\n",
    "model = GridSearchCV(\n",
    "    clf, \n",
    "    parameters,\n",
    "    cv=3, \n",
    "    n_jobs =-1)"
   ]
  },
  {
   "cell_type": "code",
   "execution_count": null,
   "metadata": {},
   "outputs": [
    {
     "name": "stderr",
     "output_type": "stream",
     "text": [
      "\n",
      "81 fits failed out of a total of 243.\n",
      "The score on these train-test partitions for these parameters will be set to nan.\n",
      "If these failures are not expected, you can try to debug them by setting error_score='raise'.\n",
      "\n",
      "Below are more details about the failures:\n",
      "--------------------------------------------------------------------------------\n",
      "81 fits failed with the following error:\n",
      "Traceback (most recent call last):\n",
      "  File \"c:\\Users\\Nutzer\\.conda\\envs\\customer_analytics\\lib\\site-packages\\sklearn\\model_selection\\_validation.py\", line 686, in _fit_and_score\n",
      "    estimator.fit(X_train, y_train, **fit_params)\n",
      "  File \"c:\\Users\\Nutzer\\.conda\\envs\\customer_analytics\\lib\\site-packages\\sklearn\\ensemble\\_forest.py\", line 476, in fit\n",
      "    trees = Parallel(\n",
      "  File \"c:\\Users\\Nutzer\\.conda\\envs\\customer_analytics\\lib\\site-packages\\joblib\\parallel.py\", line 1041, in __call__\n",
      "    if self.dispatch_one_batch(iterator):\n",
      "  File \"c:\\Users\\Nutzer\\.conda\\envs\\customer_analytics\\lib\\site-packages\\joblib\\parallel.py\", line 859, in dispatch_one_batch\n",
      "    self._dispatch(tasks)\n",
      "  File \"c:\\Users\\Nutzer\\.conda\\envs\\customer_analytics\\lib\\site-packages\\joblib\\parallel.py\", line 777, in _dispatch\n",
      "    job = self._backend.apply_async(batch, callback=cb)\n",
      "  File \"c:\\Users\\Nutzer\\.conda\\envs\\customer_analytics\\lib\\site-packages\\joblib\\_parallel_backends.py\", line 208, in apply_async\n",
      "    result = ImmediateResult(func)\n",
      "  File \"c:\\Users\\Nutzer\\.conda\\envs\\customer_analytics\\lib\\site-packages\\joblib\\_parallel_backends.py\", line 572, in __init__\n",
      "    self.results = batch()\n",
      "  File \"c:\\Users\\Nutzer\\.conda\\envs\\customer_analytics\\lib\\site-packages\\joblib\\parallel.py\", line 262, in __call__\n",
      "    return [func(*args, **kwargs)\n",
      "  File \"c:\\Users\\Nutzer\\.conda\\envs\\customer_analytics\\lib\\site-packages\\joblib\\parallel.py\", line 262, in <listcomp>\n",
      "    return [func(*args, **kwargs)\n",
      "  File \"c:\\Users\\Nutzer\\.conda\\envs\\customer_analytics\\lib\\site-packages\\sklearn\\utils\\fixes.py\", line 117, in __call__\n",
      "    return self.function(*args, **kwargs)\n",
      "  File \"c:\\Users\\Nutzer\\.conda\\envs\\customer_analytics\\lib\\site-packages\\sklearn\\ensemble\\_forest.py\", line 189, in _parallel_build_trees\n",
      "    tree.fit(X, y, sample_weight=curr_sample_weight, check_input=False)\n",
      "  File \"c:\\Users\\Nutzer\\.conda\\envs\\customer_analytics\\lib\\site-packages\\sklearn\\tree\\_classes.py\", line 969, in fit\n",
      "    super().fit(\n",
      "  File \"c:\\Users\\Nutzer\\.conda\\envs\\customer_analytics\\lib\\site-packages\\sklearn\\tree\\_classes.py\", line 265, in fit\n",
      "    check_scalar(\n",
      "  File \"c:\\Users\\Nutzer\\.conda\\envs\\customer_analytics\\lib\\site-packages\\sklearn\\utils\\validation.py\", line 1480, in check_scalar\n",
      "    raise ValueError(\n",
      "ValueError: min_samples_split == 1, must be >= 2.\n",
      "\n",
      "One or more of the test scores are non-finite: [       nan        nan        nan 0.82947592 0.82681564 0.82681564\n",
      " 0.82947592 0.82681564 0.82681564        nan        nan        nan\n",
      " 0.82947592 0.82681564 0.82681564 0.82947592 0.82681564 0.82681564\n",
      "        nan        nan        nan 0.82947592 0.82654961 0.82654961\n",
      " 0.82947592 0.82654961 0.82654961        nan        nan        nan\n",
      " 0.90742219 0.90742219 0.90609205 0.90715616 0.9066241  0.9066241\n",
      "        nan        nan        nan 0.90715616 0.90635807 0.90582602\n",
      " 0.90715616 0.90635807 0.90582602        nan        nan        nan\n",
      " 0.9066241  0.90635807 0.90609205 0.9066241  0.90635807 0.90609205\n",
      "        nan        nan        nan 0.94360202 0.9462623  0.94546422\n",
      " 0.94173982 0.94306997 0.94599628        nan        nan        nan\n",
      " 0.94200585 0.94120777 0.94120777 0.94200585 0.94120777 0.94120777\n",
      "        nan        nan        nan 0.93163075 0.93269487 0.93322692\n",
      " 0.93163075 0.93269487 0.93322692]\n"
     ]
    },
    {
     "data": {
      "text/html": [
       "<style>#sk-container-id-2 {color: black;background-color: white;}#sk-container-id-2 pre{padding: 0;}#sk-container-id-2 div.sk-toggleable {background-color: white;}#sk-container-id-2 label.sk-toggleable__label {cursor: pointer;display: block;width: 100%;margin-bottom: 0;padding: 0.3em;box-sizing: border-box;text-align: center;}#sk-container-id-2 label.sk-toggleable__label-arrow:before {content: \"▸\";float: left;margin-right: 0.25em;color: #696969;}#sk-container-id-2 label.sk-toggleable__label-arrow:hover:before {color: black;}#sk-container-id-2 div.sk-estimator:hover label.sk-toggleable__label-arrow:before {color: black;}#sk-container-id-2 div.sk-toggleable__content {max-height: 0;max-width: 0;overflow: hidden;text-align: left;background-color: #f0f8ff;}#sk-container-id-2 div.sk-toggleable__content pre {margin: 0.2em;color: black;border-radius: 0.25em;background-color: #f0f8ff;}#sk-container-id-2 input.sk-toggleable__control:checked~div.sk-toggleable__content {max-height: 200px;max-width: 100%;overflow: auto;}#sk-container-id-2 input.sk-toggleable__control:checked~label.sk-toggleable__label-arrow:before {content: \"▾\";}#sk-container-id-2 div.sk-estimator input.sk-toggleable__control:checked~label.sk-toggleable__label {background-color: #d4ebff;}#sk-container-id-2 div.sk-label input.sk-toggleable__control:checked~label.sk-toggleable__label {background-color: #d4ebff;}#sk-container-id-2 input.sk-hidden--visually {border: 0;clip: rect(1px 1px 1px 1px);clip: rect(1px, 1px, 1px, 1px);height: 1px;margin: -1px;overflow: hidden;padding: 0;position: absolute;width: 1px;}#sk-container-id-2 div.sk-estimator {font-family: monospace;background-color: #f0f8ff;border: 1px dotted black;border-radius: 0.25em;box-sizing: border-box;margin-bottom: 0.5em;}#sk-container-id-2 div.sk-estimator:hover {background-color: #d4ebff;}#sk-container-id-2 div.sk-parallel-item::after {content: \"\";width: 100%;border-bottom: 1px solid gray;flex-grow: 1;}#sk-container-id-2 div.sk-label:hover label.sk-toggleable__label {background-color: #d4ebff;}#sk-container-id-2 div.sk-serial::before {content: \"\";position: absolute;border-left: 1px solid gray;box-sizing: border-box;top: 0;bottom: 0;left: 50%;z-index: 0;}#sk-container-id-2 div.sk-serial {display: flex;flex-direction: column;align-items: center;background-color: white;padding-right: 0.2em;padding-left: 0.2em;position: relative;}#sk-container-id-2 div.sk-item {position: relative;z-index: 1;}#sk-container-id-2 div.sk-parallel {display: flex;align-items: stretch;justify-content: center;background-color: white;position: relative;}#sk-container-id-2 div.sk-item::before, #sk-container-id-2 div.sk-parallel-item::before {content: \"\";position: absolute;border-left: 1px solid gray;box-sizing: border-box;top: 0;bottom: 0;left: 50%;z-index: -1;}#sk-container-id-2 div.sk-parallel-item {display: flex;flex-direction: column;z-index: 1;position: relative;background-color: white;}#sk-container-id-2 div.sk-parallel-item:first-child::after {align-self: flex-end;width: 50%;}#sk-container-id-2 div.sk-parallel-item:last-child::after {align-self: flex-start;width: 50%;}#sk-container-id-2 div.sk-parallel-item:only-child::after {width: 0;}#sk-container-id-2 div.sk-dashed-wrapped {border: 1px dashed gray;margin: 0 0.4em 0.5em 0.4em;box-sizing: border-box;padding-bottom: 0.4em;background-color: white;}#sk-container-id-2 div.sk-label label {font-family: monospace;font-weight: bold;display: inline-block;line-height: 1.2em;}#sk-container-id-2 div.sk-label-container {text-align: center;}#sk-container-id-2 div.sk-container {/* jupyter's `normalize.less` sets `[hidden] { display: none; }` but bootstrap.min.css set `[hidden] { display: none !important; }` so we also need the `!important` here to be able to override the default hidden behavior on the sphinx rendered scikit-learn.org. See: https://github.com/scikit-learn/scikit-learn/issues/21755 */display: inline-block !important;position: relative;}#sk-container-id-2 div.sk-text-repr-fallback {display: none;}</style><div id=\"sk-container-id-2\" class=\"sk-top-container\"><div class=\"sk-text-repr-fallback\"><pre>GridSearchCV(cv=3,\n",
       "             estimator=RandomForestClassifier(max_features=&#x27;log2&#x27;,\n",
       "                                              min_samples_leaf=3,\n",
       "                                              min_samples_split=3,\n",
       "                                              random_state=123),\n",
       "             n_jobs=-1,\n",
       "             param_grid={&#x27;max_depth&#x27;: (3, 5, None),\n",
       "                         &#x27;min_samples_leaf&#x27;: (1, 3, 6),\n",
       "                         &#x27;min_samples_split&#x27;: (1, 3, 6),\n",
       "                         &#x27;n_estimators&#x27;: (50, 100, 200)})</pre><b>In a Jupyter environment, please rerun this cell to show the HTML representation or trust the notebook. <br />On GitHub, the HTML representation is unable to render, please try loading this page with nbviewer.org.</b></div><div class=\"sk-container\" hidden><div class=\"sk-item sk-dashed-wrapped\"><div class=\"sk-label-container\"><div class=\"sk-label sk-toggleable\"><input class=\"sk-toggleable__control sk-hidden--visually\" id=\"sk-estimator-id-2\" type=\"checkbox\" ><label for=\"sk-estimator-id-2\" class=\"sk-toggleable__label sk-toggleable__label-arrow\">GridSearchCV</label><div class=\"sk-toggleable__content\"><pre>GridSearchCV(cv=3,\n",
       "             estimator=RandomForestClassifier(max_features=&#x27;log2&#x27;,\n",
       "                                              min_samples_leaf=3,\n",
       "                                              min_samples_split=3,\n",
       "                                              random_state=123),\n",
       "             n_jobs=-1,\n",
       "             param_grid={&#x27;max_depth&#x27;: (3, 5, None),\n",
       "                         &#x27;min_samples_leaf&#x27;: (1, 3, 6),\n",
       "                         &#x27;min_samples_split&#x27;: (1, 3, 6),\n",
       "                         &#x27;n_estimators&#x27;: (50, 100, 200)})</pre></div></div></div><div class=\"sk-parallel\"><div class=\"sk-parallel-item\"><div class=\"sk-item\"><div class=\"sk-label-container\"><div class=\"sk-label sk-toggleable\"><input class=\"sk-toggleable__control sk-hidden--visually\" id=\"sk-estimator-id-3\" type=\"checkbox\" ><label for=\"sk-estimator-id-3\" class=\"sk-toggleable__label sk-toggleable__label-arrow\">estimator: RandomForestClassifier</label><div class=\"sk-toggleable__content\"><pre>RandomForestClassifier(max_features=&#x27;log2&#x27;, min_samples_leaf=3,\n",
       "                       min_samples_split=3, random_state=123)</pre></div></div></div><div class=\"sk-serial\"><div class=\"sk-item\"><div class=\"sk-estimator sk-toggleable\"><input class=\"sk-toggleable__control sk-hidden--visually\" id=\"sk-estimator-id-4\" type=\"checkbox\" ><label for=\"sk-estimator-id-4\" class=\"sk-toggleable__label sk-toggleable__label-arrow\">RandomForestClassifier</label><div class=\"sk-toggleable__content\"><pre>RandomForestClassifier(max_features=&#x27;log2&#x27;, min_samples_leaf=3,\n",
       "                       min_samples_split=3, random_state=123)</pre></div></div></div></div></div></div></div></div></div></div>"
      ],
      "text/plain": [
       "GridSearchCV(cv=3,\n",
       "             estimator=RandomForestClassifier(max_features='log2',\n",
       "                                              min_samples_leaf=3,\n",
       "                                              min_samples_split=3,\n",
       "                                              random_state=123),\n",
       "             n_jobs=-1,\n",
       "             param_grid={'max_depth': (3, 5, None),\n",
       "                         'min_samples_leaf': (1, 3, 6),\n",
       "                         'min_samples_split': (1, 3, 6),\n",
       "                         'n_estimators': (50, 100, 200)})"
      ]
     },
     "execution_count": 90,
     "metadata": {},
     "output_type": "execute_result"
    }
   ],
   "source": [
    "model.fit(X_train_train, y_train)"
   ]
  },
  {
   "cell_type": "code",
   "execution_count": null,
   "metadata": {},
   "outputs": [
    {
     "data": {
      "text/plain": [
       "1.0"
      ]
     },
     "execution_count": 91,
     "metadata": {},
     "output_type": "execute_result"
    }
   ],
   "source": [
    "# evaluate accuracy on training set\n",
    "model.score(X_train_train, y_train)"
   ]
  },
  {
   "cell_type": "code",
   "execution_count": null,
   "metadata": {},
   "outputs": [
    {
     "data": {
      "text/plain": [
       "0.9534450651769087"
      ]
     },
     "execution_count": 92,
     "metadata": {},
     "output_type": "execute_result"
    }
   ],
   "source": [
    "# evaluate accuracy on test set\n",
    "model.score(X_train_test, y_test)"
   ]
  },
  {
   "cell_type": "code",
   "execution_count": null,
   "metadata": {},
   "outputs": [
    {
     "data": {
      "text/plain": [
       "array([0, 0, 0, ..., 0, 0, 0], dtype=int64)"
      ]
     },
     "execution_count": 93,
     "metadata": {},
     "output_type": "execute_result"
    }
   ],
   "source": [
    "# predict\n",
    "model.predict(X_train_train)"
   ]
  },
  {
   "cell_type": "code",
   "execution_count": null,
   "metadata": {},
   "outputs": [
    {
     "data": {
      "text/plain": [
       "{'max_depth': None,\n",
       " 'min_samples_leaf': 1,\n",
       " 'min_samples_split': 3,\n",
       " 'n_estimators': 100}"
      ]
     },
     "execution_count": 94,
     "metadata": {},
     "output_type": "execute_result"
    }
   ],
   "source": [
    "model.best_params_"
   ]
  },
  {
   "cell_type": "code",
   "execution_count": null,
   "metadata": {},
   "outputs": [],
   "source": [
    "# Save the trained classifier\n",
    "with open('../artifacts/model.pickle', 'wb') as filename:\n",
    "    pickle.dump(model, filename)"
   ]
  },
  {
   "attachments": {},
   "cell_type": "markdown",
   "metadata": {},
   "source": [
    "# Model Evaluation"
   ]
  },
  {
   "cell_type": "code",
   "execution_count": null,
   "metadata": {},
   "outputs": [
    {
     "data": {
      "image/png": "[encoded data removed]",
      "text/plain": [
       "<Figure size 432x288 with 2 Axes>"
      ]
     },
     "metadata": {
      "needs_background": "light"
     },
     "output_type": "display_data"
    }
   ],
   "source": [
    "# plot confusion matrix for training data\n",
    "cm = confusion_matrix(y_train, model.predict(X_train_train), labels=clf.classes_)\n",
    "\n",
    "disp = ConfusionMatrixDisplay(\n",
    "    confusion_matrix=cm,                            \n",
    "    display_labels=clf.classes_)\n",
    "disp.plot()\n",
    "plt.show()"
   ]
  },
  {
   "cell_type": "code",
   "execution_count": null,
   "metadata": {},
   "outputs": [
    {
     "data": {
      "image/png": "[encoded data removed]",
      "text/plain": [
       "<Figure size 432x288 with 2 Axes>"
      ]
     },
     "metadata": {
      "needs_background": "light"
     },
     "output_type": "display_data"
    }
   ],
   "source": [
    "# plot confusion matrix for training data\n",
    "cm = confusion_matrix(y_test, model.predict(X_train_test), labels=clf.classes_)\n",
    "\n",
    "disp = ConfusionMatrixDisplay(\n",
    "    confusion_matrix=cm,                            \n",
    "    display_labels=clf.classes_)\n",
    "disp.plot()\n",
    "plt.show()"
   ]
  }
 ],
 "metadata": {
  "colab": {
   "provenance": []
  },
  "instance_type": "ml.t3.medium",
  "kernelspec": {
   "display_name": "customer_analytics",
   "language": "python",
   "name": "python3"
  },
  "language_info": {
   "codemirror_mode": {
    "name": "ipython",
    "version": 3
   },
   "file_extension": ".py",
   "mimetype": "text/x-python",
   "name": "python",
   "nbconvert_exporter": "python",
   "pygments_lexer": "ipython3",
   "version": "3.8.13"
  },
  "vscode": {
   "interpreter": {
    "hash": "d6d257a4de92dbbd8540bc21a788c880e0ed004671baa4a130c0cbca69d8aa15"
   }
  }
 },
 "nbformat": 4,
 "nbformat_minor": 4
}
