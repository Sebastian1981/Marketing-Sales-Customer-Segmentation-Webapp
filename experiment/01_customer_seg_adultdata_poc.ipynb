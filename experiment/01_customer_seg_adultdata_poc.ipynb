{
 "cells": [
  {
   "attachments": {},
   "cell_type": "markdown",
   "metadata": {
    "id": "M27qF7CTrBqc"
   },
   "source": [
    "# Segment the adult dataset using GOWER similarity and DBScan Clustering"
   ]
  },
  {
   "cell_type": "code",
   "execution_count": 1,
   "metadata": {},
   "outputs": [],
   "source": [
    "%matplotlib inline\n",
    "import pickle\n",
    "\n",
    "# data processing\n",
    "import numpy as np\n",
    "import pandas as pd\n",
    "from sklearn.model_selection import train_test_split\n",
    "from sklearn.impute import SimpleImputer\n",
    "from sklearn.preprocessing import OneHotEncoder\n",
    "from feature_engine.encoding import RareLabelEncoder\n",
    "from feature_engine.outliers import Winsorizer\n",
    "\n",
    "# data visualization\n",
    "import matplotlib.pyplot as plt\n",
    "import seaborn as sns\n",
    "\n",
    "# Clustering\n",
    "import gower\n",
    "from sklearn.cluster import DBSCAN\n",
    "from sklearn.metrics import silhouette_score\n",
    "\n",
    "# Supervised Learning\n",
    "from sklearn.ensemble import RandomForestClassifier\n",
    "from sklearn.model_selection import GridSearchCV\n",
    "\n",
    "# Model Evaluation\n",
    "from sklearn.metrics import confusion_matrix, ConfusionMatrixDisplay\n",
    "\n",
    "# Cluster Explainability\n",
    "import shap\n",
    "\n",
    "\n",
    "\n"
   ]
  },
  {
   "cell_type": "code",
   "execution_count": 2,
   "metadata": {},
   "outputs": [],
   "source": [
    "#sns.set_theme(style=\"darkgrid\")"
   ]
  },
  {
   "attachments": {},
   "cell_type": "markdown",
   "metadata": {},
   "source": [
    "# Import Data\n",
    "the dataset is available here: https://archive.ics.uci.edu/ml/datasets/adult"
   ]
  },
  {
   "cell_type": "code",
   "execution_count": 3,
   "metadata": {},
   "outputs": [],
   "source": [
    "\n",
    "try:\n",
    "        # load the local dataset \n",
    "        df = pd.read_csv('../data/adult_dataset.csv')\n",
    "except:\n",
    "        # load the dataset from uci\n",
    "        features = [\"Age\", \"Workclass\", \"fnlwgt\", \"Education\", \"Education-Num\", \"Martial Status\",\n",
    "                \"Occupation\", \"Relationship\", \"Race\", \"Sex\", \"Capital Gain\", \"Capital Loss\",\n",
    "                \"Hours per week\", \"Country\", \"Target\"] \n",
    "\n",
    "        # Change these to local file if available\n",
    "        train_url = 'https://archive.ics.uci.edu/ml/machine-learning-databases/adult/adult.data'\n",
    "        test_url = 'https://archive.ics.uci.edu/ml/machine-learning-databases/adult/adult.test'\n",
    "\n",
    "        # This will download 3.8M\n",
    "        original_train = pd.read_csv(train_url, names=features, sep=r'\\s*,\\s*', \n",
    "                                engine='python', na_values=\"?\")\n",
    "        # This will download 1.9M\n",
    "        original_test = pd.read_csv(test_url, names=features, sep=r'\\s*,\\s*', \n",
    "                                engine='python', na_values=\"?\", skiprows=1)\n",
    "\n",
    "        # combine both datasets\n",
    "        df = pd.concat([original_train, original_test], axis=0)\n",
    "        # save the data locally\n",
    "        df.to_csv('../data/adult_dataset.csv', index=False)                            "
   ]
  },
  {
   "cell_type": "code",
   "execution_count": 4,
   "metadata": {},
   "outputs": [
    {
     "data": {
      "text/html": [
       "<div>\n",
       "<style scoped>\n",
       "    .dataframe tbody tr th:only-of-type {\n",
       "        vertical-align: middle;\n",
       "    }\n",
       "\n",
       "    .dataframe tbody tr th {\n",
       "        vertical-align: top;\n",
       "    }\n",
       "\n",
       "    .dataframe thead th {\n",
       "        text-align: right;\n",
       "    }\n",
       "</style>\n",
       "<table border=\"1\" class=\"dataframe\">\n",
       "  <thead>\n",
       "    <tr style=\"text-align: right;\">\n",
       "      <th></th>\n",
       "      <th>Age</th>\n",
       "      <th>Workclass</th>\n",
       "      <th>fnlwgt</th>\n",
       "      <th>Education</th>\n",
       "      <th>Education-Num</th>\n",
       "      <th>Martial Status</th>\n",
       "      <th>Occupation</th>\n",
       "      <th>Relationship</th>\n",
       "      <th>Race</th>\n",
       "      <th>Sex</th>\n",
       "      <th>Capital Gain</th>\n",
       "      <th>Capital Loss</th>\n",
       "      <th>Hours per week</th>\n",
       "      <th>Country</th>\n",
       "      <th>Target</th>\n",
       "    </tr>\n",
       "  </thead>\n",
       "  <tbody>\n",
       "    <tr>\n",
       "      <th>0</th>\n",
       "      <td>39</td>\n",
       "      <td>State-gov</td>\n",
       "      <td>77516</td>\n",
       "      <td>Bachelors</td>\n",
       "      <td>13</td>\n",
       "      <td>Never-married</td>\n",
       "      <td>Adm-clerical</td>\n",
       "      <td>Not-in-family</td>\n",
       "      <td>White</td>\n",
       "      <td>Male</td>\n",
       "      <td>2174</td>\n",
       "      <td>0</td>\n",
       "      <td>40</td>\n",
       "      <td>United-States</td>\n",
       "      <td>&lt;=50K</td>\n",
       "    </tr>\n",
       "    <tr>\n",
       "      <th>1</th>\n",
       "      <td>50</td>\n",
       "      <td>Self-emp-not-inc</td>\n",
       "      <td>83311</td>\n",
       "      <td>Bachelors</td>\n",
       "      <td>13</td>\n",
       "      <td>Married-civ-spouse</td>\n",
       "      <td>Exec-managerial</td>\n",
       "      <td>Husband</td>\n",
       "      <td>White</td>\n",
       "      <td>Male</td>\n",
       "      <td>0</td>\n",
       "      <td>0</td>\n",
       "      <td>13</td>\n",
       "      <td>United-States</td>\n",
       "      <td>&lt;=50K</td>\n",
       "    </tr>\n",
       "    <tr>\n",
       "      <th>2</th>\n",
       "      <td>38</td>\n",
       "      <td>Private</td>\n",
       "      <td>215646</td>\n",
       "      <td>HS-grad</td>\n",
       "      <td>9</td>\n",
       "      <td>Divorced</td>\n",
       "      <td>Handlers-cleaners</td>\n",
       "      <td>Not-in-family</td>\n",
       "      <td>White</td>\n",
       "      <td>Male</td>\n",
       "      <td>0</td>\n",
       "      <td>0</td>\n",
       "      <td>40</td>\n",
       "      <td>United-States</td>\n",
       "      <td>&lt;=50K</td>\n",
       "    </tr>\n",
       "    <tr>\n",
       "      <th>3</th>\n",
       "      <td>53</td>\n",
       "      <td>Private</td>\n",
       "      <td>234721</td>\n",
       "      <td>11th</td>\n",
       "      <td>7</td>\n",
       "      <td>Married-civ-spouse</td>\n",
       "      <td>Handlers-cleaners</td>\n",
       "      <td>Husband</td>\n",
       "      <td>Black</td>\n",
       "      <td>Male</td>\n",
       "      <td>0</td>\n",
       "      <td>0</td>\n",
       "      <td>40</td>\n",
       "      <td>United-States</td>\n",
       "      <td>&lt;=50K</td>\n",
       "    </tr>\n",
       "    <tr>\n",
       "      <th>4</th>\n",
       "      <td>28</td>\n",
       "      <td>Private</td>\n",
       "      <td>338409</td>\n",
       "      <td>Bachelors</td>\n",
       "      <td>13</td>\n",
       "      <td>Married-civ-spouse</td>\n",
       "      <td>Prof-specialty</td>\n",
       "      <td>Wife</td>\n",
       "      <td>Black</td>\n",
       "      <td>Female</td>\n",
       "      <td>0</td>\n",
       "      <td>0</td>\n",
       "      <td>40</td>\n",
       "      <td>Cuba</td>\n",
       "      <td>&lt;=50K</td>\n",
       "    </tr>\n",
       "  </tbody>\n",
       "</table>\n",
       "</div>"
      ],
      "text/plain": [
       "   Age         Workclass  fnlwgt  Education  Education-Num  \\\n",
       "0   39         State-gov   77516  Bachelors             13   \n",
       "1   50  Self-emp-not-inc   83311  Bachelors             13   \n",
       "2   38           Private  215646    HS-grad              9   \n",
       "3   53           Private  234721       11th              7   \n",
       "4   28           Private  338409  Bachelors             13   \n",
       "\n",
       "       Martial Status         Occupation   Relationship   Race     Sex  \\\n",
       "0       Never-married       Adm-clerical  Not-in-family  White    Male   \n",
       "1  Married-civ-spouse    Exec-managerial        Husband  White    Male   \n",
       "2            Divorced  Handlers-cleaners  Not-in-family  White    Male   \n",
       "3  Married-civ-spouse  Handlers-cleaners        Husband  Black    Male   \n",
       "4  Married-civ-spouse     Prof-specialty           Wife  Black  Female   \n",
       "\n",
       "   Capital Gain  Capital Loss  Hours per week        Country Target  \n",
       "0          2174             0              40  United-States  <=50K  \n",
       "1             0             0              13  United-States  <=50K  \n",
       "2             0             0              40  United-States  <=50K  \n",
       "3             0             0              40  United-States  <=50K  \n",
       "4             0             0              40           Cuba  <=50K  "
      ]
     },
     "execution_count": 4,
     "metadata": {},
     "output_type": "execute_result"
    }
   ],
   "source": [
    "df.head()"
   ]
  },
  {
   "cell_type": "code",
   "execution_count": 5,
   "metadata": {},
   "outputs": [],
   "source": [
    "# Relabel taget colum since there is no target in unsupervised learning\n",
    "df.rename(columns={\"Target\": \"Income\"}, inplace=True)"
   ]
  },
  {
   "cell_type": "code",
   "execution_count": 6,
   "metadata": {},
   "outputs": [],
   "source": [
    "#Correct the Income column typo\n",
    "df['Income'] = df['Income'].apply(lambda x: x.replace('.', ''))"
   ]
  },
  {
   "attachments": {},
   "cell_type": "markdown",
   "metadata": {},
   "source": [
    "# Train-Test Split the Data"
   ]
  },
  {
   "cell_type": "code",
   "execution_count": 7,
   "metadata": {},
   "outputs": [
    {
     "data": {
      "text/plain": [
       "(48842, 15)"
      ]
     },
     "execution_count": 7,
     "metadata": {},
     "output_type": "execute_result"
    }
   ],
   "source": [
    "df.shape"
   ]
  },
  {
   "cell_type": "code",
   "execution_count": 8,
   "metadata": {},
   "outputs": [],
   "source": [
    "# way too much data for training; let´s split the data\n",
    "X_train, X_test = train_test_split(df, test_size=0.8, random_state=123)"
   ]
  },
  {
   "cell_type": "code",
   "execution_count": 9,
   "metadata": {},
   "outputs": [
    {
     "data": {
      "text/plain": [
       "(9768, 15)"
      ]
     },
     "execution_count": 9,
     "metadata": {},
     "output_type": "execute_result"
    }
   ],
   "source": [
    "X_train.shape"
   ]
  },
  {
   "cell_type": "code",
   "execution_count": 10,
   "metadata": {},
   "outputs": [
    {
     "data": {
      "text/plain": [
       "(39074, 15)"
      ]
     },
     "execution_count": 10,
     "metadata": {},
     "output_type": "execute_result"
    }
   ],
   "source": [
    "X_test.shape"
   ]
  },
  {
   "cell_type": "code",
   "execution_count": 11,
   "metadata": {},
   "outputs": [
    {
     "data": {
      "text/html": [
       "<div>\n",
       "<style scoped>\n",
       "    .dataframe tbody tr th:only-of-type {\n",
       "        vertical-align: middle;\n",
       "    }\n",
       "\n",
       "    .dataframe tbody tr th {\n",
       "        vertical-align: top;\n",
       "    }\n",
       "\n",
       "    .dataframe thead th {\n",
       "        text-align: right;\n",
       "    }\n",
       "</style>\n",
       "<table border=\"1\" class=\"dataframe\">\n",
       "  <thead>\n",
       "    <tr style=\"text-align: right;\">\n",
       "      <th></th>\n",
       "      <th>Age</th>\n",
       "      <th>Workclass</th>\n",
       "      <th>fnlwgt</th>\n",
       "      <th>Education</th>\n",
       "      <th>Education-Num</th>\n",
       "      <th>Martial Status</th>\n",
       "      <th>Occupation</th>\n",
       "      <th>Relationship</th>\n",
       "      <th>Race</th>\n",
       "      <th>Sex</th>\n",
       "      <th>Capital Gain</th>\n",
       "      <th>Capital Loss</th>\n",
       "      <th>Hours per week</th>\n",
       "      <th>Country</th>\n",
       "      <th>Income</th>\n",
       "    </tr>\n",
       "  </thead>\n",
       "  <tbody>\n",
       "    <tr>\n",
       "      <th>20904</th>\n",
       "      <td>20</td>\n",
       "      <td>Private</td>\n",
       "      <td>194630</td>\n",
       "      <td>HS-grad</td>\n",
       "      <td>9</td>\n",
       "      <td>Married-civ-spouse</td>\n",
       "      <td>Adm-clerical</td>\n",
       "      <td>Husband</td>\n",
       "      <td>White</td>\n",
       "      <td>Male</td>\n",
       "      <td>3781</td>\n",
       "      <td>0</td>\n",
       "      <td>50</td>\n",
       "      <td>United-States</td>\n",
       "      <td>&lt;=50K</td>\n",
       "    </tr>\n",
       "    <tr>\n",
       "      <th>47239</th>\n",
       "      <td>41</td>\n",
       "      <td>Private</td>\n",
       "      <td>143003</td>\n",
       "      <td>Masters</td>\n",
       "      <td>14</td>\n",
       "      <td>Married-civ-spouse</td>\n",
       "      <td>Tech-support</td>\n",
       "      <td>Husband</td>\n",
       "      <td>Asian-Pac-Islander</td>\n",
       "      <td>Male</td>\n",
       "      <td>0</td>\n",
       "      <td>1887</td>\n",
       "      <td>45</td>\n",
       "      <td>China</td>\n",
       "      <td>&gt;50K</td>\n",
       "    </tr>\n",
       "    <tr>\n",
       "      <th>29209</th>\n",
       "      <td>31</td>\n",
       "      <td>Private</td>\n",
       "      <td>210562</td>\n",
       "      <td>HS-grad</td>\n",
       "      <td>9</td>\n",
       "      <td>Married-civ-spouse</td>\n",
       "      <td>Transport-moving</td>\n",
       "      <td>Husband</td>\n",
       "      <td>White</td>\n",
       "      <td>Male</td>\n",
       "      <td>0</td>\n",
       "      <td>0</td>\n",
       "      <td>65</td>\n",
       "      <td>United-States</td>\n",
       "      <td>&lt;=50K</td>\n",
       "    </tr>\n",
       "    <tr>\n",
       "      <th>22674</th>\n",
       "      <td>19</td>\n",
       "      <td>Private</td>\n",
       "      <td>67759</td>\n",
       "      <td>HS-grad</td>\n",
       "      <td>9</td>\n",
       "      <td>Never-married</td>\n",
       "      <td>Machine-op-inspct</td>\n",
       "      <td>Own-child</td>\n",
       "      <td>White</td>\n",
       "      <td>Male</td>\n",
       "      <td>0</td>\n",
       "      <td>0</td>\n",
       "      <td>43</td>\n",
       "      <td>United-States</td>\n",
       "      <td>&lt;=50K</td>\n",
       "    </tr>\n",
       "    <tr>\n",
       "      <th>11463</th>\n",
       "      <td>45</td>\n",
       "      <td>Private</td>\n",
       "      <td>241350</td>\n",
       "      <td>HS-grad</td>\n",
       "      <td>9</td>\n",
       "      <td>Never-married</td>\n",
       "      <td>Transport-moving</td>\n",
       "      <td>Not-in-family</td>\n",
       "      <td>White</td>\n",
       "      <td>Male</td>\n",
       "      <td>0</td>\n",
       "      <td>0</td>\n",
       "      <td>40</td>\n",
       "      <td>United-States</td>\n",
       "      <td>&lt;=50K</td>\n",
       "    </tr>\n",
       "  </tbody>\n",
       "</table>\n",
       "</div>"
      ],
      "text/plain": [
       "       Age Workclass  fnlwgt Education  Education-Num      Martial Status  \\\n",
       "20904   20   Private  194630   HS-grad              9  Married-civ-spouse   \n",
       "47239   41   Private  143003   Masters             14  Married-civ-spouse   \n",
       "29209   31   Private  210562   HS-grad              9  Married-civ-spouse   \n",
       "22674   19   Private   67759   HS-grad              9       Never-married   \n",
       "11463   45   Private  241350   HS-grad              9       Never-married   \n",
       "\n",
       "              Occupation   Relationship                Race   Sex  \\\n",
       "20904       Adm-clerical        Husband               White  Male   \n",
       "47239       Tech-support        Husband  Asian-Pac-Islander  Male   \n",
       "29209   Transport-moving        Husband               White  Male   \n",
       "22674  Machine-op-inspct      Own-child               White  Male   \n",
       "11463   Transport-moving  Not-in-family               White  Male   \n",
       "\n",
       "       Capital Gain  Capital Loss  Hours per week        Country Income  \n",
       "20904          3781             0              50  United-States  <=50K  \n",
       "47239             0          1887              45          China   >50K  \n",
       "29209             0             0              65  United-States  <=50K  \n",
       "22674             0             0              43  United-States  <=50K  \n",
       "11463             0             0              40  United-States  <=50K  "
      ]
     },
     "execution_count": 11,
     "metadata": {},
     "output_type": "execute_result"
    }
   ],
   "source": [
    "X_train.head()"
   ]
  },
  {
   "cell_type": "markdown",
   "metadata": {},
   "source": [
    "# Exploratory Data Analysis"
   ]
  },
  {
   "cell_type": "code",
   "execution_count": 12,
   "metadata": {},
   "outputs": [
    {
     "name": "stdout",
     "output_type": "stream",
     "text": [
      "<class 'pandas.core.frame.DataFrame'>\n",
      "Int64Index: 9768 entries, 20904 to 15725\n",
      "Data columns (total 15 columns):\n",
      " #   Column          Non-Null Count  Dtype \n",
      "---  ------          --------------  ----- \n",
      " 0   Age             9768 non-null   int64 \n",
      " 1   Workclass       9171 non-null   object\n",
      " 2   fnlwgt          9768 non-null   int64 \n",
      " 3   Education       9768 non-null   object\n",
      " 4   Education-Num   9768 non-null   int64 \n",
      " 5   Martial Status  9768 non-null   object\n",
      " 6   Occupation      9171 non-null   object\n",
      " 7   Relationship    9768 non-null   object\n",
      " 8   Race            9768 non-null   object\n",
      " 9   Sex             9768 non-null   object\n",
      " 10  Capital Gain    9768 non-null   int64 \n",
      " 11  Capital Loss    9768 non-null   int64 \n",
      " 12  Hours per week  9768 non-null   int64 \n",
      " 13  Country         9605 non-null   object\n",
      " 14  Income          9768 non-null   object\n",
      "dtypes: int64(6), object(9)\n",
      "memory usage: 1.2+ MB\n"
     ]
    }
   ],
   "source": [
    "X_train.info()"
   ]
  },
  {
   "cell_type": "code",
   "execution_count": 13,
   "metadata": {},
   "outputs": [
    {
     "data": {
      "text/plain": [
       "Age                 0\n",
       "Workclass         597\n",
       "fnlwgt              0\n",
       "Education           0\n",
       "Education-Num       0\n",
       "Martial Status      0\n",
       "Occupation        597\n",
       "Relationship        0\n",
       "Race                0\n",
       "Sex                 0\n",
       "Capital Gain        0\n",
       "Capital Loss        0\n",
       "Hours per week      0\n",
       "Country           163\n",
       "Income              0\n",
       "dtype: int64"
      ]
     },
     "execution_count": 13,
     "metadata": {},
     "output_type": "execute_result"
    }
   ],
   "source": [
    "X_train.isna().sum()"
   ]
  },
  {
   "attachments": {},
   "cell_type": "markdown",
   "metadata": {},
   "source": [
    "## Impute Missing Values"
   ]
  },
  {
   "cell_type": "code",
   "execution_count": 14,
   "metadata": {},
   "outputs": [
    {
     "data": {
      "image/png": "[encoded data removed]",
      "text/plain": [
       "<Figure size 432x288 with 1 Axes>"
      ]
     },
     "metadata": {
      "needs_background": "light"
     },
     "output_type": "display_data"
    }
   ],
   "source": [
    "# Let's see if we have any missing data, luckily we don't!\n",
    "sns.heatmap(X_train.isna(), yticklabels = False, cbar = False, cmap=\"Blues\")\n",
    "plt.show()"
   ]
  },
  {
   "cell_type": "code",
   "execution_count": 15,
   "metadata": {},
   "outputs": [],
   "source": [
    "# get numeric and categorical columns\n",
    "numerics = ['int16', 'int32', 'int64', 'float16', 'float32', 'float64']"
   ]
  },
  {
   "cell_type": "code",
   "execution_count": 16,
   "metadata": {},
   "outputs": [
    {
     "data": {
      "text/plain": [
       "['Age',\n",
       " 'fnlwgt',\n",
       " 'Education-Num',\n",
       " 'Capital Gain',\n",
       " 'Capital Loss',\n",
       " 'Hours per week']"
      ]
     },
     "execution_count": 16,
     "metadata": {},
     "output_type": "execute_result"
    }
   ],
   "source": [
    "numeric_columns = X_train.select_dtypes(include=numerics).columns.to_list()\n",
    "numeric_columns"
   ]
  },
  {
   "cell_type": "code",
   "execution_count": 17,
   "metadata": {},
   "outputs": [
    {
     "data": {
      "text/plain": [
       "['Workclass',\n",
       " 'Education',\n",
       " 'Martial Status',\n",
       " 'Occupation',\n",
       " 'Relationship',\n",
       " 'Race',\n",
       " 'Sex',\n",
       " 'Country',\n",
       " 'Income']"
      ]
     },
     "execution_count": 17,
     "metadata": {},
     "output_type": "execute_result"
    }
   ],
   "source": [
    "categorical_columns = X_train.select_dtypes(exclude=numerics).columns.to_list()\n",
    "categorical_columns"
   ]
  },
  {
   "cell_type": "code",
   "execution_count": 18,
   "metadata": {},
   "outputs": [
    {
     "data": {
      "text/html": [
       "<div>\n",
       "<style scoped>\n",
       "    .dataframe tbody tr th:only-of-type {\n",
       "        vertical-align: middle;\n",
       "    }\n",
       "\n",
       "    .dataframe tbody tr th {\n",
       "        vertical-align: top;\n",
       "    }\n",
       "\n",
       "    .dataframe thead th {\n",
       "        text-align: right;\n",
       "    }\n",
       "</style>\n",
       "<table border=\"1\" class=\"dataframe\">\n",
       "  <thead>\n",
       "    <tr style=\"text-align: right;\">\n",
       "      <th></th>\n",
       "      <th>Age</th>\n",
       "      <th>fnlwgt</th>\n",
       "      <th>Education-Num</th>\n",
       "      <th>Capital Gain</th>\n",
       "      <th>Capital Loss</th>\n",
       "      <th>Hours per week</th>\n",
       "    </tr>\n",
       "  </thead>\n",
       "  <tbody>\n",
       "    <tr>\n",
       "      <th>20904</th>\n",
       "      <td>20.0</td>\n",
       "      <td>194630.0</td>\n",
       "      <td>9.0</td>\n",
       "      <td>3781.0</td>\n",
       "      <td>0.0</td>\n",
       "      <td>50.0</td>\n",
       "    </tr>\n",
       "    <tr>\n",
       "      <th>47239</th>\n",
       "      <td>41.0</td>\n",
       "      <td>143003.0</td>\n",
       "      <td>14.0</td>\n",
       "      <td>0.0</td>\n",
       "      <td>1887.0</td>\n",
       "      <td>45.0</td>\n",
       "    </tr>\n",
       "    <tr>\n",
       "      <th>29209</th>\n",
       "      <td>31.0</td>\n",
       "      <td>210562.0</td>\n",
       "      <td>9.0</td>\n",
       "      <td>0.0</td>\n",
       "      <td>0.0</td>\n",
       "      <td>65.0</td>\n",
       "    </tr>\n",
       "    <tr>\n",
       "      <th>22674</th>\n",
       "      <td>19.0</td>\n",
       "      <td>67759.0</td>\n",
       "      <td>9.0</td>\n",
       "      <td>0.0</td>\n",
       "      <td>0.0</td>\n",
       "      <td>43.0</td>\n",
       "    </tr>\n",
       "    <tr>\n",
       "      <th>11463</th>\n",
       "      <td>45.0</td>\n",
       "      <td>241350.0</td>\n",
       "      <td>9.0</td>\n",
       "      <td>0.0</td>\n",
       "      <td>0.0</td>\n",
       "      <td>40.0</td>\n",
       "    </tr>\n",
       "  </tbody>\n",
       "</table>\n",
       "</div>"
      ],
      "text/plain": [
       "        Age    fnlwgt  Education-Num  Capital Gain  Capital Loss  \\\n",
       "20904  20.0  194630.0            9.0        3781.0           0.0   \n",
       "47239  41.0  143003.0           14.0           0.0        1887.0   \n",
       "29209  31.0  210562.0            9.0           0.0           0.0   \n",
       "22674  19.0   67759.0            9.0           0.0           0.0   \n",
       "11463  45.0  241350.0            9.0           0.0           0.0   \n",
       "\n",
       "       Hours per week  \n",
       "20904            50.0  \n",
       "47239            45.0  \n",
       "29209            65.0  \n",
       "22674            43.0  \n",
       "11463            40.0  "
      ]
     },
     "execution_count": 18,
     "metadata": {},
     "output_type": "execute_result"
    }
   ],
   "source": [
    "# Impute missing numeric values\n",
    "numeric_imputer = SimpleImputer(missing_values=np.nan, strategy='median')\n",
    "X_train_numeric = numeric_imputer.fit_transform(X_train.select_dtypes(include=numerics))\n",
    "X_train_numeric = pd.DataFrame(X_train_numeric, columns=numeric_columns, index=X_train.index)\n",
    "X_train_numeric.head()"
   ]
  },
  {
   "cell_type": "code",
   "execution_count": 19,
   "metadata": {},
   "outputs": [
    {
     "data": {
      "text/html": [
       "<div>\n",
       "<style scoped>\n",
       "    .dataframe tbody tr th:only-of-type {\n",
       "        vertical-align: middle;\n",
       "    }\n",
       "\n",
       "    .dataframe tbody tr th {\n",
       "        vertical-align: top;\n",
       "    }\n",
       "\n",
       "    .dataframe thead th {\n",
       "        text-align: right;\n",
       "    }\n",
       "</style>\n",
       "<table border=\"1\" class=\"dataframe\">\n",
       "  <thead>\n",
       "    <tr style=\"text-align: right;\">\n",
       "      <th></th>\n",
       "      <th>Workclass</th>\n",
       "      <th>Education</th>\n",
       "      <th>Martial Status</th>\n",
       "      <th>Occupation</th>\n",
       "      <th>Relationship</th>\n",
       "      <th>Race</th>\n",
       "      <th>Sex</th>\n",
       "      <th>Country</th>\n",
       "      <th>Income</th>\n",
       "    </tr>\n",
       "  </thead>\n",
       "  <tbody>\n",
       "    <tr>\n",
       "      <th>20904</th>\n",
       "      <td>Private</td>\n",
       "      <td>HS-grad</td>\n",
       "      <td>Married-civ-spouse</td>\n",
       "      <td>Adm-clerical</td>\n",
       "      <td>Husband</td>\n",
       "      <td>White</td>\n",
       "      <td>Male</td>\n",
       "      <td>United-States</td>\n",
       "      <td>&lt;=50K</td>\n",
       "    </tr>\n",
       "    <tr>\n",
       "      <th>47239</th>\n",
       "      <td>Private</td>\n",
       "      <td>Masters</td>\n",
       "      <td>Married-civ-spouse</td>\n",
       "      <td>Tech-support</td>\n",
       "      <td>Husband</td>\n",
       "      <td>Asian-Pac-Islander</td>\n",
       "      <td>Male</td>\n",
       "      <td>China</td>\n",
       "      <td>&gt;50K</td>\n",
       "    </tr>\n",
       "    <tr>\n",
       "      <th>29209</th>\n",
       "      <td>Private</td>\n",
       "      <td>HS-grad</td>\n",
       "      <td>Married-civ-spouse</td>\n",
       "      <td>Transport-moving</td>\n",
       "      <td>Husband</td>\n",
       "      <td>White</td>\n",
       "      <td>Male</td>\n",
       "      <td>United-States</td>\n",
       "      <td>&lt;=50K</td>\n",
       "    </tr>\n",
       "    <tr>\n",
       "      <th>22674</th>\n",
       "      <td>Private</td>\n",
       "      <td>HS-grad</td>\n",
       "      <td>Never-married</td>\n",
       "      <td>Machine-op-inspct</td>\n",
       "      <td>Own-child</td>\n",
       "      <td>White</td>\n",
       "      <td>Male</td>\n",
       "      <td>United-States</td>\n",
       "      <td>&lt;=50K</td>\n",
       "    </tr>\n",
       "    <tr>\n",
       "      <th>11463</th>\n",
       "      <td>Private</td>\n",
       "      <td>HS-grad</td>\n",
       "      <td>Never-married</td>\n",
       "      <td>Transport-moving</td>\n",
       "      <td>Not-in-family</td>\n",
       "      <td>White</td>\n",
       "      <td>Male</td>\n",
       "      <td>United-States</td>\n",
       "      <td>&lt;=50K</td>\n",
       "    </tr>\n",
       "  </tbody>\n",
       "</table>\n",
       "</div>"
      ],
      "text/plain": [
       "      Workclass Education      Martial Status         Occupation  \\\n",
       "20904   Private   HS-grad  Married-civ-spouse       Adm-clerical   \n",
       "47239   Private   Masters  Married-civ-spouse       Tech-support   \n",
       "29209   Private   HS-grad  Married-civ-spouse   Transport-moving   \n",
       "22674   Private   HS-grad       Never-married  Machine-op-inspct   \n",
       "11463   Private   HS-grad       Never-married   Transport-moving   \n",
       "\n",
       "        Relationship                Race   Sex        Country Income  \n",
       "20904        Husband               White  Male  United-States  <=50K  \n",
       "47239        Husband  Asian-Pac-Islander  Male          China   >50K  \n",
       "29209        Husband               White  Male  United-States  <=50K  \n",
       "22674      Own-child               White  Male  United-States  <=50K  \n",
       "11463  Not-in-family               White  Male  United-States  <=50K  "
      ]
     },
     "execution_count": 19,
     "metadata": {},
     "output_type": "execute_result"
    }
   ],
   "source": [
    "# Impute missing categorical values\n",
    "categorical_imputer = SimpleImputer(missing_values=np.nan, strategy='most_frequent')\n",
    "X_train_categorical = categorical_imputer.fit_transform(X_train.select_dtypes(exclude=numerics))\n",
    "X_train_categorical = pd.DataFrame(X_train_categorical, columns=categorical_columns, index=X_train.index)\n",
    "X_train_categorical.head()"
   ]
  },
  {
   "cell_type": "code",
   "execution_count": 20,
   "metadata": {},
   "outputs": [],
   "source": [
    "# Save imputers both numerical and categorical\n",
    "with open('../artifacts/numeric_imputer.pickle', 'wb') as filename:\n",
    "    pickle.dump(numeric_imputer, filename)\n",
    "\n",
    "with open('../artifacts/categorical_imputer.pickle', 'wb') as filename:\n",
    "    pickle.dump(categorical_imputer, filename)"
   ]
  },
  {
   "cell_type": "code",
   "execution_count": 21,
   "metadata": {},
   "outputs": [
    {
     "data": {
      "text/html": [
       "<div>\n",
       "<style scoped>\n",
       "    .dataframe tbody tr th:only-of-type {\n",
       "        vertical-align: middle;\n",
       "    }\n",
       "\n",
       "    .dataframe tbody tr th {\n",
       "        vertical-align: top;\n",
       "    }\n",
       "\n",
       "    .dataframe thead th {\n",
       "        text-align: right;\n",
       "    }\n",
       "</style>\n",
       "<table border=\"1\" class=\"dataframe\">\n",
       "  <thead>\n",
       "    <tr style=\"text-align: right;\">\n",
       "      <th></th>\n",
       "      <th>Age</th>\n",
       "      <th>fnlwgt</th>\n",
       "      <th>Education-Num</th>\n",
       "      <th>Capital Gain</th>\n",
       "      <th>Capital Loss</th>\n",
       "      <th>Hours per week</th>\n",
       "      <th>Workclass</th>\n",
       "      <th>Education</th>\n",
       "      <th>Martial Status</th>\n",
       "      <th>Occupation</th>\n",
       "      <th>Relationship</th>\n",
       "      <th>Race</th>\n",
       "      <th>Sex</th>\n",
       "      <th>Country</th>\n",
       "      <th>Income</th>\n",
       "    </tr>\n",
       "  </thead>\n",
       "  <tbody>\n",
       "    <tr>\n",
       "      <th>20904</th>\n",
       "      <td>20.0</td>\n",
       "      <td>194630.0</td>\n",
       "      <td>9.0</td>\n",
       "      <td>3781.0</td>\n",
       "      <td>0.0</td>\n",
       "      <td>50.0</td>\n",
       "      <td>Private</td>\n",
       "      <td>HS-grad</td>\n",
       "      <td>Married-civ-spouse</td>\n",
       "      <td>Adm-clerical</td>\n",
       "      <td>Husband</td>\n",
       "      <td>White</td>\n",
       "      <td>Male</td>\n",
       "      <td>United-States</td>\n",
       "      <td>&lt;=50K</td>\n",
       "    </tr>\n",
       "    <tr>\n",
       "      <th>47239</th>\n",
       "      <td>41.0</td>\n",
       "      <td>143003.0</td>\n",
       "      <td>14.0</td>\n",
       "      <td>0.0</td>\n",
       "      <td>1887.0</td>\n",
       "      <td>45.0</td>\n",
       "      <td>Private</td>\n",
       "      <td>Masters</td>\n",
       "      <td>Married-civ-spouse</td>\n",
       "      <td>Tech-support</td>\n",
       "      <td>Husband</td>\n",
       "      <td>Asian-Pac-Islander</td>\n",
       "      <td>Male</td>\n",
       "      <td>China</td>\n",
       "      <td>&gt;50K</td>\n",
       "    </tr>\n",
       "    <tr>\n",
       "      <th>29209</th>\n",
       "      <td>31.0</td>\n",
       "      <td>210562.0</td>\n",
       "      <td>9.0</td>\n",
       "      <td>0.0</td>\n",
       "      <td>0.0</td>\n",
       "      <td>65.0</td>\n",
       "      <td>Private</td>\n",
       "      <td>HS-grad</td>\n",
       "      <td>Married-civ-spouse</td>\n",
       "      <td>Transport-moving</td>\n",
       "      <td>Husband</td>\n",
       "      <td>White</td>\n",
       "      <td>Male</td>\n",
       "      <td>United-States</td>\n",
       "      <td>&lt;=50K</td>\n",
       "    </tr>\n",
       "    <tr>\n",
       "      <th>22674</th>\n",
       "      <td>19.0</td>\n",
       "      <td>67759.0</td>\n",
       "      <td>9.0</td>\n",
       "      <td>0.0</td>\n",
       "      <td>0.0</td>\n",
       "      <td>43.0</td>\n",
       "      <td>Private</td>\n",
       "      <td>HS-grad</td>\n",
       "      <td>Never-married</td>\n",
       "      <td>Machine-op-inspct</td>\n",
       "      <td>Own-child</td>\n",
       "      <td>White</td>\n",
       "      <td>Male</td>\n",
       "      <td>United-States</td>\n",
       "      <td>&lt;=50K</td>\n",
       "    </tr>\n",
       "    <tr>\n",
       "      <th>11463</th>\n",
       "      <td>45.0</td>\n",
       "      <td>241350.0</td>\n",
       "      <td>9.0</td>\n",
       "      <td>0.0</td>\n",
       "      <td>0.0</td>\n",
       "      <td>40.0</td>\n",
       "      <td>Private</td>\n",
       "      <td>HS-grad</td>\n",
       "      <td>Never-married</td>\n",
       "      <td>Transport-moving</td>\n",
       "      <td>Not-in-family</td>\n",
       "      <td>White</td>\n",
       "      <td>Male</td>\n",
       "      <td>United-States</td>\n",
       "      <td>&lt;=50K</td>\n",
       "    </tr>\n",
       "  </tbody>\n",
       "</table>\n",
       "</div>"
      ],
      "text/plain": [
       "        Age    fnlwgt  Education-Num  Capital Gain  Capital Loss  \\\n",
       "20904  20.0  194630.0            9.0        3781.0           0.0   \n",
       "47239  41.0  143003.0           14.0           0.0        1887.0   \n",
       "29209  31.0  210562.0            9.0           0.0           0.0   \n",
       "22674  19.0   67759.0            9.0           0.0           0.0   \n",
       "11463  45.0  241350.0            9.0           0.0           0.0   \n",
       "\n",
       "       Hours per week Workclass Education      Martial Status  \\\n",
       "20904            50.0   Private   HS-grad  Married-civ-spouse   \n",
       "47239            45.0   Private   Masters  Married-civ-spouse   \n",
       "29209            65.0   Private   HS-grad  Married-civ-spouse   \n",
       "22674            43.0   Private   HS-grad       Never-married   \n",
       "11463            40.0   Private   HS-grad       Never-married   \n",
       "\n",
       "              Occupation   Relationship                Race   Sex  \\\n",
       "20904       Adm-clerical        Husband               White  Male   \n",
       "47239       Tech-support        Husband  Asian-Pac-Islander  Male   \n",
       "29209   Transport-moving        Husband               White  Male   \n",
       "22674  Machine-op-inspct      Own-child               White  Male   \n",
       "11463   Transport-moving  Not-in-family               White  Male   \n",
       "\n",
       "             Country Income  \n",
       "20904  United-States  <=50K  \n",
       "47239          China   >50K  \n",
       "29209  United-States  <=50K  \n",
       "22674  United-States  <=50K  \n",
       "11463  United-States  <=50K  "
      ]
     },
     "execution_count": 21,
     "metadata": {},
     "output_type": "execute_result"
    }
   ],
   "source": [
    "X_train = pd.concat([X_train_numeric, X_train_categorical], axis=1)\n",
    "X_train.head()"
   ]
  },
  {
   "cell_type": "code",
   "execution_count": 22,
   "metadata": {},
   "outputs": [
    {
     "data": {
      "image/png": "[encoded data removed]",
      "text/plain": [
       "<Figure size 432x288 with 1 Axes>"
      ]
     },
     "metadata": {
      "needs_background": "light"
     },
     "output_type": "display_data"
    }
   ],
   "source": [
    "# Let's see if we have any missing data, luckily we don't!\n",
    "sns.heatmap(X_train.isna(), yticklabels = False, cbar = False, cmap=\"Blues\")\n",
    "plt.show()"
   ]
  },
  {
   "attachments": {},
   "cell_type": "markdown",
   "metadata": {},
   "source": [
    "## Visualize Categorical Features"
   ]
  },
  {
   "cell_type": "code",
   "execution_count": 23,
   "metadata": {},
   "outputs": [
    {
     "name": "stdout",
     "output_type": "stream",
     "text": [
      "Value counts in category Workclass: \n",
      "Private             7344\n",
      "Self-emp-not-inc     770\n",
      "Local-gov            661\n",
      "State-gov            388\n",
      "Self-emp-inc         340\n",
      "Federal-gov          261\n",
      "Without-pay            4\n",
      "Name: Workclass, dtype: int64\n",
      "Value counts in category Education: \n",
      "HS-grad         3165\n",
      "Some-college    2139\n",
      "Bachelors       1601\n",
      "Masters          525\n",
      "Assoc-voc        439\n",
      "11th             383\n",
      "Assoc-acdm       322\n",
      "10th             271\n",
      "7th-8th          177\n",
      "9th              165\n",
      "Prof-school      159\n",
      "12th             126\n",
      "Doctorate        122\n",
      "5th-6th           96\n",
      "1st-4th           61\n",
      "Preschool         17\n",
      "Name: Education, dtype: int64\n",
      "Value counts in category Martial Status: \n",
      "Married-civ-spouse       4467\n",
      "Never-married            3250\n",
      "Divorced                 1298\n",
      "Separated                 324\n",
      "Widowed                   293\n",
      "Married-spouse-absent     129\n",
      "Married-AF-spouse           7\n",
      "Name: Martial Status, dtype: int64\n",
      "Value counts in category Occupation: \n",
      "Exec-managerial      1847\n",
      "Craft-repair         1240\n",
      "Prof-specialty       1237\n",
      "Adm-clerical         1107\n",
      "Sales                1074\n",
      "Other-service         977\n",
      "Machine-op-inspct     565\n",
      "Transport-moving      473\n",
      "Handlers-cleaners     398\n",
      "Farming-fishing       328\n",
      "Tech-support          298\n",
      "Protective-serv       180\n",
      "Priv-house-serv        42\n",
      "Armed-Forces            2\n",
      "Name: Occupation, dtype: int64\n",
      "Value counts in category Relationship: \n",
      "Husband           3889\n",
      "Not-in-family     2496\n",
      "Own-child         1538\n",
      "Unmarried         1017\n",
      "Wife               511\n",
      "Other-relative     317\n",
      "Name: Relationship, dtype: int64\n",
      "Value counts in category Race: \n",
      "White                 8330\n",
      "Black                  967\n",
      "Asian-Pac-Islander     298\n",
      "Amer-Indian-Eskimo      90\n",
      "Other                   83\n",
      "Name: Race, dtype: int64\n",
      "Value counts in category Sex: \n",
      "Male      6476\n",
      "Female    3292\n",
      "Name: Sex, dtype: int64\n",
      "Value counts in category Country: \n",
      "United-States                 8978\n",
      "Mexico                         183\n",
      "Philippines                     49\n",
      "Puerto-Rico                     38\n",
      "Germany                         35\n",
      "India                           31\n",
      "Cuba                            26\n",
      "El-Salvador                     26\n",
      "Jamaica                         25\n",
      "China                           25\n",
      "Canada                          23\n",
      "England                         22\n",
      "Italy                           20\n",
      "Dominican-Republic              19\n",
      "South                           19\n",
      "Poland                          18\n",
      "Vietnam                         18\n",
      "Guatemala                       18\n",
      "Taiwan                          16\n",
      "Haiti                           15\n",
      "Japan                           15\n",
      "Portugal                        14\n",
      "France                          13\n",
      "Peru                            12\n",
      "Iran                            11\n",
      "Greece                          10\n",
      "Nicaragua                       10\n",
      "Ecuador                          9\n",
      "Ireland                          8\n",
      "Trinadad&Tobago                  7\n",
      "Thailand                         7\n",
      "Columbia                         7\n",
      "Scotland                         7\n",
      "Cambodia                         6\n",
      "Outlying-US(Guam-USVI-etc)       6\n",
      "Laos                             5\n",
      "Hungary                          5\n",
      "Hong                             5\n",
      "Honduras                         5\n",
      "Yugoslavia                       2\n",
      "Name: Country, dtype: int64\n",
      "Value counts in category Income: \n",
      "<=50K    7426\n",
      ">50K     2342\n",
      "Name: Income, dtype: int64\n"
     ]
    }
   ],
   "source": [
    "# this is important since we might have rare labels which isnt good for grouping customers; the numeric equivalent would be outliers\n",
    "for category in categorical_columns:\n",
    "    print('Value counts in category {}: \\n{}'.format(category, X_train[category].value_counts()))"
   ]
  },
  {
   "attachments": {},
   "cell_type": "markdown",
   "metadata": {},
   "source": [
    "## Encode Rare Labels"
   ]
  },
  {
   "cell_type": "code",
   "execution_count": 24,
   "metadata": {},
   "outputs": [
    {
     "name": "stderr",
     "output_type": "stream",
     "text": [
      "The number of unique categories for variable Workclass is less than that indicated in n_categories. Thus, all categories will be considered frequent\n",
      "The number of unique categories for variable Martial Status is less than that indicated in n_categories. Thus, all categories will be considered frequent\n",
      "The number of unique categories for variable Relationship is less than that indicated in n_categories. Thus, all categories will be considered frequent\n",
      "The number of unique categories for variable Race is less than that indicated in n_categories. Thus, all categories will be considered frequent\n",
      "The number of unique categories for variable Sex is less than that indicated in n_categories. Thus, all categories will be considered frequent\n",
      "The number of unique categories for variable Income is less than that indicated in n_categories. Thus, all categories will be considered frequent\n"
     ]
    },
    {
     "data": {
      "text/html": [
       "<div>\n",
       "<style scoped>\n",
       "    .dataframe tbody tr th:only-of-type {\n",
       "        vertical-align: middle;\n",
       "    }\n",
       "\n",
       "    .dataframe tbody tr th {\n",
       "        vertical-align: top;\n",
       "    }\n",
       "\n",
       "    .dataframe thead th {\n",
       "        text-align: right;\n",
       "    }\n",
       "</style>\n",
       "<table border=\"1\" class=\"dataframe\">\n",
       "  <thead>\n",
       "    <tr style=\"text-align: right;\">\n",
       "      <th></th>\n",
       "      <th>Workclass</th>\n",
       "      <th>Education</th>\n",
       "      <th>Martial Status</th>\n",
       "      <th>Occupation</th>\n",
       "      <th>Relationship</th>\n",
       "      <th>Race</th>\n",
       "      <th>Sex</th>\n",
       "      <th>Country</th>\n",
       "      <th>Income</th>\n",
       "    </tr>\n",
       "  </thead>\n",
       "  <tbody>\n",
       "    <tr>\n",
       "      <th>20904</th>\n",
       "      <td>Private</td>\n",
       "      <td>HS-grad</td>\n",
       "      <td>Married-civ-spouse</td>\n",
       "      <td>Adm-clerical</td>\n",
       "      <td>Husband</td>\n",
       "      <td>White</td>\n",
       "      <td>Male</td>\n",
       "      <td>United-States</td>\n",
       "      <td>&lt;=50K</td>\n",
       "    </tr>\n",
       "    <tr>\n",
       "      <th>47239</th>\n",
       "      <td>Private</td>\n",
       "      <td>Masters</td>\n",
       "      <td>Married-civ-spouse</td>\n",
       "      <td>Rare</td>\n",
       "      <td>Husband</td>\n",
       "      <td>Asian-Pac-Islander</td>\n",
       "      <td>Male</td>\n",
       "      <td>Rare</td>\n",
       "      <td>&gt;50K</td>\n",
       "    </tr>\n",
       "    <tr>\n",
       "      <th>29209</th>\n",
       "      <td>Private</td>\n",
       "      <td>HS-grad</td>\n",
       "      <td>Married-civ-spouse</td>\n",
       "      <td>Rare</td>\n",
       "      <td>Husband</td>\n",
       "      <td>White</td>\n",
       "      <td>Male</td>\n",
       "      <td>United-States</td>\n",
       "      <td>&lt;=50K</td>\n",
       "    </tr>\n",
       "    <tr>\n",
       "      <th>22674</th>\n",
       "      <td>Private</td>\n",
       "      <td>HS-grad</td>\n",
       "      <td>Never-married</td>\n",
       "      <td>Machine-op-inspct</td>\n",
       "      <td>Own-child</td>\n",
       "      <td>White</td>\n",
       "      <td>Male</td>\n",
       "      <td>United-States</td>\n",
       "      <td>&lt;=50K</td>\n",
       "    </tr>\n",
       "    <tr>\n",
       "      <th>11463</th>\n",
       "      <td>Private</td>\n",
       "      <td>HS-grad</td>\n",
       "      <td>Never-married</td>\n",
       "      <td>Rare</td>\n",
       "      <td>Not-in-family</td>\n",
       "      <td>White</td>\n",
       "      <td>Male</td>\n",
       "      <td>United-States</td>\n",
       "      <td>&lt;=50K</td>\n",
       "    </tr>\n",
       "  </tbody>\n",
       "</table>\n",
       "</div>"
      ],
      "text/plain": [
       "      Workclass Education      Martial Status         Occupation  \\\n",
       "20904   Private   HS-grad  Married-civ-spouse       Adm-clerical   \n",
       "47239   Private   Masters  Married-civ-spouse               Rare   \n",
       "29209   Private   HS-grad  Married-civ-spouse               Rare   \n",
       "22674   Private   HS-grad       Never-married  Machine-op-inspct   \n",
       "11463   Private   HS-grad       Never-married               Rare   \n",
       "\n",
       "        Relationship                Race   Sex        Country Income  \n",
       "20904        Husband               White  Male  United-States  <=50K  \n",
       "47239        Husband  Asian-Pac-Islander  Male           Rare   >50K  \n",
       "29209        Husband               White  Male  United-States  <=50K  \n",
       "22674      Own-child               White  Male  United-States  <=50K  \n",
       "11463  Not-in-family               White  Male  United-States  <=50K  "
      ]
     },
     "execution_count": 24,
     "metadata": {},
     "output_type": "execute_result"
    }
   ],
   "source": [
    "rare_encoder = RareLabelEncoder(tol=0.05, n_categories=10)\n",
    "X_train[categorical_columns] = rare_encoder.fit_transform(X_train[categorical_columns])\n",
    "X_train[categorical_columns].head()"
   ]
  },
  {
   "cell_type": "code",
   "execution_count": 25,
   "metadata": {},
   "outputs": [],
   "source": [
    "# Save rare label encoder\n",
    "with open('../artifacts/rare_encoder.pickle', 'wb') as filename:\n",
    "    pickle.dump(rare_encoder, filename)"
   ]
  },
  {
   "cell_type": "markdown",
   "metadata": {},
   "source": [
    "## Visualize Numerical Features"
   ]
  },
  {
   "cell_type": "code",
   "execution_count": 26,
   "metadata": {},
   "outputs": [
    {
     "data": {
      "image/png": "[encoded data removed]",
      "text/plain": [
       "<Figure size 432x288 with 1 Axes>"
      ]
     },
     "metadata": {
      "needs_background": "light"
     },
     "output_type": "display_data"
    },
    {
     "data": {
      "image/png": "[encoded data removed]",
      "text/plain": [
       "<Figure size 432x288 with 1 Axes>"
      ]
     },
     "metadata": {
      "needs_background": "light"
     },
     "output_type": "display_data"
    },
    {
     "data": {
      "image/png": "[encoded data removed]",
      "text/plain": [
       "<Figure size 432x288 with 1 Axes>"
      ]
     },
     "metadata": {
      "needs_background": "light"
     },
     "output_type": "display_data"
    },
    {
     "data": {
      "image/png": "[encoded data removed]",
      "text/plain": [
       "<Figure size 432x288 with 1 Axes>"
      ]
     },
     "metadata": {
      "needs_background": "light"
     },
     "output_type": "display_data"
    },
    {
     "data": {
      "image/png": "[encoded data removed]",
      "text/plain": [
       "<Figure size 432x288 with 1 Axes>"
      ]
     },
     "metadata": {
      "needs_background": "light"
     },
     "output_type": "display_data"
    },
    {
     "data": {
      "image/png": "[encoded data removed]",
      "text/plain": [
       "<Figure size 432x288 with 1 Axes>"
      ]
     },
     "metadata": {
      "needs_background": "light"
     },
     "output_type": "display_data"
    }
   ],
   "source": [
    "# plot the distributions\n",
    "for col in numeric_columns:\n",
    "    plt.hist(X_train[col])\n",
    "    plt.title(col)\n",
    "    plt.show()"
   ]
  },
  {
   "attachments": {},
   "cell_type": "markdown",
   "metadata": {},
   "source": [
    "## Remove Outliers"
   ]
  },
  {
   "cell_type": "code",
   "execution_count": 27,
   "metadata": {},
   "outputs": [],
   "source": [
    "# set up the capper\n",
    "capper = Winsorizer(\n",
    "    capping_method='gaussian', \n",
    "    tail='right', \n",
    "    fold=3, \n",
    "    variables=numeric_columns)"
   ]
  },
  {
   "cell_type": "code",
   "execution_count": null,
   "metadata": {},
   "outputs": [
    {
     "data": {
      "text/html": [
       "<div>\n",
       "<style scoped>\n",
       "    .dataframe tbody tr th:only-of-type {\n",
       "        vertical-align: middle;\n",
       "    }\n",
       "\n",
       "    .dataframe tbody tr th {\n",
       "        vertical-align: top;\n",
       "    }\n",
       "\n",
       "    .dataframe thead th {\n",
       "        text-align: right;\n",
       "    }\n",
       "</style>\n",
       "<table border=\"1\" class=\"dataframe\">\n",
       "  <thead>\n",
       "    <tr style=\"text-align: right;\">\n",
       "      <th></th>\n",
       "      <th>Age</th>\n",
       "      <th>fnlwgt</th>\n",
       "      <th>Education-Num</th>\n",
       "      <th>Capital Gain</th>\n",
       "      <th>Capital Loss</th>\n",
       "      <th>Hours per week</th>\n",
       "      <th>Workclass</th>\n",
       "      <th>Education</th>\n",
       "      <th>Martial Status</th>\n",
       "      <th>Occupation</th>\n",
       "      <th>Relationship</th>\n",
       "      <th>Race</th>\n",
       "      <th>Sex</th>\n",
       "      <th>Country</th>\n",
       "      <th>Income</th>\n",
       "    </tr>\n",
       "  </thead>\n",
       "  <tbody>\n",
       "    <tr>\n",
       "      <th>20904</th>\n",
       "      <td>20.0</td>\n",
       "      <td>194630.0</td>\n",
       "      <td>9.0</td>\n",
       "      <td>3781.0</td>\n",
       "      <td>0.000000</td>\n",
       "      <td>50.0</td>\n",
       "      <td>Private</td>\n",
       "      <td>HS-grad</td>\n",
       "      <td>Married-civ-spouse</td>\n",
       "      <td>Adm-clerical</td>\n",
       "      <td>Husband</td>\n",
       "      <td>White</td>\n",
       "      <td>Male</td>\n",
       "      <td>United-States</td>\n",
       "      <td>&lt;=50K</td>\n",
       "    </tr>\n",
       "    <tr>\n",
       "      <th>47239</th>\n",
       "      <td>41.0</td>\n",
       "      <td>143003.0</td>\n",
       "      <td>14.0</td>\n",
       "      <td>0.0</td>\n",
       "      <td>1290.295683</td>\n",
       "      <td>45.0</td>\n",
       "      <td>Private</td>\n",
       "      <td>Masters</td>\n",
       "      <td>Married-civ-spouse</td>\n",
       "      <td>Rare</td>\n",
       "      <td>Husband</td>\n",
       "      <td>Asian-Pac-Islander</td>\n",
       "      <td>Male</td>\n",
       "      <td>Rare</td>\n",
       "      <td>&gt;50K</td>\n",
       "    </tr>\n",
       "    <tr>\n",
       "      <th>29209</th>\n",
       "      <td>31.0</td>\n",
       "      <td>210562.0</td>\n",
       "      <td>9.0</td>\n",
       "      <td>0.0</td>\n",
       "      <td>0.000000</td>\n",
       "      <td>65.0</td>\n",
       "      <td>Private</td>\n",
       "      <td>HS-grad</td>\n",
       "      <td>Married-civ-spouse</td>\n",
       "      <td>Rare</td>\n",
       "      <td>Husband</td>\n",
       "      <td>White</td>\n",
       "      <td>Male</td>\n",
       "      <td>United-States</td>\n",
       "      <td>&lt;=50K</td>\n",
       "    </tr>\n",
       "    <tr>\n",
       "      <th>22674</th>\n",
       "      <td>19.0</td>\n",
       "      <td>67759.0</td>\n",
       "      <td>9.0</td>\n",
       "      <td>0.0</td>\n",
       "      <td>0.000000</td>\n",
       "      <td>43.0</td>\n",
       "      <td>Private</td>\n",
       "      <td>HS-grad</td>\n",
       "      <td>Never-married</td>\n",
       "      <td>Machine-op-inspct</td>\n",
       "      <td>Own-child</td>\n",
       "      <td>White</td>\n",
       "      <td>Male</td>\n",
       "      <td>United-States</td>\n",
       "      <td>&lt;=50K</td>\n",
       "    </tr>\n",
       "    <tr>\n",
       "      <th>11463</th>\n",
       "      <td>45.0</td>\n",
       "      <td>241350.0</td>\n",
       "      <td>9.0</td>\n",
       "      <td>0.0</td>\n",
       "      <td>0.000000</td>\n",
       "      <td>40.0</td>\n",
       "      <td>Private</td>\n",
       "      <td>HS-grad</td>\n",
       "      <td>Never-married</td>\n",
       "      <td>Rare</td>\n",
       "      <td>Not-in-family</td>\n",
       "      <td>White</td>\n",
       "      <td>Male</td>\n",
       "      <td>United-States</td>\n",
       "      <td>&lt;=50K</td>\n",
       "    </tr>\n",
       "  </tbody>\n",
       "</table>\n",
       "</div>"
      ],
      "text/plain": [
       "        Age    fnlwgt  Education-Num  Capital Gain  Capital Loss  \\\n",
       "20904  20.0  194630.0            9.0        3781.0      0.000000   \n",
       "47239  41.0  143003.0           14.0           0.0   1290.295683   \n",
       "29209  31.0  210562.0            9.0           0.0      0.000000   \n",
       "22674  19.0   67759.0            9.0           0.0      0.000000   \n",
       "11463  45.0  241350.0            9.0           0.0      0.000000   \n",
       "\n",
       "       Hours per week Workclass Education      Martial Status  \\\n",
       "20904            50.0   Private   HS-grad  Married-civ-spouse   \n",
       "47239            45.0   Private   Masters  Married-civ-spouse   \n",
       "29209            65.0   Private   HS-grad  Married-civ-spouse   \n",
       "22674            43.0   Private   HS-grad       Never-married   \n",
       "11463            40.0   Private   HS-grad       Never-married   \n",
       "\n",
       "              Occupation   Relationship                Race   Sex  \\\n",
       "20904       Adm-clerical        Husband               White  Male   \n",
       "47239               Rare        Husband  Asian-Pac-Islander  Male   \n",
       "29209               Rare        Husband               White  Male   \n",
       "22674  Machine-op-inspct      Own-child               White  Male   \n",
       "11463               Rare  Not-in-family               White  Male   \n",
       "\n",
       "             Country Income  \n",
       "20904  United-States  <=50K  \n",
       "47239           Rare   >50K  \n",
       "29209  United-States  <=50K  \n",
       "22674  United-States  <=50K  \n",
       "11463  United-States  <=50K  "
      ]
     },
     "execution_count": 28,
     "metadata": {},
     "output_type": "execute_result"
    }
   ],
   "source": [
    "# fit the capper\n",
    "X_train[numeric_columns] = capper.fit_transform(X_train[numeric_columns])\n",
    "X_train.head()"
   ]
  },
  {
   "cell_type": "code",
   "execution_count": null,
   "metadata": {},
   "outputs": [],
   "source": [
    "# Save capper \n",
    "with open('../artifacts/capper.pickle', 'wb') as filename:\n",
    "    pickle.dump(capper, filename)"
   ]
  },
  {
   "cell_type": "code",
   "execution_count": null,
   "metadata": {},
   "outputs": [
    {
     "data": {
      "image/png": "[encoded data removed]",
      "text/plain": [
       "<Figure size 432x288 with 1 Axes>"
      ]
     },
     "metadata": {
      "needs_background": "light"
     },
     "output_type": "display_data"
    },
    {
     "data": {
      "image/png": "[encoded data removed]",
      "text/plain": [
       "<Figure size 432x288 with 1 Axes>"
      ]
     },
     "metadata": {
      "needs_background": "light"
     },
     "output_type": "display_data"
    },
    {
     "data": {
      "image/png": "[encoded data removed]",
      "text/plain": [
       "<Figure size 432x288 with 1 Axes>"
      ]
     },
     "metadata": {
      "needs_background": "light"
     },
     "output_type": "display_data"
    },
    {
     "data": {
      "image/png": "[encoded data removed]",
      "text/plain": [
       "<Figure size 432x288 with 1 Axes>"
      ]
     },
     "metadata": {
      "needs_background": "light"
     },
     "output_type": "display_data"
    },
    {
     "data": {
      "image/png": "[encoded data removed]",
      "text/plain": [
       "<Figure size 432x288 with 1 Axes>"
      ]
     },
     "metadata": {
      "needs_background": "light"
     },
     "output_type": "display_data"
    },
    {
     "data": {
      "image/png": "[encoded data removed]",
      "text/plain": [
       "<Figure size 432x288 with 1 Axes>"
      ]
     },
     "metadata": {
      "needs_background": "light"
     },
     "output_type": "display_data"
    }
   ],
   "source": [
    "# plot the distributions\n",
    "for col in numeric_columns:\n",
    "    plt.hist(X_train[col])\n",
    "    plt.title(col)\n",
    "    plt.show()"
   ]
  },
  {
   "attachments": {},
   "cell_type": "markdown",
   "metadata": {},
   "source": [
    "# Calculate Customer Similarity using Gower´s Distance"
   ]
  },
  {
   "cell_type": "code",
   "execution_count": null,
   "metadata": {},
   "outputs": [
    {
     "name": "stdout",
     "output_type": "stream",
     "text": [
      "CPU times: total: 1min 26s\n",
      "Wall time: 1min 26s\n"
     ]
    }
   ],
   "source": [
    "%%time\n",
    "distance_matrix = gower.gower_matrix(X_train)"
   ]
  },
  {
   "cell_type": "code",
   "execution_count": null,
   "metadata": {},
   "outputs": [
    {
     "data": {
      "text/plain": [
       "(9768, 9768)"
      ]
     },
     "execution_count": 32,
     "metadata": {},
     "output_type": "execute_result"
    }
   ],
   "source": [
    "distance_matrix.shape"
   ]
  },
  {
   "cell_type": "code",
   "execution_count": null,
   "metadata": {},
   "outputs": [
    {
     "data": {
      "image/png": "[encoded data removed]",
      "text/plain": [
       "<Figure size 432x288 with 1 Axes>"
      ]
     },
     "metadata": {
      "needs_background": "light"
     },
     "output_type": "display_data"
    }
   ],
   "source": [
    "customer = 3\n",
    "plt.hist(distance_matrix[:,customer], bins=20)\n",
    "plt.grid()\n",
    "plt.show()"
   ]
  },
  {
   "cell_type": "code",
   "execution_count": null,
   "metadata": {},
   "outputs": [],
   "source": [
    "# let´s choose a cut-off gower´s distance of e.g. 0.2\n",
    "gower_cutoff = 0.2  "
   ]
  },
  {
   "cell_type": "code",
   "execution_count": null,
   "metadata": {},
   "outputs": [
    {
     "data": {
      "image/png": "[encoded data removed]",
      "text/plain": [
       "<Figure size 432x288 with 2 Axes>"
      ]
     },
     "metadata": {
      "needs_background": "light"
     },
     "output_type": "display_data"
    }
   ],
   "source": [
    "# plot the similarity matrix as heatmap\n",
    "sns.heatmap(\n",
    "    distance_matrix[:10,:10], \n",
    "    yticklabels = False, \n",
    "    cbar = True, \n",
    "    cmap=\"Blues\")\n",
    "plt.show()"
   ]
  },
  {
   "cell_type": "code",
   "execution_count": null,
   "metadata": {},
   "outputs": [
    {
     "data": {
      "text/plain": [
       "{'index': array([ 100, 5463, 9399,  139, 2509], dtype=int64),\n",
       " 'values': array([0.        , 0.08516712, 0.15786119, 0.18151745, 0.18382479],\n",
       "       dtype=float32)}"
      ]
     },
     "execution_count": 36,
     "metadata": {},
     "output_type": "execute_result"
    }
   ],
   "source": [
    "# find the top-n customers similar to a particular customer\n",
    "customer=100\n",
    "top_n = gower.gower_topn(\n",
    "    X_train.iloc[customer:customer+1,:], \n",
    "    X_train.iloc[:,], \n",
    "    n = 5)\n",
    "top_n"
   ]
  },
  {
   "cell_type": "code",
   "execution_count": null,
   "metadata": {},
   "outputs": [
    {
     "data": {
      "text/plain": [
       "array([ 100, 5463, 9399,  139, 2509], dtype=int64)"
      ]
     },
     "execution_count": 37,
     "metadata": {},
     "output_type": "execute_result"
    }
   ],
   "source": [
    "top_n['index']"
   ]
  },
  {
   "cell_type": "code",
   "execution_count": null,
   "metadata": {},
   "outputs": [
    {
     "data": {
      "text/html": [
       "<div>\n",
       "<style scoped>\n",
       "    .dataframe tbody tr th:only-of-type {\n",
       "        vertical-align: middle;\n",
       "    }\n",
       "\n",
       "    .dataframe tbody tr th {\n",
       "        vertical-align: top;\n",
       "    }\n",
       "\n",
       "    .dataframe thead th {\n",
       "        text-align: right;\n",
       "    }\n",
       "</style>\n",
       "<table border=\"1\" class=\"dataframe\">\n",
       "  <thead>\n",
       "    <tr style=\"text-align: right;\">\n",
       "      <th></th>\n",
       "      <th>Age</th>\n",
       "      <th>fnlwgt</th>\n",
       "      <th>Education-Num</th>\n",
       "      <th>Capital Gain</th>\n",
       "      <th>Capital Loss</th>\n",
       "      <th>Hours per week</th>\n",
       "      <th>Workclass</th>\n",
       "      <th>Education</th>\n",
       "      <th>Martial Status</th>\n",
       "      <th>Occupation</th>\n",
       "      <th>Relationship</th>\n",
       "      <th>Race</th>\n",
       "      <th>Sex</th>\n",
       "      <th>Country</th>\n",
       "      <th>Income</th>\n",
       "    </tr>\n",
       "  </thead>\n",
       "  <tbody>\n",
       "    <tr>\n",
       "      <th>36789</th>\n",
       "      <td>57.0</td>\n",
       "      <td>133201.0</td>\n",
       "      <td>4.0</td>\n",
       "      <td>0.0</td>\n",
       "      <td>1290.295683</td>\n",
       "      <td>40.0</td>\n",
       "      <td>Private</td>\n",
       "      <td>Rare</td>\n",
       "      <td>Divorced</td>\n",
       "      <td>Craft-repair</td>\n",
       "      <td>Unmarried</td>\n",
       "      <td>White</td>\n",
       "      <td>Male</td>\n",
       "      <td>Rare</td>\n",
       "      <td>&lt;=50K</td>\n",
       "    </tr>\n",
       "    <tr>\n",
       "      <th>30299</th>\n",
       "      <td>42.0</td>\n",
       "      <td>152676.0</td>\n",
       "      <td>4.0</td>\n",
       "      <td>0.0</td>\n",
       "      <td>0.000000</td>\n",
       "      <td>40.0</td>\n",
       "      <td>Private</td>\n",
       "      <td>Rare</td>\n",
       "      <td>Divorced</td>\n",
       "      <td>Craft-repair</td>\n",
       "      <td>Unmarried</td>\n",
       "      <td>White</td>\n",
       "      <td>Male</td>\n",
       "      <td>Rare</td>\n",
       "      <td>&lt;=50K</td>\n",
       "    </tr>\n",
       "    <tr>\n",
       "      <th>42208</th>\n",
       "      <td>47.0</td>\n",
       "      <td>234994.0</td>\n",
       "      <td>4.0</td>\n",
       "      <td>0.0</td>\n",
       "      <td>0.000000</td>\n",
       "      <td>40.0</td>\n",
       "      <td>Private</td>\n",
       "      <td>Rare</td>\n",
       "      <td>Separated</td>\n",
       "      <td>Craft-repair</td>\n",
       "      <td>Unmarried</td>\n",
       "      <td>White</td>\n",
       "      <td>Male</td>\n",
       "      <td>Rare</td>\n",
       "      <td>&lt;=50K</td>\n",
       "    </tr>\n",
       "    <tr>\n",
       "      <th>8867</th>\n",
       "      <td>34.0</td>\n",
       "      <td>56121.0</td>\n",
       "      <td>7.0</td>\n",
       "      <td>0.0</td>\n",
       "      <td>0.000000</td>\n",
       "      <td>40.0</td>\n",
       "      <td>Private</td>\n",
       "      <td>Rare</td>\n",
       "      <td>Divorced</td>\n",
       "      <td>Craft-repair</td>\n",
       "      <td>Unmarried</td>\n",
       "      <td>White</td>\n",
       "      <td>Male</td>\n",
       "      <td>United-States</td>\n",
       "      <td>&lt;=50K</td>\n",
       "    </tr>\n",
       "    <tr>\n",
       "      <th>7032</th>\n",
       "      <td>27.0</td>\n",
       "      <td>151382.0</td>\n",
       "      <td>4.0</td>\n",
       "      <td>0.0</td>\n",
       "      <td>974.000000</td>\n",
       "      <td>40.0</td>\n",
       "      <td>Private</td>\n",
       "      <td>Rare</td>\n",
       "      <td>Divorced</td>\n",
       "      <td>Machine-op-inspct</td>\n",
       "      <td>Unmarried</td>\n",
       "      <td>White</td>\n",
       "      <td>Male</td>\n",
       "      <td>United-States</td>\n",
       "      <td>&lt;=50K</td>\n",
       "    </tr>\n",
       "  </tbody>\n",
       "</table>\n",
       "</div>"
      ],
      "text/plain": [
       "        Age    fnlwgt  Education-Num  Capital Gain  Capital Loss  \\\n",
       "36789  57.0  133201.0            4.0           0.0   1290.295683   \n",
       "30299  42.0  152676.0            4.0           0.0      0.000000   \n",
       "42208  47.0  234994.0            4.0           0.0      0.000000   \n",
       "8867   34.0   56121.0            7.0           0.0      0.000000   \n",
       "7032   27.0  151382.0            4.0           0.0    974.000000   \n",
       "\n",
       "       Hours per week Workclass Education Martial Status         Occupation  \\\n",
       "36789            40.0   Private      Rare       Divorced       Craft-repair   \n",
       "30299            40.0   Private      Rare       Divorced       Craft-repair   \n",
       "42208            40.0   Private      Rare      Separated       Craft-repair   \n",
       "8867             40.0   Private      Rare       Divorced       Craft-repair   \n",
       "7032             40.0   Private      Rare       Divorced  Machine-op-inspct   \n",
       "\n",
       "      Relationship   Race   Sex        Country Income  \n",
       "36789    Unmarried  White  Male           Rare  <=50K  \n",
       "30299    Unmarried  White  Male           Rare  <=50K  \n",
       "42208    Unmarried  White  Male           Rare  <=50K  \n",
       "8867     Unmarried  White  Male  United-States  <=50K  \n",
       "7032     Unmarried  White  Male  United-States  <=50K  "
      ]
     },
     "execution_count": 38,
     "metadata": {},
     "output_type": "execute_result"
    }
   ],
   "source": [
    "X_train.iloc[top_n['index'],:]"
   ]
  },
  {
   "attachments": {},
   "cell_type": "markdown",
   "metadata": {},
   "source": [
    "# DBScan Clustering"
   ]
  },
  {
   "cell_type": "code",
   "execution_count": null,
   "metadata": {},
   "outputs": [
    {
     "data": {
      "image/png": "[encoded data removed]",
      "text/plain": [
       "<Figure size 432x288 with 1 Axes>"
      ]
     },
     "metadata": {
      "needs_background": "light"
     },
     "output_type": "display_data"
    },
    {
     "name": "stdout",
     "output_type": "stream",
     "text": [
      "CPU times: total: 625 ms\n",
      "Wall time: 627 ms\n"
     ]
    }
   ],
   "source": [
    "%%time\n",
    "# Configuring the parameters of the clustering algorithm\n",
    "dbscan_cluster = DBSCAN(eps=0.1, \n",
    "                        min_samples=25, \n",
    "                        metric=\"precomputed\",\n",
    "                        n_jobs=-1)\n",
    "\n",
    "# Fitting the clustering algorithm\n",
    "dbscan_cluster.fit(distance_matrix)\n",
    "\n",
    "plt.hist(dbscan_cluster.labels_) \n",
    "#plt.ylim(0,1000)\n",
    "plt.show()"
   ]
  },
  {
   "cell_type": "code",
   "execution_count": null,
   "metadata": {},
   "outputs": [
    {
     "data": {
      "text/plain": [
       "0.1620112"
      ]
     },
     "execution_count": 40,
     "metadata": {},
     "output_type": "execute_result"
    }
   ],
   "source": [
    "# Compute Cluster Quality using Silhouette Score\n",
    "\n",
    "silhouette_score(\n",
    "    X=distance_matrix, \n",
    "    labels=dbscan_cluster.labels_, \n",
    "    metric=\"precomputed\")"
   ]
  },
  {
   "cell_type": "code",
   "execution_count": null,
   "metadata": {},
   "outputs": [],
   "source": [
    "%%time\n",
    "# lets try different hyperparameters and count the cluster numbers; we dont want like 100 cluster but we do want maybe more than 2 clusters\n",
    "\n",
    "results_list = []\n",
    "eps_range = np.arange(.025, 0.25, .0125)\n",
    "min_sample_range = np.arange(5, 50, 2)\n",
    "\n",
    "for eps in eps_range:\n",
    "    for min_samples in min_sample_range:\n",
    "\n",
    "        # Configuring the parameters of the clustering algorithm\n",
    "        dbscan_cluster = DBSCAN(eps=eps, \n",
    "                                min_samples=min_samples, \n",
    "                                metric=\"precomputed\",\n",
    "                                n_jobs=-1)\n",
    "\n",
    "        # Fitting the clustering algorithm\n",
    "        dbscan_cluster.fit(distance_matrix)\n",
    "\n",
    "        # count the number of clusters different from noise i.e. labeled -1\n",
    "        num_cluster_detected = len(np.unique(dbscan_cluster.labels_[np.where(dbscan_cluster.labels_ >= 0)]))\n",
    "        # count the number of datapoints i.e. customers labeled as noise i.e. -1\n",
    "        num_noise_data = list(dbscan_cluster.labels_).count(-1)\n",
    "        # calculate cluster quality using the silhouette score\n",
    "        cluster_quality = silhouette_score(X=distance_matrix, \n",
    "                                           labels=dbscan_cluster.labels_, \n",
    "                                           metric=\"precomputed\")\n",
    "        \n",
    "\n",
    "        # save results\n",
    "        results_list.append([eps, min_samples, cluster_quality, num_cluster_detected, num_noise_data])"
   ]
  },
  {
   "cell_type": "code",
   "execution_count": null,
   "metadata": {},
   "outputs": [
    {
     "data": {
      "text/plain": [
       "[[0.025, 5, -0.1675002, 222, 5973],\n",
       " [0.025, 7, -0.22653246, 143, 6555],\n",
       " [0.025, 9, -0.26788288, 104, 6991],\n",
       " [0.025, 11, -0.30352637, 83, 7304],\n",
       " [0.025, 13, -0.33153582, 64, 7623],\n",
       " [0.025, 15, -0.35540986, 52, 7872],\n",
       " [0.025, 17, -0.37198195, 45, 8059],\n",
       " [0.025, 19, -0.38483235, 37, 8263],\n",
       " [0.025, 21, -0.39733794, 31, 8469],\n",
       " [0.025, 23, -0.40423808, 19, 8777],\n",
       " [0.025, 25, -0.4076334, 17, 8842],\n",
       " [0.025, 27, -0.40640062, 15, 8922],\n",
       " [0.025, 29, -0.407169, 14, 8964],\n",
       " [0.025, 31, -0.38870418, 11, 9076],\n",
       " [0.025, 33, -0.38400245, 9, 9161],\n",
       " [0.025, 35, -0.34171322, 7, 9249],\n",
       " [0.025, 37, -0.33461648, 6, 9304],\n",
       " [0.025, 39, -0.26084188, 4, 9393],\n",
       " [0.025, 41, -0.2625539, 4, 9400],\n",
       " [0.025, 43, -0.26289728, 4, 9402],\n",
       " [0.025, 45, -0.26531008, 4, 9410],\n",
       " [0.025, 47, -0.25877985, 3, 9457],\n",
       " [0.025, 49, -0.25897732, 3, 9458],\n",
       " [0.037500000000000006, 5, -0.02347268, 306, 4818],\n",
       " [0.037500000000000006, 7, -0.09088617, 211, 5406],\n",
       " [0.037500000000000006, 9, -0.14179122, 157, 5892],\n",
       " [0.037500000000000006, 11, -0.17829312, 127, 6248],\n",
       " [0.037500000000000006, 13, -0.21733926, 99, 6616],\n",
       " [0.037500000000000006, 15, -0.23796168, 86, 6823],\n",
       " [0.037500000000000006, 17, -0.26820606, 68, 7148],\n",
       " [0.037500000000000006, 19, -0.28861964, 59, 7344],\n",
       " [0.037500000000000006, 21, -0.29369208, 56, 7428],\n",
       " [0.037500000000000006, 23, -0.31384966, 48, 7640],\n",
       " [0.037500000000000006, 25, -0.32862452, 40, 7856],\n",
       " [0.037500000000000006, 27, -0.3367617, 34, 8031],\n",
       " [0.037500000000000006, 29, -0.3501837, 28, 8218],\n",
       " [0.037500000000000006, 31, -0.34614515, 24, 8357],\n",
       " [0.037500000000000006, 33, -0.35124618, 23, 8403],\n",
       " [0.037500000000000006, 35, -0.35807675, 21, 8491],\n",
       " [0.037500000000000006, 37, -0.37077326, 16, 8698],\n",
       " [0.037500000000000006, 39, -0.37246332, 15, 8750],\n",
       " [0.037500000000000006, 41, -0.35744917, 12, 8868],\n",
       " [0.037500000000000006, 43, -0.36103365, 11, 8923],\n",
       " [0.037500000000000006, 45, -0.36303657, 11, 8935],\n",
       " [0.037500000000000006, 47, -0.32463545, 9, 9037],\n",
       " [0.037500000000000006, 49, -0.32580844, 8, 9088],\n",
       " [0.05000000000000001, 5, 0.034967203, 354, 4326],\n",
       " [0.05000000000000001, 7, -0.041114602, 242, 4976],\n",
       " [0.05000000000000001, 9, -0.09166533, 185, 5423],\n",
       " [0.05000000000000001, 11, -0.1384778, 145, 5839],\n",
       " [0.05000000000000001, 13, -0.16033554, 123, 6111],\n",
       " [0.05000000000000001, 15, -0.1967639, 101, 6439],\n",
       " [0.05000000000000001, 17, -0.2270623, 83, 6741],\n",
       " [0.05000000000000001, 19, -0.24517567, 74, 6918],\n",
       " [0.05000000000000001, 21, -0.2651355, 64, 7122],\n",
       " [0.05000000000000001, 23, -0.27451602, 59, 7242],\n",
       " [0.05000000000000001, 25, -0.28810865, 53, 7396],\n",
       " [0.05000000000000001, 27, -0.2950743, 51, 7457],\n",
       " [0.05000000000000001, 29, -0.3168271, 38, 7826],\n",
       " [0.05000000000000001, 31, -0.3249178, 32, 8009],\n",
       " [0.05000000000000001, 33, -0.33567798, 29, 8106],\n",
       " [0.05000000000000001, 35, -0.33112702, 25, 8245],\n",
       " [0.05000000000000001, 37, -0.33530557, 24, 8286],\n",
       " [0.05000000000000001, 39, -0.33909917, 23, 8324],\n",
       " [0.05000000000000001, 41, -0.34791365, 18, 8527],\n",
       " [0.05000000000000001, 43, -0.33121648, 16, 8621],\n",
       " [0.05000000000000001, 45, -0.33468625, 15, 8668],\n",
       " [0.05000000000000001, 47, -0.34468812, 13, 8758],\n",
       " [0.05000000000000001, 49, -0.34757298, 12, 8810],\n",
       " [0.06250000000000001, 5, 0.05426852, 373, 4152],\n",
       " [0.06250000000000001, 7, -0.021769863, 256, 4800],\n",
       " [0.06250000000000001, 9, -0.07172291, 197, 5242],\n",
       " [0.06250000000000001, 11, -0.11657602, 156, 5645],\n",
       " [0.06250000000000001, 13, -0.14396267, 131, 5943],\n",
       " [0.06250000000000001, 15, -0.17012866, 113, 6198],\n",
       " [0.06250000000000001, 17, -0.20525251, 91, 6537],\n",
       " [0.06250000000000001, 19, -0.22363639, 81, 6715],\n",
       " [0.06250000000000001, 21, -0.24794765, 69, 6957],\n",
       " [0.06250000000000001, 23, -0.25898588, 63, 7085],\n",
       " [0.06250000000000001, 25, -0.27213222, 56, 7253],\n",
       " [0.06250000000000001, 27, -0.27826816, 54, 7310],\n",
       " [0.06250000000000001, 29, -0.29775608, 46, 7543],\n",
       " [0.06250000000000001, 31, -0.3040104, 37, 7809],\n",
       " [0.06250000000000001, 33, -0.3217562, 32, 7968],\n",
       " [0.06250000000000001, 35, -0.3157984, 28, 8101],\n",
       " [0.06250000000000001, 37, -0.32660076, 25, 8213],\n",
       " [0.06250000000000001, 39, -0.32705635, 25, 8216],\n",
       " [0.06250000000000001, 41, -0.33395386, 21, 8374],\n",
       " [0.06250000000000001, 43, -0.33155262, 19, 8460],\n",
       " [0.06250000000000001, 45, -0.3366548, 18, 8508],\n",
       " [0.06250000000000001, 47, -0.32394043, 17, 8556],\n",
       " [0.06250000000000001, 49, -0.3427139, 13, 8747],\n",
       " [0.07500000000000001, 5, -0.36340392, 36, 2831],\n",
       " [0.07500000000000001, 7, -0.27726778, 21, 3215],\n",
       " [0.07500000000000001, 9, -0.21540122, 13, 3541],\n",
       " [0.07500000000000001, 11, -0.27090803, 12, 3846],\n",
       " [0.07500000000000001, 13, -0.19126698, 9, 4065],\n",
       " [0.07500000000000001, 15, -0.076008655, 7, 4279],\n",
       " [0.07500000000000001, 17, -0.10929396, 7, 4433],\n",
       " [0.07500000000000001, 19, -0.13476644, 6, 4646],\n",
       " [0.07500000000000001, 21, -0.062436152, 4, 4821],\n",
       " [0.07500000000000001, 23, -0.040507022, 4, 4984],\n",
       " [0.07500000000000001, 25, -0.035638932, 4, 5142],\n",
       " [0.07500000000000001, 27, -0.04182569, 4, 5254],\n",
       " [0.07500000000000001, 29, -0.008190964, 3, 5366],\n",
       " [0.07500000000000001, 31, -0.016166149, 3, 5498],\n",
       " [0.07500000000000001, 33, -0.06944517, 4, 5564],\n",
       " [0.07500000000000001, 35, -0.140982, 6, 5773],\n",
       " [0.07500000000000001, 37, -0.1467642, 6, 5892],\n",
       " [0.07500000000000001, 39, -0.094689116, 4, 6114],\n",
       " [0.07500000000000001, 41, -0.14431, 5, 6235],\n",
       " [0.07500000000000001, 43, -0.15366395, 5, 6365],\n",
       " [0.07500000000000001, 45, -0.15360837, 5, 6583],\n",
       " [0.07500000000000001, 47, -0.15978757, 5, 6698],\n",
       " [0.07500000000000001, 49, -0.17137316, 5, 6792],\n",
       " [0.08750000000000002, 5, -0.19538645, 8, 1365],\n",
       " [0.08750000000000002, 7, 0.15084033, 1, 1559],\n",
       " [0.08750000000000002, 9, 0.055788964, 2, 1687],\n",
       " [0.08750000000000002, 11, 0.028847996, 2, 1832],\n",
       " [0.08750000000000002, 13, 0.1411804, 1, 1976],\n",
       " [0.08750000000000002, 15, 0.13847347, 1, 2107],\n",
       " [0.08750000000000002, 17, 0.080524765, 2, 2218],\n",
       " [0.08750000000000002, 19, 0.013418138, 3, 2313],\n",
       " [0.08750000000000002, 21, 0.03227715, 2, 2450],\n",
       " [0.08750000000000002, 23, -0.084660515, 4, 2558],\n",
       " [0.08750000000000002, 25, -0.10116167, 5, 2668],\n",
       " [0.08750000000000002, 27, -0.09575899, 4, 2765],\n",
       " [0.08750000000000002, 29, -0.10303384, 4, 2867],\n",
       " [0.08750000000000002, 31, -0.101004295, 4, 2975],\n",
       " [0.08750000000000002, 33, -0.027106488, 2, 3149],\n",
       " [0.08750000000000002, 35, -0.027599165, 2, 3207],\n",
       " [0.08750000000000002, 37, 0.10726176, 1, 3298],\n",
       " [0.08750000000000002, 39, 0.105764724, 1, 3405],\n",
       " [0.08750000000000002, 41, 0.104523405, 1, 3454],\n",
       " [0.08750000000000002, 43, 0.101982534, 1, 3533],\n",
       " [0.08750000000000002, 45, 0.10076814, 1, 3600],\n",
       " [0.08750000000000002, 47, 0.09853414, 1, 3676],\n",
       " [0.08750000000000002, 49, 0.096472085, 1, 3747],\n",
       " [0.10000000000000003, 5, 0.18603368, 1, 780],\n",
       " [0.10000000000000003, 7, 0.18345885, 1, 851],\n",
       " [0.10000000000000003, 9, 0.18123828, 1, 950],\n",
       " [0.10000000000000003, 11, 0.17738812, 1, 1037],\n",
       " [0.10000000000000003, 13, 0.17548472, 1, 1101],\n",
       " [0.10000000000000003, 15, 0.17224489, 1, 1176],\n",
       " [0.10000000000000003, 17, 0.16981238, 1, 1251],\n",
       " [0.10000000000000003, 19, 0.16795176, 1, 1312],\n",
       " [0.10000000000000003, 21, 0.16513498, 1, 1367],\n",
       " [0.10000000000000003, 23, 0.163448, 1, 1425],\n",
       " [0.10000000000000003, 25, 0.1620112, 1, 1503],\n",
       " [0.10000000000000003, 27, 0.16015975, 1, 1578],\n",
       " [0.10000000000000003, 29, 0.1594298, 1, 1624],\n",
       " [0.10000000000000003, 31, 0.15682353, 1, 1702],\n",
       " [0.10000000000000003, 33, 0.15531936, 1, 1726],\n",
       " [0.10000000000000003, 35, 0.15398088, 1, 1770],\n",
       " [0.10000000000000003, 37, -0.013494328, 3, 1853],\n",
       " [0.10000000000000003, 39, -0.025118152, 3, 1907],\n",
       " [0.10000000000000003, 41, -0.029508598, 3, 1989],\n",
       " [0.10000000000000003, 43, -0.035815634, 3, 2037],\n",
       " [0.10000000000000003, 45, -0.03663591, 3, 2108],\n",
       " [0.10000000000000003, 47, -0.015191301, 2, 2235],\n",
       " [0.10000000000000003, 49, -0.015247698, 2, 2285],\n",
       " [0.11250000000000002, 5, 0.20230623, 1, 519],\n",
       " [0.11250000000000002, 7, 0.2003321, 1, 583],\n",
       " [0.11250000000000002, 9, 0.1995237, 1, 620],\n",
       " [0.11250000000000002, 11, 0.19782636, 1, 664],\n",
       " [0.11250000000000002, 13, 0.1956294, 1, 721],\n",
       " [0.11250000000000002, 15, 0.19390216, 1, 772],\n",
       " [0.11250000000000002, 17, 0.19131853, 1, 821],\n",
       " [0.11250000000000002, 19, 0.18966144, 1, 866],\n",
       " [0.11250000000000002, 21, 0.18687321, 1, 920],\n",
       " [0.11250000000000002, 23, 0.18528777, 1, 950],\n",
       " [0.11250000000000002, 25, 0.18219747, 1, 1006],\n",
       " [0.11250000000000002, 27, 0.18045796, 1, 1050],\n",
       " [0.11250000000000002, 29, 0.17947698, 1, 1087],\n",
       " [0.11250000000000002, 31, 0.1786422, 1, 1123],\n",
       " [0.11250000000000002, 33, 0.17768182, 1, 1150],\n",
       " [0.11250000000000002, 35, 0.17583264, 1, 1205],\n",
       " [0.11250000000000002, 37, 0.17458896, 1, 1263],\n",
       " [0.11250000000000002, 39, 0.1733164, 1, 1302],\n",
       " [0.11250000000000002, 41, 0.17236058, 1, 1365],\n",
       " [0.11250000000000002, 43, 0.06135858, 2, 1416],\n",
       " [0.11250000000000002, 45, 0.058762573, 2, 1449],\n",
       " [0.11250000000000002, 47, 0.05706811, 2, 1495],\n",
       " [0.11250000000000002, 49, 0.05202512, 2, 1531],\n",
       " [0.12500000000000003, 5, 0.21144538, 1, 407],\n",
       " [0.12500000000000003, 7, 0.21103525, 1, 456],\n",
       " [0.12500000000000003, 9, 0.20868126, 1, 494],\n",
       " [0.12500000000000003, 11, 0.20689517, 1, 527],\n",
       " [0.12500000000000003, 13, 0.20639144, 1, 556],\n",
       " [0.12500000000000003, 15, 0.2046379, 1, 595],\n",
       " [0.12500000000000003, 17, 0.20152888, 1, 643],\n",
       " [0.12500000000000003, 19, 0.1999808, 1, 689],\n",
       " [0.12500000000000003, 21, 0.19626155, 1, 742],\n",
       " [0.12500000000000003, 23, 0.19372673, 1, 787],\n",
       " [0.12500000000000003, 25, 0.19256958, 1, 812],\n",
       " [0.12500000000000003, 27, 0.19119646, 1, 835],\n",
       " [0.12500000000000003, 29, 0.18927623, 1, 878],\n",
       " [0.12500000000000003, 31, 0.18894155, 1, 896],\n",
       " [0.12500000000000003, 33, 0.18738896, 1, 936],\n",
       " [0.12500000000000003, 35, 0.18564352, 1, 973],\n",
       " [0.12500000000000003, 37, 0.1838813, 1, 1013],\n",
       " [0.12500000000000003, 39, 0.182757, 1, 1037],\n",
       " [0.12500000000000003, 41, 0.18201655, 1, 1090],\n",
       " [0.12500000000000003, 43, 0.18090095, 1, 1130],\n",
       " [0.12500000000000003, 45, 0.17926912, 1, 1168],\n",
       " [0.12500000000000003, 47, 0.17722388, 1, 1231],\n",
       " [0.12500000000000003, 49, 0.17662124, 1, 1248],\n",
       " [0.13750000000000004, 5, 0.1686847, 2, 318],\n",
       " [0.13750000000000004, 7, 0.21684934, 1, 370],\n",
       " [0.13750000000000004, 9, 0.21555382, 1, 405],\n",
       " [0.13750000000000004, 11, 0.2130341, 1, 435],\n",
       " [0.13750000000000004, 13, 0.21230471, 1, 459],\n",
       " [0.13750000000000004, 15, 0.21033114, 1, 483],\n",
       " [0.13750000000000004, 17, 0.21064347, 1, 516],\n",
       " [0.13750000000000004, 19, 0.20986201, 1, 557],\n",
       " [0.13750000000000004, 21, 0.20692785, 1, 594],\n",
       " [0.13750000000000004, 23, 0.20454651, 1, 629],\n",
       " [0.13750000000000004, 25, 0.20294543, 1, 657],\n",
       " [0.13750000000000004, 27, 0.201749, 1, 680],\n",
       " [0.13750000000000004, 29, 0.19955038, 1, 720],\n",
       " [0.13750000000000004, 31, 0.19837438, 1, 742],\n",
       " [0.13750000000000004, 33, 0.19733433, 1, 770],\n",
       " [0.13750000000000004, 35, 0.19691053, 1, 790],\n",
       " [0.13750000000000004, 37, 0.19533403, 1, 812],\n",
       " [0.13750000000000004, 39, 0.19186445, 1, 861],\n",
       " [0.13750000000000004, 41, 0.1906212, 1, 894],\n",
       " [0.13750000000000004, 43, 0.18913235, 1, 946],\n",
       " [0.13750000000000004, 45, 0.18875039, 1, 962],\n",
       " [0.13750000000000004, 47, 0.1872738, 1, 1002],\n",
       " [0.13750000000000004, 49, 0.18583094, 1, 1051],\n",
       " [0.15000000000000005, 5, 0.23824736, 1, 167],\n",
       " [0.15000000000000005, 7, 0.23716162, 1, 184],\n",
       " [0.15000000000000005, 9, 0.23335564, 1, 202],\n",
       " [0.15000000000000005, 11, 0.23266469, 1, 219],\n",
       " [0.15000000000000005, 13, 0.23462191, 1, 236],\n",
       " [0.15000000000000005, 15, 0.23498315, 1, 253],\n",
       " [0.15000000000000005, 17, 0.23368214, 1, 265],\n",
       " [0.15000000000000005, 19, 0.23293237, 1, 279],\n",
       " [0.15000000000000005, 21, 0.23253085, 1, 292],\n",
       " [0.15000000000000005, 23, 0.23271686, 1, 308],\n",
       " [0.15000000000000005, 25, 0.23077652, 1, 320],\n",
       " [0.15000000000000005, 27, 0.23008229, 1, 335],\n",
       " [0.15000000000000005, 29, 0.22739647, 1, 358],\n",
       " [0.15000000000000005, 31, 0.22685418, 1, 372],\n",
       " [0.15000000000000005, 33, 0.22611131, 1, 382],\n",
       " [0.15000000000000005, 35, 0.22518894, 1, 393],\n",
       " [0.15000000000000005, 37, 0.22372644, 1, 408],\n",
       " [0.15000000000000005, 39, 0.22187614, 1, 432],\n",
       " [0.15000000000000005, 41, 0.22089472, 1, 442],\n",
       " [0.15000000000000005, 43, 0.21984956, 1, 460],\n",
       " [0.15000000000000005, 45, 0.22019026, 1, 476],\n",
       " [0.15000000000000005, 47, 0.22000425, 1, 484],\n",
       " [0.15000000000000005, 49, 0.21967368, 1, 492],\n",
       " [0.16250000000000003, 5, 0.25433725, 1, 84],\n",
       " [0.16250000000000003, 7, 0.25458488, 1, 92],\n",
       " [0.16250000000000003, 9, 0.25327307, 1, 100],\n",
       " [0.16250000000000003, 11, 0.25102806, 1, 105],\n",
       " [0.16250000000000003, 13, 0.25157118, 1, 111],\n",
       " [0.16250000000000003, 15, 0.25235558, 1, 120],\n",
       " [0.16250000000000003, 17, 0.2517229, 1, 124],\n",
       " [0.16250000000000003, 19, 0.2524019, 1, 129],\n",
       " [0.16250000000000003, 21, 0.2518451, 1, 131],\n",
       " [0.16250000000000003, 23, 0.25159457, 1, 135],\n",
       " [0.16250000000000003, 25, 0.25105423, 1, 145],\n",
       " [0.16250000000000003, 27, 0.25169846, 1, 152],\n",
       " [0.16250000000000003, 29, 0.25125456, 1, 159],\n",
       " [0.16250000000000003, 31, 0.2502199, 1, 165],\n",
       " [0.16250000000000003, 33, 0.2492933, 1, 174],\n",
       " [0.16250000000000003, 35, 0.24841419, 1, 183],\n",
       " [0.16250000000000003, 37, 0.24844232, 1, 193],\n",
       " [0.16250000000000003, 39, 0.24737309, 1, 199],\n",
       " [0.16250000000000003, 41, 0.2473649, 1, 202],\n",
       " [0.16250000000000003, 43, 0.24759763, 1, 207],\n",
       " [0.16250000000000003, 45, 0.24664621, 1, 212],\n",
       " [0.16250000000000003, 47, 0.24669935, 1, 219],\n",
       " [0.16250000000000003, 49, 0.24567802, 1, 227],\n",
       " [0.17500000000000004, 5, 0.2623773, 1, 42],\n",
       " [0.17500000000000004, 7, 0.26467368, 1, 46],\n",
       " [0.17500000000000004, 9, 0.26799598, 1, 49],\n",
       " [0.17500000000000004, 11, 0.2674439, 1, 51],\n",
       " [0.17500000000000004, 13, 0.26506364, 1, 55],\n",
       " [0.17500000000000004, 15, 0.26694468, 1, 56],\n",
       " [0.17500000000000004, 17, 0.2685928, 1, 59],\n",
       " [0.17500000000000004, 19, 0.2672868, 1, 63],\n",
       " [0.17500000000000004, 21, 0.26731881, 1, 64],\n",
       " [0.17500000000000004, 23, 0.26556343, 1, 67],\n",
       " [0.17500000000000004, 25, 0.26564074, 1, 69],\n",
       " [0.17500000000000004, 27, 0.26564074, 1, 69],\n",
       " [0.17500000000000004, 29, 0.26756674, 1, 72],\n",
       " [0.17500000000000004, 31, 0.26639733, 1, 74],\n",
       " [0.17500000000000004, 33, 0.26265228, 1, 78],\n",
       " [0.17500000000000004, 35, 0.2624796, 1, 80],\n",
       " [0.17500000000000004, 37, 0.2636791, 1, 82],\n",
       " [0.17500000000000004, 39, 0.26266146, 1, 86],\n",
       " [0.17500000000000004, 41, 0.26288477, 1, 87],\n",
       " [0.17500000000000004, 43, 0.2615752, 1, 94],\n",
       " [0.17500000000000004, 45, 0.26006642, 1, 102],\n",
       " [0.17500000000000004, 47, 0.25921485, 1, 107],\n",
       " [0.17500000000000004, 49, 0.25954133, 1, 110],\n",
       " [0.18750000000000006, 5, 0.27006516, 1, 26],\n",
       " [0.18750000000000006, 7, 0.27641428, 1, 30],\n",
       " [0.18750000000000006, 9, 0.27768275, 1, 33],\n",
       " [0.18750000000000006, 11, 0.2738526, 1, 35],\n",
       " [0.18750000000000006, 13, 0.2766583, 1, 36],\n",
       " [0.18750000000000006, 15, 0.2766583, 1, 36],\n",
       " [0.18750000000000006, 17, 0.2799177, 1, 40],\n",
       " [0.18750000000000006, 19, 0.2791345, 1, 43],\n",
       " [0.18750000000000006, 21, 0.27772924, 1, 45],\n",
       " [0.18750000000000006, 23, 0.27705467, 1, 48],\n",
       " [0.18750000000000006, 25, 0.27705467, 1, 48],\n",
       " [0.18750000000000006, 27, 0.27705467, 1, 48],\n",
       " [0.18750000000000006, 29, 0.27707818, 1, 50],\n",
       " [0.18750000000000006, 31, 0.27501014, 1, 52],\n",
       " [0.18750000000000006, 33, 0.27501014, 1, 52],\n",
       " [0.18750000000000006, 35, 0.27641362, 1, 53],\n",
       " [0.18750000000000006, 37, 0.27641362, 1, 53],\n",
       " [0.18750000000000006, 39, 0.274331, 1, 54],\n",
       " [0.18750000000000006, 41, 0.274331, 1, 54],\n",
       " [0.18750000000000006, 43, 0.27360013, 1, 55],\n",
       " [0.18750000000000006, 45, 0.27399248, 1, 56],\n",
       " [0.18750000000000006, 47, 0.27422985, 1, 58],\n",
       " [0.18750000000000006, 49, 0.2739421, 1, 60],\n",
       " [0.20000000000000004, 5, 0.27808225, 1, 19],\n",
       " [0.20000000000000004, 7, 0.28242013, 1, 21],\n",
       " [0.20000000000000004, 9, 0.2830804, 1, 22],\n",
       " [0.20000000000000004, 11, 0.28133625, 1, 24],\n",
       " [0.20000000000000004, 13, 0.28133625, 1, 24],\n",
       " [0.20000000000000004, 15, 0.28054005, 1, 27],\n",
       " [0.20000000000000004, 17, 0.28513533, 1, 29],\n",
       " [0.20000000000000004, 19, 0.28341573, 1, 32],\n",
       " [0.20000000000000004, 21, 0.28341573, 1, 32],\n",
       " [0.20000000000000004, 23, 0.28330472, 1, 37],\n",
       " [0.20000000000000004, 25, 0.28330472, 1, 37],\n",
       " [0.20000000000000004, 27, 0.28281623, 1, 38],\n",
       " [0.20000000000000004, 29, 0.28260732, 1, 39],\n",
       " [0.20000000000000004, 31, 0.28231668, 1, 41],\n",
       " [0.20000000000000004, 33, 0.28231668, 1, 41],\n",
       " [0.20000000000000004, 35, 0.28231668, 1, 41],\n",
       " [0.20000000000000004, 37, 0.28384492, 1, 42],\n",
       " [0.20000000000000004, 39, 0.28218052, 1, 43],\n",
       " [0.20000000000000004, 41, 0.28218052, 1, 43],\n",
       " [0.20000000000000004, 43, 0.28218052, 1, 43],\n",
       " [0.20000000000000004, 45, 0.28218052, 1, 43],\n",
       " [0.20000000000000004, 47, 0.2811224, 1, 44],\n",
       " [0.20000000000000004, 49, 0.27855277, 1, 45],\n",
       " [0.21250000000000005, 5, 0.2979927, 1, 11],\n",
       " [0.21250000000000005, 7, 0.293996, 1, 13],\n",
       " [0.21250000000000005, 9, 0.293996, 1, 13],\n",
       " [0.21250000000000005, 11, 0.2956237, 1, 14],\n",
       " [0.21250000000000005, 13, 0.2956237, 1, 14],\n",
       " [0.21250000000000005, 15, 0.2956237, 1, 14],\n",
       " [0.21250000000000005, 17, 0.2923, 1, 15],\n",
       " [0.21250000000000005, 19, 0.2920238, 1, 16],\n",
       " [0.21250000000000005, 21, 0.29631913, 1, 18],\n",
       " [0.21250000000000005, 23, 0.29631913, 1, 18],\n",
       " [0.21250000000000005, 25, 0.2929817, 1, 20],\n",
       " [0.21250000000000005, 27, 0.2929817, 1, 20],\n",
       " [0.21250000000000005, 29, 0.2929817, 1, 20],\n",
       " [0.21250000000000005, 31, 0.29288578, 1, 21],\n",
       " [0.21250000000000005, 33, 0.29143286, 1, 22],\n",
       " [0.21250000000000005, 35, 0.29114696, 1, 26],\n",
       " [0.21250000000000005, 37, 0.29114696, 1, 26],\n",
       " [0.21250000000000005, 39, 0.28990033, 1, 27],\n",
       " [0.21250000000000005, 41, 0.28990033, 1, 27],\n",
       " [0.21250000000000005, 43, 0.28990033, 1, 27],\n",
       " [0.21250000000000005, 45, 0.289461, 1, 28],\n",
       " [0.21250000000000005, 47, 0.28682274, 1, 29],\n",
       " [0.21250000000000005, 49, 0.28682274, 1, 29],\n",
       " [0.22500000000000006, 5, 0.32042962, 1, 4],\n",
       " [0.22500000000000006, 7, 0.32471612, 1, 5],\n",
       " [0.22500000000000006, 9, 0.32471612, 1, 5],\n",
       " [0.22500000000000006, 11, 0.32337952, 1, 6],\n",
       " [0.22500000000000006, 13, 0.32337952, 1, 6],\n",
       " [0.22500000000000006, 15, 0.32337952, 1, 6],\n",
       " [0.22500000000000006, 17, 0.32337952, 1, 6],\n",
       " [0.22500000000000006, 19, 0.32337952, 1, 6],\n",
       " [0.22500000000000006, 21, 0.32337952, 1, 6],\n",
       " [0.22500000000000006, 23, 0.309555, 1, 8],\n",
       " [0.22500000000000006, 25, 0.309555, 1, 8],\n",
       " [0.22500000000000006, 27, 0.309555, 1, 8],\n",
       " [0.22500000000000006, 29, 0.309555, 1, 8],\n",
       " [0.22500000000000006, 31, 0.309555, 1, 8],\n",
       " [0.22500000000000006, 33, 0.309555, 1, 8],\n",
       " [0.22500000000000006, 35, 0.321814, 1, 9],\n",
       " [0.22500000000000006, 37, 0.321814, 1, 9],\n",
       " [0.22500000000000006, 39, 0.31714043, 1, 10],\n",
       " [0.22500000000000006, 41, 0.31714043, 1, 10],\n",
       " [0.22500000000000006, 43, 0.31714043, 1, 10],\n",
       " [0.22500000000000006, 45, 0.3121952, 1, 11],\n",
       " [0.22500000000000006, 47, 0.3121952, 1, 11],\n",
       " [0.22500000000000006, 49, 0.3102726, 1, 12],\n",
       " [0.23750000000000007, 5, 0.33339402, 1, 2],\n",
       " [0.23750000000000007, 7, 0.33339402, 1, 2],\n",
       " [0.23750000000000007, 9, 0.3358518, 1, 3],\n",
       " [0.23750000000000007, 11, 0.3358518, 1, 3],\n",
       " [0.23750000000000007, 13, 0.3358518, 1, 3],\n",
       " [0.23750000000000007, 15, 0.3358518, 1, 3],\n",
       " [0.23750000000000007, 17, 0.3358518, 1, 3],\n",
       " [0.23750000000000007, 19, 0.3358518, 1, 3],\n",
       " [0.23750000000000007, 21, 0.3358518, 1, 3],\n",
       " [0.23750000000000007, 23, 0.3358518, 1, 3],\n",
       " [0.23750000000000007, 25, 0.3358518, 1, 3],\n",
       " [0.23750000000000007, 27, 0.3358518, 1, 3],\n",
       " [0.23750000000000007, 29, 0.3358518, 1, 3],\n",
       " [0.23750000000000007, 31, 0.3358518, 1, 3],\n",
       " [0.23750000000000007, 33, 0.3358518, 1, 3],\n",
       " [0.23750000000000007, 35, 0.3358518, 1, 3],\n",
       " [0.23750000000000007, 37, 0.3358518, 1, 3],\n",
       " [0.23750000000000007, 39, 0.3358518, 1, 3],\n",
       " [0.23750000000000007, 41, 0.3358518, 1, 3],\n",
       " [0.23750000000000007, 43, 0.33476758, 1, 4],\n",
       " [0.23750000000000007, 45, 0.33476758, 1, 4],\n",
       " [0.23750000000000007, 47, 0.35078198, 1, 5],\n",
       " [0.23750000000000007, 49, 0.35078198, 1, 5]]"
      ]
     },
     "execution_count": 42,
     "metadata": {},
     "output_type": "execute_result"
    }
   ],
   "source": [
    "results_list"
   ]
  },
  {
   "cell_type": "code",
   "execution_count": null,
   "metadata": {},
   "outputs": [
    {
     "name": "stdout",
     "output_type": "stream",
     "text": [
      "The history saving thread hit an unexpected error (OperationalError('database is locked')).History will not be written to the database.\n"
     ]
    },
    {
     "data": {
      "text/html": [
       "<div>\n",
       "<style scoped>\n",
       "    .dataframe tbody tr th:only-of-type {\n",
       "        vertical-align: middle;\n",
       "    }\n",
       "\n",
       "    .dataframe tbody tr th {\n",
       "        vertical-align: top;\n",
       "    }\n",
       "\n",
       "    .dataframe thead th {\n",
       "        text-align: right;\n",
       "    }\n",
       "</style>\n",
       "<table border=\"1\" class=\"dataframe\">\n",
       "  <thead>\n",
       "    <tr style=\"text-align: right;\">\n",
       "      <th></th>\n",
       "      <th>eps</th>\n",
       "      <th>min_samples</th>\n",
       "      <th>cluster_quality</th>\n",
       "      <th>num_clusters</th>\n",
       "      <th>num_noise_data</th>\n",
       "    </tr>\n",
       "  </thead>\n",
       "  <tbody>\n",
       "    <tr>\n",
       "      <th>0</th>\n",
       "      <td>0.0250</td>\n",
       "      <td>5</td>\n",
       "      <td>-0.167500</td>\n",
       "      <td>222</td>\n",
       "      <td>5973</td>\n",
       "    </tr>\n",
       "    <tr>\n",
       "      <th>1</th>\n",
       "      <td>0.0250</td>\n",
       "      <td>7</td>\n",
       "      <td>-0.226532</td>\n",
       "      <td>143</td>\n",
       "      <td>6555</td>\n",
       "    </tr>\n",
       "    <tr>\n",
       "      <th>2</th>\n",
       "      <td>0.0250</td>\n",
       "      <td>9</td>\n",
       "      <td>-0.267883</td>\n",
       "      <td>104</td>\n",
       "      <td>6991</td>\n",
       "    </tr>\n",
       "    <tr>\n",
       "      <th>3</th>\n",
       "      <td>0.0250</td>\n",
       "      <td>11</td>\n",
       "      <td>-0.303526</td>\n",
       "      <td>83</td>\n",
       "      <td>7304</td>\n",
       "    </tr>\n",
       "    <tr>\n",
       "      <th>4</th>\n",
       "      <td>0.0250</td>\n",
       "      <td>13</td>\n",
       "      <td>-0.331536</td>\n",
       "      <td>64</td>\n",
       "      <td>7623</td>\n",
       "    </tr>\n",
       "    <tr>\n",
       "      <th>...</th>\n",
       "      <td>...</td>\n",
       "      <td>...</td>\n",
       "      <td>...</td>\n",
       "      <td>...</td>\n",
       "      <td>...</td>\n",
       "    </tr>\n",
       "    <tr>\n",
       "      <th>409</th>\n",
       "      <td>0.2375</td>\n",
       "      <td>41</td>\n",
       "      <td>0.335852</td>\n",
       "      <td>1</td>\n",
       "      <td>3</td>\n",
       "    </tr>\n",
       "    <tr>\n",
       "      <th>410</th>\n",
       "      <td>0.2375</td>\n",
       "      <td>43</td>\n",
       "      <td>0.334768</td>\n",
       "      <td>1</td>\n",
       "      <td>4</td>\n",
       "    </tr>\n",
       "    <tr>\n",
       "      <th>411</th>\n",
       "      <td>0.2375</td>\n",
       "      <td>45</td>\n",
       "      <td>0.334768</td>\n",
       "      <td>1</td>\n",
       "      <td>4</td>\n",
       "    </tr>\n",
       "    <tr>\n",
       "      <th>412</th>\n",
       "      <td>0.2375</td>\n",
       "      <td>47</td>\n",
       "      <td>0.350782</td>\n",
       "      <td>1</td>\n",
       "      <td>5</td>\n",
       "    </tr>\n",
       "    <tr>\n",
       "      <th>413</th>\n",
       "      <td>0.2375</td>\n",
       "      <td>49</td>\n",
       "      <td>0.350782</td>\n",
       "      <td>1</td>\n",
       "      <td>5</td>\n",
       "    </tr>\n",
       "  </tbody>\n",
       "</table>\n",
       "<p>414 rows × 5 columns</p>\n",
       "</div>"
      ],
      "text/plain": [
       "        eps  min_samples  cluster_quality  num_clusters  num_noise_data\n",
       "0    0.0250            5        -0.167500           222            5973\n",
       "1    0.0250            7        -0.226532           143            6555\n",
       "2    0.0250            9        -0.267883           104            6991\n",
       "3    0.0250           11        -0.303526            83            7304\n",
       "4    0.0250           13        -0.331536            64            7623\n",
       "..      ...          ...              ...           ...             ...\n",
       "409  0.2375           41         0.335852             1               3\n",
       "410  0.2375           43         0.334768             1               4\n",
       "411  0.2375           45         0.334768             1               4\n",
       "412  0.2375           47         0.350782             1               5\n",
       "413  0.2375           49         0.350782             1               5\n",
       "\n",
       "[414 rows x 5 columns]"
      ]
     },
     "execution_count": 43,
     "metadata": {},
     "output_type": "execute_result"
    }
   ],
   "source": [
    "clustering_results_df = pd.DataFrame(results_list, columns = (\"eps\", \"min_samples\", \"cluster_quality\", \"num_clusters\", \"num_noise_data\"))\n",
    "clustering_results_df"
   ]
  },
  {
   "cell_type": "code",
   "execution_count": null,
   "metadata": {},
   "outputs": [
    {
     "data": {
      "text/html": [
       "<div>\n",
       "<style scoped>\n",
       "    .dataframe tbody tr th:only-of-type {\n",
       "        vertical-align: middle;\n",
       "    }\n",
       "\n",
       "    .dataframe tbody tr th {\n",
       "        vertical-align: top;\n",
       "    }\n",
       "\n",
       "    .dataframe thead th {\n",
       "        text-align: right;\n",
       "    }\n",
       "</style>\n",
       "<table border=\"1\" class=\"dataframe\">\n",
       "  <thead>\n",
       "    <tr style=\"text-align: right;\">\n",
       "      <th></th>\n",
       "      <th>eps</th>\n",
       "      <th>min_samples</th>\n",
       "      <th>cluster_quality</th>\n",
       "      <th>num_clusters</th>\n",
       "      <th>num_noise_data</th>\n",
       "    </tr>\n",
       "  </thead>\n",
       "  <tbody>\n",
       "    <tr>\n",
       "      <th>122</th>\n",
       "      <td>0.0875</td>\n",
       "      <td>19</td>\n",
       "      <td>0.013418</td>\n",
       "      <td>3</td>\n",
       "      <td>2313</td>\n",
       "    </tr>\n",
       "    <tr>\n",
       "      <th>104</th>\n",
       "      <td>0.0750</td>\n",
       "      <td>29</td>\n",
       "      <td>-0.008191</td>\n",
       "      <td>3</td>\n",
       "      <td>5366</td>\n",
       "    </tr>\n",
       "    <tr>\n",
       "      <th>154</th>\n",
       "      <td>0.1000</td>\n",
       "      <td>37</td>\n",
       "      <td>-0.013494</td>\n",
       "      <td>3</td>\n",
       "      <td>1853</td>\n",
       "    </tr>\n",
       "    <tr>\n",
       "      <th>105</th>\n",
       "      <td>0.0750</td>\n",
       "      <td>31</td>\n",
       "      <td>-0.016166</td>\n",
       "      <td>3</td>\n",
       "      <td>5498</td>\n",
       "    </tr>\n",
       "    <tr>\n",
       "      <th>155</th>\n",
       "      <td>0.1000</td>\n",
       "      <td>39</td>\n",
       "      <td>-0.025118</td>\n",
       "      <td>3</td>\n",
       "      <td>1907</td>\n",
       "    </tr>\n",
       "    <tr>\n",
       "      <th>156</th>\n",
       "      <td>0.1000</td>\n",
       "      <td>41</td>\n",
       "      <td>-0.029509</td>\n",
       "      <td>3</td>\n",
       "      <td>1989</td>\n",
       "    </tr>\n",
       "    <tr>\n",
       "      <th>157</th>\n",
       "      <td>0.1000</td>\n",
       "      <td>43</td>\n",
       "      <td>-0.035816</td>\n",
       "      <td>3</td>\n",
       "      <td>2037</td>\n",
       "    </tr>\n",
       "    <tr>\n",
       "      <th>158</th>\n",
       "      <td>0.1000</td>\n",
       "      <td>45</td>\n",
       "      <td>-0.036636</td>\n",
       "      <td>3</td>\n",
       "      <td>2108</td>\n",
       "    </tr>\n",
       "    <tr>\n",
       "      <th>21</th>\n",
       "      <td>0.0250</td>\n",
       "      <td>47</td>\n",
       "      <td>-0.258780</td>\n",
       "      <td>3</td>\n",
       "      <td>9457</td>\n",
       "    </tr>\n",
       "    <tr>\n",
       "      <th>22</th>\n",
       "      <td>0.0250</td>\n",
       "      <td>49</td>\n",
       "      <td>-0.258977</td>\n",
       "      <td>3</td>\n",
       "      <td>9458</td>\n",
       "    </tr>\n",
       "  </tbody>\n",
       "</table>\n",
       "</div>"
      ],
      "text/plain": [
       "        eps  min_samples  cluster_quality  num_clusters  num_noise_data\n",
       "122  0.0875           19         0.013418             3            2313\n",
       "104  0.0750           29        -0.008191             3            5366\n",
       "154  0.1000           37        -0.013494             3            1853\n",
       "105  0.0750           31        -0.016166             3            5498\n",
       "155  0.1000           39        -0.025118             3            1907\n",
       "156  0.1000           41        -0.029509             3            1989\n",
       "157  0.1000           43        -0.035816             3            2037\n",
       "158  0.1000           45        -0.036636             3            2108\n",
       "21   0.0250           47        -0.258780             3            9457\n",
       "22   0.0250           49        -0.258977             3            9458"
      ]
     },
     "execution_count": 72,
     "metadata": {},
     "output_type": "execute_result"
    }
   ],
   "source": [
    "nclusters = 3\n",
    "db_config = clustering_results_df[clustering_results_df[\"num_clusters\"] == nclusters].sort_values(by=\"cluster_quality\", ascending=False)\n",
    "db_config "
   ]
  },
  {
   "cell_type": "code",
   "execution_count": null,
   "metadata": {},
   "outputs": [
    {
     "name": "stdout",
     "output_type": "stream",
     "text": [
      "0.088 19\n"
     ]
    },
    {
     "data": {
      "image/png": "[encoded data removed]",
      "text/plain": [
       "<Figure size 432x288 with 1 Axes>"
      ]
     },
     "metadata": {
      "needs_background": "light"
     },
     "output_type": "display_data"
    },
    {
     "name": "stdout",
     "output_type": "stream",
     "text": [
      "0.075 29\n"
     ]
    },
    {
     "data": {
      "image/png": "[encoded data removed]",
      "text/plain": [
       "<Figure size 432x288 with 1 Axes>"
      ]
     },
     "metadata": {
      "needs_background": "light"
     },
     "output_type": "display_data"
    },
    {
     "name": "stdout",
     "output_type": "stream",
     "text": [
      "0.1 37\n"
     ]
    },
    {
     "data": {
      "image/png": "[encoded data removed]",
      "text/plain": [
       "<Figure size 432x288 with 1 Axes>"
      ]
     },
     "metadata": {
      "needs_background": "light"
     },
     "output_type": "display_data"
    },
    {
     "name": "stdout",
     "output_type": "stream",
     "text": [
      "0.075 31\n"
     ]
    },
    {
     "data": {
      "image/png": "[encoded data removed]",
      "text/plain": [
       "<Figure size 432x288 with 1 Axes>"
      ]
     },
     "metadata": {
      "needs_background": "light"
     },
     "output_type": "display_data"
    },
    {
     "name": "stdout",
     "output_type": "stream",
     "text": [
      "0.1 39\n"
     ]
    },
    {
     "data": {
      "image/png": "[encoded data removed]",
      "text/plain": [
       "<Figure size 432x288 with 1 Axes>"
      ]
     },
     "metadata": {
      "needs_background": "light"
     },
     "output_type": "display_data"
    },
    {
     "name": "stdout",
     "output_type": "stream",
     "text": [
      "0.1 41\n"
     ]
    },
    {
     "data": {
      "image/png": "[encoded data removed]",
      "text/plain": [
       "<Figure size 432x288 with 1 Axes>"
      ]
     },
     "metadata": {
      "needs_background": "light"
     },
     "output_type": "display_data"
    },
    {
     "name": "stdout",
     "output_type": "stream",
     "text": [
      "0.1 43\n"
     ]
    },
    {
     "data": {
      "image/png": "[encoded data removed]",
      "text/plain": [
       "<Figure size 432x288 with 1 Axes>"
      ]
     },
     "metadata": {
      "needs_background": "light"
     },
     "output_type": "display_data"
    },
    {
     "name": "stdout",
     "output_type": "stream",
     "text": [
      "0.1 45\n"
     ]
    },
    {
     "data": {
      "image/png": "[encoded data removed]",
      "text/plain": [
       "<Figure size 432x288 with 1 Axes>"
      ]
     },
     "metadata": {
      "needs_background": "light"
     },
     "output_type": "display_data"
    },
    {
     "name": "stdout",
     "output_type": "stream",
     "text": [
      "0.025 47\n"
     ]
    },
    {
     "data": {
      "image/png": "[encoded data removed]",
      "text/plain": [
       "<Figure size 432x288 with 1 Axes>"
      ]
     },
     "metadata": {
      "needs_background": "light"
     },
     "output_type": "display_data"
    },
    {
     "name": "stdout",
     "output_type": "stream",
     "text": [
      "0.025 49\n"
     ]
    },
    {
     "data": {
      "image/png": "[encoded data removed]",
      "text/plain": [
       "<Figure size 432x288 with 1 Axes>"
      ]
     },
     "metadata": {
      "needs_background": "light"
     },
     "output_type": "display_data"
    }
   ],
   "source": [
    "for conf in np.array(db_config[['eps', 'min_samples']]):\n",
    "    eps = np.round(conf[0],3)\n",
    "    min_samples = int(conf[1])\n",
    "    print(eps, min_samples)\n",
    "\n",
    "    # Configuring the parameters of the clustering algorithm\n",
    "    dbscan_cluster = DBSCAN(eps=eps, \n",
    "                            min_samples=min_samples, \n",
    "                            metric=\"precomputed\",\n",
    "                            n_jobs=-1)\n",
    "\n",
    "    # Fitting the clustering algorithm\n",
    "    dbscan_cluster.fit(distance_matrix)\n",
    "\n",
    "    plt.hist(dbscan_cluster.labels_) \n",
    "    plt.yscale('log')\n",
    "    plt.grid()\n",
    "    plt.show()"
   ]
  },
  {
   "cell_type": "code",
   "execution_count": null,
   "metadata": {},
   "outputs": [
    {
     "data": {
      "image/png": "[encoded data removed]",
      "text/plain": [
       "<Figure size 432x288 with 1 Axes>"
      ]
     },
     "metadata": {
      "needs_background": "light"
     },
     "output_type": "display_data"
    }
   ],
   "source": [
    "# Configuring the parameters of the clustering algorithm\n",
    "dbscan_cluster = DBSCAN(eps=0.1, \n",
    "                        min_samples=37, \n",
    "                        metric=\"precomputed\",\n",
    "                        n_jobs=-1)\n",
    "\n",
    "# Fitting the clustering algorithm\n",
    "dbscan_cluster.fit(distance_matrix)\n",
    "\n",
    "plt.hist(dbscan_cluster.labels_) \n",
    "plt.yscale('log')\n",
    "plt.grid()\n",
    "plt.show()"
   ]
  },
  {
   "cell_type": "code",
   "execution_count": null,
   "metadata": {},
   "outputs": [
    {
     "data": {
      "text/html": [
       "<div>\n",
       "<style scoped>\n",
       "    .dataframe tbody tr th:only-of-type {\n",
       "        vertical-align: middle;\n",
       "    }\n",
       "\n",
       "    .dataframe tbody tr th {\n",
       "        vertical-align: top;\n",
       "    }\n",
       "\n",
       "    .dataframe thead th {\n",
       "        text-align: right;\n",
       "    }\n",
       "</style>\n",
       "<table border=\"1\" class=\"dataframe\">\n",
       "  <thead>\n",
       "    <tr style=\"text-align: right;\">\n",
       "      <th></th>\n",
       "      <th>Age</th>\n",
       "      <th>fnlwgt</th>\n",
       "      <th>Education-Num</th>\n",
       "      <th>Capital Gain</th>\n",
       "      <th>Capital Loss</th>\n",
       "      <th>Hours per week</th>\n",
       "      <th>Workclass</th>\n",
       "      <th>Education</th>\n",
       "      <th>Martial Status</th>\n",
       "      <th>Occupation</th>\n",
       "      <th>Relationship</th>\n",
       "      <th>Race</th>\n",
       "      <th>Sex</th>\n",
       "      <th>Country</th>\n",
       "      <th>Income</th>\n",
       "      <th>cluster</th>\n",
       "    </tr>\n",
       "  </thead>\n",
       "  <tbody>\n",
       "    <tr>\n",
       "      <th>20904</th>\n",
       "      <td>20.0</td>\n",
       "      <td>194630.0</td>\n",
       "      <td>9.0</td>\n",
       "      <td>3781.0</td>\n",
       "      <td>0.000000</td>\n",
       "      <td>50.0</td>\n",
       "      <td>Private</td>\n",
       "      <td>HS-grad</td>\n",
       "      <td>Married-civ-spouse</td>\n",
       "      <td>Adm-clerical</td>\n",
       "      <td>Husband</td>\n",
       "      <td>White</td>\n",
       "      <td>Male</td>\n",
       "      <td>United-States</td>\n",
       "      <td>&lt;=50K</td>\n",
       "      <td>0</td>\n",
       "    </tr>\n",
       "    <tr>\n",
       "      <th>47239</th>\n",
       "      <td>41.0</td>\n",
       "      <td>143003.0</td>\n",
       "      <td>14.0</td>\n",
       "      <td>0.0</td>\n",
       "      <td>1290.295683</td>\n",
       "      <td>45.0</td>\n",
       "      <td>Private</td>\n",
       "      <td>Masters</td>\n",
       "      <td>Married-civ-spouse</td>\n",
       "      <td>Rare</td>\n",
       "      <td>Husband</td>\n",
       "      <td>Asian-Pac-Islander</td>\n",
       "      <td>Male</td>\n",
       "      <td>Rare</td>\n",
       "      <td>&gt;50K</td>\n",
       "      <td>-1</td>\n",
       "    </tr>\n",
       "    <tr>\n",
       "      <th>29209</th>\n",
       "      <td>31.0</td>\n",
       "      <td>210562.0</td>\n",
       "      <td>9.0</td>\n",
       "      <td>0.0</td>\n",
       "      <td>0.000000</td>\n",
       "      <td>65.0</td>\n",
       "      <td>Private</td>\n",
       "      <td>HS-grad</td>\n",
       "      <td>Married-civ-spouse</td>\n",
       "      <td>Rare</td>\n",
       "      <td>Husband</td>\n",
       "      <td>White</td>\n",
       "      <td>Male</td>\n",
       "      <td>United-States</td>\n",
       "      <td>&lt;=50K</td>\n",
       "      <td>0</td>\n",
       "    </tr>\n",
       "    <tr>\n",
       "      <th>22674</th>\n",
       "      <td>19.0</td>\n",
       "      <td>67759.0</td>\n",
       "      <td>9.0</td>\n",
       "      <td>0.0</td>\n",
       "      <td>0.000000</td>\n",
       "      <td>43.0</td>\n",
       "      <td>Private</td>\n",
       "      <td>HS-grad</td>\n",
       "      <td>Never-married</td>\n",
       "      <td>Machine-op-inspct</td>\n",
       "      <td>Own-child</td>\n",
       "      <td>White</td>\n",
       "      <td>Male</td>\n",
       "      <td>United-States</td>\n",
       "      <td>&lt;=50K</td>\n",
       "      <td>0</td>\n",
       "    </tr>\n",
       "    <tr>\n",
       "      <th>11463</th>\n",
       "      <td>45.0</td>\n",
       "      <td>241350.0</td>\n",
       "      <td>9.0</td>\n",
       "      <td>0.0</td>\n",
       "      <td>0.000000</td>\n",
       "      <td>40.0</td>\n",
       "      <td>Private</td>\n",
       "      <td>HS-grad</td>\n",
       "      <td>Never-married</td>\n",
       "      <td>Rare</td>\n",
       "      <td>Not-in-family</td>\n",
       "      <td>White</td>\n",
       "      <td>Male</td>\n",
       "      <td>United-States</td>\n",
       "      <td>&lt;=50K</td>\n",
       "      <td>0</td>\n",
       "    </tr>\n",
       "  </tbody>\n",
       "</table>\n",
       "</div>"
      ],
      "text/plain": [
       "        Age    fnlwgt  Education-Num  Capital Gain  Capital Loss  \\\n",
       "20904  20.0  194630.0            9.0        3781.0      0.000000   \n",
       "47239  41.0  143003.0           14.0           0.0   1290.295683   \n",
       "29209  31.0  210562.0            9.0           0.0      0.000000   \n",
       "22674  19.0   67759.0            9.0           0.0      0.000000   \n",
       "11463  45.0  241350.0            9.0           0.0      0.000000   \n",
       "\n",
       "       Hours per week Workclass Education      Martial Status  \\\n",
       "20904            50.0   Private   HS-grad  Married-civ-spouse   \n",
       "47239            45.0   Private   Masters  Married-civ-spouse   \n",
       "29209            65.0   Private   HS-grad  Married-civ-spouse   \n",
       "22674            43.0   Private   HS-grad       Never-married   \n",
       "11463            40.0   Private   HS-grad       Never-married   \n",
       "\n",
       "              Occupation   Relationship                Race   Sex  \\\n",
       "20904       Adm-clerical        Husband               White  Male   \n",
       "47239               Rare        Husband  Asian-Pac-Islander  Male   \n",
       "29209               Rare        Husband               White  Male   \n",
       "22674  Machine-op-inspct      Own-child               White  Male   \n",
       "11463               Rare  Not-in-family               White  Male   \n",
       "\n",
       "             Country Income  cluster  \n",
       "20904  United-States  <=50K        0  \n",
       "47239           Rare   >50K       -1  \n",
       "29209  United-States  <=50K        0  \n",
       "22674  United-States  <=50K        0  \n",
       "11463  United-States  <=50K        0  "
      ]
     },
     "execution_count": 75,
     "metadata": {},
     "output_type": "execute_result"
    }
   ],
   "source": [
    "# Adding the results to a new column in the dataframe\n",
    "X_train[\"cluster\"] = dbscan_cluster.labels_\n",
    "X_train.head()"
   ]
  },
  {
   "cell_type": "code",
   "execution_count": null,
   "metadata": {},
   "outputs": [],
   "source": [
    "# Relabel Clusters starting from 0\n",
    "X_train[\"cluster\"] = X_train[\"cluster\"] + 1"
   ]
  },
  {
   "cell_type": "markdown",
   "metadata": {},
   "source": [
    "# Train Model on Cluster Label"
   ]
  },
  {
   "attachments": {},
   "cell_type": "markdown",
   "metadata": {},
   "source": [
    "### One Hote Encode"
   ]
  },
  {
   "cell_type": "code",
   "execution_count": null,
   "metadata": {},
   "outputs": [],
   "source": [
    "enc = OneHotEncoder(\n",
    "    handle_unknown='ignore',\n",
    "    sparse=False,\n",
    "    drop='first')"
   ]
  },
  {
   "cell_type": "code",
   "execution_count": null,
   "metadata": {},
   "outputs": [
    {
     "data": {
      "text/html": [
       "<style>#sk-container-id-4 {color: black;background-color: white;}#sk-container-id-4 pre{padding: 0;}#sk-container-id-4 div.sk-toggleable {background-color: white;}#sk-container-id-4 label.sk-toggleable__label {cursor: pointer;display: block;width: 100%;margin-bottom: 0;padding: 0.3em;box-sizing: border-box;text-align: center;}#sk-container-id-4 label.sk-toggleable__label-arrow:before {content: \"▸\";float: left;margin-right: 0.25em;color: #696969;}#sk-container-id-4 label.sk-toggleable__label-arrow:hover:before {color: black;}#sk-container-id-4 div.sk-estimator:hover label.sk-toggleable__label-arrow:before {color: black;}#sk-container-id-4 div.sk-toggleable__content {max-height: 0;max-width: 0;overflow: hidden;text-align: left;background-color: #f0f8ff;}#sk-container-id-4 div.sk-toggleable__content pre {margin: 0.2em;color: black;border-radius: 0.25em;background-color: #f0f8ff;}#sk-container-id-4 input.sk-toggleable__control:checked~div.sk-toggleable__content {max-height: 200px;max-width: 100%;overflow: auto;}#sk-container-id-4 input.sk-toggleable__control:checked~label.sk-toggleable__label-arrow:before {content: \"▾\";}#sk-container-id-4 div.sk-estimator input.sk-toggleable__control:checked~label.sk-toggleable__label {background-color: #d4ebff;}#sk-container-id-4 div.sk-label input.sk-toggleable__control:checked~label.sk-toggleable__label {background-color: #d4ebff;}#sk-container-id-4 input.sk-hidden--visually {border: 0;clip: rect(1px 1px 1px 1px);clip: rect(1px, 1px, 1px, 1px);height: 1px;margin: -1px;overflow: hidden;padding: 0;position: absolute;width: 1px;}#sk-container-id-4 div.sk-estimator {font-family: monospace;background-color: #f0f8ff;border: 1px dotted black;border-radius: 0.25em;box-sizing: border-box;margin-bottom: 0.5em;}#sk-container-id-4 div.sk-estimator:hover {background-color: #d4ebff;}#sk-container-id-4 div.sk-parallel-item::after {content: \"\";width: 100%;border-bottom: 1px solid gray;flex-grow: 1;}#sk-container-id-4 div.sk-label:hover label.sk-toggleable__label {background-color: #d4ebff;}#sk-container-id-4 div.sk-serial::before {content: \"\";position: absolute;border-left: 1px solid gray;box-sizing: border-box;top: 0;bottom: 0;left: 50%;z-index: 0;}#sk-container-id-4 div.sk-serial {display: flex;flex-direction: column;align-items: center;background-color: white;padding-right: 0.2em;padding-left: 0.2em;position: relative;}#sk-container-id-4 div.sk-item {position: relative;z-index: 1;}#sk-container-id-4 div.sk-parallel {display: flex;align-items: stretch;justify-content: center;background-color: white;position: relative;}#sk-container-id-4 div.sk-item::before, #sk-container-id-4 div.sk-parallel-item::before {content: \"\";position: absolute;border-left: 1px solid gray;box-sizing: border-box;top: 0;bottom: 0;left: 50%;z-index: -1;}#sk-container-id-4 div.sk-parallel-item {display: flex;flex-direction: column;z-index: 1;position: relative;background-color: white;}#sk-container-id-4 div.sk-parallel-item:first-child::after {align-self: flex-end;width: 50%;}#sk-container-id-4 div.sk-parallel-item:last-child::after {align-self: flex-start;width: 50%;}#sk-container-id-4 div.sk-parallel-item:only-child::after {width: 0;}#sk-container-id-4 div.sk-dashed-wrapped {border: 1px dashed gray;margin: 0 0.4em 0.5em 0.4em;box-sizing: border-box;padding-bottom: 0.4em;background-color: white;}#sk-container-id-4 div.sk-label label {font-family: monospace;font-weight: bold;display: inline-block;line-height: 1.2em;}#sk-container-id-4 div.sk-label-container {text-align: center;}#sk-container-id-4 div.sk-container {/* jupyter's `normalize.less` sets `[hidden] { display: none; }` but bootstrap.min.css set `[hidden] { display: none !important; }` so we also need the `!important` here to be able to override the default hidden behavior on the sphinx rendered scikit-learn.org. See: https://github.com/scikit-learn/scikit-learn/issues/21755 */display: inline-block !important;position: relative;}#sk-container-id-4 div.sk-text-repr-fallback {display: none;}</style><div id=\"sk-container-id-4\" class=\"sk-top-container\"><div class=\"sk-text-repr-fallback\"><pre>OneHotEncoder(drop=&#x27;first&#x27;, handle_unknown=&#x27;ignore&#x27;, sparse=False)</pre><b>In a Jupyter environment, please rerun this cell to show the HTML representation or trust the notebook. <br />On GitHub, the HTML representation is unable to render, please try loading this page with nbviewer.org.</b></div><div class=\"sk-container\" hidden><div class=\"sk-item\"><div class=\"sk-estimator sk-toggleable\"><input class=\"sk-toggleable__control sk-hidden--visually\" id=\"sk-estimator-id-6\" type=\"checkbox\" checked><label for=\"sk-estimator-id-6\" class=\"sk-toggleable__label sk-toggleable__label-arrow\">OneHotEncoder</label><div class=\"sk-toggleable__content\"><pre>OneHotEncoder(drop=&#x27;first&#x27;, handle_unknown=&#x27;ignore&#x27;, sparse=False)</pre></div></div></div></div></div>"
      ],
      "text/plain": [
       "OneHotEncoder(drop='first', handle_unknown='ignore', sparse=False)"
      ]
     },
     "execution_count": 80,
     "metadata": {},
     "output_type": "execute_result"
    }
   ],
   "source": [
    "enc.fit(X_train[categorical_columns])"
   ]
  },
  {
   "cell_type": "code",
   "execution_count": null,
   "metadata": {},
   "outputs": [],
   "source": [
    "X_train_hot_enc = enc.transform(X_train[categorical_columns])"
   ]
  },
  {
   "cell_type": "code",
   "execution_count": null,
   "metadata": {},
   "outputs": [],
   "source": [
    "# Save one hot encoder\n",
    "with open('../artifacts/enc.pickle', 'wb') as filename:\n",
    "    pickle.dump(enc, filename)"
   ]
  },
  {
   "cell_type": "code",
   "execution_count": null,
   "metadata": {},
   "outputs": [
    {
     "data": {
      "text/html": [
       "<div>\n",
       "<style scoped>\n",
       "    .dataframe tbody tr th:only-of-type {\n",
       "        vertical-align: middle;\n",
       "    }\n",
       "\n",
       "    .dataframe tbody tr th {\n",
       "        vertical-align: top;\n",
       "    }\n",
       "\n",
       "    .dataframe thead th {\n",
       "        text-align: right;\n",
       "    }\n",
       "</style>\n",
       "<table border=\"1\" class=\"dataframe\">\n",
       "  <thead>\n",
       "    <tr style=\"text-align: right;\">\n",
       "      <th></th>\n",
       "      <th>Workclass_Local-gov</th>\n",
       "      <th>Workclass_Private</th>\n",
       "      <th>Workclass_Self-emp-inc</th>\n",
       "      <th>Workclass_Self-emp-not-inc</th>\n",
       "      <th>Workclass_State-gov</th>\n",
       "      <th>Workclass_Without-pay</th>\n",
       "      <th>Education_HS-grad</th>\n",
       "      <th>Education_Masters</th>\n",
       "      <th>Education_Rare</th>\n",
       "      <th>Education_Some-college</th>\n",
       "      <th>...</th>\n",
       "      <th>Relationship_Own-child</th>\n",
       "      <th>Relationship_Unmarried</th>\n",
       "      <th>Relationship_Wife</th>\n",
       "      <th>Race_Asian-Pac-Islander</th>\n",
       "      <th>Race_Black</th>\n",
       "      <th>Race_Other</th>\n",
       "      <th>Race_White</th>\n",
       "      <th>Sex_Male</th>\n",
       "      <th>Country_United-States</th>\n",
       "      <th>Income_&gt;50K</th>\n",
       "    </tr>\n",
       "  </thead>\n",
       "  <tbody>\n",
       "    <tr>\n",
       "      <th>20904</th>\n",
       "      <td>0.0</td>\n",
       "      <td>1.0</td>\n",
       "      <td>0.0</td>\n",
       "      <td>0.0</td>\n",
       "      <td>0.0</td>\n",
       "      <td>0.0</td>\n",
       "      <td>1.0</td>\n",
       "      <td>0.0</td>\n",
       "      <td>0.0</td>\n",
       "      <td>0.0</td>\n",
       "      <td>...</td>\n",
       "      <td>0.0</td>\n",
       "      <td>0.0</td>\n",
       "      <td>0.0</td>\n",
       "      <td>0.0</td>\n",
       "      <td>0.0</td>\n",
       "      <td>0.0</td>\n",
       "      <td>1.0</td>\n",
       "      <td>1.0</td>\n",
       "      <td>1.0</td>\n",
       "      <td>0.0</td>\n",
       "    </tr>\n",
       "    <tr>\n",
       "      <th>47239</th>\n",
       "      <td>0.0</td>\n",
       "      <td>1.0</td>\n",
       "      <td>0.0</td>\n",
       "      <td>0.0</td>\n",
       "      <td>0.0</td>\n",
       "      <td>0.0</td>\n",
       "      <td>0.0</td>\n",
       "      <td>1.0</td>\n",
       "      <td>0.0</td>\n",
       "      <td>0.0</td>\n",
       "      <td>...</td>\n",
       "      <td>0.0</td>\n",
       "      <td>0.0</td>\n",
       "      <td>0.0</td>\n",
       "      <td>1.0</td>\n",
       "      <td>0.0</td>\n",
       "      <td>0.0</td>\n",
       "      <td>0.0</td>\n",
       "      <td>1.0</td>\n",
       "      <td>0.0</td>\n",
       "      <td>1.0</td>\n",
       "    </tr>\n",
       "    <tr>\n",
       "      <th>29209</th>\n",
       "      <td>0.0</td>\n",
       "      <td>1.0</td>\n",
       "      <td>0.0</td>\n",
       "      <td>0.0</td>\n",
       "      <td>0.0</td>\n",
       "      <td>0.0</td>\n",
       "      <td>1.0</td>\n",
       "      <td>0.0</td>\n",
       "      <td>0.0</td>\n",
       "      <td>0.0</td>\n",
       "      <td>...</td>\n",
       "      <td>0.0</td>\n",
       "      <td>0.0</td>\n",
       "      <td>0.0</td>\n",
       "      <td>0.0</td>\n",
       "      <td>0.0</td>\n",
       "      <td>0.0</td>\n",
       "      <td>1.0</td>\n",
       "      <td>1.0</td>\n",
       "      <td>1.0</td>\n",
       "      <td>0.0</td>\n",
       "    </tr>\n",
       "    <tr>\n",
       "      <th>22674</th>\n",
       "      <td>0.0</td>\n",
       "      <td>1.0</td>\n",
       "      <td>0.0</td>\n",
       "      <td>0.0</td>\n",
       "      <td>0.0</td>\n",
       "      <td>0.0</td>\n",
       "      <td>1.0</td>\n",
       "      <td>0.0</td>\n",
       "      <td>0.0</td>\n",
       "      <td>0.0</td>\n",
       "      <td>...</td>\n",
       "      <td>1.0</td>\n",
       "      <td>0.0</td>\n",
       "      <td>0.0</td>\n",
       "      <td>0.0</td>\n",
       "      <td>0.0</td>\n",
       "      <td>0.0</td>\n",
       "      <td>1.0</td>\n",
       "      <td>1.0</td>\n",
       "      <td>1.0</td>\n",
       "      <td>0.0</td>\n",
       "    </tr>\n",
       "    <tr>\n",
       "      <th>11463</th>\n",
       "      <td>0.0</td>\n",
       "      <td>1.0</td>\n",
       "      <td>0.0</td>\n",
       "      <td>0.0</td>\n",
       "      <td>0.0</td>\n",
       "      <td>0.0</td>\n",
       "      <td>1.0</td>\n",
       "      <td>0.0</td>\n",
       "      <td>0.0</td>\n",
       "      <td>0.0</td>\n",
       "      <td>...</td>\n",
       "      <td>0.0</td>\n",
       "      <td>0.0</td>\n",
       "      <td>0.0</td>\n",
       "      <td>0.0</td>\n",
       "      <td>0.0</td>\n",
       "      <td>0.0</td>\n",
       "      <td>1.0</td>\n",
       "      <td>1.0</td>\n",
       "      <td>1.0</td>\n",
       "      <td>0.0</td>\n",
       "    </tr>\n",
       "  </tbody>\n",
       "</table>\n",
       "<p>5 rows × 35 columns</p>\n",
       "</div>"
      ],
      "text/plain": [
       "       Workclass_Local-gov  Workclass_Private  Workclass_Self-emp-inc  \\\n",
       "20904                  0.0                1.0                     0.0   \n",
       "47239                  0.0                1.0                     0.0   \n",
       "29209                  0.0                1.0                     0.0   \n",
       "22674                  0.0                1.0                     0.0   \n",
       "11463                  0.0                1.0                     0.0   \n",
       "\n",
       "       Workclass_Self-emp-not-inc  Workclass_State-gov  Workclass_Without-pay  \\\n",
       "20904                         0.0                  0.0                    0.0   \n",
       "47239                         0.0                  0.0                    0.0   \n",
       "29209                         0.0                  0.0                    0.0   \n",
       "22674                         0.0                  0.0                    0.0   \n",
       "11463                         0.0                  0.0                    0.0   \n",
       "\n",
       "       Education_HS-grad  Education_Masters  Education_Rare  \\\n",
       "20904                1.0                0.0             0.0   \n",
       "47239                0.0                1.0             0.0   \n",
       "29209                1.0                0.0             0.0   \n",
       "22674                1.0                0.0             0.0   \n",
       "11463                1.0                0.0             0.0   \n",
       "\n",
       "       Education_Some-college  ...  Relationship_Own-child  \\\n",
       "20904                     0.0  ...                     0.0   \n",
       "47239                     0.0  ...                     0.0   \n",
       "29209                     0.0  ...                     0.0   \n",
       "22674                     0.0  ...                     1.0   \n",
       "11463                     0.0  ...                     0.0   \n",
       "\n",
       "       Relationship_Unmarried  Relationship_Wife  Race_Asian-Pac-Islander  \\\n",
       "20904                     0.0                0.0                      0.0   \n",
       "47239                     0.0                0.0                      1.0   \n",
       "29209                     0.0                0.0                      0.0   \n",
       "22674                     0.0                0.0                      0.0   \n",
       "11463                     0.0                0.0                      0.0   \n",
       "\n",
       "       Race_Black  Race_Other  Race_White  Sex_Male  Country_United-States  \\\n",
       "20904         0.0         0.0         1.0       1.0                    1.0   \n",
       "47239         0.0         0.0         0.0       1.0                    0.0   \n",
       "29209         0.0         0.0         1.0       1.0                    1.0   \n",
       "22674         0.0         0.0         1.0       1.0                    1.0   \n",
       "11463         0.0         0.0         1.0       1.0                    1.0   \n",
       "\n",
       "       Income_>50K  \n",
       "20904          0.0  \n",
       "47239          1.0  \n",
       "29209          0.0  \n",
       "22674          0.0  \n",
       "11463          0.0  \n",
       "\n",
       "[5 rows x 35 columns]"
      ]
     },
     "execution_count": 83,
     "metadata": {},
     "output_type": "execute_result"
    }
   ],
   "source": [
    "X_train_cat_hotenc = pd.DataFrame(X_train_hot_enc, columns=enc.get_feature_names_out()) \n",
    "X_train_cat_hotenc.index = X_train.index \n",
    "X_train_cat_hotenc.head()"
   ]
  },
  {
   "cell_type": "code",
   "execution_count": null,
   "metadata": {},
   "outputs": [
    {
     "data": {
      "text/html": [
       "<div>\n",
       "<style scoped>\n",
       "    .dataframe tbody tr th:only-of-type {\n",
       "        vertical-align: middle;\n",
       "    }\n",
       "\n",
       "    .dataframe tbody tr th {\n",
       "        vertical-align: top;\n",
       "    }\n",
       "\n",
       "    .dataframe thead th {\n",
       "        text-align: right;\n",
       "    }\n",
       "</style>\n",
       "<table border=\"1\" class=\"dataframe\">\n",
       "  <thead>\n",
       "    <tr style=\"text-align: right;\">\n",
       "      <th></th>\n",
       "      <th>Age</th>\n",
       "      <th>fnlwgt</th>\n",
       "      <th>Education-Num</th>\n",
       "      <th>Capital Gain</th>\n",
       "      <th>Capital Loss</th>\n",
       "      <th>Hours per week</th>\n",
       "      <th>Workclass_Local-gov</th>\n",
       "      <th>Workclass_Private</th>\n",
       "      <th>Workclass_Self-emp-inc</th>\n",
       "      <th>Workclass_Self-emp-not-inc</th>\n",
       "      <th>...</th>\n",
       "      <th>Relationship_Own-child</th>\n",
       "      <th>Relationship_Unmarried</th>\n",
       "      <th>Relationship_Wife</th>\n",
       "      <th>Race_Asian-Pac-Islander</th>\n",
       "      <th>Race_Black</th>\n",
       "      <th>Race_Other</th>\n",
       "      <th>Race_White</th>\n",
       "      <th>Sex_Male</th>\n",
       "      <th>Country_United-States</th>\n",
       "      <th>Income_&gt;50K</th>\n",
       "    </tr>\n",
       "  </thead>\n",
       "  <tbody>\n",
       "    <tr>\n",
       "      <th>20904</th>\n",
       "      <td>20.0</td>\n",
       "      <td>194630.0</td>\n",
       "      <td>9.0</td>\n",
       "      <td>3781.0</td>\n",
       "      <td>0.000000</td>\n",
       "      <td>50.0</td>\n",
       "      <td>0.0</td>\n",
       "      <td>1.0</td>\n",
       "      <td>0.0</td>\n",
       "      <td>0.0</td>\n",
       "      <td>...</td>\n",
       "      <td>0.0</td>\n",
       "      <td>0.0</td>\n",
       "      <td>0.0</td>\n",
       "      <td>0.0</td>\n",
       "      <td>0.0</td>\n",
       "      <td>0.0</td>\n",
       "      <td>1.0</td>\n",
       "      <td>1.0</td>\n",
       "      <td>1.0</td>\n",
       "      <td>0.0</td>\n",
       "    </tr>\n",
       "    <tr>\n",
       "      <th>47239</th>\n",
       "      <td>41.0</td>\n",
       "      <td>143003.0</td>\n",
       "      <td>14.0</td>\n",
       "      <td>0.0</td>\n",
       "      <td>1290.295683</td>\n",
       "      <td>45.0</td>\n",
       "      <td>0.0</td>\n",
       "      <td>1.0</td>\n",
       "      <td>0.0</td>\n",
       "      <td>0.0</td>\n",
       "      <td>...</td>\n",
       "      <td>0.0</td>\n",
       "      <td>0.0</td>\n",
       "      <td>0.0</td>\n",
       "      <td>1.0</td>\n",
       "      <td>0.0</td>\n",
       "      <td>0.0</td>\n",
       "      <td>0.0</td>\n",
       "      <td>1.0</td>\n",
       "      <td>0.0</td>\n",
       "      <td>1.0</td>\n",
       "    </tr>\n",
       "    <tr>\n",
       "      <th>29209</th>\n",
       "      <td>31.0</td>\n",
       "      <td>210562.0</td>\n",
       "      <td>9.0</td>\n",
       "      <td>0.0</td>\n",
       "      <td>0.000000</td>\n",
       "      <td>65.0</td>\n",
       "      <td>0.0</td>\n",
       "      <td>1.0</td>\n",
       "      <td>0.0</td>\n",
       "      <td>0.0</td>\n",
       "      <td>...</td>\n",
       "      <td>0.0</td>\n",
       "      <td>0.0</td>\n",
       "      <td>0.0</td>\n",
       "      <td>0.0</td>\n",
       "      <td>0.0</td>\n",
       "      <td>0.0</td>\n",
       "      <td>1.0</td>\n",
       "      <td>1.0</td>\n",
       "      <td>1.0</td>\n",
       "      <td>0.0</td>\n",
       "    </tr>\n",
       "    <tr>\n",
       "      <th>22674</th>\n",
       "      <td>19.0</td>\n",
       "      <td>67759.0</td>\n",
       "      <td>9.0</td>\n",
       "      <td>0.0</td>\n",
       "      <td>0.000000</td>\n",
       "      <td>43.0</td>\n",
       "      <td>0.0</td>\n",
       "      <td>1.0</td>\n",
       "      <td>0.0</td>\n",
       "      <td>0.0</td>\n",
       "      <td>...</td>\n",
       "      <td>1.0</td>\n",
       "      <td>0.0</td>\n",
       "      <td>0.0</td>\n",
       "      <td>0.0</td>\n",
       "      <td>0.0</td>\n",
       "      <td>0.0</td>\n",
       "      <td>1.0</td>\n",
       "      <td>1.0</td>\n",
       "      <td>1.0</td>\n",
       "      <td>0.0</td>\n",
       "    </tr>\n",
       "    <tr>\n",
       "      <th>11463</th>\n",
       "      <td>45.0</td>\n",
       "      <td>241350.0</td>\n",
       "      <td>9.0</td>\n",
       "      <td>0.0</td>\n",
       "      <td>0.000000</td>\n",
       "      <td>40.0</td>\n",
       "      <td>0.0</td>\n",
       "      <td>1.0</td>\n",
       "      <td>0.0</td>\n",
       "      <td>0.0</td>\n",
       "      <td>...</td>\n",
       "      <td>0.0</td>\n",
       "      <td>0.0</td>\n",
       "      <td>0.0</td>\n",
       "      <td>0.0</td>\n",
       "      <td>0.0</td>\n",
       "      <td>0.0</td>\n",
       "      <td>1.0</td>\n",
       "      <td>1.0</td>\n",
       "      <td>1.0</td>\n",
       "      <td>0.0</td>\n",
       "    </tr>\n",
       "    <tr>\n",
       "      <th>...</th>\n",
       "      <td>...</td>\n",
       "      <td>...</td>\n",
       "      <td>...</td>\n",
       "      <td>...</td>\n",
       "      <td>...</td>\n",
       "      <td>...</td>\n",
       "      <td>...</td>\n",
       "      <td>...</td>\n",
       "      <td>...</td>\n",
       "      <td>...</td>\n",
       "      <td>...</td>\n",
       "      <td>...</td>\n",
       "      <td>...</td>\n",
       "      <td>...</td>\n",
       "      <td>...</td>\n",
       "      <td>...</td>\n",
       "      <td>...</td>\n",
       "      <td>...</td>\n",
       "      <td>...</td>\n",
       "      <td>...</td>\n",
       "      <td>...</td>\n",
       "    </tr>\n",
       "    <tr>\n",
       "      <th>7763</th>\n",
       "      <td>53.0</td>\n",
       "      <td>64322.0</td>\n",
       "      <td>4.0</td>\n",
       "      <td>0.0</td>\n",
       "      <td>0.000000</td>\n",
       "      <td>40.0</td>\n",
       "      <td>0.0</td>\n",
       "      <td>1.0</td>\n",
       "      <td>0.0</td>\n",
       "      <td>0.0</td>\n",
       "      <td>...</td>\n",
       "      <td>0.0</td>\n",
       "      <td>0.0</td>\n",
       "      <td>0.0</td>\n",
       "      <td>0.0</td>\n",
       "      <td>0.0</td>\n",
       "      <td>0.0</td>\n",
       "      <td>1.0</td>\n",
       "      <td>1.0</td>\n",
       "      <td>1.0</td>\n",
       "      <td>0.0</td>\n",
       "    </tr>\n",
       "    <tr>\n",
       "      <th>15377</th>\n",
       "      <td>39.0</td>\n",
       "      <td>147548.0</td>\n",
       "      <td>9.0</td>\n",
       "      <td>0.0</td>\n",
       "      <td>0.000000</td>\n",
       "      <td>40.0</td>\n",
       "      <td>0.0</td>\n",
       "      <td>1.0</td>\n",
       "      <td>0.0</td>\n",
       "      <td>0.0</td>\n",
       "      <td>...</td>\n",
       "      <td>0.0</td>\n",
       "      <td>0.0</td>\n",
       "      <td>0.0</td>\n",
       "      <td>0.0</td>\n",
       "      <td>0.0</td>\n",
       "      <td>0.0</td>\n",
       "      <td>1.0</td>\n",
       "      <td>1.0</td>\n",
       "      <td>1.0</td>\n",
       "      <td>0.0</td>\n",
       "    </tr>\n",
       "    <tr>\n",
       "      <th>17730</th>\n",
       "      <td>33.0</td>\n",
       "      <td>108116.0</td>\n",
       "      <td>9.0</td>\n",
       "      <td>0.0</td>\n",
       "      <td>0.000000</td>\n",
       "      <td>40.0</td>\n",
       "      <td>0.0</td>\n",
       "      <td>0.0</td>\n",
       "      <td>0.0</td>\n",
       "      <td>0.0</td>\n",
       "      <td>...</td>\n",
       "      <td>0.0</td>\n",
       "      <td>0.0</td>\n",
       "      <td>0.0</td>\n",
       "      <td>0.0</td>\n",
       "      <td>0.0</td>\n",
       "      <td>0.0</td>\n",
       "      <td>1.0</td>\n",
       "      <td>1.0</td>\n",
       "      <td>1.0</td>\n",
       "      <td>0.0</td>\n",
       "    </tr>\n",
       "    <tr>\n",
       "      <th>28030</th>\n",
       "      <td>19.0</td>\n",
       "      <td>36012.0</td>\n",
       "      <td>9.0</td>\n",
       "      <td>0.0</td>\n",
       "      <td>0.000000</td>\n",
       "      <td>40.0</td>\n",
       "      <td>0.0</td>\n",
       "      <td>0.0</td>\n",
       "      <td>0.0</td>\n",
       "      <td>1.0</td>\n",
       "      <td>...</td>\n",
       "      <td>1.0</td>\n",
       "      <td>0.0</td>\n",
       "      <td>0.0</td>\n",
       "      <td>0.0</td>\n",
       "      <td>0.0</td>\n",
       "      <td>0.0</td>\n",
       "      <td>1.0</td>\n",
       "      <td>1.0</td>\n",
       "      <td>1.0</td>\n",
       "      <td>0.0</td>\n",
       "    </tr>\n",
       "    <tr>\n",
       "      <th>15725</th>\n",
       "      <td>23.0</td>\n",
       "      <td>51985.0</td>\n",
       "      <td>9.0</td>\n",
       "      <td>0.0</td>\n",
       "      <td>0.000000</td>\n",
       "      <td>38.0</td>\n",
       "      <td>0.0</td>\n",
       "      <td>1.0</td>\n",
       "      <td>0.0</td>\n",
       "      <td>0.0</td>\n",
       "      <td>...</td>\n",
       "      <td>0.0</td>\n",
       "      <td>0.0</td>\n",
       "      <td>0.0</td>\n",
       "      <td>0.0</td>\n",
       "      <td>0.0</td>\n",
       "      <td>0.0</td>\n",
       "      <td>1.0</td>\n",
       "      <td>1.0</td>\n",
       "      <td>1.0</td>\n",
       "      <td>0.0</td>\n",
       "    </tr>\n",
       "  </tbody>\n",
       "</table>\n",
       "<p>9768 rows × 41 columns</p>\n",
       "</div>"
      ],
      "text/plain": [
       "        Age    fnlwgt  Education-Num  Capital Gain  Capital Loss  \\\n",
       "20904  20.0  194630.0            9.0        3781.0      0.000000   \n",
       "47239  41.0  143003.0           14.0           0.0   1290.295683   \n",
       "29209  31.0  210562.0            9.0           0.0      0.000000   \n",
       "22674  19.0   67759.0            9.0           0.0      0.000000   \n",
       "11463  45.0  241350.0            9.0           0.0      0.000000   \n",
       "...     ...       ...            ...           ...           ...   \n",
       "7763   53.0   64322.0            4.0           0.0      0.000000   \n",
       "15377  39.0  147548.0            9.0           0.0      0.000000   \n",
       "17730  33.0  108116.0            9.0           0.0      0.000000   \n",
       "28030  19.0   36012.0            9.0           0.0      0.000000   \n",
       "15725  23.0   51985.0            9.0           0.0      0.000000   \n",
       "\n",
       "       Hours per week  Workclass_Local-gov  Workclass_Private  \\\n",
       "20904            50.0                  0.0                1.0   \n",
       "47239            45.0                  0.0                1.0   \n",
       "29209            65.0                  0.0                1.0   \n",
       "22674            43.0                  0.0                1.0   \n",
       "11463            40.0                  0.0                1.0   \n",
       "...               ...                  ...                ...   \n",
       "7763             40.0                  0.0                1.0   \n",
       "15377            40.0                  0.0                1.0   \n",
       "17730            40.0                  0.0                0.0   \n",
       "28030            40.0                  0.0                0.0   \n",
       "15725            38.0                  0.0                1.0   \n",
       "\n",
       "       Workclass_Self-emp-inc  Workclass_Self-emp-not-inc  ...  \\\n",
       "20904                     0.0                         0.0  ...   \n",
       "47239                     0.0                         0.0  ...   \n",
       "29209                     0.0                         0.0  ...   \n",
       "22674                     0.0                         0.0  ...   \n",
       "11463                     0.0                         0.0  ...   \n",
       "...                       ...                         ...  ...   \n",
       "7763                      0.0                         0.0  ...   \n",
       "15377                     0.0                         0.0  ...   \n",
       "17730                     0.0                         0.0  ...   \n",
       "28030                     0.0                         1.0  ...   \n",
       "15725                     0.0                         0.0  ...   \n",
       "\n",
       "       Relationship_Own-child  Relationship_Unmarried  Relationship_Wife  \\\n",
       "20904                     0.0                     0.0                0.0   \n",
       "47239                     0.0                     0.0                0.0   \n",
       "29209                     0.0                     0.0                0.0   \n",
       "22674                     1.0                     0.0                0.0   \n",
       "11463                     0.0                     0.0                0.0   \n",
       "...                       ...                     ...                ...   \n",
       "7763                      0.0                     0.0                0.0   \n",
       "15377                     0.0                     0.0                0.0   \n",
       "17730                     0.0                     0.0                0.0   \n",
       "28030                     1.0                     0.0                0.0   \n",
       "15725                     0.0                     0.0                0.0   \n",
       "\n",
       "       Race_Asian-Pac-Islander  Race_Black  Race_Other  Race_White  Sex_Male  \\\n",
       "20904                      0.0         0.0         0.0         1.0       1.0   \n",
       "47239                      1.0         0.0         0.0         0.0       1.0   \n",
       "29209                      0.0         0.0         0.0         1.0       1.0   \n",
       "22674                      0.0         0.0         0.0         1.0       1.0   \n",
       "11463                      0.0         0.0         0.0         1.0       1.0   \n",
       "...                        ...         ...         ...         ...       ...   \n",
       "7763                       0.0         0.0         0.0         1.0       1.0   \n",
       "15377                      0.0         0.0         0.0         1.0       1.0   \n",
       "17730                      0.0         0.0         0.0         1.0       1.0   \n",
       "28030                      0.0         0.0         0.0         1.0       1.0   \n",
       "15725                      0.0         0.0         0.0         1.0       1.0   \n",
       "\n",
       "       Country_United-States  Income_>50K  \n",
       "20904                    1.0          0.0  \n",
       "47239                    0.0          1.0  \n",
       "29209                    1.0          0.0  \n",
       "22674                    1.0          0.0  \n",
       "11463                    1.0          0.0  \n",
       "...                      ...          ...  \n",
       "7763                     1.0          0.0  \n",
       "15377                    1.0          0.0  \n",
       "17730                    1.0          0.0  \n",
       "28030                    1.0          0.0  \n",
       "15725                    1.0          0.0  \n",
       "\n",
       "[9768 rows x 41 columns]"
      ]
     },
     "execution_count": 84,
     "metadata": {},
     "output_type": "execute_result"
    }
   ],
   "source": [
    "X_train_hotenc = pd.concat([X_train[numeric_columns], X_train_cat_hotenc], axis=1) \n",
    "X_train_hotenc"
   ]
  },
  {
   "cell_type": "code",
   "execution_count": null,
   "metadata": {},
   "outputs": [],
   "source": [
    "y = X_train['cluster']"
   ]
  },
  {
   "cell_type": "code",
   "execution_count": null,
   "metadata": {},
   "outputs": [],
   "source": [
    "# create a train/test split\n",
    "X_train_hotenc_train, X_train_hotenc_test, y_train, y_test = train_test_split(\n",
    "    X_train_hotenc, \n",
    "    y, \n",
    "    test_size=0.3, \n",
    "    random_state=123)"
   ]
  },
  {
   "attachments": {},
   "cell_type": "markdown",
   "metadata": {},
   "source": [
    "# Training Sklearn Random Forest b/c of Multiclass Shap Compatibility!"
   ]
  },
  {
   "cell_type": "code",
   "execution_count": null,
   "metadata": {},
   "outputs": [],
   "source": [
    "clf = RandomForestClassifier(\n",
    "    n_estimators=100, \n",
    "    max_depth=None,\n",
    "    min_samples_split=3,\n",
    "    min_samples_leaf=3,\n",
    "    max_features='log2', \n",
    "    random_state=123)"
   ]
  },
  {
   "cell_type": "code",
   "execution_count": null,
   "metadata": {},
   "outputs": [
    {
     "data": {
      "text/html": [
       "<style>#sk-container-id-5 {color: black;background-color: white;}#sk-container-id-5 pre{padding: 0;}#sk-container-id-5 div.sk-toggleable {background-color: white;}#sk-container-id-5 label.sk-toggleable__label {cursor: pointer;display: block;width: 100%;margin-bottom: 0;padding: 0.3em;box-sizing: border-box;text-align: center;}#sk-container-id-5 label.sk-toggleable__label-arrow:before {content: \"▸\";float: left;margin-right: 0.25em;color: #696969;}#sk-container-id-5 label.sk-toggleable__label-arrow:hover:before {color: black;}#sk-container-id-5 div.sk-estimator:hover label.sk-toggleable__label-arrow:before {color: black;}#sk-container-id-5 div.sk-toggleable__content {max-height: 0;max-width: 0;overflow: hidden;text-align: left;background-color: #f0f8ff;}#sk-container-id-5 div.sk-toggleable__content pre {margin: 0.2em;color: black;border-radius: 0.25em;background-color: #f0f8ff;}#sk-container-id-5 input.sk-toggleable__control:checked~div.sk-toggleable__content {max-height: 200px;max-width: 100%;overflow: auto;}#sk-container-id-5 input.sk-toggleable__control:checked~label.sk-toggleable__label-arrow:before {content: \"▾\";}#sk-container-id-5 div.sk-estimator input.sk-toggleable__control:checked~label.sk-toggleable__label {background-color: #d4ebff;}#sk-container-id-5 div.sk-label input.sk-toggleable__control:checked~label.sk-toggleable__label {background-color: #d4ebff;}#sk-container-id-5 input.sk-hidden--visually {border: 0;clip: rect(1px 1px 1px 1px);clip: rect(1px, 1px, 1px, 1px);height: 1px;margin: -1px;overflow: hidden;padding: 0;position: absolute;width: 1px;}#sk-container-id-5 div.sk-estimator {font-family: monospace;background-color: #f0f8ff;border: 1px dotted black;border-radius: 0.25em;box-sizing: border-box;margin-bottom: 0.5em;}#sk-container-id-5 div.sk-estimator:hover {background-color: #d4ebff;}#sk-container-id-5 div.sk-parallel-item::after {content: \"\";width: 100%;border-bottom: 1px solid gray;flex-grow: 1;}#sk-container-id-5 div.sk-label:hover label.sk-toggleable__label {background-color: #d4ebff;}#sk-container-id-5 div.sk-serial::before {content: \"\";position: absolute;border-left: 1px solid gray;box-sizing: border-box;top: 0;bottom: 0;left: 50%;z-index: 0;}#sk-container-id-5 div.sk-serial {display: flex;flex-direction: column;align-items: center;background-color: white;padding-right: 0.2em;padding-left: 0.2em;position: relative;}#sk-container-id-5 div.sk-item {position: relative;z-index: 1;}#sk-container-id-5 div.sk-parallel {display: flex;align-items: stretch;justify-content: center;background-color: white;position: relative;}#sk-container-id-5 div.sk-item::before, #sk-container-id-5 div.sk-parallel-item::before {content: \"\";position: absolute;border-left: 1px solid gray;box-sizing: border-box;top: 0;bottom: 0;left: 50%;z-index: -1;}#sk-container-id-5 div.sk-parallel-item {display: flex;flex-direction: column;z-index: 1;position: relative;background-color: white;}#sk-container-id-5 div.sk-parallel-item:first-child::after {align-self: flex-end;width: 50%;}#sk-container-id-5 div.sk-parallel-item:last-child::after {align-self: flex-start;width: 50%;}#sk-container-id-5 div.sk-parallel-item:only-child::after {width: 0;}#sk-container-id-5 div.sk-dashed-wrapped {border: 1px dashed gray;margin: 0 0.4em 0.5em 0.4em;box-sizing: border-box;padding-bottom: 0.4em;background-color: white;}#sk-container-id-5 div.sk-label label {font-family: monospace;font-weight: bold;display: inline-block;line-height: 1.2em;}#sk-container-id-5 div.sk-label-container {text-align: center;}#sk-container-id-5 div.sk-container {/* jupyter's `normalize.less` sets `[hidden] { display: none; }` but bootstrap.min.css set `[hidden] { display: none !important; }` so we also need the `!important` here to be able to override the default hidden behavior on the sphinx rendered scikit-learn.org. See: https://github.com/scikit-learn/scikit-learn/issues/21755 */display: inline-block !important;position: relative;}#sk-container-id-5 div.sk-text-repr-fallback {display: none;}</style><div id=\"sk-container-id-5\" class=\"sk-top-container\"><div class=\"sk-text-repr-fallback\"><pre>RandomForestClassifier(max_features=&#x27;log2&#x27;, min_samples_leaf=3,\n",
       "                       min_samples_split=3, random_state=123)</pre><b>In a Jupyter environment, please rerun this cell to show the HTML representation or trust the notebook. <br />On GitHub, the HTML representation is unable to render, please try loading this page with nbviewer.org.</b></div><div class=\"sk-container\" hidden><div class=\"sk-item\"><div class=\"sk-estimator sk-toggleable\"><input class=\"sk-toggleable__control sk-hidden--visually\" id=\"sk-estimator-id-7\" type=\"checkbox\" checked><label for=\"sk-estimator-id-7\" class=\"sk-toggleable__label sk-toggleable__label-arrow\">RandomForestClassifier</label><div class=\"sk-toggleable__content\"><pre>RandomForestClassifier(max_features=&#x27;log2&#x27;, min_samples_leaf=3,\n",
       "                       min_samples_split=3, random_state=123)</pre></div></div></div></div></div>"
      ],
      "text/plain": [
       "RandomForestClassifier(max_features='log2', min_samples_leaf=3,\n",
       "                       min_samples_split=3, random_state=123)"
      ]
     },
     "execution_count": 88,
     "metadata": {},
     "output_type": "execute_result"
    }
   ],
   "source": [
    "clf.fit(X_train_hotenc_train, y_train)"
   ]
  },
  {
   "cell_type": "code",
   "execution_count": null,
   "metadata": {},
   "outputs": [
    {
     "data": {
      "text/plain": [
       "0.9584613134415679"
      ]
     },
     "execution_count": 89,
     "metadata": {},
     "output_type": "execute_result"
    }
   ],
   "source": [
    "# evaluate accuracy on training set\n",
    "clf.score(X_train_hotenc_train, y_train)"
   ]
  },
  {
   "cell_type": "code",
   "execution_count": null,
   "metadata": {},
   "outputs": [
    {
     "data": {
      "text/plain": [
       "0.9208461276015012"
      ]
     },
     "execution_count": 90,
     "metadata": {},
     "output_type": "execute_result"
    }
   ],
   "source": [
    "# evaluate accuracy on test set\n",
    "clf.score(X_train_hotenc_test, y_test)"
   ]
  },
  {
   "cell_type": "code",
   "execution_count": null,
   "metadata": {},
   "outputs": [
    {
     "data": {
      "text/plain": [
       "array([0, 1, 1, ..., 1, 0, 1], dtype=int64)"
      ]
     },
     "execution_count": 91,
     "metadata": {},
     "output_type": "execute_result"
    }
   ],
   "source": [
    "pred = clf.predict(X_train_hotenc_train)\n",
    "pred"
   ]
  },
  {
   "attachments": {},
   "cell_type": "markdown",
   "metadata": {},
   "source": [
    "### Tuning Random Forest"
   ]
  },
  {
   "cell_type": "code",
   "execution_count": null,
   "metadata": {},
   "outputs": [],
   "source": [
    "parameters = {\n",
    "    'n_estimators': (50, 100, 200),\n",
    "    'max_depth': (3, 5, None),\n",
    "    'min_samples_split': (1, 3, 6),\n",
    "    'min_samples_leaf': (1, 3, 6),\n",
    "    }\n",
    "\n",
    "model = GridSearchCV(\n",
    "    clf, \n",
    "    parameters,\n",
    "    cv=3, \n",
    "    n_jobs =-1)"
   ]
  },
  {
   "cell_type": "code",
   "execution_count": null,
   "metadata": {},
   "outputs": [
    {
     "name": "stderr",
     "output_type": "stream",
     "text": [
      "\n",
      "81 fits failed out of a total of 243.\n",
      "The score on these train-test partitions for these parameters will be set to nan.\n",
      "If these failures are not expected, you can try to debug them by setting error_score='raise'.\n",
      "\n",
      "Below are more details about the failures:\n",
      "--------------------------------------------------------------------------------\n",
      "81 fits failed with the following error:\n",
      "Traceback (most recent call last):\n",
      "  File \"c:\\Users\\Nutzer\\.conda\\envs\\customer_analytics\\lib\\site-packages\\sklearn\\model_selection\\_validation.py\", line 686, in _fit_and_score\n",
      "    estimator.fit(X_train, y_train, **fit_params)\n",
      "  File \"c:\\Users\\Nutzer\\.conda\\envs\\customer_analytics\\lib\\site-packages\\sklearn\\ensemble\\_forest.py\", line 476, in fit\n",
      "    trees = Parallel(\n",
      "  File \"c:\\Users\\Nutzer\\.conda\\envs\\customer_analytics\\lib\\site-packages\\joblib\\parallel.py\", line 1041, in __call__\n",
      "    if self.dispatch_one_batch(iterator):\n",
      "  File \"c:\\Users\\Nutzer\\.conda\\envs\\customer_analytics\\lib\\site-packages\\joblib\\parallel.py\", line 859, in dispatch_one_batch\n",
      "    self._dispatch(tasks)\n",
      "  File \"c:\\Users\\Nutzer\\.conda\\envs\\customer_analytics\\lib\\site-packages\\joblib\\parallel.py\", line 777, in _dispatch\n",
      "    job = self._backend.apply_async(batch, callback=cb)\n",
      "  File \"c:\\Users\\Nutzer\\.conda\\envs\\customer_analytics\\lib\\site-packages\\joblib\\_parallel_backends.py\", line 208, in apply_async\n",
      "    result = ImmediateResult(func)\n",
      "  File \"c:\\Users\\Nutzer\\.conda\\envs\\customer_analytics\\lib\\site-packages\\joblib\\_parallel_backends.py\", line 572, in __init__\n",
      "    self.results = batch()\n",
      "  File \"c:\\Users\\Nutzer\\.conda\\envs\\customer_analytics\\lib\\site-packages\\joblib\\parallel.py\", line 262, in __call__\n",
      "    return [func(*args, **kwargs)\n",
      "  File \"c:\\Users\\Nutzer\\.conda\\envs\\customer_analytics\\lib\\site-packages\\joblib\\parallel.py\", line 262, in <listcomp>\n",
      "    return [func(*args, **kwargs)\n",
      "  File \"c:\\Users\\Nutzer\\.conda\\envs\\customer_analytics\\lib\\site-packages\\sklearn\\utils\\fixes.py\", line 117, in __call__\n",
      "    return self.function(*args, **kwargs)\n",
      "  File \"c:\\Users\\Nutzer\\.conda\\envs\\customer_analytics\\lib\\site-packages\\sklearn\\ensemble\\_forest.py\", line 189, in _parallel_build_trees\n",
      "    tree.fit(X, y, sample_weight=curr_sample_weight, check_input=False)\n",
      "  File \"c:\\Users\\Nutzer\\.conda\\envs\\customer_analytics\\lib\\site-packages\\sklearn\\tree\\_classes.py\", line 969, in fit\n",
      "    super().fit(\n",
      "  File \"c:\\Users\\Nutzer\\.conda\\envs\\customer_analytics\\lib\\site-packages\\sklearn\\tree\\_classes.py\", line 265, in fit\n",
      "    check_scalar(\n",
      "  File \"c:\\Users\\Nutzer\\.conda\\envs\\customer_analytics\\lib\\site-packages\\sklearn\\utils\\validation.py\", line 1480, in check_scalar\n",
      "    raise ValueError(\n",
      "ValueError: min_samples_split == 1, must be >= 2.\n",
      "\n",
      "One or more of the test scores are non-finite: [       nan        nan        nan 0.79961972 0.7977183  0.79640193\n",
      " 0.79961972 0.7977183  0.79640193        nan        nan        nan\n",
      " 0.79976598 0.79786456 0.79654819 0.79976598 0.79786456 0.79654819\n",
      "        nan        nan        nan 0.79903466 0.79742577 0.79625567\n",
      " 0.79903466 0.79742577 0.79625567        nan        nan        nan\n",
      " 0.84803276 0.85168934 0.84715519 0.84891034 0.85095802 0.84569256\n",
      "        nan        nan        nan 0.84993418 0.85154307 0.84291356\n",
      " 0.84993418 0.85154307 0.84291356        nan        nan        nan\n",
      " 0.84583882 0.85125055 0.84525377 0.84583882 0.85125055 0.84525377\n",
      "        nan        nan        nan 0.9194091  0.9194091  0.92116425\n",
      " 0.91736142 0.92028668 0.92072546        nan        nan        nan\n",
      " 0.9087319  0.91165716 0.91092584 0.9087319  0.91165716 0.91092584\n",
      "        nan        nan        nan 0.90010238 0.90229633 0.90332017\n",
      " 0.90010238 0.90229633 0.90332017]\n"
     ]
    },
    {
     "data": {
      "text/html": [
       "<style>#sk-container-id-6 {color: black;background-color: white;}#sk-container-id-6 pre{padding: 0;}#sk-container-id-6 div.sk-toggleable {background-color: white;}#sk-container-id-6 label.sk-toggleable__label {cursor: pointer;display: block;width: 100%;margin-bottom: 0;padding: 0.3em;box-sizing: border-box;text-align: center;}#sk-container-id-6 label.sk-toggleable__label-arrow:before {content: \"▸\";float: left;margin-right: 0.25em;color: #696969;}#sk-container-id-6 label.sk-toggleable__label-arrow:hover:before {color: black;}#sk-container-id-6 div.sk-estimator:hover label.sk-toggleable__label-arrow:before {color: black;}#sk-container-id-6 div.sk-toggleable__content {max-height: 0;max-width: 0;overflow: hidden;text-align: left;background-color: #f0f8ff;}#sk-container-id-6 div.sk-toggleable__content pre {margin: 0.2em;color: black;border-radius: 0.25em;background-color: #f0f8ff;}#sk-container-id-6 input.sk-toggleable__control:checked~div.sk-toggleable__content {max-height: 200px;max-width: 100%;overflow: auto;}#sk-container-id-6 input.sk-toggleable__control:checked~label.sk-toggleable__label-arrow:before {content: \"▾\";}#sk-container-id-6 div.sk-estimator input.sk-toggleable__control:checked~label.sk-toggleable__label {background-color: #d4ebff;}#sk-container-id-6 div.sk-label input.sk-toggleable__control:checked~label.sk-toggleable__label {background-color: #d4ebff;}#sk-container-id-6 input.sk-hidden--visually {border: 0;clip: rect(1px 1px 1px 1px);clip: rect(1px, 1px, 1px, 1px);height: 1px;margin: -1px;overflow: hidden;padding: 0;position: absolute;width: 1px;}#sk-container-id-6 div.sk-estimator {font-family: monospace;background-color: #f0f8ff;border: 1px dotted black;border-radius: 0.25em;box-sizing: border-box;margin-bottom: 0.5em;}#sk-container-id-6 div.sk-estimator:hover {background-color: #d4ebff;}#sk-container-id-6 div.sk-parallel-item::after {content: \"\";width: 100%;border-bottom: 1px solid gray;flex-grow: 1;}#sk-container-id-6 div.sk-label:hover label.sk-toggleable__label {background-color: #d4ebff;}#sk-container-id-6 div.sk-serial::before {content: \"\";position: absolute;border-left: 1px solid gray;box-sizing: border-box;top: 0;bottom: 0;left: 50%;z-index: 0;}#sk-container-id-6 div.sk-serial {display: flex;flex-direction: column;align-items: center;background-color: white;padding-right: 0.2em;padding-left: 0.2em;position: relative;}#sk-container-id-6 div.sk-item {position: relative;z-index: 1;}#sk-container-id-6 div.sk-parallel {display: flex;align-items: stretch;justify-content: center;background-color: white;position: relative;}#sk-container-id-6 div.sk-item::before, #sk-container-id-6 div.sk-parallel-item::before {content: \"\";position: absolute;border-left: 1px solid gray;box-sizing: border-box;top: 0;bottom: 0;left: 50%;z-index: -1;}#sk-container-id-6 div.sk-parallel-item {display: flex;flex-direction: column;z-index: 1;position: relative;background-color: white;}#sk-container-id-6 div.sk-parallel-item:first-child::after {align-self: flex-end;width: 50%;}#sk-container-id-6 div.sk-parallel-item:last-child::after {align-self: flex-start;width: 50%;}#sk-container-id-6 div.sk-parallel-item:only-child::after {width: 0;}#sk-container-id-6 div.sk-dashed-wrapped {border: 1px dashed gray;margin: 0 0.4em 0.5em 0.4em;box-sizing: border-box;padding-bottom: 0.4em;background-color: white;}#sk-container-id-6 div.sk-label label {font-family: monospace;font-weight: bold;display: inline-block;line-height: 1.2em;}#sk-container-id-6 div.sk-label-container {text-align: center;}#sk-container-id-6 div.sk-container {/* jupyter's `normalize.less` sets `[hidden] { display: none; }` but bootstrap.min.css set `[hidden] { display: none !important; }` so we also need the `!important` here to be able to override the default hidden behavior on the sphinx rendered scikit-learn.org. See: https://github.com/scikit-learn/scikit-learn/issues/21755 */display: inline-block !important;position: relative;}#sk-container-id-6 div.sk-text-repr-fallback {display: none;}</style><div id=\"sk-container-id-6\" class=\"sk-top-container\"><div class=\"sk-text-repr-fallback\"><pre>GridSearchCV(cv=3,\n",
       "             estimator=RandomForestClassifier(max_features=&#x27;log2&#x27;,\n",
       "                                              min_samples_leaf=3,\n",
       "                                              min_samples_split=3,\n",
       "                                              random_state=123),\n",
       "             n_jobs=-1,\n",
       "             param_grid={&#x27;max_depth&#x27;: (3, 5, None),\n",
       "                         &#x27;min_samples_leaf&#x27;: (1, 3, 6),\n",
       "                         &#x27;min_samples_split&#x27;: (1, 3, 6),\n",
       "                         &#x27;n_estimators&#x27;: (50, 100, 200)})</pre><b>In a Jupyter environment, please rerun this cell to show the HTML representation or trust the notebook. <br />On GitHub, the HTML representation is unable to render, please try loading this page with nbviewer.org.</b></div><div class=\"sk-container\" hidden><div class=\"sk-item sk-dashed-wrapped\"><div class=\"sk-label-container\"><div class=\"sk-label sk-toggleable\"><input class=\"sk-toggleable__control sk-hidden--visually\" id=\"sk-estimator-id-8\" type=\"checkbox\" ><label for=\"sk-estimator-id-8\" class=\"sk-toggleable__label sk-toggleable__label-arrow\">GridSearchCV</label><div class=\"sk-toggleable__content\"><pre>GridSearchCV(cv=3,\n",
       "             estimator=RandomForestClassifier(max_features=&#x27;log2&#x27;,\n",
       "                                              min_samples_leaf=3,\n",
       "                                              min_samples_split=3,\n",
       "                                              random_state=123),\n",
       "             n_jobs=-1,\n",
       "             param_grid={&#x27;max_depth&#x27;: (3, 5, None),\n",
       "                         &#x27;min_samples_leaf&#x27;: (1, 3, 6),\n",
       "                         &#x27;min_samples_split&#x27;: (1, 3, 6),\n",
       "                         &#x27;n_estimators&#x27;: (50, 100, 200)})</pre></div></div></div><div class=\"sk-parallel\"><div class=\"sk-parallel-item\"><div class=\"sk-item\"><div class=\"sk-label-container\"><div class=\"sk-label sk-toggleable\"><input class=\"sk-toggleable__control sk-hidden--visually\" id=\"sk-estimator-id-9\" type=\"checkbox\" ><label for=\"sk-estimator-id-9\" class=\"sk-toggleable__label sk-toggleable__label-arrow\">estimator: RandomForestClassifier</label><div class=\"sk-toggleable__content\"><pre>RandomForestClassifier(max_features=&#x27;log2&#x27;, min_samples_leaf=3,\n",
       "                       min_samples_split=3, random_state=123)</pre></div></div></div><div class=\"sk-serial\"><div class=\"sk-item\"><div class=\"sk-estimator sk-toggleable\"><input class=\"sk-toggleable__control sk-hidden--visually\" id=\"sk-estimator-id-10\" type=\"checkbox\" ><label for=\"sk-estimator-id-10\" class=\"sk-toggleable__label sk-toggleable__label-arrow\">RandomForestClassifier</label><div class=\"sk-toggleable__content\"><pre>RandomForestClassifier(max_features=&#x27;log2&#x27;, min_samples_leaf=3,\n",
       "                       min_samples_split=3, random_state=123)</pre></div></div></div></div></div></div></div></div></div></div>"
      ],
      "text/plain": [
       "GridSearchCV(cv=3,\n",
       "             estimator=RandomForestClassifier(max_features='log2',\n",
       "                                              min_samples_leaf=3,\n",
       "                                              min_samples_split=3,\n",
       "                                              random_state=123),\n",
       "             n_jobs=-1,\n",
       "             param_grid={'max_depth': (3, 5, None),\n",
       "                         'min_samples_leaf': (1, 3, 6),\n",
       "                         'min_samples_split': (1, 3, 6),\n",
       "                         'n_estimators': (50, 100, 200)})"
      ]
     },
     "execution_count": 93,
     "metadata": {},
     "output_type": "execute_result"
    }
   ],
   "source": [
    "model.fit(X_train_hotenc_train, y_train)"
   ]
  },
  {
   "cell_type": "code",
   "execution_count": null,
   "metadata": {},
   "outputs": [
    {
     "data": {
      "text/plain": [
       "0.9997074740383209"
      ]
     },
     "execution_count": 94,
     "metadata": {},
     "output_type": "execute_result"
    }
   ],
   "source": [
    "# evaluate accuracy on training set\n",
    "model.score(X_train_hotenc_train, y_train)"
   ]
  },
  {
   "cell_type": "code",
   "execution_count": null,
   "metadata": {},
   "outputs": [
    {
     "data": {
      "text/plain": [
       "0.9334698055271239"
      ]
     },
     "execution_count": 95,
     "metadata": {},
     "output_type": "execute_result"
    }
   ],
   "source": [
    "# evaluate accuracy on test set\n",
    "model.score(X_train_hotenc_test, y_test)"
   ]
  },
  {
   "cell_type": "code",
   "execution_count": null,
   "metadata": {},
   "outputs": [
    {
     "data": {
      "text/plain": [
       "array([0, 1, 1, ..., 1, 0, 1], dtype=int64)"
      ]
     },
     "execution_count": 96,
     "metadata": {},
     "output_type": "execute_result"
    }
   ],
   "source": [
    "# predict\n",
    "model.predict(X_train_hotenc_train)"
   ]
  },
  {
   "cell_type": "code",
   "execution_count": null,
   "metadata": {},
   "outputs": [
    {
     "data": {
      "text/plain": [
       "{'max_depth': None,\n",
       " 'min_samples_leaf': 1,\n",
       " 'min_samples_split': 3,\n",
       " 'n_estimators': 200}"
      ]
     },
     "execution_count": 97,
     "metadata": {},
     "output_type": "execute_result"
    }
   ],
   "source": [
    "model.best_params_"
   ]
  },
  {
   "cell_type": "code",
   "execution_count": null,
   "metadata": {},
   "outputs": [],
   "source": [
    "# Save the trained classifier\n",
    "with open('../artifacts/model.pickle', 'wb') as filename:\n",
    "    pickle.dump(model, filename)"
   ]
  },
  {
   "attachments": {},
   "cell_type": "markdown",
   "metadata": {},
   "source": [
    "# Model Evaluation"
   ]
  },
  {
   "cell_type": "code",
   "execution_count": null,
   "metadata": {},
   "outputs": [
    {
     "data": {
      "image/png": "[encoded data removed]",
      "text/plain": [
       "<Figure size 432x288 with 2 Axes>"
      ]
     },
     "metadata": {
      "needs_background": "light"
     },
     "output_type": "display_data"
    }
   ],
   "source": [
    "# plot confusion matrix for training data\n",
    "cm = confusion_matrix(y_train, model.predict(X_train_hotenc_train), labels=clf.classes_)\n",
    "\n",
    "disp = ConfusionMatrixDisplay(\n",
    "    confusion_matrix=cm,                            \n",
    "    display_labels=clf.classes_)\n",
    "disp.plot()\n",
    "plt.show()"
   ]
  },
  {
   "cell_type": "code",
   "execution_count": null,
   "metadata": {},
   "outputs": [
    {
     "data": {
      "image/png": "[encoded data removed]",
      "text/plain": [
       "<Figure size 432x288 with 2 Axes>"
      ]
     },
     "metadata": {
      "needs_background": "light"
     },
     "output_type": "display_data"
    }
   ],
   "source": [
    "# plot confusion matrix for training data\n",
    "cm = confusion_matrix(y_test, model.predict(X_train_hotenc_test), labels=clf.classes_)\n",
    "\n",
    "disp = ConfusionMatrixDisplay(\n",
    "    confusion_matrix=cm,                            \n",
    "    display_labels=clf.classes_)\n",
    "disp.plot()\n",
    "plt.show()"
   ]
  }
 ],
 "metadata": {
  "colab": {
   "provenance": []
  },
  "instance_type": "ml.t3.medium",
  "kernelspec": {
   "display_name": "customer_analytics",
   "language": "python",
   "name": "python3"
  },
  "language_info": {
   "codemirror_mode": {
    "name": "ipython",
    "version": 3
   },
   "file_extension": ".py",
   "mimetype": "text/x-python",
   "name": "python",
   "nbconvert_exporter": "python",
   "pygments_lexer": "ipython3",
   "version": "3.8.13"
  },
  "vscode": {
   "interpreter": {
    "hash": "d6d257a4de92dbbd8540bc21a788c880e0ed004671baa4a130c0cbca69d8aa15"
   }
  }
 },
 "nbformat": 4,
 "nbformat_minor": 4
}
