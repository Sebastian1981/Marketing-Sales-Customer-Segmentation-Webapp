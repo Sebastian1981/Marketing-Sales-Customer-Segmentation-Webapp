{
 "cells": [
  {
   "attachments": {},
   "cell_type": "markdown",
   "metadata": {
    "id": "M27qF7CTrBqc"
   },
   "source": [
    "# Segment the mal dataset using GOWER similarity and DBScan Clustering"
   ]
  },
  {
   "cell_type": "code",
   "execution_count": 1,
   "metadata": {},
   "outputs": [],
   "source": [
    "# Data Visualization:\n",
    "# DB Scan: \n",
    "#   https://towardsdatascience.com/how-to-cluster-in-high-dimensions-4ef693bacc6\n",
    "# Clustering categorical and numeric datset:\n",
    "# https://towardsdatascience.com/clustering-on-numerical-and-categorical-features-6e0ebcf1cbad\n",
    "# Clustering Categorical Data Visualization\n",
    "#   https://towardsdatascience.com/clustering-algorithm-for-data-with-mixed-categorical-and-numerical-features-d4e3a48066a0\n",
    "# Explain Clustering Results with Shapley Values:\n",
    "#   https://towardsdatascience.com/how-to-make-clustering-explainable-1582390476cc \n",
    "#   https://medium.com/bricklane-tech/a-new-approach-to-clustering-interpretation-7729cb665ee8\n",
    "# Understand tSNE:\n",
    "#   https://www.youtube.com/watch?v=43ySR7_Yb4E\n",
    "# General Visualization Strategies for high dim data:\n",
    "#   https://towardsdatascience.com/the-art-of-effective-visualization-of-multi-dimensional-data-6c7202990c57"
   ]
  },
  {
   "cell_type": "code",
   "execution_count": 2,
   "metadata": {},
   "outputs": [],
   "source": [
    "%matplotlib inline\n",
    "import pickle\n",
    "\n",
    "# data processing\n",
    "import numpy as np\n",
    "import pandas as pd\n",
    "from sklearn.model_selection import train_test_split\n",
    "from sklearn.impute import SimpleImputer\n",
    "from sklearn.preprocessing import OneHotEncoder\n",
    "from feature_engine.encoding import RareLabelEncoder\n",
    "from feature_engine.outliers import Winsorizer\n",
    "\n",
    "# data visualization\n",
    "import matplotlib.pyplot as plt\n",
    "import seaborn as sns\n",
    "\n",
    "# Clustering\n",
    "import gower\n",
    "from sklearn.cluster import DBSCAN\n",
    "from sklearn.metrics import silhouette_score\n",
    "\n",
    "# Supervised Learning\n",
    "from sklearn.ensemble import RandomForestClassifier\n",
    "from sklearn.model_selection import GridSearchCV\n",
    "\n",
    "# Model Evaluation\n",
    "from sklearn.metrics import confusion_matrix, ConfusionMatrixDisplay\n",
    "\n",
    "# Cluster Explainability\n",
    "import shap"
   ]
  },
  {
   "cell_type": "code",
   "execution_count": 3,
   "metadata": {},
   "outputs": [],
   "source": [
    "#sns.set_theme(style=\"darkgrid\")"
   ]
  },
  {
   "attachments": {},
   "cell_type": "markdown",
   "metadata": {},
   "source": [
    "# Import Data\n",
    "the dataset is available at kaggle free datasets"
   ]
  },
  {
   "cell_type": "code",
   "execution_count": 4,
   "metadata": {},
   "outputs": [
    {
     "data": {
      "text/html": [
       "<div>\n",
       "<style scoped>\n",
       "    .dataframe tbody tr th:only-of-type {\n",
       "        vertical-align: middle;\n",
       "    }\n",
       "\n",
       "    .dataframe tbody tr th {\n",
       "        vertical-align: top;\n",
       "    }\n",
       "\n",
       "    .dataframe thead th {\n",
       "        text-align: right;\n",
       "    }\n",
       "</style>\n",
       "<table border=\"1\" class=\"dataframe\">\n",
       "  <thead>\n",
       "    <tr style=\"text-align: right;\">\n",
       "      <th></th>\n",
       "      <th>Gender</th>\n",
       "      <th>Age</th>\n",
       "      <th>Income</th>\n",
       "      <th>Spending_Score</th>\n",
       "    </tr>\n",
       "    <tr>\n",
       "      <th>CustomerID</th>\n",
       "      <th></th>\n",
       "      <th></th>\n",
       "      <th></th>\n",
       "      <th></th>\n",
       "    </tr>\n",
       "  </thead>\n",
       "  <tbody>\n",
       "    <tr>\n",
       "      <th>1</th>\n",
       "      <td>Male</td>\n",
       "      <td>19</td>\n",
       "      <td>15</td>\n",
       "      <td>39</td>\n",
       "    </tr>\n",
       "    <tr>\n",
       "      <th>2</th>\n",
       "      <td>Male</td>\n",
       "      <td>21</td>\n",
       "      <td>15</td>\n",
       "      <td>81</td>\n",
       "    </tr>\n",
       "    <tr>\n",
       "      <th>3</th>\n",
       "      <td>Female</td>\n",
       "      <td>20</td>\n",
       "      <td>16</td>\n",
       "      <td>6</td>\n",
       "    </tr>\n",
       "    <tr>\n",
       "      <th>4</th>\n",
       "      <td>Female</td>\n",
       "      <td>23</td>\n",
       "      <td>16</td>\n",
       "      <td>77</td>\n",
       "    </tr>\n",
       "    <tr>\n",
       "      <th>5</th>\n",
       "      <td>Female</td>\n",
       "      <td>31</td>\n",
       "      <td>17</td>\n",
       "      <td>40</td>\n",
       "    </tr>\n",
       "  </tbody>\n",
       "</table>\n",
       "</div>"
      ],
      "text/plain": [
       "            Gender  Age  Income  Spending_Score\n",
       "CustomerID                                     \n",
       "1             Male   19      15              39\n",
       "2             Male   21      15              81\n",
       "3           Female   20      16               6\n",
       "4           Female   23      16              77\n",
       "5           Female   31      17              40"
      ]
     },
     "execution_count": 4,
     "metadata": {},
     "output_type": "execute_result"
    }
   ],
   "source": [
    "# load the local dataset \n",
    "df = pd.read_csv(\n",
    "        '../data/mal_customers_dataset.csv',\n",
    "        index_col='CustomerID')\n",
    "\n",
    "# rename column name\n",
    "df.rename(\n",
    "        columns={\n",
    "                'Genre': 'Gender',\n",
    "                'Annual_Income_(k$)': 'Income'}, \n",
    "        inplace=True)\n",
    "\n",
    "df.head()"
   ]
  },
  {
   "cell_type": "code",
   "execution_count": 5,
   "metadata": {},
   "outputs": [
    {
     "name": "stdout",
     "output_type": "stream",
     "text": [
      "['Male' 'Female']\n",
      "[19 21 20 23 31 22 35 64 30 67 58 24 37 52 25 46 54 29 45 40 60 53 18 49\n",
      " 42 36 65 48 50 27 33 59 47 51 69 70 63 43 68 32 26 57 38 55 34 66 39 44\n",
      " 28 56 41]\n",
      "[ 15  16  17  18  19  20  21  23  24  25  28  29  30  33  34  37  38  39\n",
      "  40  42  43  44  46  47  48  49  50  54  57  58  59  60  61  62  63  64\n",
      "  65  67  69  70  71  72  73  74  75  76  77  78  79  81  85  86  87  88\n",
      "  93  97  98  99 101 103 113 120 126 137]\n",
      "[39 81  6 77 40 76 94  3 72 14 99 15 13 79 35 66 29 98 73  5 82 32 61 31\n",
      " 87  4 92 17 26 75 36 28 65 55 47 42 52 60 54 45 41 50 46 51 56 59 48 49\n",
      " 53 44 57 58 43 91 95 11  9 34 71 88  7 10 93 12 97 74 22 90 20 16 89  1\n",
      " 78 83 27 63 86 69 24 68 85 23  8 18]\n"
     ]
    }
   ],
   "source": [
    "# check unique values to see any misspellings\n",
    "print(df['Gender'].unique())\n",
    "print(df['Age'].unique())\n",
    "print(df['Income'].unique())\n",
    "print(df['Spending_Score'].unique())"
   ]
  },
  {
   "attachments": {},
   "cell_type": "markdown",
   "metadata": {},
   "source": [
    "# Train-Test Split the Data"
   ]
  },
  {
   "cell_type": "code",
   "execution_count": 6,
   "metadata": {},
   "outputs": [
    {
     "data": {
      "text/plain": [
       "(200, 4)"
      ]
     },
     "execution_count": 6,
     "metadata": {},
     "output_type": "execute_result"
    }
   ],
   "source": [
    "df.shape"
   ]
  },
  {
   "cell_type": "code",
   "execution_count": 7,
   "metadata": {},
   "outputs": [],
   "source": [
    "# way too much data for training; let´s split the data\n",
    "X_train, X_test = train_test_split(df, test_size=0.25, random_state=123)"
   ]
  },
  {
   "cell_type": "code",
   "execution_count": 8,
   "metadata": {},
   "outputs": [
    {
     "data": {
      "text/plain": [
       "(150, 4)"
      ]
     },
     "execution_count": 8,
     "metadata": {},
     "output_type": "execute_result"
    }
   ],
   "source": [
    "X_train.shape"
   ]
  },
  {
   "cell_type": "code",
   "execution_count": 9,
   "metadata": {},
   "outputs": [
    {
     "data": {
      "text/plain": [
       "(50, 4)"
      ]
     },
     "execution_count": 9,
     "metadata": {},
     "output_type": "execute_result"
    }
   ],
   "source": [
    "X_test.shape"
   ]
  },
  {
   "cell_type": "code",
   "execution_count": 10,
   "metadata": {},
   "outputs": [
    {
     "data": {
      "text/html": [
       "<div>\n",
       "<style scoped>\n",
       "    .dataframe tbody tr th:only-of-type {\n",
       "        vertical-align: middle;\n",
       "    }\n",
       "\n",
       "    .dataframe tbody tr th {\n",
       "        vertical-align: top;\n",
       "    }\n",
       "\n",
       "    .dataframe thead th {\n",
       "        text-align: right;\n",
       "    }\n",
       "</style>\n",
       "<table border=\"1\" class=\"dataframe\">\n",
       "  <thead>\n",
       "    <tr style=\"text-align: right;\">\n",
       "      <th></th>\n",
       "      <th>Gender</th>\n",
       "      <th>Age</th>\n",
       "      <th>Income</th>\n",
       "      <th>Spending_Score</th>\n",
       "    </tr>\n",
       "    <tr>\n",
       "      <th>CustomerID</th>\n",
       "      <th></th>\n",
       "      <th></th>\n",
       "      <th></th>\n",
       "      <th></th>\n",
       "    </tr>\n",
       "  </thead>\n",
       "  <tbody>\n",
       "    <tr>\n",
       "      <th>187</th>\n",
       "      <td>Female</td>\n",
       "      <td>54</td>\n",
       "      <td>101</td>\n",
       "      <td>24</td>\n",
       "    </tr>\n",
       "    <tr>\n",
       "      <th>111</th>\n",
       "      <td>Male</td>\n",
       "      <td>65</td>\n",
       "      <td>63</td>\n",
       "      <td>52</td>\n",
       "    </tr>\n",
       "    <tr>\n",
       "      <th>43</th>\n",
       "      <td>Male</td>\n",
       "      <td>48</td>\n",
       "      <td>39</td>\n",
       "      <td>36</td>\n",
       "    </tr>\n",
       "    <tr>\n",
       "      <th>121</th>\n",
       "      <td>Male</td>\n",
       "      <td>27</td>\n",
       "      <td>67</td>\n",
       "      <td>56</td>\n",
       "    </tr>\n",
       "    <tr>\n",
       "      <th>192</th>\n",
       "      <td>Female</td>\n",
       "      <td>32</td>\n",
       "      <td>103</td>\n",
       "      <td>69</td>\n",
       "    </tr>\n",
       "  </tbody>\n",
       "</table>\n",
       "</div>"
      ],
      "text/plain": [
       "            Gender  Age  Income  Spending_Score\n",
       "CustomerID                                     \n",
       "187         Female   54     101              24\n",
       "111           Male   65      63              52\n",
       "43            Male   48      39              36\n",
       "121           Male   27      67              56\n",
       "192         Female   32     103              69"
      ]
     },
     "execution_count": 10,
     "metadata": {},
     "output_type": "execute_result"
    }
   ],
   "source": [
    "X_train.head()"
   ]
  },
  {
   "cell_type": "markdown",
   "metadata": {},
   "source": [
    "# Exploratory Data Analysis"
   ]
  },
  {
   "cell_type": "code",
   "execution_count": 11,
   "metadata": {},
   "outputs": [
    {
     "name": "stdout",
     "output_type": "stream",
     "text": [
      "<class 'pandas.core.frame.DataFrame'>\n",
      "Int64Index: 150 entries, 187 to 110\n",
      "Data columns (total 4 columns):\n",
      " #   Column          Non-Null Count  Dtype \n",
      "---  ------          --------------  ----- \n",
      " 0   Gender          150 non-null    object\n",
      " 1   Age             150 non-null    int64 \n",
      " 2   Income          150 non-null    int64 \n",
      " 3   Spending_Score  150 non-null    int64 \n",
      "dtypes: int64(3), object(1)\n",
      "memory usage: 5.9+ KB\n"
     ]
    }
   ],
   "source": [
    "X_train.info()"
   ]
  },
  {
   "cell_type": "code",
   "execution_count": 12,
   "metadata": {},
   "outputs": [
    {
     "data": {
      "text/plain": [
       "Gender            0\n",
       "Age               0\n",
       "Income            0\n",
       "Spending_Score    0\n",
       "dtype: int64"
      ]
     },
     "execution_count": 12,
     "metadata": {},
     "output_type": "execute_result"
    }
   ],
   "source": [
    "X_train.isna().sum()"
   ]
  },
  {
   "attachments": {},
   "cell_type": "markdown",
   "metadata": {},
   "source": [
    "## Impute Missing Values"
   ]
  },
  {
   "cell_type": "code",
   "execution_count": 13,
   "metadata": {},
   "outputs": [
    {
     "data": {
      "image/png": "[encoded data removed]",
      "text/plain": [
       "<Figure size 432x288 with 1 Axes>"
      ]
     },
     "metadata": {
      "needs_background": "light"
     },
     "output_type": "display_data"
    }
   ],
   "source": [
    "# Let's see if we have any missing data, luckily we don't!\n",
    "sns.heatmap(X_train.isna(), yticklabels = False, cbar = False, cmap=\"Blues\")\n",
    "plt.show()"
   ]
  },
  {
   "cell_type": "code",
   "execution_count": 14,
   "metadata": {},
   "outputs": [],
   "source": [
    "# get numeric and categorical columns\n",
    "numerics = ['int16', 'int32', 'int64', 'float16', 'float32', 'float64']"
   ]
  },
  {
   "cell_type": "code",
   "execution_count": 15,
   "metadata": {},
   "outputs": [
    {
     "data": {
      "text/plain": [
       "['Age', 'Income', 'Spending_Score']"
      ]
     },
     "execution_count": 15,
     "metadata": {},
     "output_type": "execute_result"
    }
   ],
   "source": [
    "numeric_columns = X_train.select_dtypes(include=numerics).columns.to_list()\n",
    "numeric_columns"
   ]
  },
  {
   "cell_type": "code",
   "execution_count": 16,
   "metadata": {},
   "outputs": [
    {
     "data": {
      "text/plain": [
       "['Gender']"
      ]
     },
     "execution_count": 16,
     "metadata": {},
     "output_type": "execute_result"
    }
   ],
   "source": [
    "categorical_columns = X_train.select_dtypes(exclude=numerics).columns.to_list()\n",
    "categorical_columns"
   ]
  },
  {
   "cell_type": "code",
   "execution_count": 17,
   "metadata": {},
   "outputs": [
    {
     "data": {
      "text/html": [
       "<div>\n",
       "<style scoped>\n",
       "    .dataframe tbody tr th:only-of-type {\n",
       "        vertical-align: middle;\n",
       "    }\n",
       "\n",
       "    .dataframe tbody tr th {\n",
       "        vertical-align: top;\n",
       "    }\n",
       "\n",
       "    .dataframe thead th {\n",
       "        text-align: right;\n",
       "    }\n",
       "</style>\n",
       "<table border=\"1\" class=\"dataframe\">\n",
       "  <thead>\n",
       "    <tr style=\"text-align: right;\">\n",
       "      <th></th>\n",
       "      <th>Age</th>\n",
       "      <th>Income</th>\n",
       "      <th>Spending_Score</th>\n",
       "    </tr>\n",
       "    <tr>\n",
       "      <th>CustomerID</th>\n",
       "      <th></th>\n",
       "      <th></th>\n",
       "      <th></th>\n",
       "    </tr>\n",
       "  </thead>\n",
       "  <tbody>\n",
       "    <tr>\n",
       "      <th>187</th>\n",
       "      <td>54.0</td>\n",
       "      <td>101.0</td>\n",
       "      <td>24.0</td>\n",
       "    </tr>\n",
       "    <tr>\n",
       "      <th>111</th>\n",
       "      <td>65.0</td>\n",
       "      <td>63.0</td>\n",
       "      <td>52.0</td>\n",
       "    </tr>\n",
       "    <tr>\n",
       "      <th>43</th>\n",
       "      <td>48.0</td>\n",
       "      <td>39.0</td>\n",
       "      <td>36.0</td>\n",
       "    </tr>\n",
       "    <tr>\n",
       "      <th>121</th>\n",
       "      <td>27.0</td>\n",
       "      <td>67.0</td>\n",
       "      <td>56.0</td>\n",
       "    </tr>\n",
       "    <tr>\n",
       "      <th>192</th>\n",
       "      <td>32.0</td>\n",
       "      <td>103.0</td>\n",
       "      <td>69.0</td>\n",
       "    </tr>\n",
       "  </tbody>\n",
       "</table>\n",
       "</div>"
      ],
      "text/plain": [
       "             Age  Income  Spending_Score\n",
       "CustomerID                              \n",
       "187         54.0   101.0            24.0\n",
       "111         65.0    63.0            52.0\n",
       "43          48.0    39.0            36.0\n",
       "121         27.0    67.0            56.0\n",
       "192         32.0   103.0            69.0"
      ]
     },
     "execution_count": 17,
     "metadata": {},
     "output_type": "execute_result"
    }
   ],
   "source": [
    "# Impute missing numeric values\n",
    "numeric_imputer = SimpleImputer(missing_values=np.nan, strategy='median')\n",
    "X_train_numeric = numeric_imputer.fit_transform(X_train.select_dtypes(include=numerics))\n",
    "X_train_numeric = pd.DataFrame(X_train_numeric, columns=numeric_columns, index=X_train.index)\n",
    "X_train_numeric.head()"
   ]
  },
  {
   "cell_type": "code",
   "execution_count": 18,
   "metadata": {},
   "outputs": [
    {
     "data": {
      "text/html": [
       "<div>\n",
       "<style scoped>\n",
       "    .dataframe tbody tr th:only-of-type {\n",
       "        vertical-align: middle;\n",
       "    }\n",
       "\n",
       "    .dataframe tbody tr th {\n",
       "        vertical-align: top;\n",
       "    }\n",
       "\n",
       "    .dataframe thead th {\n",
       "        text-align: right;\n",
       "    }\n",
       "</style>\n",
       "<table border=\"1\" class=\"dataframe\">\n",
       "  <thead>\n",
       "    <tr style=\"text-align: right;\">\n",
       "      <th></th>\n",
       "      <th>Gender</th>\n",
       "    </tr>\n",
       "    <tr>\n",
       "      <th>CustomerID</th>\n",
       "      <th></th>\n",
       "    </tr>\n",
       "  </thead>\n",
       "  <tbody>\n",
       "    <tr>\n",
       "      <th>187</th>\n",
       "      <td>Female</td>\n",
       "    </tr>\n",
       "    <tr>\n",
       "      <th>111</th>\n",
       "      <td>Male</td>\n",
       "    </tr>\n",
       "    <tr>\n",
       "      <th>43</th>\n",
       "      <td>Male</td>\n",
       "    </tr>\n",
       "    <tr>\n",
       "      <th>121</th>\n",
       "      <td>Male</td>\n",
       "    </tr>\n",
       "    <tr>\n",
       "      <th>192</th>\n",
       "      <td>Female</td>\n",
       "    </tr>\n",
       "  </tbody>\n",
       "</table>\n",
       "</div>"
      ],
      "text/plain": [
       "            Gender\n",
       "CustomerID        \n",
       "187         Female\n",
       "111           Male\n",
       "43            Male\n",
       "121           Male\n",
       "192         Female"
      ]
     },
     "execution_count": 18,
     "metadata": {},
     "output_type": "execute_result"
    }
   ],
   "source": [
    "# Impute missing categorical values\n",
    "categorical_imputer = SimpleImputer(missing_values=np.nan, strategy='most_frequent')\n",
    "X_train_categorical = categorical_imputer.fit_transform(X_train.select_dtypes(exclude=numerics))\n",
    "X_train_categorical = pd.DataFrame(X_train_categorical, columns=categorical_columns, index=X_train.index)\n",
    "X_train_categorical.head()"
   ]
  },
  {
   "cell_type": "code",
   "execution_count": 19,
   "metadata": {},
   "outputs": [],
   "source": [
    "# Save imputers both numerical and categorical\n",
    "with open('../artifacts/numeric_imputer.pickle', 'wb') as filename:\n",
    "    pickle.dump(numeric_imputer, filename)\n",
    "\n",
    "with open('../artifacts/categorical_imputer.pickle', 'wb') as filename:\n",
    "    pickle.dump(categorical_imputer, filename)"
   ]
  },
  {
   "cell_type": "code",
   "execution_count": 20,
   "metadata": {},
   "outputs": [
    {
     "data": {
      "text/html": [
       "<div>\n",
       "<style scoped>\n",
       "    .dataframe tbody tr th:only-of-type {\n",
       "        vertical-align: middle;\n",
       "    }\n",
       "\n",
       "    .dataframe tbody tr th {\n",
       "        vertical-align: top;\n",
       "    }\n",
       "\n",
       "    .dataframe thead th {\n",
       "        text-align: right;\n",
       "    }\n",
       "</style>\n",
       "<table border=\"1\" class=\"dataframe\">\n",
       "  <thead>\n",
       "    <tr style=\"text-align: right;\">\n",
       "      <th></th>\n",
       "      <th>Age</th>\n",
       "      <th>Income</th>\n",
       "      <th>Spending_Score</th>\n",
       "      <th>Gender</th>\n",
       "    </tr>\n",
       "    <tr>\n",
       "      <th>CustomerID</th>\n",
       "      <th></th>\n",
       "      <th></th>\n",
       "      <th></th>\n",
       "      <th></th>\n",
       "    </tr>\n",
       "  </thead>\n",
       "  <tbody>\n",
       "    <tr>\n",
       "      <th>187</th>\n",
       "      <td>54.0</td>\n",
       "      <td>101.0</td>\n",
       "      <td>24.0</td>\n",
       "      <td>Female</td>\n",
       "    </tr>\n",
       "    <tr>\n",
       "      <th>111</th>\n",
       "      <td>65.0</td>\n",
       "      <td>63.0</td>\n",
       "      <td>52.0</td>\n",
       "      <td>Male</td>\n",
       "    </tr>\n",
       "    <tr>\n",
       "      <th>43</th>\n",
       "      <td>48.0</td>\n",
       "      <td>39.0</td>\n",
       "      <td>36.0</td>\n",
       "      <td>Male</td>\n",
       "    </tr>\n",
       "    <tr>\n",
       "      <th>121</th>\n",
       "      <td>27.0</td>\n",
       "      <td>67.0</td>\n",
       "      <td>56.0</td>\n",
       "      <td>Male</td>\n",
       "    </tr>\n",
       "    <tr>\n",
       "      <th>192</th>\n",
       "      <td>32.0</td>\n",
       "      <td>103.0</td>\n",
       "      <td>69.0</td>\n",
       "      <td>Female</td>\n",
       "    </tr>\n",
       "  </tbody>\n",
       "</table>\n",
       "</div>"
      ],
      "text/plain": [
       "             Age  Income  Spending_Score  Gender\n",
       "CustomerID                                      \n",
       "187         54.0   101.0            24.0  Female\n",
       "111         65.0    63.0            52.0    Male\n",
       "43          48.0    39.0            36.0    Male\n",
       "121         27.0    67.0            56.0    Male\n",
       "192         32.0   103.0            69.0  Female"
      ]
     },
     "execution_count": 20,
     "metadata": {},
     "output_type": "execute_result"
    }
   ],
   "source": [
    "X_train = pd.concat([X_train_numeric, X_train_categorical], axis=1)\n",
    "X_train.head()"
   ]
  },
  {
   "cell_type": "code",
   "execution_count": 21,
   "metadata": {},
   "outputs": [
    {
     "data": {
      "image/png": "[encoded data removed]",
      "text/plain": [
       "<Figure size 432x288 with 1 Axes>"
      ]
     },
     "metadata": {
      "needs_background": "light"
     },
     "output_type": "display_data"
    }
   ],
   "source": [
    "# Let's see if we have any missing data, luckily we don't!\n",
    "sns.heatmap(X_train.isna(), yticklabels = False, cbar = False, cmap=\"Blues\")\n",
    "plt.show()"
   ]
  },
  {
   "attachments": {},
   "cell_type": "markdown",
   "metadata": {},
   "source": [
    "## Visualize Categorical Features"
   ]
  },
  {
   "cell_type": "code",
   "execution_count": 22,
   "metadata": {},
   "outputs": [
    {
     "name": "stdout",
     "output_type": "stream",
     "text": [
      "Value counts in category Gender: \n",
      "Female    87\n",
      "Male      63\n",
      "Name: Gender, dtype: int64\n"
     ]
    }
   ],
   "source": [
    "# this is important since we might have rare labels which isnt good for grouping customers; the numeric equivalent would be outliers\n",
    "for category in categorical_columns:\n",
    "    print('Value counts in category {}: \\n{}'.format(category, X_train[category].value_counts()))"
   ]
  },
  {
   "attachments": {},
   "cell_type": "markdown",
   "metadata": {},
   "source": [
    "## Encode Rare Labels"
   ]
  },
  {
   "cell_type": "code",
   "execution_count": 23,
   "metadata": {},
   "outputs": [
    {
     "name": "stderr",
     "output_type": "stream",
     "text": [
      "The number of unique categories for variable Gender is less than that indicated in n_categories. Thus, all categories will be considered frequent\n"
     ]
    },
    {
     "data": {
      "text/html": [
       "<div>\n",
       "<style scoped>\n",
       "    .dataframe tbody tr th:only-of-type {\n",
       "        vertical-align: middle;\n",
       "    }\n",
       "\n",
       "    .dataframe tbody tr th {\n",
       "        vertical-align: top;\n",
       "    }\n",
       "\n",
       "    .dataframe thead th {\n",
       "        text-align: right;\n",
       "    }\n",
       "</style>\n",
       "<table border=\"1\" class=\"dataframe\">\n",
       "  <thead>\n",
       "    <tr style=\"text-align: right;\">\n",
       "      <th></th>\n",
       "      <th>Gender</th>\n",
       "    </tr>\n",
       "    <tr>\n",
       "      <th>CustomerID</th>\n",
       "      <th></th>\n",
       "    </tr>\n",
       "  </thead>\n",
       "  <tbody>\n",
       "    <tr>\n",
       "      <th>187</th>\n",
       "      <td>Female</td>\n",
       "    </tr>\n",
       "    <tr>\n",
       "      <th>111</th>\n",
       "      <td>Male</td>\n",
       "    </tr>\n",
       "    <tr>\n",
       "      <th>43</th>\n",
       "      <td>Male</td>\n",
       "    </tr>\n",
       "    <tr>\n",
       "      <th>121</th>\n",
       "      <td>Male</td>\n",
       "    </tr>\n",
       "    <tr>\n",
       "      <th>192</th>\n",
       "      <td>Female</td>\n",
       "    </tr>\n",
       "  </tbody>\n",
       "</table>\n",
       "</div>"
      ],
      "text/plain": [
       "            Gender\n",
       "CustomerID        \n",
       "187         Female\n",
       "111           Male\n",
       "43            Male\n",
       "121           Male\n",
       "192         Female"
      ]
     },
     "execution_count": 23,
     "metadata": {},
     "output_type": "execute_result"
    }
   ],
   "source": [
    "rare_encoder = RareLabelEncoder(tol=0.05, n_categories=10)\n",
    "X_train[categorical_columns] = rare_encoder.fit_transform(X_train[categorical_columns])\n",
    "X_train[categorical_columns].head()"
   ]
  },
  {
   "cell_type": "code",
   "execution_count": 24,
   "metadata": {},
   "outputs": [],
   "source": [
    "# Save rare label encoder\n",
    "with open('../artifacts/rare_encoder.pickle', 'wb') as filename:\n",
    "    pickle.dump(rare_encoder, filename)"
   ]
  },
  {
   "cell_type": "markdown",
   "metadata": {},
   "source": [
    "## Visualize Numerical Features"
   ]
  },
  {
   "cell_type": "code",
   "execution_count": 25,
   "metadata": {},
   "outputs": [
    {
     "data": {
      "image/png": "[encoded data removed]",
      "text/plain": [
       "<Figure size 432x288 with 1 Axes>"
      ]
     },
     "metadata": {
      "needs_background": "light"
     },
     "output_type": "display_data"
    },
    {
     "data": {
      "image/png": "[encoded data removed]",
      "text/plain": [
       "<Figure size 432x288 with 1 Axes>"
      ]
     },
     "metadata": {
      "needs_background": "light"
     },
     "output_type": "display_data"
    },
    {
     "data": {
      "image/png": "[encoded data removed]",
      "text/plain": [
       "<Figure size 432x288 with 1 Axes>"
      ]
     },
     "metadata": {
      "needs_background": "light"
     },
     "output_type": "display_data"
    }
   ],
   "source": [
    "# plot the distributions\n",
    "for col in numeric_columns:\n",
    "    plt.hist(X_train[col])\n",
    "    plt.title(col)\n",
    "    plt.show()"
   ]
  },
  {
   "attachments": {},
   "cell_type": "markdown",
   "metadata": {},
   "source": [
    "## Remove Outliers"
   ]
  },
  {
   "cell_type": "code",
   "execution_count": 26,
   "metadata": {},
   "outputs": [],
   "source": [
    "# set up the capper\n",
    "capper = Winsorizer(\n",
    "    capping_method='gaussian', \n",
    "    tail='right', \n",
    "    fold=3, \n",
    "    variables=numeric_columns)"
   ]
  },
  {
   "cell_type": "code",
   "execution_count": 27,
   "metadata": {},
   "outputs": [
    {
     "data": {
      "text/html": [
       "<div>\n",
       "<style scoped>\n",
       "    .dataframe tbody tr th:only-of-type {\n",
       "        vertical-align: middle;\n",
       "    }\n",
       "\n",
       "    .dataframe tbody tr th {\n",
       "        vertical-align: top;\n",
       "    }\n",
       "\n",
       "    .dataframe thead th {\n",
       "        text-align: right;\n",
       "    }\n",
       "</style>\n",
       "<table border=\"1\" class=\"dataframe\">\n",
       "  <thead>\n",
       "    <tr style=\"text-align: right;\">\n",
       "      <th></th>\n",
       "      <th>Age</th>\n",
       "      <th>Income</th>\n",
       "      <th>Spending_Score</th>\n",
       "      <th>Gender</th>\n",
       "    </tr>\n",
       "    <tr>\n",
       "      <th>CustomerID</th>\n",
       "      <th></th>\n",
       "      <th></th>\n",
       "      <th></th>\n",
       "      <th></th>\n",
       "    </tr>\n",
       "  </thead>\n",
       "  <tbody>\n",
       "    <tr>\n",
       "      <th>187</th>\n",
       "      <td>54.0</td>\n",
       "      <td>101.0</td>\n",
       "      <td>24.0</td>\n",
       "      <td>Female</td>\n",
       "    </tr>\n",
       "    <tr>\n",
       "      <th>111</th>\n",
       "      <td>65.0</td>\n",
       "      <td>63.0</td>\n",
       "      <td>52.0</td>\n",
       "      <td>Male</td>\n",
       "    </tr>\n",
       "    <tr>\n",
       "      <th>43</th>\n",
       "      <td>48.0</td>\n",
       "      <td>39.0</td>\n",
       "      <td>36.0</td>\n",
       "      <td>Male</td>\n",
       "    </tr>\n",
       "    <tr>\n",
       "      <th>121</th>\n",
       "      <td>27.0</td>\n",
       "      <td>67.0</td>\n",
       "      <td>56.0</td>\n",
       "      <td>Male</td>\n",
       "    </tr>\n",
       "    <tr>\n",
       "      <th>192</th>\n",
       "      <td>32.0</td>\n",
       "      <td>103.0</td>\n",
       "      <td>69.0</td>\n",
       "      <td>Female</td>\n",
       "    </tr>\n",
       "  </tbody>\n",
       "</table>\n",
       "</div>"
      ],
      "text/plain": [
       "             Age  Income  Spending_Score  Gender\n",
       "CustomerID                                      \n",
       "187         54.0   101.0            24.0  Female\n",
       "111         65.0    63.0            52.0    Male\n",
       "43          48.0    39.0            36.0    Male\n",
       "121         27.0    67.0            56.0    Male\n",
       "192         32.0   103.0            69.0  Female"
      ]
     },
     "execution_count": 27,
     "metadata": {},
     "output_type": "execute_result"
    }
   ],
   "source": [
    "# fit the capper\n",
    "X_train[numeric_columns] = capper.fit_transform(X_train[numeric_columns])\n",
    "X_train.head()"
   ]
  },
  {
   "cell_type": "code",
   "execution_count": 28,
   "metadata": {},
   "outputs": [],
   "source": [
    "# Save capper \n",
    "with open('../artifacts/capper.pickle', 'wb') as filename:\n",
    "    pickle.dump(capper, filename)"
   ]
  },
  {
   "cell_type": "code",
   "execution_count": 29,
   "metadata": {},
   "outputs": [
    {
     "data": {
      "image/png": "[encoded data removed]",
      "text/plain": [
       "<Figure size 432x288 with 1 Axes>"
      ]
     },
     "metadata": {
      "needs_background": "light"
     },
     "output_type": "display_data"
    },
    {
     "data": {
      "image/png": "[encoded data removed]",
      "text/plain": [
       "<Figure size 432x288 with 1 Axes>"
      ]
     },
     "metadata": {
      "needs_background": "light"
     },
     "output_type": "display_data"
    },
    {
     "data": {
      "image/png": "[encoded data removed]",
      "text/plain": [
       "<Figure size 432x288 with 1 Axes>"
      ]
     },
     "metadata": {
      "needs_background": "light"
     },
     "output_type": "display_data"
    }
   ],
   "source": [
    "# plot the distributions\n",
    "for col in numeric_columns:\n",
    "    plt.hist(X_train[col])\n",
    "    plt.title(col)\n",
    "    plt.show()"
   ]
  },
  {
   "attachments": {},
   "cell_type": "markdown",
   "metadata": {},
   "source": [
    "# Calculate Customer Similarity using Gower´s Distance"
   ]
  },
  {
   "cell_type": "code",
   "execution_count": 30,
   "metadata": {},
   "outputs": [
    {
     "name": "stdout",
     "output_type": "stream",
     "text": [
      "CPU times: total: 31.2 ms\n",
      "Wall time: 23 ms\n"
     ]
    }
   ],
   "source": [
    "%%time\n",
    "distance_matrix = gower.gower_matrix(X_train)"
   ]
  },
  {
   "cell_type": "code",
   "execution_count": 31,
   "metadata": {},
   "outputs": [
    {
     "data": {
      "text/plain": [
       "(150, 150)"
      ]
     },
     "execution_count": 31,
     "metadata": {},
     "output_type": "execute_result"
    }
   ],
   "source": [
    "distance_matrix.shape"
   ]
  },
  {
   "cell_type": "code",
   "execution_count": 32,
   "metadata": {},
   "outputs": [
    {
     "data": {
      "image/png": "[encoded data removed]",
      "text/plain": [
       "<Figure size 432x288 with 1 Axes>"
      ]
     },
     "metadata": {
      "needs_background": "light"
     },
     "output_type": "display_data"
    }
   ],
   "source": [
    "customer = 3\n",
    "plt.hist(distance_matrix[:,customer], bins=20)\n",
    "plt.grid()\n",
    "plt.show()"
   ]
  },
  {
   "cell_type": "code",
   "execution_count": 33,
   "metadata": {},
   "outputs": [],
   "source": [
    "# let´s choose a cut-off gower´s distance of e.g. 0.2\n",
    "gower_cutoff = 0.1  "
   ]
  },
  {
   "cell_type": "code",
   "execution_count": 34,
   "metadata": {},
   "outputs": [
    {
     "data": {
      "image/png": "[encoded data removed]",
      "text/plain": [
       "<Figure size 432x288 with 2 Axes>"
      ]
     },
     "metadata": {
      "needs_background": "light"
     },
     "output_type": "display_data"
    }
   ],
   "source": [
    "# plot the similarity matrix as heatmap\n",
    "sns.heatmap(\n",
    "    distance_matrix[:10,:10], \n",
    "    yticklabels = False, \n",
    "    cbar = True, \n",
    "    cmap=\"Blues\")\n",
    "plt.show()"
   ]
  },
  {
   "cell_type": "code",
   "execution_count": 35,
   "metadata": {},
   "outputs": [
    {
     "data": {
      "text/plain": [
       "{'index': array([100,  93, 139,  77,  24], dtype=int64),\n",
       " 'values': array([0.        , 0.01961198, 0.11232854, 0.11462703, 0.11769437],\n",
       "       dtype=float32)}"
      ]
     },
     "execution_count": 35,
     "metadata": {},
     "output_type": "execute_result"
    }
   ],
   "source": [
    "# find the top-n customers similar to a particular customer\n",
    "customer=100\n",
    "top_n = gower.gower_topn(\n",
    "    X_train.iloc[customer:customer+1,:], \n",
    "    X_train.iloc[:,], \n",
    "    n = 5)\n",
    "top_n"
   ]
  },
  {
   "cell_type": "code",
   "execution_count": 36,
   "metadata": {},
   "outputs": [
    {
     "data": {
      "text/plain": [
       "array([100,  93, 139,  77,  24], dtype=int64)"
      ]
     },
     "execution_count": 36,
     "metadata": {},
     "output_type": "execute_result"
    }
   ],
   "source": [
    "top_n['index']"
   ]
  },
  {
   "cell_type": "code",
   "execution_count": 37,
   "metadata": {},
   "outputs": [
    {
     "data": {
      "text/html": [
       "<div>\n",
       "<style scoped>\n",
       "    .dataframe tbody tr th:only-of-type {\n",
       "        vertical-align: middle;\n",
       "    }\n",
       "\n",
       "    .dataframe tbody tr th {\n",
       "        vertical-align: top;\n",
       "    }\n",
       "\n",
       "    .dataframe thead th {\n",
       "        text-align: right;\n",
       "    }\n",
       "</style>\n",
       "<table border=\"1\" class=\"dataframe\">\n",
       "  <thead>\n",
       "    <tr style=\"text-align: right;\">\n",
       "      <th></th>\n",
       "      <th>Age</th>\n",
       "      <th>Income</th>\n",
       "      <th>Spending_Score</th>\n",
       "      <th>Gender</th>\n",
       "    </tr>\n",
       "    <tr>\n",
       "      <th>CustomerID</th>\n",
       "      <th></th>\n",
       "      <th></th>\n",
       "      <th></th>\n",
       "      <th></th>\n",
       "    </tr>\n",
       "  </thead>\n",
       "  <tbody>\n",
       "    <tr>\n",
       "      <th>139</th>\n",
       "      <td>19.0</td>\n",
       "      <td>74.0</td>\n",
       "      <td>10.0</td>\n",
       "      <td>Male</td>\n",
       "    </tr>\n",
       "    <tr>\n",
       "      <th>135</th>\n",
       "      <td>20.0</td>\n",
       "      <td>73.0</td>\n",
       "      <td>5.0</td>\n",
       "      <td>Male</td>\n",
       "    </tr>\n",
       "    <tr>\n",
       "      <th>114</th>\n",
       "      <td>19.0</td>\n",
       "      <td>64.0</td>\n",
       "      <td>46.0</td>\n",
       "      <td>Male</td>\n",
       "    </tr>\n",
       "    <tr>\n",
       "      <th>92</th>\n",
       "      <td>18.0</td>\n",
       "      <td>59.0</td>\n",
       "      <td>41.0</td>\n",
       "      <td>Male</td>\n",
       "    </tr>\n",
       "    <tr>\n",
       "      <th>157</th>\n",
       "      <td>37.0</td>\n",
       "      <td>78.0</td>\n",
       "      <td>1.0</td>\n",
       "      <td>Male</td>\n",
       "    </tr>\n",
       "  </tbody>\n",
       "</table>\n",
       "</div>"
      ],
      "text/plain": [
       "             Age  Income  Spending_Score Gender\n",
       "CustomerID                                     \n",
       "139         19.0    74.0            10.0   Male\n",
       "135         20.0    73.0             5.0   Male\n",
       "114         19.0    64.0            46.0   Male\n",
       "92          18.0    59.0            41.0   Male\n",
       "157         37.0    78.0             1.0   Male"
      ]
     },
     "execution_count": 37,
     "metadata": {},
     "output_type": "execute_result"
    }
   ],
   "source": [
    "X_train.iloc[top_n['index'],:]"
   ]
  },
  {
   "attachments": {},
   "cell_type": "markdown",
   "metadata": {},
   "source": [
    "# DBScan Clustering"
   ]
  },
  {
   "cell_type": "code",
   "execution_count": 38,
   "metadata": {},
   "outputs": [
    {
     "data": {
      "image/png": "[encoded data removed]",
      "text/plain": [
       "<Figure size 432x288 with 1 Axes>"
      ]
     },
     "metadata": {
      "needs_background": "light"
     },
     "output_type": "display_data"
    },
    {
     "name": "stdout",
     "output_type": "stream",
     "text": [
      "CPU times: total: 125 ms\n",
      "Wall time: 112 ms\n"
     ]
    }
   ],
   "source": [
    "%%time\n",
    "# Configuring the parameters of the clustering algorithm\n",
    "dbscan_cluster = DBSCAN(eps=0.1, \n",
    "                        min_samples=25, \n",
    "                        metric=\"precomputed\",\n",
    "                        n_jobs=-1)\n",
    "\n",
    "# Fitting the clustering algorithm\n",
    "dbscan_cluster.fit(distance_matrix)\n",
    "\n",
    "plt.hist(dbscan_cluster.labels_) \n",
    "#plt.ylim(0,1000)\n",
    "plt.show()"
   ]
  },
  {
   "cell_type": "code",
   "execution_count": 40,
   "metadata": {},
   "outputs": [
    {
     "name": "stdout",
     "output_type": "stream",
     "text": [
      "Silhouette Score cannot be calculated\n"
     ]
    }
   ],
   "source": [
    "# Compute Cluster Quality using Silhouette Score\n",
    "try:\n",
    "    silhouette_score(\n",
    "        X=distance_matrix, \n",
    "        labels=dbscan_cluster.labels_, \n",
    "        metric=\"precomputed\")\n",
    "except:\n",
    "    print('Silhouette Score cannot be calculated')"
   ]
  },
  {
   "cell_type": "code",
   "execution_count": 54,
   "metadata": {},
   "outputs": [
    {
     "name": "stdout",
     "output_type": "stream",
     "text": [
      "CPU times: total: 2.33 s\n",
      "Wall time: 2.3 s\n"
     ]
    }
   ],
   "source": [
    "%%time\n",
    "# lets try different hyperparameters and count the cluster numbers; we dont want like 100 cluster but we do want maybe more than 2 clusters\n",
    "\n",
    "results_list = []\n",
    "eps_range = np.arange(.01, 0.25, .005)\n",
    "min_sample_range = np.arange(1, 50, 2)\n",
    "\n",
    "for eps in eps_range:\n",
    "    for min_samples in min_sample_range:\n",
    "\n",
    "        # Configuring the parameters of the clustering algorithm\n",
    "        dbscan_cluster = DBSCAN(eps=eps, \n",
    "                                min_samples=min_samples, \n",
    "                                metric=\"precomputed\",\n",
    "                                n_jobs=-1)\n",
    "\n",
    "        # Fitting the clustering algorithm\n",
    "        dbscan_cluster.fit(distance_matrix)\n",
    "\n",
    "        # count the number of datapoints i.e. customers labeled as noise i.e. -1\n",
    "        num_noise_data = list(dbscan_cluster.labels_).count(-1)\n",
    "        \n",
    "        # count the number of clusters different from noise i.e. labeled -1\n",
    "        num_cluster_detected = len(np.unique(dbscan_cluster.labels_[np.where(dbscan_cluster.labels_ >= 0)]))\n",
    "\n",
    "        if num_cluster_detected >= 2:\n",
    "            # calculate cluster quality using the silhouette score\n",
    "            cluster_quality = silhouette_score(X=distance_matrix, \n",
    "                                           labels=dbscan_cluster.labels_, \n",
    "                                           metric=\"precomputed\")\n",
    "        else:\n",
    "            cluster_quality = -1 # the silhouette score is not defined for one single cluster; let´s put the quality then to -1\n",
    "        \n",
    "        # save results\n",
    "        results_list.append([eps, min_samples, cluster_quality, num_cluster_detected, num_noise_data])"
   ]
  },
  {
   "cell_type": "code",
   "execution_count": 55,
   "metadata": {},
   "outputs": [
    {
     "data": {
      "text/plain": [
       "[[0.01, 1, 0.04483047, 145, 0],\n",
       " [0.01, 3, -1, 0, 150],\n",
       " [0.01, 5, -1, 0, 150],\n",
       " [0.01, 7, -1, 0, 150],\n",
       " [0.01, 9, -1, 0, 150],\n",
       " [0.01, 11, -1, 0, 150],\n",
       " [0.01, 13, -1, 0, 150],\n",
       " [0.01, 15, -1, 0, 150],\n",
       " [0.01, 17, -1, 0, 150],\n",
       " [0.01, 19, -1, 0, 150],\n",
       " [0.01, 21, -1, 0, 150],\n",
       " [0.01, 23, -1, 0, 150],\n",
       " [0.01, 25, -1, 0, 150],\n",
       " [0.01, 27, -1, 0, 150],\n",
       " [0.01, 29, -1, 0, 150],\n",
       " [0.01, 31, -1, 0, 150],\n",
       " [0.01, 33, -1, 0, 150],\n",
       " [0.01, 35, -1, 0, 150],\n",
       " [0.01, 37, -1, 0, 150],\n",
       " [0.01, 39, -1, 0, 150],\n",
       " [0.01, 41, -1, 0, 150],\n",
       " [0.01, 43, -1, 0, 150],\n",
       " [0.01, 45, -1, 0, 150],\n",
       " [0.01, 47, -1, 0, 150],\n",
       " [0.01, 49, -1, 0, 150],\n",
       " [0.015, 1, 0.07413422, 140, 0],\n",
       " [0.015, 3, -0.36233237, 3, 141],\n",
       " [0.015, 5, -1, 0, 150],\n",
       " [0.015, 7, -1, 0, 150],\n",
       " [0.015, 9, -1, 0, 150],\n",
       " [0.015, 11, -1, 0, 150],\n",
       " [0.015, 13, -1, 0, 150],\n",
       " [0.015, 15, -1, 0, 150],\n",
       " [0.015, 17, -1, 0, 150],\n",
       " [0.015, 19, -1, 0, 150],\n",
       " [0.015, 21, -1, 0, 150],\n",
       " [0.015, 23, -1, 0, 150],\n",
       " [0.015, 25, -1, 0, 150],\n",
       " [0.015, 27, -1, 0, 150],\n",
       " [0.015, 29, -1, 0, 150],\n",
       " [0.015, 31, -1, 0, 150],\n",
       " [0.015, 33, -1, 0, 150],\n",
       " [0.015, 35, -1, 0, 150],\n",
       " [0.015, 37, -1, 0, 150],\n",
       " [0.015, 39, -1, 0, 150],\n",
       " [0.015, 41, -1, 0, 150],\n",
       " [0.015, 43, -1, 0, 150],\n",
       " [0.015, 45, -1, 0, 150],\n",
       " [0.015, 47, -1, 0, 150],\n",
       " [0.015, 49, -1, 0, 150],\n",
       " [0.019999999999999997, 1, 0.14940837, 126, 0],\n",
       " [0.019999999999999997, 3, -0.4318151, 6, 131],\n",
       " [0.019999999999999997, 5, -1, 0, 150],\n",
       " [0.019999999999999997, 7, -1, 0, 150],\n",
       " [0.019999999999999997, 9, -1, 0, 150],\n",
       " [0.019999999999999997, 11, -1, 0, 150],\n",
       " [0.019999999999999997, 13, -1, 0, 150],\n",
       " [0.019999999999999997, 15, -1, 0, 150],\n",
       " [0.019999999999999997, 17, -1, 0, 150],\n",
       " [0.019999999999999997, 19, -1, 0, 150],\n",
       " [0.019999999999999997, 21, -1, 0, 150],\n",
       " [0.019999999999999997, 23, -1, 0, 150],\n",
       " [0.019999999999999997, 25, -1, 0, 150],\n",
       " [0.019999999999999997, 27, -1, 0, 150],\n",
       " [0.019999999999999997, 29, -1, 0, 150],\n",
       " [0.019999999999999997, 31, -1, 0, 150],\n",
       " [0.019999999999999997, 33, -1, 0, 150],\n",
       " [0.019999999999999997, 35, -1, 0, 150],\n",
       " [0.019999999999999997, 37, -1, 0, 150],\n",
       " [0.019999999999999997, 39, -1, 0, 150],\n",
       " [0.019999999999999997, 41, -1, 0, 150],\n",
       " [0.019999999999999997, 43, -1, 0, 150],\n",
       " [0.019999999999999997, 45, -1, 0, 150],\n",
       " [0.019999999999999997, 47, -1, 0, 150],\n",
       " [0.019999999999999997, 49, -1, 0, 150],\n",
       " [0.024999999999999998, 1, 0.16834928, 118, 0],\n",
       " [0.024999999999999998, 3, -0.37658623, 8, 122],\n",
       " [0.024999999999999998, 5, -1, 1, 145],\n",
       " [0.024999999999999998, 7, -1, 0, 150],\n",
       " [0.024999999999999998, 9, -1, 0, 150],\n",
       " [0.024999999999999998, 11, -1, 0, 150],\n",
       " [0.024999999999999998, 13, -1, 0, 150],\n",
       " [0.024999999999999998, 15, -1, 0, 150],\n",
       " [0.024999999999999998, 17, -1, 0, 150],\n",
       " [0.024999999999999998, 19, -1, 0, 150],\n",
       " [0.024999999999999998, 21, -1, 0, 150],\n",
       " [0.024999999999999998, 23, -1, 0, 150],\n",
       " [0.024999999999999998, 25, -1, 0, 150],\n",
       " [0.024999999999999998, 27, -1, 0, 150],\n",
       " [0.024999999999999998, 29, -1, 0, 150],\n",
       " [0.024999999999999998, 31, -1, 0, 150],\n",
       " [0.024999999999999998, 33, -1, 0, 150],\n",
       " [0.024999999999999998, 35, -1, 0, 150],\n",
       " [0.024999999999999998, 37, -1, 0, 150],\n",
       " [0.024999999999999998, 39, -1, 0, 150],\n",
       " [0.024999999999999998, 41, -1, 0, 150],\n",
       " [0.024999999999999998, 43, -1, 0, 150],\n",
       " [0.024999999999999998, 45, -1, 0, 150],\n",
       " [0.024999999999999998, 47, -1, 0, 150],\n",
       " [0.024999999999999998, 49, -1, 0, 150],\n",
       " [0.03, 1, 0.21626836, 103, 0],\n",
       " [0.03, 3, -0.29362392, 10, 109],\n",
       " [0.03, 5, -1, 1, 145],\n",
       " [0.03, 7, -1, 0, 150],\n",
       " [0.03, 9, -1, 0, 150],\n",
       " [0.03, 11, -1, 0, 150],\n",
       " [0.03, 13, -1, 0, 150],\n",
       " [0.03, 15, -1, 0, 150],\n",
       " [0.03, 17, -1, 0, 150],\n",
       " [0.03, 19, -1, 0, 150],\n",
       " [0.03, 21, -1, 0, 150],\n",
       " [0.03, 23, -1, 0, 150],\n",
       " [0.03, 25, -1, 0, 150],\n",
       " [0.03, 27, -1, 0, 150],\n",
       " [0.03, 29, -1, 0, 150],\n",
       " [0.03, 31, -1, 0, 150],\n",
       " [0.03, 33, -1, 0, 150],\n",
       " [0.03, 35, -1, 0, 150],\n",
       " [0.03, 37, -1, 0, 150],\n",
       " [0.03, 39, -1, 0, 150],\n",
       " [0.03, 41, -1, 0, 150],\n",
       " [0.03, 43, -1, 0, 150],\n",
       " [0.03, 45, -1, 0, 150],\n",
       " [0.03, 47, -1, 0, 150],\n",
       " [0.03, 49, -1, 0, 150],\n",
       " [0.034999999999999996, 1, 0.22328424, 91, 0],\n",
       " [0.034999999999999996, 3, -0.16818443, 11, 95],\n",
       " [0.034999999999999996, 5, -0.1502508, 2, 133],\n",
       " [0.034999999999999996, 7, -1, 1, 143],\n",
       " [0.034999999999999996, 9, -1, 0, 150],\n",
       " [0.034999999999999996, 11, -1, 0, 150],\n",
       " [0.034999999999999996, 13, -1, 0, 150],\n",
       " [0.034999999999999996, 15, -1, 0, 150],\n",
       " [0.034999999999999996, 17, -1, 0, 150],\n",
       " [0.034999999999999996, 19, -1, 0, 150],\n",
       " [0.034999999999999996, 21, -1, 0, 150],\n",
       " [0.034999999999999996, 23, -1, 0, 150],\n",
       " [0.034999999999999996, 25, -1, 0, 150],\n",
       " [0.034999999999999996, 27, -1, 0, 150],\n",
       " [0.034999999999999996, 29, -1, 0, 150],\n",
       " [0.034999999999999996, 31, -1, 0, 150],\n",
       " [0.034999999999999996, 33, -1, 0, 150],\n",
       " [0.034999999999999996, 35, -1, 0, 150],\n",
       " [0.034999999999999996, 37, -1, 0, 150],\n",
       " [0.034999999999999996, 39, -1, 0, 150],\n",
       " [0.034999999999999996, 41, -1, 0, 150],\n",
       " [0.034999999999999996, 43, -1, 0, 150],\n",
       " [0.034999999999999996, 45, -1, 0, 150],\n",
       " [0.034999999999999996, 47, -1, 0, 150],\n",
       " [0.034999999999999996, 49, -1, 0, 150],\n",
       " [0.039999999999999994, 1, 0.22606929, 78, 0],\n",
       " [0.039999999999999994, 3, -0.04585811, 14, 76],\n",
       " [0.039999999999999994, 5, -0.10004074, 3, 121],\n",
       " [0.039999999999999994, 7, -1, 1, 137],\n",
       " [0.039999999999999994, 9, -1, 0, 150],\n",
       " [0.039999999999999994, 11, -1, 0, 150],\n",
       " [0.039999999999999994, 13, -1, 0, 150],\n",
       " [0.039999999999999994, 15, -1, 0, 150],\n",
       " [0.039999999999999994, 17, -1, 0, 150],\n",
       " [0.039999999999999994, 19, -1, 0, 150],\n",
       " [0.039999999999999994, 21, -1, 0, 150],\n",
       " [0.039999999999999994, 23, -1, 0, 150],\n",
       " [0.039999999999999994, 25, -1, 0, 150],\n",
       " [0.039999999999999994, 27, -1, 0, 150],\n",
       " [0.039999999999999994, 29, -1, 0, 150],\n",
       " [0.039999999999999994, 31, -1, 0, 150],\n",
       " [0.039999999999999994, 33, -1, 0, 150],\n",
       " [0.039999999999999994, 35, -1, 0, 150],\n",
       " [0.039999999999999994, 37, -1, 0, 150],\n",
       " [0.039999999999999994, 39, -1, 0, 150],\n",
       " [0.039999999999999994, 41, -1, 0, 150],\n",
       " [0.039999999999999994, 43, -1, 0, 150],\n",
       " [0.039999999999999994, 45, -1, 0, 150],\n",
       " [0.039999999999999994, 47, -1, 0, 150],\n",
       " [0.039999999999999994, 49, -1, 0, 150],\n",
       " [0.045, 1, 0.25369662, 60, 0],\n",
       " [0.045, 3, 0.109167635, 17, 51],\n",
       " [0.045, 5, 0.015496203, 3, 109],\n",
       " [0.045, 7, -0.087112464, 2, 127],\n",
       " [0.045, 9, -1, 1, 137],\n",
       " [0.045, 11, -1, 0, 150],\n",
       " [0.045, 13, -1, 0, 150],\n",
       " [0.045, 15, -1, 0, 150],\n",
       " [0.045, 17, -1, 0, 150],\n",
       " [0.045, 19, -1, 0, 150],\n",
       " [0.045, 21, -1, 0, 150],\n",
       " [0.045, 23, -1, 0, 150],\n",
       " [0.045, 25, -1, 0, 150],\n",
       " [0.045, 27, -1, 0, 150],\n",
       " [0.045, 29, -1, 0, 150],\n",
       " [0.045, 31, -1, 0, 150],\n",
       " [0.045, 33, -1, 0, 150],\n",
       " [0.045, 35, -1, 0, 150],\n",
       " [0.045, 37, -1, 0, 150],\n",
       " [0.045, 39, -1, 0, 150],\n",
       " [0.045, 41, -1, 0, 150],\n",
       " [0.045, 43, -1, 0, 150],\n",
       " [0.045, 45, -1, 0, 150],\n",
       " [0.045, 47, -1, 0, 150],\n",
       " [0.045, 49, -1, 0, 150],\n",
       " [0.049999999999999996, 1, 0.24818388, 49, 0],\n",
       " [0.049999999999999996, 3, 0.1735202, 14, 42],\n",
       " [0.049999999999999996, 5, -0.03076633, 7, 81],\n",
       " [0.049999999999999996, 7, -0.04875579, 3, 116],\n",
       " [0.049999999999999996, 9, -1, 1, 137],\n",
       " [0.049999999999999996, 11, -1, 1, 137],\n",
       " [0.049999999999999996, 13, -1, 0, 150],\n",
       " [0.049999999999999996, 15, -1, 0, 150],\n",
       " [0.049999999999999996, 17, -1, 0, 150],\n",
       " [0.049999999999999996, 19, -1, 0, 150],\n",
       " [0.049999999999999996, 21, -1, 0, 150],\n",
       " [0.049999999999999996, 23, -1, 0, 150],\n",
       " [0.049999999999999996, 25, -1, 0, 150],\n",
       " [0.049999999999999996, 27, -1, 0, 150],\n",
       " [0.049999999999999996, 29, -1, 0, 150],\n",
       " [0.049999999999999996, 31, -1, 0, 150],\n",
       " [0.049999999999999996, 33, -1, 0, 150],\n",
       " [0.049999999999999996, 35, -1, 0, 150],\n",
       " [0.049999999999999996, 37, -1, 0, 150],\n",
       " [0.049999999999999996, 39, -1, 0, 150],\n",
       " [0.049999999999999996, 41, -1, 0, 150],\n",
       " [0.049999999999999996, 43, -1, 0, 150],\n",
       " [0.049999999999999996, 45, -1, 0, 150],\n",
       " [0.049999999999999996, 47, -1, 0, 150],\n",
       " [0.049999999999999996, 49, -1, 0, 150],\n",
       " [0.05499999999999999, 1, 0.20566484, 36, 0],\n",
       " [0.05499999999999999, 3, 0.24030481, 13, 26],\n",
       " [0.05499999999999999, 5, 0.10886932, 8, 62],\n",
       " [0.05499999999999999, 7, -0.004728465, 5, 92],\n",
       " [0.05499999999999999, 9, -0.059449706, 3, 117],\n",
       " [0.05499999999999999, 11, -1, 1, 136],\n",
       " [0.05499999999999999, 13, -1, 0, 150],\n",
       " [0.05499999999999999, 15, -1, 0, 150],\n",
       " [0.05499999999999999, 17, -1, 0, 150],\n",
       " [0.05499999999999999, 19, -1, 0, 150],\n",
       " [0.05499999999999999, 21, -1, 0, 150],\n",
       " [0.05499999999999999, 23, -1, 0, 150],\n",
       " [0.05499999999999999, 25, -1, 0, 150],\n",
       " [0.05499999999999999, 27, -1, 0, 150],\n",
       " [0.05499999999999999, 29, -1, 0, 150],\n",
       " [0.05499999999999999, 31, -1, 0, 150],\n",
       " [0.05499999999999999, 33, -1, 0, 150],\n",
       " [0.05499999999999999, 35, -1, 0, 150],\n",
       " [0.05499999999999999, 37, -1, 0, 150],\n",
       " [0.05499999999999999, 39, -1, 0, 150],\n",
       " [0.05499999999999999, 41, -1, 0, 150],\n",
       " [0.05499999999999999, 43, -1, 0, 150],\n",
       " [0.05499999999999999, 45, -1, 0, 150],\n",
       " [0.05499999999999999, 47, -1, 0, 150],\n",
       " [0.05499999999999999, 49, -1, 0, 150],\n",
       " [0.05999999999999999, 1, 0.20392114, 30, 0],\n",
       " [0.05999999999999999, 3, 0.24433942, 10, 25],\n",
       " [0.05999999999999999, 5, 0.20174666, 8, 50],\n",
       " [0.05999999999999999, 7, -0.005121918, 6, 80],\n",
       " [0.05999999999999999, 9, 0.028643891, 3, 107],\n",
       " [0.05999999999999999, 11, -0.02957923, 3, 114],\n",
       " [0.05999999999999999, 13, -1, 0, 150],\n",
       " [0.05999999999999999, 15, -1, 0, 150],\n",
       " [0.05999999999999999, 17, -1, 0, 150],\n",
       " [0.05999999999999999, 19, -1, 0, 150],\n",
       " [0.05999999999999999, 21, -1, 0, 150],\n",
       " [0.05999999999999999, 23, -1, 0, 150],\n",
       " [0.05999999999999999, 25, -1, 0, 150],\n",
       " [0.05999999999999999, 27, -1, 0, 150],\n",
       " [0.05999999999999999, 29, -1, 0, 150],\n",
       " [0.05999999999999999, 31, -1, 0, 150],\n",
       " [0.05999999999999999, 33, -1, 0, 150],\n",
       " [0.05999999999999999, 35, -1, 0, 150],\n",
       " [0.05999999999999999, 37, -1, 0, 150],\n",
       " [0.05999999999999999, 39, -1, 0, 150],\n",
       " [0.05999999999999999, 41, -1, 0, 150],\n",
       " [0.05999999999999999, 43, -1, 0, 150],\n",
       " [0.05999999999999999, 45, -1, 0, 150],\n",
       " [0.05999999999999999, 47, -1, 0, 150],\n",
       " [0.05999999999999999, 49, -1, 0, 150],\n",
       " [0.06499999999999999, 1, 0.054155357, 26, 0],\n",
       " [0.06499999999999999, 3, 0.13434018, 8, 22],\n",
       " [0.06499999999999999, 5, 0.16382958, 6, 44],\n",
       " [0.06499999999999999, 7, 0.072143435, 5, 63],\n",
       " [0.06499999999999999, 9, -0.012236525, 4, 78],\n",
       " [0.06499999999999999, 11, 0.039781936, 3, 105],\n",
       " [0.06499999999999999, 13, -1, 1, 136],\n",
       " [0.06499999999999999, 15, -1, 0, 150],\n",
       " [0.06499999999999999, 17, -1, 0, 150],\n",
       " [0.06499999999999999, 19, -1, 0, 150],\n",
       " [0.06499999999999999, 21, -1, 0, 150],\n",
       " [0.06499999999999999, 23, -1, 0, 150],\n",
       " [0.06499999999999999, 25, -1, 0, 150],\n",
       " [0.06499999999999999, 27, -1, 0, 150],\n",
       " [0.06499999999999999, 29, -1, 0, 150],\n",
       " [0.06499999999999999, 31, -1, 0, 150],\n",
       " [0.06499999999999999, 33, -1, 0, 150],\n",
       " [0.06499999999999999, 35, -1, 0, 150],\n",
       " [0.06499999999999999, 37, -1, 0, 150],\n",
       " [0.06499999999999999, 39, -1, 0, 150],\n",
       " [0.06499999999999999, 41, -1, 0, 150],\n",
       " [0.06499999999999999, 43, -1, 0, 150],\n",
       " [0.06499999999999999, 45, -1, 0, 150],\n",
       " [0.06499999999999999, 47, -1, 0, 150],\n",
       " [0.06499999999999999, 49, -1, 0, 150],\n",
       " [0.06999999999999999, 1, 0.10797369, 21, 0],\n",
       " [0.06999999999999999, 3, 0.15762684, 8, 16],\n",
       " [0.06999999999999999, 5, 0.1397906, 7, 35],\n",
       " [0.06999999999999999, 7, 0.040460516, 4, 62],\n",
       " [0.06999999999999999, 9, 0.04033816, 4, 63],\n",
       " [0.06999999999999999, 11, 0.07306225, 3, 101],\n",
       " [0.06999999999999999, 13, -1, 1, 135],\n",
       " [0.06999999999999999, 15, -1, 0, 150],\n",
       " [0.06999999999999999, 17, -1, 0, 150],\n",
       " [0.06999999999999999, 19, -1, 0, 150],\n",
       " [0.06999999999999999, 21, -1, 0, 150],\n",
       " [0.06999999999999999, 23, -1, 0, 150],\n",
       " [0.06999999999999999, 25, -1, 0, 150],\n",
       " [0.06999999999999999, 27, -1, 0, 150],\n",
       " [0.06999999999999999, 29, -1, 0, 150],\n",
       " [0.06999999999999999, 31, -1, 0, 150],\n",
       " [0.06999999999999999, 33, -1, 0, 150],\n",
       " [0.06999999999999999, 35, -1, 0, 150],\n",
       " [0.06999999999999999, 37, -1, 0, 150],\n",
       " [0.06999999999999999, 39, -1, 0, 150],\n",
       " [0.06999999999999999, 41, -1, 0, 150],\n",
       " [0.06999999999999999, 43, -1, 0, 150],\n",
       " [0.06999999999999999, 45, -1, 0, 150],\n",
       " [0.06999999999999999, 47, -1, 0, 150],\n",
       " [0.06999999999999999, 49, -1, 0, 150],\n",
       " [0.07499999999999998, 1, 0.10198252, 16, 0],\n",
       " [0.07499999999999998, 3, 0.15798226, 7, 11],\n",
       " [0.07499999999999998, 5, 0.27501732, 4, 29],\n",
       " [0.07499999999999998, 7, 0.0842071, 4, 53],\n",
       " [0.07499999999999998, 9, 0.072690696, 4, 56],\n",
       " [0.07499999999999998, 11, 0.118485086, 3, 96],\n",
       " [0.07499999999999998, 13, 0.043218635, 3, 105],\n",
       " [0.07499999999999998, 15, -1, 0, 150],\n",
       " [0.07499999999999998, 17, -1, 0, 150],\n",
       " [0.07499999999999998, 19, -1, 0, 150],\n",
       " [0.07499999999999998, 21, -1, 0, 150],\n",
       " [0.07499999999999998, 23, -1, 0, 150],\n",
       " [0.07499999999999998, 25, -1, 0, 150],\n",
       " [0.07499999999999998, 27, -1, 0, 150],\n",
       " [0.07499999999999998, 29, -1, 0, 150],\n",
       " [0.07499999999999998, 31, -1, 0, 150],\n",
       " [0.07499999999999998, 33, -1, 0, 150],\n",
       " [0.07499999999999998, 35, -1, 0, 150],\n",
       " [0.07499999999999998, 37, -1, 0, 150],\n",
       " [0.07499999999999998, 39, -1, 0, 150],\n",
       " [0.07499999999999998, 41, -1, 0, 150],\n",
       " [0.07499999999999998, 43, -1, 0, 150],\n",
       " [0.07499999999999998, 45, -1, 0, 150],\n",
       " [0.07499999999999998, 47, -1, 0, 150],\n",
       " [0.07499999999999998, 49, -1, 0, 150],\n",
       " [0.07999999999999999, 1, 0.23543233, 10, 0],\n",
       " [0.07999999999999999, 3, 0.38447917, 3, 10],\n",
       " [0.07999999999999999, 5, 0.40056345, 2, 24],\n",
       " [0.07999999999999999, 7, 0.15931763, 5, 35],\n",
       " [0.07999999999999999, 9, 0.10697001, 4, 52],\n",
       " [0.07999999999999999, 11, -0.022858182, 3, 84],\n",
       " [0.07999999999999999, 13, 0.087617114, 3, 99],\n",
       " [0.07999999999999999, 15, -0.010394774, 2, 120],\n",
       " [0.07999999999999999, 17, -1, 0, 150],\n",
       " [0.07999999999999999, 19, -1, 0, 150],\n",
       " [0.07999999999999999, 21, -1, 0, 150],\n",
       " [0.07999999999999999, 23, -1, 0, 150],\n",
       " [0.07999999999999999, 25, -1, 0, 150],\n",
       " [0.07999999999999999, 27, -1, 0, 150],\n",
       " [0.07999999999999999, 29, -1, 0, 150],\n",
       " [0.07999999999999999, 31, -1, 0, 150],\n",
       " [0.07999999999999999, 33, -1, 0, 150],\n",
       " [0.07999999999999999, 35, -1, 0, 150],\n",
       " [0.07999999999999999, 37, -1, 0, 150],\n",
       " [0.07999999999999999, 39, -1, 0, 150],\n",
       " [0.07999999999999999, 41, -1, 0, 150],\n",
       " [0.07999999999999999, 43, -1, 0, 150],\n",
       " [0.07999999999999999, 45, -1, 0, 150],\n",
       " [0.07999999999999999, 47, -1, 0, 150],\n",
       " [0.07999999999999999, 49, -1, 0, 150],\n",
       " [0.08499999999999998, 1, 0.25577825, 9, 0],\n",
       " [0.08499999999999998, 3, 0.38447917, 3, 10],\n",
       " [0.08499999999999998, 5, 0.42856216, 2, 17],\n",
       " [0.08499999999999998, 7, 0.37718454, 2, 30],\n",
       " [0.08499999999999998, 9, 0.120275244, 4, 48],\n",
       " [0.08499999999999998, 11, 0.07160059, 4, 58],\n",
       " [0.08499999999999998, 13, 0.17902222, 2, 89],\n",
       " [0.08499999999999998, 15, 0.09593939, 3, 98],\n",
       " [0.08499999999999998, 17, -1, 0, 150],\n",
       " [0.08499999999999998, 19, -1, 0, 150],\n",
       " [0.08499999999999998, 21, -1, 0, 150],\n",
       " [0.08499999999999998, 23, -1, 0, 150],\n",
       " [0.08499999999999998, 25, -1, 0, 150],\n",
       " [0.08499999999999998, 27, -1, 0, 150],\n",
       " [0.08499999999999998, 29, -1, 0, 150],\n",
       " [0.08499999999999998, 31, -1, 0, 150],\n",
       " [0.08499999999999998, 33, -1, 0, 150],\n",
       " [0.08499999999999998, 35, -1, 0, 150],\n",
       " [0.08499999999999998, 37, -1, 0, 150],\n",
       " [0.08499999999999998, 39, -1, 0, 150],\n",
       " [0.08499999999999998, 41, -1, 0, 150],\n",
       " [0.08499999999999998, 43, -1, 0, 150],\n",
       " [0.08499999999999998, 45, -1, 0, 150],\n",
       " [0.08499999999999998, 47, -1, 0, 150],\n",
       " [0.08499999999999998, 49, -1, 0, 150],\n",
       " [0.08999999999999998, 1, 0.30626428, 5, 0],\n",
       " [0.08999999999999998, 3, 0.41085058, 2, 5],\n",
       " [0.08999999999999998, 5, 0.440012, 2, 12],\n",
       " [0.08999999999999998, 7, 0.40616006, 2, 24],\n",
       " [0.08999999999999998, 9, 0.22590724, 3, 34],\n",
       " [0.08999999999999998, 11, 0.16223, 4, 42],\n",
       " [0.08999999999999998, 13, 0.20452324, 2, 84],\n",
       " [0.08999999999999998, 15, 0.19150653, 2, 87],\n",
       " [0.08999999999999998, 17, -1, 1, 131],\n",
       " [0.08999999999999998, 19, -1, 0, 150],\n",
       " [0.08999999999999998, 21, -1, 0, 150],\n",
       " [0.08999999999999998, 23, -1, 0, 150],\n",
       " [0.08999999999999998, 25, -1, 0, 150],\n",
       " [0.08999999999999998, 27, -1, 0, 150],\n",
       " [0.08999999999999998, 29, -1, 0, 150],\n",
       " [0.08999999999999998, 31, -1, 0, 150],\n",
       " [0.08999999999999998, 33, -1, 0, 150],\n",
       " [0.08999999999999998, 35, -1, 0, 150],\n",
       " [0.08999999999999998, 37, -1, 0, 150],\n",
       " [0.08999999999999998, 39, -1, 0, 150],\n",
       " [0.08999999999999998, 41, -1, 0, 150],\n",
       " [0.08999999999999998, 43, -1, 0, 150],\n",
       " [0.08999999999999998, 45, -1, 0, 150],\n",
       " [0.08999999999999998, 47, -1, 0, 150],\n",
       " [0.08999999999999998, 49, -1, 0, 150],\n",
       " [0.09499999999999999, 1, 0.30626428, 5, 0],\n",
       " [0.09499999999999999, 3, 0.41085058, 2, 5],\n",
       " [0.09499999999999999, 5, 0.4329783, 2, 10],\n",
       " [0.09499999999999999, 7, 0.42633566, 2, 16],\n",
       " [0.09499999999999999, 9, 0.36744013, 2, 31],\n",
       " [0.09499999999999999, 11, 0.20716909, 3, 37],\n",
       " [0.09499999999999999, 13, 0.09335779, 4, 53],\n",
       " [0.09499999999999999, 15, 0.20783104, 2, 84],\n",
       " [0.09499999999999999, 17, 0.17988713, 2, 91],\n",
       " [0.09499999999999999, 19, -1, 0, 150],\n",
       " [0.09499999999999999, 21, -1, 0, 150],\n",
       " [0.09499999999999999, 23, -1, 0, 150],\n",
       " [0.09499999999999999, 25, -1, 0, 150],\n",
       " [0.09499999999999999, 27, -1, 0, 150],\n",
       " [0.09499999999999999, 29, -1, 0, 150],\n",
       " [0.09499999999999999, 31, -1, 0, 150],\n",
       " [0.09499999999999999, 33, -1, 0, 150],\n",
       " [0.09499999999999999, 35, -1, 0, 150],\n",
       " [0.09499999999999999, 37, -1, 0, 150],\n",
       " [0.09499999999999999, 39, -1, 0, 150],\n",
       " [0.09499999999999999, 41, -1, 0, 150],\n",
       " [0.09499999999999999, 43, -1, 0, 150],\n",
       " [0.09499999999999999, 45, -1, 0, 150],\n",
       " [0.09499999999999999, 47, -1, 0, 150],\n",
       " [0.09499999999999999, 49, -1, 0, 150],\n",
       " [0.09999999999999998, 1, 0.30626428, 5, 0],\n",
       " [0.09999999999999998, 3, 0.41085058, 2, 5],\n",
       " [0.09999999999999998, 5, 0.43122855, 2, 9],\n",
       " [0.09999999999999998, 7, 0.43566296, 2, 15],\n",
       " [0.09999999999999998, 9, 0.4337313, 2, 16],\n",
       " [0.09999999999999998, 11, 0.38484251, 2, 27],\n",
       " [0.09999999999999998, 13, 0.26862162, 3, 38],\n",
       " [0.09999999999999998, 15, 0.20746364, 2, 65],\n",
       " [0.09999999999999998, 17, 0.22576752, 2, 80],\n",
       " [0.09999999999999998, 19, -1, 1, 107],\n",
       " [0.09999999999999998, 21, -1, 1, 128],\n",
       " [0.09999999999999998, 23, -1, 0, 150],\n",
       " [0.09999999999999998, 25, -1, 0, 150],\n",
       " [0.09999999999999998, 27, -1, 0, 150],\n",
       " [0.09999999999999998, 29, -1, 0, 150],\n",
       " [0.09999999999999998, 31, -1, 0, 150],\n",
       " [0.09999999999999998, 33, -1, 0, 150],\n",
       " [0.09999999999999998, 35, -1, 0, 150],\n",
       " [0.09999999999999998, 37, -1, 0, 150],\n",
       " [0.09999999999999998, 39, -1, 0, 150],\n",
       " [0.09999999999999998, 41, -1, 0, 150],\n",
       " [0.09999999999999998, 43, -1, 0, 150],\n",
       " [0.09999999999999998, 45, -1, 0, 150],\n",
       " [0.09999999999999998, 47, -1, 0, 150],\n",
       " [0.09999999999999998, 49, -1, 0, 150],\n",
       " [0.10499999999999998, 1, 0.32177284, 4, 0],\n",
       " [0.10499999999999998, 3, 0.40965948, 2, 3],\n",
       " [0.10499999999999998, 5, 0.43122855, 2, 9],\n",
       " [0.10499999999999998, 7, 0.4360407, 2, 14],\n",
       " [0.10499999999999998, 9, 0.43566296, 2, 15],\n",
       " [0.10499999999999998, 11, 0.40090355, 2, 23],\n",
       " [0.10499999999999998, 13, 0.3561, 2, 32],\n",
       " [0.10499999999999998, 15, 0.22820488, 3, 44],\n",
       " [0.10499999999999998, 17, -1, 1, 78],\n",
       " [0.10499999999999998, 19, -1, 1, 98],\n",
       " [0.10499999999999998, 21, -1, 1, 108],\n",
       " [0.10499999999999998, 23, -1, 1, 111],\n",
       " [0.10499999999999998, 25, -1, 1, 114],\n",
       " [0.10499999999999998, 27, -1, 0, 150],\n",
       " [0.10499999999999998, 29, -1, 0, 150],\n",
       " [0.10499999999999998, 31, -1, 0, 150],\n",
       " [0.10499999999999998, 33, -1, 0, 150],\n",
       " [0.10499999999999998, 35, -1, 0, 150],\n",
       " [0.10499999999999998, 37, -1, 0, 150],\n",
       " [0.10499999999999998, 39, -1, 0, 150],\n",
       " [0.10499999999999998, 41, -1, 0, 150],\n",
       " [0.10499999999999998, 43, -1, 0, 150],\n",
       " [0.10499999999999998, 45, -1, 0, 150],\n",
       " [0.10499999999999998, 47, -1, 0, 150],\n",
       " [0.10499999999999998, 49, -1, 0, 150],\n",
       " [0.10999999999999997, 1, 0.33438867, 3, 0],\n",
       " [0.10999999999999997, 3, 0.33438867, 2, 1],\n",
       " [0.10999999999999997, 5, 0.43122855, 2, 9],\n",
       " [0.10999999999999997, 7, 0.44093207, 2, 11],\n",
       " [0.10999999999999997, 9, 0.441728, 2, 13],\n",
       " [0.10999999999999997, 11, 0.4163287, 2, 20],\n",
       " [0.10999999999999997, 13, 0.3884247, 2, 26],\n",
       " [0.10999999999999997, 15, 0.32260332, 2, 36],\n",
       " [0.10999999999999997, 17, 0.20107096, 2, 61],\n",
       " [0.10999999999999997, 19, -1, 1, 90],\n",
       " [0.10999999999999997, 21, -1, 1, 100],\n",
       " [0.10999999999999997, 23, -1, 1, 108],\n",
       " [0.10999999999999997, 25, -1, 1, 109],\n",
       " [0.10999999999999997, 27, -1, 1, 122],\n",
       " [0.10999999999999997, 29, -1, 0, 150],\n",
       " [0.10999999999999997, 31, -1, 0, 150],\n",
       " [0.10999999999999997, 33, -1, 0, 150],\n",
       " [0.10999999999999997, 35, -1, 0, 150],\n",
       " [0.10999999999999997, 37, -1, 0, 150],\n",
       " [0.10999999999999997, 39, -1, 0, 150],\n",
       " [0.10999999999999997, 41, -1, 0, 150],\n",
       " [0.10999999999999997, 43, -1, 0, 150],\n",
       " [0.10999999999999997, 45, -1, 0, 150],\n",
       " [0.10999999999999997, 47, -1, 0, 150],\n",
       " [0.10999999999999997, 49, -1, 0, 150],\n",
       " [0.11499999999999998, 1, 0.33438867, 3, 0],\n",
       " [0.11499999999999998, 3, 0.33438867, 2, 1],\n",
       " [0.11499999999999998, 5, 0.43097717, 2, 7],\n",
       " [0.11499999999999998, 7, 0.43335998, 2, 9],\n",
       " [0.11499999999999998, 9, 0.44102538, 2, 12],\n",
       " [0.11499999999999998, 11, 0.4253321, 2, 16],\n",
       " [0.11499999999999998, 13, 0.39794123, 2, 24],\n",
       " [0.11499999999999998, 15, 0.37800103, 2, 27],\n",
       " [0.11499999999999998, 17, 0.31739628, 2, 38],\n",
       " [0.11499999999999998, 19, 0.17695676, 2, 60],\n",
       " [0.11499999999999998, 21, -1, 1, 94],\n",
       " [0.11499999999999998, 23, -1, 1, 100],\n",
       " [0.11499999999999998, 25, -1, 1, 103],\n",
       " [0.11499999999999998, 27, -1, 1, 109],\n",
       " [0.11499999999999998, 29, -1, 1, 119],\n",
       " [0.11499999999999998, 31, -1, 1, 119],\n",
       " [0.11499999999999998, 33, -1, 0, 150],\n",
       " [0.11499999999999998, 35, -1, 0, 150],\n",
       " [0.11499999999999998, 37, -1, 0, 150],\n",
       " [0.11499999999999998, 39, -1, 0, 150],\n",
       " [0.11499999999999998, 41, -1, 0, 150],\n",
       " [0.11499999999999998, 43, -1, 0, 150],\n",
       " [0.11499999999999998, 45, -1, 0, 150],\n",
       " [0.11499999999999998, 47, -1, 0, 150],\n",
       " [0.11499999999999998, 49, -1, 0, 150],\n",
       " [0.11999999999999998, 1, 0.54247904, 2, 0],\n",
       " [0.11999999999999998, 3, 0.54247904, 2, 0],\n",
       " [0.11999999999999998, 5, 0.4260453, 2, 1],\n",
       " [0.11999999999999998, 7, 0.43527955, 2, 5],\n",
       " [0.11999999999999998, 9, 0.43911296, 2, 11],\n",
       " [0.11999999999999998, 11, 0.43907797, 2, 12],\n",
       " [0.11999999999999998, 13, 0.4203631, 2, 16],\n",
       " [0.11999999999999998, 15, 0.38747054, 2, 25],\n",
       " [0.11999999999999998, 17, 0.37059507, 2, 28],\n",
       " [0.11999999999999998, 19, 0.24410817, 2, 49],\n",
       " [0.11999999999999998, 21, 0.12236273, 2, 68],\n",
       " [0.11999999999999998, 23, -1, 1, 90],\n",
       " [0.11999999999999998, 25, -1, 1, 95],\n",
       " [0.11999999999999998, 27, -1, 1, 105],\n",
       " [0.11999999999999998, 29, -1, 1, 106],\n",
       " [0.11999999999999998, 31, -1, 1, 118],\n",
       " [0.11999999999999998, 33, -1, 0, 150],\n",
       " [0.11999999999999998, 35, -1, 0, 150],\n",
       " [0.11999999999999998, 37, -1, 0, 150],\n",
       " [0.11999999999999998, 39, -1, 0, 150],\n",
       " [0.11999999999999998, 41, -1, 0, 150],\n",
       " [0.11999999999999998, 43, -1, 0, 150],\n",
       " [0.11999999999999998, 45, -1, 0, 150],\n",
       " [0.11999999999999998, 47, -1, 0, 150],\n",
       " [0.11999999999999998, 49, -1, 0, 150],\n",
       " [0.12499999999999997, 1, 0.54247904, 2, 0],\n",
       " [0.12499999999999997, 3, 0.54247904, 2, 0],\n",
       " [0.12499999999999997, 5, 0.4260453, 2, 1],\n",
       " [0.12499999999999997, 7, 0.41714853, 2, 3],\n",
       " [0.12499999999999997, 9, 0.4424642, 2, 9],\n",
       " [0.12499999999999997, 11, 0.4410346, 2, 11],\n",
       " [0.12499999999999997, 13, 0.4313099, 2, 14],\n",
       " [0.12499999999999997, 15, 0.42728373, 2, 16],\n",
       " [0.12499999999999997, 17, 0.4041977, 2, 22],\n",
       " [0.12499999999999997, 19, 0.256224, 2, 47],\n",
       " [0.12499999999999997, 21, 0.23899002, 2, 50],\n",
       " [0.12499999999999997, 23, 0.14027977, 2, 65],\n",
       " [0.12499999999999997, 25, -1, 1, 89],\n",
       " [0.12499999999999997, 27, -1, 1, 100],\n",
       " [0.12499999999999997, 29, -1, 1, 102],\n",
       " [0.12499999999999997, 31, -1, 1, 110],\n",
       " [0.12499999999999997, 33, -1, 1, 116],\n",
       " [0.12499999999999997, 35, -1, 0, 150],\n",
       " [0.12499999999999997, 37, -1, 0, 150],\n",
       " [0.12499999999999997, 39, -1, 0, 150],\n",
       " [0.12499999999999997, 41, -1, 0, 150],\n",
       " [0.12499999999999997, 43, -1, 0, 150],\n",
       " [0.12499999999999997, 45, -1, 0, 150],\n",
       " [0.12499999999999997, 47, -1, 0, 150],\n",
       " [0.12499999999999997, 49, -1, 0, 150],\n",
       " [0.12999999999999998, 1, 0.54247904, 2, 0],\n",
       " [0.12999999999999998, 3, 0.54247904, 2, 0],\n",
       " [0.12999999999999998, 5, 0.4260453, 2, 1],\n",
       " [0.12999999999999998, 7, 0.42588073, 2, 2],\n",
       " [0.12999999999999998, 9, 0.44935456, 2, 7],\n",
       " [0.12999999999999998, 11, 0.44935456, 2, 7],\n",
       " [0.12999999999999998, 13, 0.44823304, 2, 8],\n",
       " [0.12999999999999998, 15, 0.43262568, 2, 12],\n",
       " [0.12999999999999998, 17, 0.4082516, 2, 21],\n",
       " [0.12999999999999998, 19, 0.37530953, 2, 26],\n",
       " [0.12999999999999998, 21, 0.27481177, 2, 44],\n",
       " [0.12999999999999998, 23, 0.24746908, 2, 49],\n",
       " [0.12999999999999998, 25, 0.23591484, 2, 51],\n",
       " [0.12999999999999998, 27, -1, 1, 86],\n",
       " [0.12999999999999998, 29, -1, 1, 86],\n",
       " [0.12999999999999998, 31, -1, 1, 96],\n",
       " [0.12999999999999998, 33, -1, 1, 109],\n",
       " [0.12999999999999998, 35, -1, 0, 150],\n",
       " [0.12999999999999998, 37, -1, 0, 150],\n",
       " [0.12999999999999998, 39, -1, 0, 150],\n",
       " [0.12999999999999998, 41, -1, 0, 150],\n",
       " [0.12999999999999998, 43, -1, 0, 150],\n",
       " [0.12999999999999998, 45, -1, 0, 150],\n",
       " [0.12999999999999998, 47, -1, 0, 150],\n",
       " [0.12999999999999998, 49, -1, 0, 150],\n",
       " [0.13499999999999998, 1, 0.54247904, 2, 0],\n",
       " [0.13499999999999998, 3, 0.54247904, 2, 0],\n",
       " [0.13499999999999998, 5, 0.4260453, 2, 1],\n",
       " [0.13499999999999998, 7, 0.42588073, 2, 2],\n",
       " [0.13499999999999998, 9, 0.46692875, 2, 3],\n",
       " [0.13499999999999998, 11, 0.46692875, 2, 3],\n",
       " [0.13499999999999998, 13, 0.44823304, 2, 8],\n",
       " [0.13499999999999998, 15, 0.44037393, 2, 10],\n",
       " [0.13499999999999998, 17, 0.4395642, 2, 12],\n",
       " [0.13499999999999998, 19, 0.41250864, 2, 19],\n",
       " [0.13499999999999998, 21, 0.3709636, 2, 26],\n",
       " [0.13499999999999998, 23, 0.28782168, 2, 42],\n",
       " [0.13499999999999998, 25, 0.26271763, 2, 46],\n",
       " [0.13499999999999998, 27, -1, 1, 76],\n",
       " [0.13499999999999998, 29, -1, 1, 77],\n",
       " [0.13499999999999998, 31, -1, 1, 84],\n",
       " [0.13499999999999998, 33, -1, 1, 86],\n",
       " [0.13499999999999998, 35, -1, 1, 108],\n",
       " [0.13499999999999998, 37, -1, 0, 150],\n",
       " [0.13499999999999998, 39, -1, 0, 150],\n",
       " [0.13499999999999998, 41, -1, 0, 150],\n",
       " [0.13499999999999998, 43, -1, 0, 150],\n",
       " [0.13499999999999998, 45, -1, 0, 150],\n",
       " [0.13499999999999998, 47, -1, 0, 150],\n",
       " [0.13499999999999998, 49, -1, 0, 150],\n",
       " [0.13999999999999999, 1, 0.54247904, 2, 0],\n",
       " [0.13999999999999999, 3, 0.54247904, 2, 0],\n",
       " [0.13999999999999999, 5, 0.4260453, 2, 1],\n",
       " [0.13999999999999999, 7, 0.42588073, 2, 2],\n",
       " [0.13999999999999999, 9, 0.42588073, 2, 2],\n",
       " [0.13999999999999999, 11, 0.46692875, 2, 3],\n",
       " [0.13999999999999999, 13, 0.44935456, 2, 7],\n",
       " [0.13999999999999999, 15, 0.4439591, 2, 9],\n",
       " [0.13999999999999999, 17, 0.44035956, 2, 10],\n",
       " [0.13999999999999999, 19, 0.4236453, 2, 15],\n",
       " [0.13999999999999999, 21, 0.40612906, 2, 20],\n",
       " [0.13999999999999999, 23, 0.34951013, 2, 31],\n",
       " [0.13999999999999999, 25, 0.32189775, 2, 36],\n",
       " [0.13999999999999999, 27, 0.26555347, 2, 46],\n",
       " [0.13999999999999999, 29, -1, 1, 75],\n",
       " [0.13999999999999999, 31, -1, 1, 76],\n",
       " [0.13999999999999999, 33, -1, 1, 76],\n",
       " [0.13999999999999999, 35, -1, 1, 87],\n",
       " [0.13999999999999999, 37, -1, 1, 96],\n",
       " [0.13999999999999999, 39, -1, 1, 98],\n",
       " [0.13999999999999999, 41, -1, 1, 107],\n",
       " [0.13999999999999999, 43, -1, 1, 107],\n",
       " [0.13999999999999999, 45, -1, 0, 150],\n",
       " [0.13999999999999999, 47, -1, 0, 150],\n",
       " [0.13999999999999999, 49, -1, 0, 150],\n",
       " [0.145, 1, 0.54247904, 2, 0],\n",
       " [0.145, 3, 0.54247904, 2, 0],\n",
       " [0.145, 5, 0.4260453, 2, 1],\n",
       " [0.145, 7, 0.4260453, 2, 1],\n",
       " [0.145, 9, 0.42588073, 2, 2],\n",
       " [0.145, 11, 0.46692875, 2, 3],\n",
       " [0.145, 13, 0.46692875, 2, 3],\n",
       " [0.145, 15, 0.44678748, 2, 7],\n",
       " [0.145, 17, 0.4439591, 2, 9],\n",
       " [0.145, 19, 0.44035956, 2, 10],\n",
       " [0.145, 21, 0.4236453, 2, 15],\n",
       " [0.145, 23, 0.37754628, 2, 26],\n",
       " [0.145, 25, 0.348223, 2, 32],\n",
       " [0.145, 27, 0.348223, 2, 32],\n",
       " [0.145, 29, 0.28441697, 2, 43],\n",
       " [0.145, 31, -1, 1, 75],\n",
       " [0.145, 33, -1, 1, 75],\n",
       " [0.145, 35, -1, 1, 76],\n",
       " [0.145, 37, -1, 1, 83],\n",
       " [0.145, 39, -1, 1, 83],\n",
       " [0.145, 41, -1, 1, 96],\n",
       " [0.145, 43, -1, 1, 104],\n",
       " [0.145, 45, -1, 1, 104],\n",
       " [0.145, 47, -1, 0, 150],\n",
       " [0.145, 49, -1, 0, 150],\n",
       " [0.15, 1, 0.54247904, 2, 0],\n",
       " [0.15, 3, 0.54247904, 2, 0],\n",
       " [0.15, 5, 0.4260453, 2, 1],\n",
       " [0.15, 7, 0.4260453, 2, 1],\n",
       " [0.15, 9, 0.4260453, 2, 1],\n",
       " [0.15, 11, 0.42588073, 2, 2],\n",
       " [0.15, 13, 0.46692875, 2, 3],\n",
       " [0.15, 15, 0.47012573, 2, 4],\n",
       " [0.15, 17, 0.455045, 2, 7],\n",
       " [0.15, 19, 0.4465397, 2, 8],\n",
       " [0.15, 21, 0.44156107, 2, 10],\n",
       " [0.15, 23, 0.42443338, 2, 16],\n",
       " [0.15, 25, 0.39610136, 2, 22],\n",
       " [0.15, 27, 0.3573982, 2, 30],\n",
       " [0.15, 29, 0.3127838, 2, 38],\n",
       " [0.15, 31, 0.2983921, 2, 41],\n",
       " [0.15, 33, -1, 1, 74],\n",
       " [0.15, 35, -1, 1, 74],\n",
       " [0.15, 37, -1, 1, 75],\n",
       " [0.15, 39, -1, 1, 81],\n",
       " [0.15, 41, -1, 1, 81],\n",
       " [0.15, 43, -1, 1, 81],\n",
       " [0.15, 45, -1, 1, 102],\n",
       " [0.15, 47, -1, 1, 102],\n",
       " [0.15, 49, -1, 0, 150],\n",
       " [0.155, 1, 0.54247904, 2, 0],\n",
       " [0.155, 3, 0.54247904, 2, 0],\n",
       " [0.155, 5, 0.54247904, 2, 0],\n",
       " [0.155, 7, 0.4260453, 2, 1],\n",
       " [0.155, 9, 0.4260453, 2, 1],\n",
       " [0.155, 11, 0.42588073, 2, 2],\n",
       " [0.155, 13, 0.46692875, 2, 3],\n",
       " [0.155, 15, 0.46692875, 2, 3],\n",
       " [0.155, 17, 0.45577556, 2, 6],\n",
       " [0.155, 19, 0.45577556, 2, 6],\n",
       " [0.155, 21, 0.44688055, 2, 7],\n",
       " [0.155, 23, 0.43374705, 2, 12],\n",
       " [0.155, 25, 0.42536485, 2, 17],\n",
       " [0.155, 27, 0.3987159, 2, 22],\n",
       " [0.155, 29, 0.36558673, 2, 29],\n",
       " [0.155, 31, 0.3138772, 2, 38],\n",
       " [0.155, 33, -1, 1, 72],\n",
       " [0.155, 35, -1, 1, 72],\n",
       " [0.155, 37, -1, 1, 75],\n",
       " [0.155, 39, -1, 1, 75],\n",
       " [0.155, 41, -1, 1, 75],\n",
       " [0.155, 43, -1, 1, 81],\n",
       " [0.155, 45, -1, 1, 87],\n",
       " [0.155, 47, -1, 1, 102],\n",
       " [0.155, 49, -1, 0, 150],\n",
       " [0.15999999999999998, 1, 0.54247904, 2, 0],\n",
       " [0.15999999999999998, 3, 0.54247904, 2, 0],\n",
       " [0.15999999999999998, 5, 0.54247904, 2, 0],\n",
       " [0.15999999999999998, 7, 0.4260453, 2, 1],\n",
       " [0.15999999999999998, 9, 0.4260453, 2, 1],\n",
       " [0.15999999999999998, 11, 0.4260453, 2, 1],\n",
       " [0.15999999999999998, 13, 0.4260453, 2, 1],\n",
       " [0.15999999999999998, 15, 0.4260453, 2, 1],\n",
       " [0.15999999999999998, 17, 0.42588073, 2, 2],\n",
       " [0.15999999999999998, 19, 0.43630743, 2, 4],\n",
       " [0.15999999999999998, 21, 0.43630743, 2, 4],\n",
       " [0.15999999999999998, 23, 0.432, 2, 7],\n",
       " [0.15999999999999998, 25, 0.42733774, 2, 12],\n",
       " [0.15999999999999998, 27, 0.42129084, 2, 16],\n",
       " [0.15999999999999998, 29, 0.39000395, 2, 24],\n",
       " [0.15999999999999998, 31, 0.38167524, 2, 26],\n",
       " [0.15999999999999998, 33, -1, 1, 66],\n",
       " [0.15999999999999998, 35, -1, 1, 67],\n",
       " [0.15999999999999998, 37, -1, 1, 68],\n",
       " [0.15999999999999998, 39, -1, 1, 69],\n",
       " [0.15999999999999998, 41, -1, 1, 69],\n",
       " [0.15999999999999998, 43, -1, 1, 71],\n",
       " [0.15999999999999998, 45, -1, 1, 75],\n",
       " [0.15999999999999998, 47, -1, 1, 81],\n",
       " [0.15999999999999998, 49, -1, 1, 82],\n",
       " [0.16499999999999998, 1, 0.54247904, 2, 0],\n",
       " [0.16499999999999998, 3, 0.54247904, 2, 0],\n",
       " [0.16499999999999998, 5, 0.54247904, 2, 0],\n",
       " [0.16499999999999998, 7, 0.4260453, 2, 1],\n",
       " [0.16499999999999998, 9, 0.4260453, 2, 1],\n",
       " [0.16499999999999998, 11, 0.4260453, 2, 1],\n",
       " [0.16499999999999998, 13, 0.4260453, 2, 1],\n",
       " [0.16499999999999998, 15, 0.4260453, 2, 1],\n",
       " [0.16499999999999998, 17, 0.4260453, 2, 1],\n",
       " [0.16499999999999998, 19, 0.43630743, 2, 4],\n",
       " [0.16499999999999998, 21, 0.43630743, 2, 4],\n",
       " [0.16499999999999998, 23, 0.42925587, 2, 6],\n",
       " [0.16499999999999998, 25, 0.432, 2, 7],\n",
       " [0.16499999999999998, 27, 0.43053013, 2, 13],\n",
       " [0.16499999999999998, 29, 0.4155973, 2, 16],\n",
       " [0.16499999999999998, 31, 0.39125514, 2, 23],\n",
       " [0.16499999999999998, 33, 0.35157213, 2, 31],\n",
       " [0.16499999999999998, 35, -1, 1, 66],\n",
       " [0.16499999999999998, 37, -1, 1, 66],\n",
       " [0.16499999999999998, 39, -1, 1, 67],\n",
       " [0.16499999999999998, 41, -1, 1, 68],\n",
       " [0.16499999999999998, 43, -1, 1, 68],\n",
       " [0.16499999999999998, 45, -1, 1, 70],\n",
       " [0.16499999999999998, 47, -1, 1, 74],\n",
       " [0.16499999999999998, 49, -1, 1, 75],\n",
       " [0.16999999999999998, 1, 0.54247904, 2, 0],\n",
       " [0.16999999999999998, 3, 0.54247904, 2, 0],\n",
       " [0.16999999999999998, 5, 0.54247904, 2, 0],\n",
       " [0.16999999999999998, 7, 0.54247904, 2, 0],\n",
       " [0.16999999999999998, 9, 0.54247904, 2, 0],\n",
       " [0.16999999999999998, 11, 0.54247904, 2, 0],\n",
       " [0.16999999999999998, 13, 0.4260453, 2, 1],\n",
       " [0.16999999999999998, 15, 0.4260453, 2, 1],\n",
       " [0.16999999999999998, 17, 0.4260453, 2, 1],\n",
       " [0.16999999999999998, 19, 0.42588073, 2, 2],\n",
       " [0.16999999999999998, 21, 0.43630743, 2, 4],\n",
       " [0.16999999999999998, 23, 0.43630743, 2, 4],\n",
       " [0.16999999999999998, 25, 0.432, 2, 7],\n",
       " [0.16999999999999998, 27, 0.43445098, 2, 9],\n",
       " [0.16999999999999998, 29, 0.43445098, 2, 9],\n",
       " [0.16999999999999998, 31, 0.42017186, 2, 12],\n",
       " [0.16999999999999998, 33, 0.39785573, 2, 20],\n",
       " [0.16999999999999998, 35, 0.39785573, 2, 20],\n",
       " [0.16999999999999998, 37, 0.3627891, 2, 29],\n",
       " [0.16999999999999998, 39, -1, 1, 66],\n",
       " [0.16999999999999998, 41, -1, 1, 67],\n",
       " [0.16999999999999998, 43, -1, 1, 67],\n",
       " [0.16999999999999998, 45, -1, 1, 67],\n",
       " [0.16999999999999998, 47, -1, 1, 69],\n",
       " [0.16999999999999998, 49, -1, 1, 71],\n",
       " [0.175, 1, 0.54247904, 2, 0],\n",
       " [0.175, 3, 0.54247904, 2, 0],\n",
       " [0.175, 5, 0.54247904, 2, 0],\n",
       " [0.175, 7, 0.54247904, 2, 0],\n",
       " [0.175, 9, 0.54247904, 2, 0],\n",
       " [0.175, 11, 0.54247904, 2, 0],\n",
       " [0.175, 13, 0.4260453, 2, 1],\n",
       " [0.175, 15, 0.4260453, 2, 1],\n",
       " [0.175, 17, 0.4260453, 2, 1],\n",
       " [0.175, 19, 0.4260453, 2, 1],\n",
       " [0.175, 21, 0.42588073, 2, 2],\n",
       " [0.175, 23, 0.43630743, 2, 4],\n",
       " [0.175, 25, 0.43630743, 2, 4],\n",
       " [0.175, 27, 0.43630743, 2, 4],\n",
       " [0.175, 29, 0.4328491, 2, 6],\n",
       " [0.175, 31, 0.43123484, 2, 9],\n",
       " [0.175, 33, 0.43235406, 2, 12],\n",
       " [0.175, 35, 0.40038553, 2, 18],\n",
       " [0.175, 37, 0.40038553, 2, 18],\n",
       " [0.175, 39, 0.40038553, 2, 18],\n",
       " [0.175, 41, -1, 1, 65],\n",
       " [0.175, 43, -1, 1, 67],\n",
       " [0.175, 45, -1, 1, 67],\n",
       " [0.175, 47, -1, 1, 67],\n",
       " [0.175, 49, -1, 1, 67],\n",
       " [0.18, 1, 0.54247904, 2, 0],\n",
       " [0.18, 3, 0.54247904, 2, 0],\n",
       " [0.18, 5, 0.54247904, 2, 0],\n",
       " [0.18, 7, 0.54247904, 2, 0],\n",
       " [0.18, 9, 0.54247904, 2, 0],\n",
       " [0.18, 11, 0.54247904, 2, 0],\n",
       " [0.18, 13, 0.54247904, 2, 0],\n",
       " [0.18, 15, 0.4260453, 2, 1],\n",
       " [0.18, 17, 0.4260453, 2, 1],\n",
       " [0.18, 19, 0.4260453, 2, 1],\n",
       " [0.18, 21, 0.42588073, 2, 2],\n",
       " [0.18, 23, 0.43630743, 2, 4],\n",
       " [0.18, 25, 0.43630743, 2, 4],\n",
       " [0.18, 27, 0.43630743, 2, 4],\n",
       " [0.18, 29, 0.4367867, 2, 5],\n",
       " [0.18, 31, 0.4367867, 2, 5],\n",
       " [0.18, 33, 0.43247008, 2, 8],\n",
       " [0.18, 35, 0.43215713, 2, 10],\n",
       " [0.18, 37, 0.4246054, 2, 13],\n",
       " [0.18, 39, 0.4044313, 2, 17],\n",
       " [0.18, 41, 0.39726022, 2, 22],\n",
       " [0.18, 43, -1, 1, 64],\n",
       " [0.18, 45, -1, 1, 65],\n",
       " [0.18, 47, -1, 1, 67],\n",
       " [0.18, 49, -1, 1, 67],\n",
       " [0.18499999999999997, 1, 0.54247904, 2, 0],\n",
       " [0.18499999999999997, 3, 0.54247904, 2, 0],\n",
       " [0.18499999999999997, 5, 0.54247904, 2, 0],\n",
       " [0.18499999999999997, 7, 0.54247904, 2, 0],\n",
       " [0.18499999999999997, 9, 0.54247904, 2, 0],\n",
       " [0.18499999999999997, 11, 0.54247904, 2, 0],\n",
       " [0.18499999999999997, 13, 0.54247904, 2, 0],\n",
       " [0.18499999999999997, 15, 0.4260453, 2, 1],\n",
       " [0.18499999999999997, 17, 0.4260453, 2, 1],\n",
       " [0.18499999999999997, 19, 0.4260453, 2, 1],\n",
       " [0.18499999999999997, 21, 0.42588073, 2, 2],\n",
       " [0.18499999999999997, 23, 0.43351623, 2, 3],\n",
       " [0.18499999999999997, 25, 0.43630743, 2, 4],\n",
       " [0.18499999999999997, 27, 0.43630743, 2, 4],\n",
       " [0.18499999999999997, 29, 0.43630743, 2, 4],\n",
       " [0.18499999999999997, 31, 0.43630743, 2, 4],\n",
       " [0.18499999999999997, 33, 0.43630743, 2, 4],\n",
       " [0.18499999999999997, 35, 0.43815136, 2, 7],\n",
       " [0.18499999999999997, 37, 0.43815136, 2, 7],\n",
       " [0.18499999999999997, 39, 0.42267618, 2, 12],\n",
       " [0.18499999999999997, 41, 0.40826198, 2, 15],\n",
       " [0.18499999999999997, 43, 0.39840975, 2, 20],\n",
       " [0.18499999999999997, 45, -1, 1, 63],\n",
       " [0.18499999999999997, 47, -1, 1, 64],\n",
       " [0.18499999999999997, 49, -1, 1, 64],\n",
       " [0.18999999999999997, 1, 0.54247904, 2, 0],\n",
       " [0.18999999999999997, 3, 0.54247904, 2, 0],\n",
       " [0.18999999999999997, 5, 0.54247904, 2, 0],\n",
       " [0.18999999999999997, 7, 0.54247904, 2, 0],\n",
       " [0.18999999999999997, 9, 0.54247904, 2, 0],\n",
       " [0.18999999999999997, 11, 0.54247904, 2, 0],\n",
       " [0.18999999999999997, 13, 0.54247904, 2, 0],\n",
       " [0.18999999999999997, 15, 0.4260453, 2, 1],\n",
       " [0.18999999999999997, 17, 0.4260453, 2, 1],\n",
       " [0.18999999999999997, 19, 0.4260453, 2, 1],\n",
       " [0.18999999999999997, 21, 0.4260453, 2, 1],\n",
       " [0.18999999999999997, 23, 0.42588073, 2, 2],\n",
       " [0.18999999999999997, 25, 0.43351623, 2, 3],\n",
       " [0.18999999999999997, 27, 0.43351623, 2, 3],\n",
       " [0.18999999999999997, 29, 0.43630743, 2, 4],\n",
       " [0.18999999999999997, 31, 0.43630743, 2, 4],\n",
       " [0.18999999999999997, 33, 0.43630743, 2, 4],\n",
       " [0.18999999999999997, 35, 0.44111064, 2, 6],\n",
       " [0.18999999999999997, 37, 0.43815136, 2, 7],\n",
       " [0.18999999999999997, 39, 0.4341633, 2, 9],\n",
       " [0.18999999999999997, 41, 0.40826198, 2, 15],\n",
       " [0.18999999999999997, 43, 0.39840975, 2, 20],\n",
       " [0.18999999999999997, 45, -1, 1, 63],\n",
       " [0.18999999999999997, 47, -1, 1, 63],\n",
       " [0.18999999999999997, 49, -1, 1, 64],\n",
       " [0.19499999999999998, 1, 0.54247904, 2, 0],\n",
       " [0.19499999999999998, 3, 0.54247904, 2, 0],\n",
       " [0.19499999999999998, 5, 0.54247904, 2, 0],\n",
       " [0.19499999999999998, 7, 0.54247904, 2, 0],\n",
       " [0.19499999999999998, 9, 0.54247904, 2, 0],\n",
       " [0.19499999999999998, 11, 0.54247904, 2, 0],\n",
       " [0.19499999999999998, 13, 0.54247904, 2, 0],\n",
       " [0.19499999999999998, 15, 0.54247904, 2, 0],\n",
       " [0.19499999999999998, 17, 0.4260453, 2, 1],\n",
       " [0.19499999999999998, 19, 0.4260453, 2, 1],\n",
       " [0.19499999999999998, 21, 0.4260453, 2, 1],\n",
       " [0.19499999999999998, 23, 0.42588073, 2, 2],\n",
       " [0.19499999999999998, 25, 0.43351623, 2, 3],\n",
       " [0.19499999999999998, 27, 0.43351623, 2, 3],\n",
       " [0.19499999999999998, 29, 0.43630743, 2, 4],\n",
       " [0.19499999999999998, 31, 0.43630743, 2, 4],\n",
       " [0.19499999999999998, 33, 0.43630743, 2, 4],\n",
       " [0.19499999999999998, 35, 0.43630743, 2, 4],\n",
       " [0.19499999999999998, 37, 0.4428867, 2, 5],\n",
       " [0.19499999999999998, 39, 0.44098794, 2, 6],\n",
       " [0.19499999999999998, 41, 0.43048716, 2, 9],\n",
       " [0.19499999999999998, 43, 0.40826198, 2, 15],\n",
       " [0.19499999999999998, 45, 0.401589, 2, 18],\n",
       " [0.19499999999999998, 47, -1, 1, 63],\n",
       " [0.19499999999999998, 49, -1, 1, 63],\n",
       " [0.19999999999999998, 1, 0.54247904, 2, 0],\n",
       " [0.19999999999999998, 3, 0.54247904, 2, 0],\n",
       " [0.19999999999999998, 5, 0.54247904, 2, 0],\n",
       " [0.19999999999999998, 7, 0.54247904, 2, 0],\n",
       " [0.19999999999999998, 9, 0.54247904, 2, 0],\n",
       " [0.19999999999999998, 11, 0.54247904, 2, 0],\n",
       " [0.19999999999999998, 13, 0.54247904, 2, 0],\n",
       " [0.19999999999999998, 15, 0.54247904, 2, 0],\n",
       " [0.19999999999999998, 17, 0.4260453, 2, 1],\n",
       " [0.19999999999999998, 19, 0.4260453, 2, 1],\n",
       " [0.19999999999999998, 21, 0.4260453, 2, 1],\n",
       " [0.19999999999999998, 23, 0.4260453, 2, 1],\n",
       " [0.19999999999999998, 25, 0.4260453, 2, 1],\n",
       " [0.19999999999999998, 27, 0.4260453, 2, 1],\n",
       " [0.19999999999999998, 29, 0.43509912, 2, 2],\n",
       " [0.19999999999999998, 31, 0.43509912, 2, 2],\n",
       " [0.19999999999999998, 33, 0.43724588, 2, 3],\n",
       " [0.19999999999999998, 35, 0.43724588, 2, 3],\n",
       " [0.19999999999999998, 37, 0.43630743, 2, 4],\n",
       " [0.19999999999999998, 39, 0.4428867, 2, 5],\n",
       " [0.19999999999999998, 41, 0.44098794, 2, 6],\n",
       " [0.19999999999999998, 43, 0.40826198, 2, 15],\n",
       " [0.19999999999999998, 45, 0.40826198, 2, 15],\n",
       " [0.19999999999999998, 47, 0.40826198, 2, 15],\n",
       " [0.19999999999999998, 49, -1, 1, 63],\n",
       " [0.205, 1, 0.54247904, 2, 0],\n",
       " [0.205, 3, 0.54247904, 2, 0],\n",
       " [0.205, 5, 0.54247904, 2, 0],\n",
       " [0.205, 7, 0.54247904, 2, 0],\n",
       " [0.205, 9, 0.54247904, 2, 0],\n",
       " [0.205, 11, 0.54247904, 2, 0],\n",
       " [0.205, 13, 0.54247904, 2, 0],\n",
       " [0.205, 15, 0.54247904, 2, 0],\n",
       " [0.205, 17, 0.4260453, 2, 1],\n",
       " [0.205, 19, 0.4260453, 2, 1],\n",
       " [0.205, 21, 0.4260453, 2, 1],\n",
       " [0.205, 23, 0.4260453, 2, 1],\n",
       " [0.205, 25, 0.4260453, 2, 1],\n",
       " [0.205, 27, 0.4260453, 2, 1],\n",
       " [0.205, 29, 0.4260453, 2, 1],\n",
       " [0.205, 31, 0.4260453, 2, 1],\n",
       " [0.205, 33, 0.4260453, 2, 1],\n",
       " [0.205, 35, 0.4260453, 2, 1],\n",
       " [0.205, 37, 0.43509912, 2, 2],\n",
       " [0.205, 39, 0.43724588, 2, 3],\n",
       " [0.205, 41, 0.44098794, 2, 6],\n",
       " [0.205, 43, 0.4373585, 2, 8],\n",
       " [0.205, 45, 0.41792887, 2, 13],\n",
       " [0.205, 47, 0.41792887, 2, 13],\n",
       " [0.205, 49, 0.4146254, 2, 14],\n",
       " ...]"
      ]
     },
     "execution_count": 55,
     "metadata": {},
     "output_type": "execute_result"
    }
   ],
   "source": [
    "results_list"
   ]
  },
  {
   "cell_type": "code",
   "execution_count": 56,
   "metadata": {},
   "outputs": [
    {
     "data": {
      "text/html": [
       "<div>\n",
       "<style scoped>\n",
       "    .dataframe tbody tr th:only-of-type {\n",
       "        vertical-align: middle;\n",
       "    }\n",
       "\n",
       "    .dataframe tbody tr th {\n",
       "        vertical-align: top;\n",
       "    }\n",
       "\n",
       "    .dataframe thead th {\n",
       "        text-align: right;\n",
       "    }\n",
       "</style>\n",
       "<table border=\"1\" class=\"dataframe\">\n",
       "  <thead>\n",
       "    <tr style=\"text-align: right;\">\n",
       "      <th></th>\n",
       "      <th>eps</th>\n",
       "      <th>min_samples</th>\n",
       "      <th>cluster_quality</th>\n",
       "      <th>num_clusters</th>\n",
       "      <th>num_noise_data</th>\n",
       "    </tr>\n",
       "  </thead>\n",
       "  <tbody>\n",
       "    <tr>\n",
       "      <th>0</th>\n",
       "      <td>0.010</td>\n",
       "      <td>1</td>\n",
       "      <td>0.044830</td>\n",
       "      <td>145</td>\n",
       "      <td>0</td>\n",
       "    </tr>\n",
       "    <tr>\n",
       "      <th>1</th>\n",
       "      <td>0.010</td>\n",
       "      <td>3</td>\n",
       "      <td>-1.000000</td>\n",
       "      <td>0</td>\n",
       "      <td>150</td>\n",
       "    </tr>\n",
       "    <tr>\n",
       "      <th>2</th>\n",
       "      <td>0.010</td>\n",
       "      <td>5</td>\n",
       "      <td>-1.000000</td>\n",
       "      <td>0</td>\n",
       "      <td>150</td>\n",
       "    </tr>\n",
       "    <tr>\n",
       "      <th>3</th>\n",
       "      <td>0.010</td>\n",
       "      <td>7</td>\n",
       "      <td>-1.000000</td>\n",
       "      <td>0</td>\n",
       "      <td>150</td>\n",
       "    </tr>\n",
       "    <tr>\n",
       "      <th>4</th>\n",
       "      <td>0.010</td>\n",
       "      <td>9</td>\n",
       "      <td>-1.000000</td>\n",
       "      <td>0</td>\n",
       "      <td>150</td>\n",
       "    </tr>\n",
       "    <tr>\n",
       "      <th>...</th>\n",
       "      <td>...</td>\n",
       "      <td>...</td>\n",
       "      <td>...</td>\n",
       "      <td>...</td>\n",
       "      <td>...</td>\n",
       "    </tr>\n",
       "    <tr>\n",
       "      <th>1195</th>\n",
       "      <td>0.245</td>\n",
       "      <td>41</td>\n",
       "      <td>0.542479</td>\n",
       "      <td>2</td>\n",
       "      <td>0</td>\n",
       "    </tr>\n",
       "    <tr>\n",
       "      <th>1196</th>\n",
       "      <td>0.245</td>\n",
       "      <td>43</td>\n",
       "      <td>0.542479</td>\n",
       "      <td>2</td>\n",
       "      <td>0</td>\n",
       "    </tr>\n",
       "    <tr>\n",
       "      <th>1197</th>\n",
       "      <td>0.245</td>\n",
       "      <td>45</td>\n",
       "      <td>0.542479</td>\n",
       "      <td>2</td>\n",
       "      <td>0</td>\n",
       "    </tr>\n",
       "    <tr>\n",
       "      <th>1198</th>\n",
       "      <td>0.245</td>\n",
       "      <td>47</td>\n",
       "      <td>0.542479</td>\n",
       "      <td>2</td>\n",
       "      <td>0</td>\n",
       "    </tr>\n",
       "    <tr>\n",
       "      <th>1199</th>\n",
       "      <td>0.245</td>\n",
       "      <td>49</td>\n",
       "      <td>0.542479</td>\n",
       "      <td>2</td>\n",
       "      <td>0</td>\n",
       "    </tr>\n",
       "  </tbody>\n",
       "</table>\n",
       "<p>1200 rows × 5 columns</p>\n",
       "</div>"
      ],
      "text/plain": [
       "        eps  min_samples  cluster_quality  num_clusters  num_noise_data\n",
       "0     0.010            1         0.044830           145               0\n",
       "1     0.010            3        -1.000000             0             150\n",
       "2     0.010            5        -1.000000             0             150\n",
       "3     0.010            7        -1.000000             0             150\n",
       "4     0.010            9        -1.000000             0             150\n",
       "...     ...          ...              ...           ...             ...\n",
       "1195  0.245           41         0.542479             2               0\n",
       "1196  0.245           43         0.542479             2               0\n",
       "1197  0.245           45         0.542479             2               0\n",
       "1198  0.245           47         0.542479             2               0\n",
       "1199  0.245           49         0.542479             2               0\n",
       "\n",
       "[1200 rows x 5 columns]"
      ]
     },
     "execution_count": 56,
     "metadata": {},
     "output_type": "execute_result"
    }
   ],
   "source": [
    "clustering_results_df = pd.DataFrame(results_list, columns = (\"eps\", \"min_samples\", \"cluster_quality\", \"num_clusters\", \"num_noise_data\"))\n",
    "clustering_results_df"
   ]
  },
  {
   "cell_type": "code",
   "execution_count": 95,
   "metadata": {},
   "outputs": [
    {
     "data": {
      "text/html": [
       "<div>\n",
       "<style scoped>\n",
       "    .dataframe tbody tr th:only-of-type {\n",
       "        vertical-align: middle;\n",
       "    }\n",
       "\n",
       "    .dataframe tbody tr th {\n",
       "        vertical-align: top;\n",
       "    }\n",
       "\n",
       "    .dataframe thead th {\n",
       "        text-align: right;\n",
       "    }\n",
       "</style>\n",
       "<table border=\"1\" class=\"dataframe\">\n",
       "  <thead>\n",
       "    <tr style=\"text-align: right;\">\n",
       "      <th></th>\n",
       "      <th>eps</th>\n",
       "      <th>min_samples</th>\n",
       "      <th>cluster_quality</th>\n",
       "      <th>num_clusters</th>\n",
       "      <th>num_noise_data</th>\n",
       "    </tr>\n",
       "  </thead>\n",
       "  <tbody>\n",
       "    <tr>\n",
       "      <th>351</th>\n",
       "      <td>0.080</td>\n",
       "      <td>3</td>\n",
       "      <td>0.384479</td>\n",
       "      <td>3</td>\n",
       "      <td>10</td>\n",
       "    </tr>\n",
       "    <tr>\n",
       "      <th>376</th>\n",
       "      <td>0.085</td>\n",
       "      <td>3</td>\n",
       "      <td>0.384479</td>\n",
       "      <td>3</td>\n",
       "      <td>10</td>\n",
       "    </tr>\n",
       "    <tr>\n",
       "      <th>500</th>\n",
       "      <td>0.110</td>\n",
       "      <td>1</td>\n",
       "      <td>0.334389</td>\n",
       "      <td>3</td>\n",
       "      <td>0</td>\n",
       "    </tr>\n",
       "    <tr>\n",
       "      <th>525</th>\n",
       "      <td>0.115</td>\n",
       "      <td>1</td>\n",
       "      <td>0.334389</td>\n",
       "      <td>3</td>\n",
       "      <td>0</td>\n",
       "    </tr>\n",
       "    <tr>\n",
       "      <th>456</th>\n",
       "      <td>0.100</td>\n",
       "      <td>13</td>\n",
       "      <td>0.268622</td>\n",
       "      <td>3</td>\n",
       "      <td>38</td>\n",
       "    </tr>\n",
       "    <tr>\n",
       "      <th>482</th>\n",
       "      <td>0.105</td>\n",
       "      <td>15</td>\n",
       "      <td>0.228205</td>\n",
       "      <td>3</td>\n",
       "      <td>44</td>\n",
       "    </tr>\n",
       "    <tr>\n",
       "      <th>404</th>\n",
       "      <td>0.090</td>\n",
       "      <td>9</td>\n",
       "      <td>0.225907</td>\n",
       "      <td>3</td>\n",
       "      <td>34</td>\n",
       "    </tr>\n",
       "    <tr>\n",
       "      <th>430</th>\n",
       "      <td>0.095</td>\n",
       "      <td>11</td>\n",
       "      <td>0.207169</td>\n",
       "      <td>3</td>\n",
       "      <td>37</td>\n",
       "    </tr>\n",
       "    <tr>\n",
       "      <th>330</th>\n",
       "      <td>0.075</td>\n",
       "      <td>11</td>\n",
       "      <td>0.118485</td>\n",
       "      <td>3</td>\n",
       "      <td>96</td>\n",
       "    </tr>\n",
       "    <tr>\n",
       "      <th>382</th>\n",
       "      <td>0.085</td>\n",
       "      <td>15</td>\n",
       "      <td>0.095939</td>\n",
       "      <td>3</td>\n",
       "      <td>98</td>\n",
       "    </tr>\n",
       "    <tr>\n",
       "      <th>356</th>\n",
       "      <td>0.080</td>\n",
       "      <td>13</td>\n",
       "      <td>0.087617</td>\n",
       "      <td>3</td>\n",
       "      <td>99</td>\n",
       "    </tr>\n",
       "    <tr>\n",
       "      <th>305</th>\n",
       "      <td>0.070</td>\n",
       "      <td>11</td>\n",
       "      <td>0.073062</td>\n",
       "      <td>3</td>\n",
       "      <td>101</td>\n",
       "    </tr>\n",
       "    <tr>\n",
       "      <th>331</th>\n",
       "      <td>0.075</td>\n",
       "      <td>13</td>\n",
       "      <td>0.043219</td>\n",
       "      <td>3</td>\n",
       "      <td>105</td>\n",
       "    </tr>\n",
       "    <tr>\n",
       "      <th>280</th>\n",
       "      <td>0.065</td>\n",
       "      <td>11</td>\n",
       "      <td>0.039782</td>\n",
       "      <td>3</td>\n",
       "      <td>105</td>\n",
       "    </tr>\n",
       "    <tr>\n",
       "      <th>254</th>\n",
       "      <td>0.060</td>\n",
       "      <td>9</td>\n",
       "      <td>0.028644</td>\n",
       "      <td>3</td>\n",
       "      <td>107</td>\n",
       "    </tr>\n",
       "    <tr>\n",
       "      <th>177</th>\n",
       "      <td>0.045</td>\n",
       "      <td>5</td>\n",
       "      <td>0.015496</td>\n",
       "      <td>3</td>\n",
       "      <td>109</td>\n",
       "    </tr>\n",
       "    <tr>\n",
       "      <th>355</th>\n",
       "      <td>0.080</td>\n",
       "      <td>11</td>\n",
       "      <td>-0.022858</td>\n",
       "      <td>3</td>\n",
       "      <td>84</td>\n",
       "    </tr>\n",
       "    <tr>\n",
       "      <th>255</th>\n",
       "      <td>0.060</td>\n",
       "      <td>11</td>\n",
       "      <td>-0.029579</td>\n",
       "      <td>3</td>\n",
       "      <td>114</td>\n",
       "    </tr>\n",
       "    <tr>\n",
       "      <th>203</th>\n",
       "      <td>0.050</td>\n",
       "      <td>7</td>\n",
       "      <td>-0.048756</td>\n",
       "      <td>3</td>\n",
       "      <td>116</td>\n",
       "    </tr>\n",
       "    <tr>\n",
       "      <th>229</th>\n",
       "      <td>0.055</td>\n",
       "      <td>9</td>\n",
       "      <td>-0.059450</td>\n",
       "      <td>3</td>\n",
       "      <td>117</td>\n",
       "    </tr>\n",
       "  </tbody>\n",
       "</table>\n",
       "</div>"
      ],
      "text/plain": [
       "       eps  min_samples  cluster_quality  num_clusters  num_noise_data\n",
       "351  0.080            3         0.384479             3              10\n",
       "376  0.085            3         0.384479             3              10\n",
       "500  0.110            1         0.334389             3               0\n",
       "525  0.115            1         0.334389             3               0\n",
       "456  0.100           13         0.268622             3              38\n",
       "482  0.105           15         0.228205             3              44\n",
       "404  0.090            9         0.225907             3              34\n",
       "430  0.095           11         0.207169             3              37\n",
       "330  0.075           11         0.118485             3              96\n",
       "382  0.085           15         0.095939             3              98\n",
       "356  0.080           13         0.087617             3              99\n",
       "305  0.070           11         0.073062             3             101\n",
       "331  0.075           13         0.043219             3             105\n",
       "280  0.065           11         0.039782             3             105\n",
       "254  0.060            9         0.028644             3             107\n",
       "177  0.045            5         0.015496             3             109\n",
       "355  0.080           11        -0.022858             3              84\n",
       "255  0.060           11        -0.029579             3             114\n",
       "203  0.050            7        -0.048756             3             116\n",
       "229  0.055            9        -0.059450             3             117"
      ]
     },
     "execution_count": 95,
     "metadata": {},
     "output_type": "execute_result"
    }
   ],
   "source": [
    "nclusters = 3\n",
    "db_config = clustering_results_df[clustering_results_df[\"num_clusters\"] == nclusters].sort_values(by=\"cluster_quality\", ascending=False)\n",
    "db_config[:20] "
   ]
  },
  {
   "cell_type": "code",
   "execution_count": 96,
   "metadata": {},
   "outputs": [
    {
     "name": "stdout",
     "output_type": "stream",
     "text": [
      "0.08 3\n"
     ]
    },
    {
     "data": {
      "image/png": "[encoded data removed]",
      "text/plain": [
       "<Figure size 432x288 with 1 Axes>"
      ]
     },
     "metadata": {
      "needs_background": "light"
     },
     "output_type": "display_data"
    },
    {
     "name": "stdout",
     "output_type": "stream",
     "text": [
      "0.085 3\n"
     ]
    },
    {
     "data": {
      "image/png": "[encoded data removed]",
      "text/plain": [
       "<Figure size 432x288 with 1 Axes>"
      ]
     },
     "metadata": {
      "needs_background": "light"
     },
     "output_type": "display_data"
    },
    {
     "name": "stdout",
     "output_type": "stream",
     "text": [
      "0.11 1\n"
     ]
    },
    {
     "data": {
      "image/png": "[encoded data removed]",
      "text/plain": [
       "<Figure size 432x288 with 1 Axes>"
      ]
     },
     "metadata": {
      "needs_background": "light"
     },
     "output_type": "display_data"
    },
    {
     "name": "stdout",
     "output_type": "stream",
     "text": [
      "0.115 1\n"
     ]
    },
    {
     "data": {
      "image/png": "[encoded data removed]",
      "text/plain": [
       "<Figure size 432x288 with 1 Axes>"
      ]
     },
     "metadata": {
      "needs_background": "light"
     },
     "output_type": "display_data"
    },
    {
     "name": "stdout",
     "output_type": "stream",
     "text": [
      "0.1 13\n"
     ]
    },
    {
     "data": {
      "image/png": "[encoded data removed]",
      "text/plain": [
       "<Figure size 432x288 with 1 Axes>"
      ]
     },
     "metadata": {
      "needs_background": "light"
     },
     "output_type": "display_data"
    },
    {
     "name": "stdout",
     "output_type": "stream",
     "text": [
      "0.105 15\n"
     ]
    },
    {
     "data": {
      "image/png": "[encoded data removed]",
      "text/plain": [
       "<Figure size 432x288 with 1 Axes>"
      ]
     },
     "metadata": {
      "needs_background": "light"
     },
     "output_type": "display_data"
    },
    {
     "name": "stdout",
     "output_type": "stream",
     "text": [
      "0.09 9\n"
     ]
    },
    {
     "data": {
      "image/png": "[encoded data removed]",
      "text/plain": [
       "<Figure size 432x288 with 1 Axes>"
      ]
     },
     "metadata": {
      "needs_background": "light"
     },
     "output_type": "display_data"
    },
    {
     "name": "stdout",
     "output_type": "stream",
     "text": [
      "0.095 11\n"
     ]
    },
    {
     "data": {
      "image/png": "[encoded data removed]",
      "text/plain": [
       "<Figure size 432x288 with 1 Axes>"
      ]
     },
     "metadata": {
      "needs_background": "light"
     },
     "output_type": "display_data"
    },
    {
     "name": "stdout",
     "output_type": "stream",
     "text": [
      "0.075 11\n"
     ]
    },
    {
     "data": {
      "image/png": "[encoded data removed]",
      "text/plain": [
       "<Figure size 432x288 with 1 Axes>"
      ]
     },
     "metadata": {
      "needs_background": "light"
     },
     "output_type": "display_data"
    },
    {
     "name": "stdout",
     "output_type": "stream",
     "text": [
      "0.085 15\n"
     ]
    },
    {
     "data": {
      "image/png": "[encoded data removed]",
      "text/plain": [
       "<Figure size 432x288 with 1 Axes>"
      ]
     },
     "metadata": {
      "needs_background": "light"
     },
     "output_type": "display_data"
    },
    {
     "name": "stdout",
     "output_type": "stream",
     "text": [
      "0.08 13\n"
     ]
    },
    {
     "data": {
      "image/png": "[encoded data removed]",
      "text/plain": [
       "<Figure size 432x288 with 1 Axes>"
      ]
     },
     "metadata": {
      "needs_background": "light"
     },
     "output_type": "display_data"
    },
    {
     "name": "stdout",
     "output_type": "stream",
     "text": [
      "0.07 11\n"
     ]
    },
    {
     "data": {
      "image/png": "[encoded data removed]",
      "text/plain": [
       "<Figure size 432x288 with 1 Axes>"
      ]
     },
     "metadata": {
      "needs_background": "light"
     },
     "output_type": "display_data"
    },
    {
     "name": "stdout",
     "output_type": "stream",
     "text": [
      "0.075 13\n"
     ]
    },
    {
     "data": {
      "image/png": "[encoded data removed]",
      "text/plain": [
       "<Figure size 432x288 with 1 Axes>"
      ]
     },
     "metadata": {
      "needs_background": "light"
     },
     "output_type": "display_data"
    },
    {
     "name": "stdout",
     "output_type": "stream",
     "text": [
      "0.065 11\n"
     ]
    },
    {
     "data": {
      "image/png": "[encoded data removed]",
      "text/plain": [
       "<Figure size 432x288 with 1 Axes>"
      ]
     },
     "metadata": {
      "needs_background": "light"
     },
     "output_type": "display_data"
    },
    {
     "name": "stdout",
     "output_type": "stream",
     "text": [
      "0.06 9\n"
     ]
    },
    {
     "data": {
      "image/png": "[encoded data removed]",
      "text/plain": [
       "<Figure size 432x288 with 1 Axes>"
      ]
     },
     "metadata": {
      "needs_background": "light"
     },
     "output_type": "display_data"
    },
    {
     "name": "stdout",
     "output_type": "stream",
     "text": [
      "0.045 5\n"
     ]
    },
    {
     "data": {
      "image/png": "[encoded data removed]",
      "text/plain": [
       "<Figure size 432x288 with 1 Axes>"
      ]
     },
     "metadata": {
      "needs_background": "light"
     },
     "output_type": "display_data"
    },
    {
     "name": "stdout",
     "output_type": "stream",
     "text": [
      "0.08 11\n"
     ]
    },
    {
     "data": {
      "image/png": "[encoded data removed]",
      "text/plain": [
       "<Figure size 432x288 with 1 Axes>"
      ]
     },
     "metadata": {
      "needs_background": "light"
     },
     "output_type": "display_data"
    },
    {
     "name": "stdout",
     "output_type": "stream",
     "text": [
      "0.06 11\n"
     ]
    },
    {
     "data": {
      "image/png": "[encoded data removed]",
      "text/plain": [
       "<Figure size 432x288 with 1 Axes>"
      ]
     },
     "metadata": {
      "needs_background": "light"
     },
     "output_type": "display_data"
    },
    {
     "name": "stdout",
     "output_type": "stream",
     "text": [
      "0.05 7\n"
     ]
    },
    {
     "data": {
      "image/png": "[encoded data removed]",
      "text/plain": [
       "<Figure size 432x288 with 1 Axes>"
      ]
     },
     "metadata": {
      "needs_background": "light"
     },
     "output_type": "display_data"
    },
    {
     "name": "stdout",
     "output_type": "stream",
     "text": [
      "0.055 9\n"
     ]
    },
    {
     "data": {
      "image/png": "[encoded data removed]",
      "text/plain": [
       "<Figure size 432x288 with 1 Axes>"
      ]
     },
     "metadata": {
      "needs_background": "light"
     },
     "output_type": "display_data"
    }
   ],
   "source": [
    "for conf in np.array(db_config[:20][['eps', 'min_samples']]):\n",
    "    eps = np.round(conf[0],3)\n",
    "    min_samples = int(conf[1])\n",
    "    print(eps, min_samples)\n",
    "\n",
    "    # Configuring the parameters of the clustering algorithm\n",
    "    dbscan_cluster = DBSCAN(eps=eps, \n",
    "                            min_samples=min_samples, \n",
    "                            metric=\"precomputed\",\n",
    "                            n_jobs=-1)\n",
    "\n",
    "    # Fitting the clustering algorithm\n",
    "    dbscan_cluster.fit(distance_matrix)\n",
    "\n",
    "    plt.hist(dbscan_cluster.labels_) \n",
    "    #plt.yscale('log')\n",
    "    plt.grid()\n",
    "    plt.show()"
   ]
  },
  {
   "cell_type": "code",
   "execution_count": 98,
   "metadata": {},
   "outputs": [
    {
     "data": {
      "image/png": "[encoded data removed]",
      "text/plain": [
       "<Figure size 432x288 with 1 Axes>"
      ]
     },
     "metadata": {
      "needs_background": "light"
     },
     "output_type": "display_data"
    }
   ],
   "source": [
    "# Configuring the parameters of the clustering algorithm\n",
    "dbscan_cluster = DBSCAN(eps=0.09, \n",
    "                        min_samples=9, \n",
    "                        metric=\"precomputed\",\n",
    "                        n_jobs=-1)\n",
    "\n",
    "# Fitting the clustering algorithm\n",
    "dbscan_cluster.fit(distance_matrix)\n",
    "\n",
    "plt.hist(dbscan_cluster.labels_) \n",
    "#plt.yscale('log')\n",
    "plt.grid()\n",
    "plt.show()"
   ]
  },
  {
   "cell_type": "code",
   "execution_count": 99,
   "metadata": {},
   "outputs": [
    {
     "data": {
      "text/html": [
       "<div>\n",
       "<style scoped>\n",
       "    .dataframe tbody tr th:only-of-type {\n",
       "        vertical-align: middle;\n",
       "    }\n",
       "\n",
       "    .dataframe tbody tr th {\n",
       "        vertical-align: top;\n",
       "    }\n",
       "\n",
       "    .dataframe thead th {\n",
       "        text-align: right;\n",
       "    }\n",
       "</style>\n",
       "<table border=\"1\" class=\"dataframe\">\n",
       "  <thead>\n",
       "    <tr style=\"text-align: right;\">\n",
       "      <th></th>\n",
       "      <th>Age</th>\n",
       "      <th>Income</th>\n",
       "      <th>Spending_Score</th>\n",
       "      <th>Gender</th>\n",
       "      <th>cluster</th>\n",
       "    </tr>\n",
       "    <tr>\n",
       "      <th>CustomerID</th>\n",
       "      <th></th>\n",
       "      <th></th>\n",
       "      <th></th>\n",
       "      <th></th>\n",
       "      <th></th>\n",
       "    </tr>\n",
       "  </thead>\n",
       "  <tbody>\n",
       "    <tr>\n",
       "      <th>187</th>\n",
       "      <td>54.0</td>\n",
       "      <td>101.0</td>\n",
       "      <td>24.0</td>\n",
       "      <td>Female</td>\n",
       "      <td>-1</td>\n",
       "    </tr>\n",
       "    <tr>\n",
       "      <th>111</th>\n",
       "      <td>65.0</td>\n",
       "      <td>63.0</td>\n",
       "      <td>52.0</td>\n",
       "      <td>Male</td>\n",
       "      <td>0</td>\n",
       "    </tr>\n",
       "    <tr>\n",
       "      <th>43</th>\n",
       "      <td>48.0</td>\n",
       "      <td>39.0</td>\n",
       "      <td>36.0</td>\n",
       "      <td>Male</td>\n",
       "      <td>0</td>\n",
       "    </tr>\n",
       "    <tr>\n",
       "      <th>121</th>\n",
       "      <td>27.0</td>\n",
       "      <td>67.0</td>\n",
       "      <td>56.0</td>\n",
       "      <td>Male</td>\n",
       "      <td>0</td>\n",
       "    </tr>\n",
       "    <tr>\n",
       "      <th>192</th>\n",
       "      <td>32.0</td>\n",
       "      <td>103.0</td>\n",
       "      <td>69.0</td>\n",
       "      <td>Female</td>\n",
       "      <td>1</td>\n",
       "    </tr>\n",
       "  </tbody>\n",
       "</table>\n",
       "</div>"
      ],
      "text/plain": [
       "             Age  Income  Spending_Score  Gender  cluster\n",
       "CustomerID                                               \n",
       "187         54.0   101.0            24.0  Female       -1\n",
       "111         65.0    63.0            52.0    Male        0\n",
       "43          48.0    39.0            36.0    Male        0\n",
       "121         27.0    67.0            56.0    Male        0\n",
       "192         32.0   103.0            69.0  Female        1"
      ]
     },
     "execution_count": 99,
     "metadata": {},
     "output_type": "execute_result"
    }
   ],
   "source": [
    "# Adding the results to a new column in the dataframe\n",
    "X_train[\"cluster\"] = dbscan_cluster.labels_\n",
    "X_train.head()"
   ]
  },
  {
   "cell_type": "code",
   "execution_count": 100,
   "metadata": {},
   "outputs": [],
   "source": [
    "# Relabel Clusters starting from 0\n",
    "X_train[\"cluster\"] = X_train[\"cluster\"] + 1"
   ]
  },
  {
   "cell_type": "markdown",
   "metadata": {},
   "source": [
    "# Train Model on Cluster Label"
   ]
  },
  {
   "attachments": {},
   "cell_type": "markdown",
   "metadata": {},
   "source": [
    "### One Hote Encode"
   ]
  },
  {
   "cell_type": "code",
   "execution_count": 101,
   "metadata": {},
   "outputs": [],
   "source": [
    "enc = OneHotEncoder(\n",
    "    handle_unknown='ignore',\n",
    "    sparse=False,\n",
    "    drop='first')"
   ]
  },
  {
   "cell_type": "code",
   "execution_count": 102,
   "metadata": {},
   "outputs": [
    {
     "data": {
      "text/html": [
       "<style>#sk-container-id-4 {color: black;background-color: white;}#sk-container-id-4 pre{padding: 0;}#sk-container-id-4 div.sk-toggleable {background-color: white;}#sk-container-id-4 label.sk-toggleable__label {cursor: pointer;display: block;width: 100%;margin-bottom: 0;padding: 0.3em;box-sizing: border-box;text-align: center;}#sk-container-id-4 label.sk-toggleable__label-arrow:before {content: \"▸\";float: left;margin-right: 0.25em;color: #696969;}#sk-container-id-4 label.sk-toggleable__label-arrow:hover:before {color: black;}#sk-container-id-4 div.sk-estimator:hover label.sk-toggleable__label-arrow:before {color: black;}#sk-container-id-4 div.sk-toggleable__content {max-height: 0;max-width: 0;overflow: hidden;text-align: left;background-color: #f0f8ff;}#sk-container-id-4 div.sk-toggleable__content pre {margin: 0.2em;color: black;border-radius: 0.25em;background-color: #f0f8ff;}#sk-container-id-4 input.sk-toggleable__control:checked~div.sk-toggleable__content {max-height: 200px;max-width: 100%;overflow: auto;}#sk-container-id-4 input.sk-toggleable__control:checked~label.sk-toggleable__label-arrow:before {content: \"▾\";}#sk-container-id-4 div.sk-estimator input.sk-toggleable__control:checked~label.sk-toggleable__label {background-color: #d4ebff;}#sk-container-id-4 div.sk-label input.sk-toggleable__control:checked~label.sk-toggleable__label {background-color: #d4ebff;}#sk-container-id-4 input.sk-hidden--visually {border: 0;clip: rect(1px 1px 1px 1px);clip: rect(1px, 1px, 1px, 1px);height: 1px;margin: -1px;overflow: hidden;padding: 0;position: absolute;width: 1px;}#sk-container-id-4 div.sk-estimator {font-family: monospace;background-color: #f0f8ff;border: 1px dotted black;border-radius: 0.25em;box-sizing: border-box;margin-bottom: 0.5em;}#sk-container-id-4 div.sk-estimator:hover {background-color: #d4ebff;}#sk-container-id-4 div.sk-parallel-item::after {content: \"\";width: 100%;border-bottom: 1px solid gray;flex-grow: 1;}#sk-container-id-4 div.sk-label:hover label.sk-toggleable__label {background-color: #d4ebff;}#sk-container-id-4 div.sk-serial::before {content: \"\";position: absolute;border-left: 1px solid gray;box-sizing: border-box;top: 0;bottom: 0;left: 50%;z-index: 0;}#sk-container-id-4 div.sk-serial {display: flex;flex-direction: column;align-items: center;background-color: white;padding-right: 0.2em;padding-left: 0.2em;position: relative;}#sk-container-id-4 div.sk-item {position: relative;z-index: 1;}#sk-container-id-4 div.sk-parallel {display: flex;align-items: stretch;justify-content: center;background-color: white;position: relative;}#sk-container-id-4 div.sk-item::before, #sk-container-id-4 div.sk-parallel-item::before {content: \"\";position: absolute;border-left: 1px solid gray;box-sizing: border-box;top: 0;bottom: 0;left: 50%;z-index: -1;}#sk-container-id-4 div.sk-parallel-item {display: flex;flex-direction: column;z-index: 1;position: relative;background-color: white;}#sk-container-id-4 div.sk-parallel-item:first-child::after {align-self: flex-end;width: 50%;}#sk-container-id-4 div.sk-parallel-item:last-child::after {align-self: flex-start;width: 50%;}#sk-container-id-4 div.sk-parallel-item:only-child::after {width: 0;}#sk-container-id-4 div.sk-dashed-wrapped {border: 1px dashed gray;margin: 0 0.4em 0.5em 0.4em;box-sizing: border-box;padding-bottom: 0.4em;background-color: white;}#sk-container-id-4 div.sk-label label {font-family: monospace;font-weight: bold;display: inline-block;line-height: 1.2em;}#sk-container-id-4 div.sk-label-container {text-align: center;}#sk-container-id-4 div.sk-container {/* jupyter's `normalize.less` sets `[hidden] { display: none; }` but bootstrap.min.css set `[hidden] { display: none !important; }` so we also need the `!important` here to be able to override the default hidden behavior on the sphinx rendered scikit-learn.org. See: https://github.com/scikit-learn/scikit-learn/issues/21755 */display: inline-block !important;position: relative;}#sk-container-id-4 div.sk-text-repr-fallback {display: none;}</style><div id=\"sk-container-id-4\" class=\"sk-top-container\"><div class=\"sk-text-repr-fallback\"><pre>OneHotEncoder(drop=&#x27;first&#x27;, handle_unknown=&#x27;ignore&#x27;, sparse=False)</pre><b>In a Jupyter environment, please rerun this cell to show the HTML representation or trust the notebook. <br />On GitHub, the HTML representation is unable to render, please try loading this page with nbviewer.org.</b></div><div class=\"sk-container\" hidden><div class=\"sk-item\"><div class=\"sk-estimator sk-toggleable\"><input class=\"sk-toggleable__control sk-hidden--visually\" id=\"sk-estimator-id-6\" type=\"checkbox\" checked><label for=\"sk-estimator-id-6\" class=\"sk-toggleable__label sk-toggleable__label-arrow\">OneHotEncoder</label><div class=\"sk-toggleable__content\"><pre>OneHotEncoder(drop=&#x27;first&#x27;, handle_unknown=&#x27;ignore&#x27;, sparse=False)</pre></div></div></div></div></div>"
      ],
      "text/plain": [
       "OneHotEncoder(drop='first', handle_unknown='ignore', sparse=False)"
      ]
     },
     "execution_count": 102,
     "metadata": {},
     "output_type": "execute_result"
    }
   ],
   "source": [
    "enc.fit(X_train[categorical_columns])"
   ]
  },
  {
   "cell_type": "code",
   "execution_count": 103,
   "metadata": {},
   "outputs": [],
   "source": [
    "X_train_hot_enc = enc.transform(X_train[categorical_columns])"
   ]
  },
  {
   "cell_type": "code",
   "execution_count": 104,
   "metadata": {},
   "outputs": [],
   "source": [
    "# Save one hot encoder\n",
    "with open('../artifacts/enc.pickle', 'wb') as filename:\n",
    "    pickle.dump(enc, filename)"
   ]
  },
  {
   "cell_type": "code",
   "execution_count": 105,
   "metadata": {},
   "outputs": [
    {
     "data": {
      "text/html": [
       "<div>\n",
       "<style scoped>\n",
       "    .dataframe tbody tr th:only-of-type {\n",
       "        vertical-align: middle;\n",
       "    }\n",
       "\n",
       "    .dataframe tbody tr th {\n",
       "        vertical-align: top;\n",
       "    }\n",
       "\n",
       "    .dataframe thead th {\n",
       "        text-align: right;\n",
       "    }\n",
       "</style>\n",
       "<table border=\"1\" class=\"dataframe\">\n",
       "  <thead>\n",
       "    <tr style=\"text-align: right;\">\n",
       "      <th></th>\n",
       "      <th>Gender_Male</th>\n",
       "    </tr>\n",
       "    <tr>\n",
       "      <th>CustomerID</th>\n",
       "      <th></th>\n",
       "    </tr>\n",
       "  </thead>\n",
       "  <tbody>\n",
       "    <tr>\n",
       "      <th>187</th>\n",
       "      <td>0.0</td>\n",
       "    </tr>\n",
       "    <tr>\n",
       "      <th>111</th>\n",
       "      <td>1.0</td>\n",
       "    </tr>\n",
       "    <tr>\n",
       "      <th>43</th>\n",
       "      <td>1.0</td>\n",
       "    </tr>\n",
       "    <tr>\n",
       "      <th>121</th>\n",
       "      <td>1.0</td>\n",
       "    </tr>\n",
       "    <tr>\n",
       "      <th>192</th>\n",
       "      <td>0.0</td>\n",
       "    </tr>\n",
       "  </tbody>\n",
       "</table>\n",
       "</div>"
      ],
      "text/plain": [
       "            Gender_Male\n",
       "CustomerID             \n",
       "187                 0.0\n",
       "111                 1.0\n",
       "43                  1.0\n",
       "121                 1.0\n",
       "192                 0.0"
      ]
     },
     "execution_count": 105,
     "metadata": {},
     "output_type": "execute_result"
    }
   ],
   "source": [
    "X_train_cat_hotenc = pd.DataFrame(X_train_hot_enc, columns=enc.get_feature_names_out()) \n",
    "X_train_cat_hotenc.index = X_train.index \n",
    "X_train_cat_hotenc.head()"
   ]
  },
  {
   "cell_type": "code",
   "execution_count": 106,
   "metadata": {},
   "outputs": [
    {
     "data": {
      "text/html": [
       "<div>\n",
       "<style scoped>\n",
       "    .dataframe tbody tr th:only-of-type {\n",
       "        vertical-align: middle;\n",
       "    }\n",
       "\n",
       "    .dataframe tbody tr th {\n",
       "        vertical-align: top;\n",
       "    }\n",
       "\n",
       "    .dataframe thead th {\n",
       "        text-align: right;\n",
       "    }\n",
       "</style>\n",
       "<table border=\"1\" class=\"dataframe\">\n",
       "  <thead>\n",
       "    <tr style=\"text-align: right;\">\n",
       "      <th></th>\n",
       "      <th>Age</th>\n",
       "      <th>Income</th>\n",
       "      <th>Spending_Score</th>\n",
       "      <th>Gender_Male</th>\n",
       "    </tr>\n",
       "    <tr>\n",
       "      <th>CustomerID</th>\n",
       "      <th></th>\n",
       "      <th></th>\n",
       "      <th></th>\n",
       "      <th></th>\n",
       "    </tr>\n",
       "  </thead>\n",
       "  <tbody>\n",
       "    <tr>\n",
       "      <th>187</th>\n",
       "      <td>54.0</td>\n",
       "      <td>101.0</td>\n",
       "      <td>24.0</td>\n",
       "      <td>0.0</td>\n",
       "    </tr>\n",
       "    <tr>\n",
       "      <th>111</th>\n",
       "      <td>65.0</td>\n",
       "      <td>63.0</td>\n",
       "      <td>52.0</td>\n",
       "      <td>1.0</td>\n",
       "    </tr>\n",
       "    <tr>\n",
       "      <th>43</th>\n",
       "      <td>48.0</td>\n",
       "      <td>39.0</td>\n",
       "      <td>36.0</td>\n",
       "      <td>1.0</td>\n",
       "    </tr>\n",
       "    <tr>\n",
       "      <th>121</th>\n",
       "      <td>27.0</td>\n",
       "      <td>67.0</td>\n",
       "      <td>56.0</td>\n",
       "      <td>1.0</td>\n",
       "    </tr>\n",
       "    <tr>\n",
       "      <th>192</th>\n",
       "      <td>32.0</td>\n",
       "      <td>103.0</td>\n",
       "      <td>69.0</td>\n",
       "      <td>0.0</td>\n",
       "    </tr>\n",
       "    <tr>\n",
       "      <th>...</th>\n",
       "      <td>...</td>\n",
       "      <td>...</td>\n",
       "      <td>...</td>\n",
       "      <td>...</td>\n",
       "    </tr>\n",
       "    <tr>\n",
       "      <th>18</th>\n",
       "      <td>20.0</td>\n",
       "      <td>21.0</td>\n",
       "      <td>66.0</td>\n",
       "      <td>1.0</td>\n",
       "    </tr>\n",
       "    <tr>\n",
       "      <th>99</th>\n",
       "      <td>48.0</td>\n",
       "      <td>61.0</td>\n",
       "      <td>42.0</td>\n",
       "      <td>1.0</td>\n",
       "    </tr>\n",
       "    <tr>\n",
       "      <th>67</th>\n",
       "      <td>43.0</td>\n",
       "      <td>48.0</td>\n",
       "      <td>50.0</td>\n",
       "      <td>0.0</td>\n",
       "    </tr>\n",
       "    <tr>\n",
       "      <th>127</th>\n",
       "      <td>43.0</td>\n",
       "      <td>71.0</td>\n",
       "      <td>35.0</td>\n",
       "      <td>1.0</td>\n",
       "    </tr>\n",
       "    <tr>\n",
       "      <th>110</th>\n",
       "      <td>66.0</td>\n",
       "      <td>63.0</td>\n",
       "      <td>48.0</td>\n",
       "      <td>1.0</td>\n",
       "    </tr>\n",
       "  </tbody>\n",
       "</table>\n",
       "<p>150 rows × 4 columns</p>\n",
       "</div>"
      ],
      "text/plain": [
       "             Age  Income  Spending_Score  Gender_Male\n",
       "CustomerID                                           \n",
       "187         54.0   101.0            24.0          0.0\n",
       "111         65.0    63.0            52.0          1.0\n",
       "43          48.0    39.0            36.0          1.0\n",
       "121         27.0    67.0            56.0          1.0\n",
       "192         32.0   103.0            69.0          0.0\n",
       "...          ...     ...             ...          ...\n",
       "18          20.0    21.0            66.0          1.0\n",
       "99          48.0    61.0            42.0          1.0\n",
       "67          43.0    48.0            50.0          0.0\n",
       "127         43.0    71.0            35.0          1.0\n",
       "110         66.0    63.0            48.0          1.0\n",
       "\n",
       "[150 rows x 4 columns]"
      ]
     },
     "execution_count": 106,
     "metadata": {},
     "output_type": "execute_result"
    }
   ],
   "source": [
    "X_train_hotenc = pd.concat([X_train[numeric_columns], X_train_cat_hotenc], axis=1) \n",
    "X_train_hotenc"
   ]
  },
  {
   "cell_type": "code",
   "execution_count": 107,
   "metadata": {},
   "outputs": [],
   "source": [
    "y = X_train['cluster']"
   ]
  },
  {
   "cell_type": "code",
   "execution_count": 108,
   "metadata": {},
   "outputs": [],
   "source": [
    "# create a train/test split\n",
    "X_train_hotenc_train, X_train_hotenc_test, y_train, y_test = train_test_split(\n",
    "    X_train_hotenc, \n",
    "    y, \n",
    "    test_size=0.3, \n",
    "    random_state=123)"
   ]
  },
  {
   "attachments": {},
   "cell_type": "markdown",
   "metadata": {},
   "source": [
    "# Training Sklearn Random Forest b/c of Multiclass Shap Compatibility!"
   ]
  },
  {
   "cell_type": "code",
   "execution_count": 109,
   "metadata": {},
   "outputs": [],
   "source": [
    "clf = RandomForestClassifier(\n",
    "    n_estimators=100, \n",
    "    max_depth=None,\n",
    "    min_samples_split=3,\n",
    "    min_samples_leaf=3,\n",
    "    max_features='log2', \n",
    "    random_state=123)"
   ]
  },
  {
   "cell_type": "code",
   "execution_count": 110,
   "metadata": {},
   "outputs": [
    {
     "data": {
      "text/html": [
       "<style>#sk-container-id-5 {color: black;background-color: white;}#sk-container-id-5 pre{padding: 0;}#sk-container-id-5 div.sk-toggleable {background-color: white;}#sk-container-id-5 label.sk-toggleable__label {cursor: pointer;display: block;width: 100%;margin-bottom: 0;padding: 0.3em;box-sizing: border-box;text-align: center;}#sk-container-id-5 label.sk-toggleable__label-arrow:before {content: \"▸\";float: left;margin-right: 0.25em;color: #696969;}#sk-container-id-5 label.sk-toggleable__label-arrow:hover:before {color: black;}#sk-container-id-5 div.sk-estimator:hover label.sk-toggleable__label-arrow:before {color: black;}#sk-container-id-5 div.sk-toggleable__content {max-height: 0;max-width: 0;overflow: hidden;text-align: left;background-color: #f0f8ff;}#sk-container-id-5 div.sk-toggleable__content pre {margin: 0.2em;color: black;border-radius: 0.25em;background-color: #f0f8ff;}#sk-container-id-5 input.sk-toggleable__control:checked~div.sk-toggleable__content {max-height: 200px;max-width: 100%;overflow: auto;}#sk-container-id-5 input.sk-toggleable__control:checked~label.sk-toggleable__label-arrow:before {content: \"▾\";}#sk-container-id-5 div.sk-estimator input.sk-toggleable__control:checked~label.sk-toggleable__label {background-color: #d4ebff;}#sk-container-id-5 div.sk-label input.sk-toggleable__control:checked~label.sk-toggleable__label {background-color: #d4ebff;}#sk-container-id-5 input.sk-hidden--visually {border: 0;clip: rect(1px 1px 1px 1px);clip: rect(1px, 1px, 1px, 1px);height: 1px;margin: -1px;overflow: hidden;padding: 0;position: absolute;width: 1px;}#sk-container-id-5 div.sk-estimator {font-family: monospace;background-color: #f0f8ff;border: 1px dotted black;border-radius: 0.25em;box-sizing: border-box;margin-bottom: 0.5em;}#sk-container-id-5 div.sk-estimator:hover {background-color: #d4ebff;}#sk-container-id-5 div.sk-parallel-item::after {content: \"\";width: 100%;border-bottom: 1px solid gray;flex-grow: 1;}#sk-container-id-5 div.sk-label:hover label.sk-toggleable__label {background-color: #d4ebff;}#sk-container-id-5 div.sk-serial::before {content: \"\";position: absolute;border-left: 1px solid gray;box-sizing: border-box;top: 0;bottom: 0;left: 50%;z-index: 0;}#sk-container-id-5 div.sk-serial {display: flex;flex-direction: column;align-items: center;background-color: white;padding-right: 0.2em;padding-left: 0.2em;position: relative;}#sk-container-id-5 div.sk-item {position: relative;z-index: 1;}#sk-container-id-5 div.sk-parallel {display: flex;align-items: stretch;justify-content: center;background-color: white;position: relative;}#sk-container-id-5 div.sk-item::before, #sk-container-id-5 div.sk-parallel-item::before {content: \"\";position: absolute;border-left: 1px solid gray;box-sizing: border-box;top: 0;bottom: 0;left: 50%;z-index: -1;}#sk-container-id-5 div.sk-parallel-item {display: flex;flex-direction: column;z-index: 1;position: relative;background-color: white;}#sk-container-id-5 div.sk-parallel-item:first-child::after {align-self: flex-end;width: 50%;}#sk-container-id-5 div.sk-parallel-item:last-child::after {align-self: flex-start;width: 50%;}#sk-container-id-5 div.sk-parallel-item:only-child::after {width: 0;}#sk-container-id-5 div.sk-dashed-wrapped {border: 1px dashed gray;margin: 0 0.4em 0.5em 0.4em;box-sizing: border-box;padding-bottom: 0.4em;background-color: white;}#sk-container-id-5 div.sk-label label {font-family: monospace;font-weight: bold;display: inline-block;line-height: 1.2em;}#sk-container-id-5 div.sk-label-container {text-align: center;}#sk-container-id-5 div.sk-container {/* jupyter's `normalize.less` sets `[hidden] { display: none; }` but bootstrap.min.css set `[hidden] { display: none !important; }` so we also need the `!important` here to be able to override the default hidden behavior on the sphinx rendered scikit-learn.org. See: https://github.com/scikit-learn/scikit-learn/issues/21755 */display: inline-block !important;position: relative;}#sk-container-id-5 div.sk-text-repr-fallback {display: none;}</style><div id=\"sk-container-id-5\" class=\"sk-top-container\"><div class=\"sk-text-repr-fallback\"><pre>RandomForestClassifier(max_features=&#x27;log2&#x27;, min_samples_leaf=3,\n",
       "                       min_samples_split=3, random_state=123)</pre><b>In a Jupyter environment, please rerun this cell to show the HTML representation or trust the notebook. <br />On GitHub, the HTML representation is unable to render, please try loading this page with nbviewer.org.</b></div><div class=\"sk-container\" hidden><div class=\"sk-item\"><div class=\"sk-estimator sk-toggleable\"><input class=\"sk-toggleable__control sk-hidden--visually\" id=\"sk-estimator-id-7\" type=\"checkbox\" checked><label for=\"sk-estimator-id-7\" class=\"sk-toggleable__label sk-toggleable__label-arrow\">RandomForestClassifier</label><div class=\"sk-toggleable__content\"><pre>RandomForestClassifier(max_features=&#x27;log2&#x27;, min_samples_leaf=3,\n",
       "                       min_samples_split=3, random_state=123)</pre></div></div></div></div></div>"
      ],
      "text/plain": [
       "RandomForestClassifier(max_features='log2', min_samples_leaf=3,\n",
       "                       min_samples_split=3, random_state=123)"
      ]
     },
     "execution_count": 110,
     "metadata": {},
     "output_type": "execute_result"
    }
   ],
   "source": [
    "clf.fit(X_train_hotenc_train, y_train)"
   ]
  },
  {
   "cell_type": "code",
   "execution_count": 111,
   "metadata": {},
   "outputs": [
    {
     "data": {
      "text/plain": [
       "0.9714285714285714"
      ]
     },
     "execution_count": 111,
     "metadata": {},
     "output_type": "execute_result"
    }
   ],
   "source": [
    "# evaluate accuracy on training set\n",
    "clf.score(X_train_hotenc_train, y_train)"
   ]
  },
  {
   "cell_type": "code",
   "execution_count": 112,
   "metadata": {},
   "outputs": [
    {
     "data": {
      "text/plain": [
       "0.8888888888888888"
      ]
     },
     "execution_count": 112,
     "metadata": {},
     "output_type": "execute_result"
    }
   ],
   "source": [
    "# evaluate accuracy on test set\n",
    "clf.score(X_train_hotenc_test, y_test)"
   ]
  },
  {
   "cell_type": "code",
   "execution_count": 113,
   "metadata": {},
   "outputs": [
    {
     "data": {
      "text/plain": [
       "array([1, 3, 1, 3, 3, 3, 1, 3, 3, 1, 3, 3, 3, 2, 3, 1, 0, 1, 3, 1, 1, 3,\n",
       "       3, 2, 2, 2, 1, 1, 3, 1, 0, 1, 3, 0, 1, 3, 1, 0, 3, 0, 0, 0, 3, 0,\n",
       "       3, 1, 3, 3, 1, 3, 1, 2, 1, 2, 3, 3, 3, 1, 1, 3, 0, 0, 3, 2, 3, 0,\n",
       "       0, 1, 3, 0, 0, 2, 2, 1, 3, 1, 3, 1, 3, 1, 0, 1, 0, 2, 1, 2, 3, 0,\n",
       "       3, 3, 1, 3, 1, 1, 1, 1, 2, 3, 1, 0, 3, 1, 2, 3, 2], dtype=int64)"
      ]
     },
     "execution_count": 113,
     "metadata": {},
     "output_type": "execute_result"
    }
   ],
   "source": [
    "pred = clf.predict(X_train_hotenc_train)\n",
    "pred"
   ]
  },
  {
   "attachments": {},
   "cell_type": "markdown",
   "metadata": {},
   "source": [
    "### Tuning Random Forest"
   ]
  },
  {
   "cell_type": "code",
   "execution_count": 114,
   "metadata": {},
   "outputs": [],
   "source": [
    "parameters = {\n",
    "    'n_estimators': (50, 100, 200),\n",
    "    'max_depth': (3, 5, None),\n",
    "    'min_samples_split': (1, 3, 6),\n",
    "    'min_samples_leaf': (1, 3, 6),\n",
    "    }\n",
    "\n",
    "model = GridSearchCV(\n",
    "    clf, \n",
    "    parameters,\n",
    "    cv=3, \n",
    "    n_jobs =-1)"
   ]
  },
  {
   "cell_type": "code",
   "execution_count": 115,
   "metadata": {},
   "outputs": [
    {
     "name": "stderr",
     "output_type": "stream",
     "text": [
      "\n",
      "81 fits failed out of a total of 243.\n",
      "The score on these train-test partitions for these parameters will be set to nan.\n",
      "If these failures are not expected, you can try to debug them by setting error_score='raise'.\n",
      "\n",
      "Below are more details about the failures:\n",
      "--------------------------------------------------------------------------------\n",
      "81 fits failed with the following error:\n",
      "Traceback (most recent call last):\n",
      "  File \"c:\\Users\\Nutzer\\.conda\\envs\\customer_analytics\\lib\\site-packages\\sklearn\\model_selection\\_validation.py\", line 686, in _fit_and_score\n",
      "    estimator.fit(X_train, y_train, **fit_params)\n",
      "  File \"c:\\Users\\Nutzer\\.conda\\envs\\customer_analytics\\lib\\site-packages\\sklearn\\ensemble\\_forest.py\", line 476, in fit\n",
      "    trees = Parallel(\n",
      "  File \"c:\\Users\\Nutzer\\.conda\\envs\\customer_analytics\\lib\\site-packages\\joblib\\parallel.py\", line 1041, in __call__\n",
      "    if self.dispatch_one_batch(iterator):\n",
      "  File \"c:\\Users\\Nutzer\\.conda\\envs\\customer_analytics\\lib\\site-packages\\joblib\\parallel.py\", line 859, in dispatch_one_batch\n",
      "    self._dispatch(tasks)\n",
      "  File \"c:\\Users\\Nutzer\\.conda\\envs\\customer_analytics\\lib\\site-packages\\joblib\\parallel.py\", line 777, in _dispatch\n",
      "    job = self._backend.apply_async(batch, callback=cb)\n",
      "  File \"c:\\Users\\Nutzer\\.conda\\envs\\customer_analytics\\lib\\site-packages\\joblib\\_parallel_backends.py\", line 208, in apply_async\n",
      "    result = ImmediateResult(func)\n",
      "  File \"c:\\Users\\Nutzer\\.conda\\envs\\customer_analytics\\lib\\site-packages\\joblib\\_parallel_backends.py\", line 572, in __init__\n",
      "    self.results = batch()\n",
      "  File \"c:\\Users\\Nutzer\\.conda\\envs\\customer_analytics\\lib\\site-packages\\joblib\\parallel.py\", line 262, in __call__\n",
      "    return [func(*args, **kwargs)\n",
      "  File \"c:\\Users\\Nutzer\\.conda\\envs\\customer_analytics\\lib\\site-packages\\joblib\\parallel.py\", line 262, in <listcomp>\n",
      "    return [func(*args, **kwargs)\n",
      "  File \"c:\\Users\\Nutzer\\.conda\\envs\\customer_analytics\\lib\\site-packages\\sklearn\\utils\\fixes.py\", line 117, in __call__\n",
      "    return self.function(*args, **kwargs)\n",
      "  File \"c:\\Users\\Nutzer\\.conda\\envs\\customer_analytics\\lib\\site-packages\\sklearn\\ensemble\\_forest.py\", line 189, in _parallel_build_trees\n",
      "    tree.fit(X, y, sample_weight=curr_sample_weight, check_input=False)\n",
      "  File \"c:\\Users\\Nutzer\\.conda\\envs\\customer_analytics\\lib\\site-packages\\sklearn\\tree\\_classes.py\", line 969, in fit\n",
      "    super().fit(\n",
      "  File \"c:\\Users\\Nutzer\\.conda\\envs\\customer_analytics\\lib\\site-packages\\sklearn\\tree\\_classes.py\", line 265, in fit\n",
      "    check_scalar(\n",
      "  File \"c:\\Users\\Nutzer\\.conda\\envs\\customer_analytics\\lib\\site-packages\\sklearn\\utils\\validation.py\", line 1480, in check_scalar\n",
      "    raise ValueError(\n",
      "ValueError: min_samples_split == 1, must be >= 2.\n",
      "\n",
      "One or more of the test scores are non-finite: [       nan        nan        nan 0.8952381  0.9047619  0.88571429\n",
      " 0.88571429 0.8952381  0.88571429        nan        nan        nan\n",
      " 0.87619048 0.86666667 0.88571429 0.87619048 0.86666667 0.88571429\n",
      "        nan        nan        nan 0.86666667 0.85714286 0.85714286\n",
      " 0.86666667 0.85714286 0.85714286        nan        nan        nan\n",
      " 0.87619048 0.87619048 0.87619048 0.9047619  0.88571429 0.88571429\n",
      "        nan        nan        nan 0.88571429 0.88571429 0.88571429\n",
      " 0.88571429 0.88571429 0.88571429        nan        nan        nan\n",
      " 0.85714286 0.85714286 0.84761905 0.85714286 0.85714286 0.84761905\n",
      "        nan        nan        nan 0.86666667 0.87619048 0.87619048\n",
      " 0.9047619  0.88571429 0.88571429        nan        nan        nan\n",
      " 0.88571429 0.88571429 0.88571429 0.88571429 0.88571429 0.88571429\n",
      "        nan        nan        nan 0.85714286 0.85714286 0.84761905\n",
      " 0.85714286 0.85714286 0.84761905]\n"
     ]
    },
    {
     "data": {
      "text/html": [
       "<style>#sk-container-id-6 {color: black;background-color: white;}#sk-container-id-6 pre{padding: 0;}#sk-container-id-6 div.sk-toggleable {background-color: white;}#sk-container-id-6 label.sk-toggleable__label {cursor: pointer;display: block;width: 100%;margin-bottom: 0;padding: 0.3em;box-sizing: border-box;text-align: center;}#sk-container-id-6 label.sk-toggleable__label-arrow:before {content: \"▸\";float: left;margin-right: 0.25em;color: #696969;}#sk-container-id-6 label.sk-toggleable__label-arrow:hover:before {color: black;}#sk-container-id-6 div.sk-estimator:hover label.sk-toggleable__label-arrow:before {color: black;}#sk-container-id-6 div.sk-toggleable__content {max-height: 0;max-width: 0;overflow: hidden;text-align: left;background-color: #f0f8ff;}#sk-container-id-6 div.sk-toggleable__content pre {margin: 0.2em;color: black;border-radius: 0.25em;background-color: #f0f8ff;}#sk-container-id-6 input.sk-toggleable__control:checked~div.sk-toggleable__content {max-height: 200px;max-width: 100%;overflow: auto;}#sk-container-id-6 input.sk-toggleable__control:checked~label.sk-toggleable__label-arrow:before {content: \"▾\";}#sk-container-id-6 div.sk-estimator input.sk-toggleable__control:checked~label.sk-toggleable__label {background-color: #d4ebff;}#sk-container-id-6 div.sk-label input.sk-toggleable__control:checked~label.sk-toggleable__label {background-color: #d4ebff;}#sk-container-id-6 input.sk-hidden--visually {border: 0;clip: rect(1px 1px 1px 1px);clip: rect(1px, 1px, 1px, 1px);height: 1px;margin: -1px;overflow: hidden;padding: 0;position: absolute;width: 1px;}#sk-container-id-6 div.sk-estimator {font-family: monospace;background-color: #f0f8ff;border: 1px dotted black;border-radius: 0.25em;box-sizing: border-box;margin-bottom: 0.5em;}#sk-container-id-6 div.sk-estimator:hover {background-color: #d4ebff;}#sk-container-id-6 div.sk-parallel-item::after {content: \"\";width: 100%;border-bottom: 1px solid gray;flex-grow: 1;}#sk-container-id-6 div.sk-label:hover label.sk-toggleable__label {background-color: #d4ebff;}#sk-container-id-6 div.sk-serial::before {content: \"\";position: absolute;border-left: 1px solid gray;box-sizing: border-box;top: 0;bottom: 0;left: 50%;z-index: 0;}#sk-container-id-6 div.sk-serial {display: flex;flex-direction: column;align-items: center;background-color: white;padding-right: 0.2em;padding-left: 0.2em;position: relative;}#sk-container-id-6 div.sk-item {position: relative;z-index: 1;}#sk-container-id-6 div.sk-parallel {display: flex;align-items: stretch;justify-content: center;background-color: white;position: relative;}#sk-container-id-6 div.sk-item::before, #sk-container-id-6 div.sk-parallel-item::before {content: \"\";position: absolute;border-left: 1px solid gray;box-sizing: border-box;top: 0;bottom: 0;left: 50%;z-index: -1;}#sk-container-id-6 div.sk-parallel-item {display: flex;flex-direction: column;z-index: 1;position: relative;background-color: white;}#sk-container-id-6 div.sk-parallel-item:first-child::after {align-self: flex-end;width: 50%;}#sk-container-id-6 div.sk-parallel-item:last-child::after {align-self: flex-start;width: 50%;}#sk-container-id-6 div.sk-parallel-item:only-child::after {width: 0;}#sk-container-id-6 div.sk-dashed-wrapped {border: 1px dashed gray;margin: 0 0.4em 0.5em 0.4em;box-sizing: border-box;padding-bottom: 0.4em;background-color: white;}#sk-container-id-6 div.sk-label label {font-family: monospace;font-weight: bold;display: inline-block;line-height: 1.2em;}#sk-container-id-6 div.sk-label-container {text-align: center;}#sk-container-id-6 div.sk-container {/* jupyter's `normalize.less` sets `[hidden] { display: none; }` but bootstrap.min.css set `[hidden] { display: none !important; }` so we also need the `!important` here to be able to override the default hidden behavior on the sphinx rendered scikit-learn.org. See: https://github.com/scikit-learn/scikit-learn/issues/21755 */display: inline-block !important;position: relative;}#sk-container-id-6 div.sk-text-repr-fallback {display: none;}</style><div id=\"sk-container-id-6\" class=\"sk-top-container\"><div class=\"sk-text-repr-fallback\"><pre>GridSearchCV(cv=3,\n",
       "             estimator=RandomForestClassifier(max_features=&#x27;log2&#x27;,\n",
       "                                              min_samples_leaf=3,\n",
       "                                              min_samples_split=3,\n",
       "                                              random_state=123),\n",
       "             n_jobs=-1,\n",
       "             param_grid={&#x27;max_depth&#x27;: (3, 5, None),\n",
       "                         &#x27;min_samples_leaf&#x27;: (1, 3, 6),\n",
       "                         &#x27;min_samples_split&#x27;: (1, 3, 6),\n",
       "                         &#x27;n_estimators&#x27;: (50, 100, 200)})</pre><b>In a Jupyter environment, please rerun this cell to show the HTML representation or trust the notebook. <br />On GitHub, the HTML representation is unable to render, please try loading this page with nbviewer.org.</b></div><div class=\"sk-container\" hidden><div class=\"sk-item sk-dashed-wrapped\"><div class=\"sk-label-container\"><div class=\"sk-label sk-toggleable\"><input class=\"sk-toggleable__control sk-hidden--visually\" id=\"sk-estimator-id-8\" type=\"checkbox\" ><label for=\"sk-estimator-id-8\" class=\"sk-toggleable__label sk-toggleable__label-arrow\">GridSearchCV</label><div class=\"sk-toggleable__content\"><pre>GridSearchCV(cv=3,\n",
       "             estimator=RandomForestClassifier(max_features=&#x27;log2&#x27;,\n",
       "                                              min_samples_leaf=3,\n",
       "                                              min_samples_split=3,\n",
       "                                              random_state=123),\n",
       "             n_jobs=-1,\n",
       "             param_grid={&#x27;max_depth&#x27;: (3, 5, None),\n",
       "                         &#x27;min_samples_leaf&#x27;: (1, 3, 6),\n",
       "                         &#x27;min_samples_split&#x27;: (1, 3, 6),\n",
       "                         &#x27;n_estimators&#x27;: (50, 100, 200)})</pre></div></div></div><div class=\"sk-parallel\"><div class=\"sk-parallel-item\"><div class=\"sk-item\"><div class=\"sk-label-container\"><div class=\"sk-label sk-toggleable\"><input class=\"sk-toggleable__control sk-hidden--visually\" id=\"sk-estimator-id-9\" type=\"checkbox\" ><label for=\"sk-estimator-id-9\" class=\"sk-toggleable__label sk-toggleable__label-arrow\">estimator: RandomForestClassifier</label><div class=\"sk-toggleable__content\"><pre>RandomForestClassifier(max_features=&#x27;log2&#x27;, min_samples_leaf=3,\n",
       "                       min_samples_split=3, random_state=123)</pre></div></div></div><div class=\"sk-serial\"><div class=\"sk-item\"><div class=\"sk-estimator sk-toggleable\"><input class=\"sk-toggleable__control sk-hidden--visually\" id=\"sk-estimator-id-10\" type=\"checkbox\" ><label for=\"sk-estimator-id-10\" class=\"sk-toggleable__label sk-toggleable__label-arrow\">RandomForestClassifier</label><div class=\"sk-toggleable__content\"><pre>RandomForestClassifier(max_features=&#x27;log2&#x27;, min_samples_leaf=3,\n",
       "                       min_samples_split=3, random_state=123)</pre></div></div></div></div></div></div></div></div></div></div>"
      ],
      "text/plain": [
       "GridSearchCV(cv=3,\n",
       "             estimator=RandomForestClassifier(max_features='log2',\n",
       "                                              min_samples_leaf=3,\n",
       "                                              min_samples_split=3,\n",
       "                                              random_state=123),\n",
       "             n_jobs=-1,\n",
       "             param_grid={'max_depth': (3, 5, None),\n",
       "                         'min_samples_leaf': (1, 3, 6),\n",
       "                         'min_samples_split': (1, 3, 6),\n",
       "                         'n_estimators': (50, 100, 200)})"
      ]
     },
     "execution_count": 115,
     "metadata": {},
     "output_type": "execute_result"
    }
   ],
   "source": [
    "model.fit(X_train_hotenc_train, y_train)"
   ]
  },
  {
   "cell_type": "code",
   "execution_count": 116,
   "metadata": {},
   "outputs": [
    {
     "data": {
      "text/plain": [
       "0.9904761904761905"
      ]
     },
     "execution_count": 116,
     "metadata": {},
     "output_type": "execute_result"
    }
   ],
   "source": [
    "# evaluate accuracy on training set\n",
    "model.score(X_train_hotenc_train, y_train)"
   ]
  },
  {
   "cell_type": "code",
   "execution_count": 117,
   "metadata": {},
   "outputs": [
    {
     "data": {
      "text/plain": [
       "0.9111111111111111"
      ]
     },
     "execution_count": 117,
     "metadata": {},
     "output_type": "execute_result"
    }
   ],
   "source": [
    "# evaluate accuracy on test set\n",
    "model.score(X_train_hotenc_test, y_test)"
   ]
  },
  {
   "cell_type": "code",
   "execution_count": 118,
   "metadata": {},
   "outputs": [
    {
     "data": {
      "text/plain": [
       "array([1, 3, 1, 3, 3, 3, 1, 3, 3, 1, 3, 3, 3, 2, 3, 1, 0, 0, 3, 1, 1, 3,\n",
       "       3, 2, 2, 2, 1, 1, 3, 1, 0, 1, 3, 0, 1, 3, 1, 0, 3, 0, 0, 0, 3, 0,\n",
       "       3, 1, 3, 3, 1, 3, 1, 2, 1, 2, 3, 3, 3, 1, 1, 3, 0, 0, 3, 2, 3, 0,\n",
       "       0, 1, 3, 0, 0, 2, 2, 1, 3, 0, 3, 1, 3, 1, 0, 1, 0, 2, 1, 2, 3, 0,\n",
       "       3, 3, 1, 3, 1, 1, 1, 1, 2, 3, 1, 0, 3, 1, 2, 3, 2], dtype=int64)"
      ]
     },
     "execution_count": 118,
     "metadata": {},
     "output_type": "execute_result"
    }
   ],
   "source": [
    "# predict\n",
    "model.predict(X_train_hotenc_train)"
   ]
  },
  {
   "cell_type": "code",
   "execution_count": 119,
   "metadata": {},
   "outputs": [
    {
     "data": {
      "text/plain": [
       "{'max_depth': 5,\n",
       " 'min_samples_leaf': 1,\n",
       " 'min_samples_split': 6,\n",
       " 'n_estimators': 50}"
      ]
     },
     "execution_count": 119,
     "metadata": {},
     "output_type": "execute_result"
    }
   ],
   "source": [
    "model.best_params_"
   ]
  },
  {
   "cell_type": "code",
   "execution_count": 120,
   "metadata": {},
   "outputs": [],
   "source": [
    "# Save the trained classifier\n",
    "with open('../artifacts/model.pickle', 'wb') as filename:\n",
    "    pickle.dump(model, filename)"
   ]
  },
  {
   "attachments": {},
   "cell_type": "markdown",
   "metadata": {},
   "source": [
    "# Model Evaluation"
   ]
  },
  {
   "cell_type": "code",
   "execution_count": 121,
   "metadata": {},
   "outputs": [
    {
     "data": {
      "image/png": "[encoded data removed]",
      "text/plain": [
       "<Figure size 432x288 with 2 Axes>"
      ]
     },
     "metadata": {
      "needs_background": "light"
     },
     "output_type": "display_data"
    }
   ],
   "source": [
    "# plot confusion matrix for training data\n",
    "cm = confusion_matrix(y_train, model.predict(X_train_hotenc_train), labels=clf.classes_)\n",
    "\n",
    "disp = ConfusionMatrixDisplay(\n",
    "    confusion_matrix=cm,                            \n",
    "    display_labels=clf.classes_)\n",
    "disp.plot()\n",
    "plt.show()"
   ]
  },
  {
   "cell_type": "code",
   "execution_count": 122,
   "metadata": {},
   "outputs": [
    {
     "data": {
      "image/png": "[encoded data removed]",
      "text/plain": [
       "<Figure size 432x288 with 2 Axes>"
      ]
     },
     "metadata": {
      "needs_background": "light"
     },
     "output_type": "display_data"
    }
   ],
   "source": [
    "# plot confusion matrix for training data\n",
    "cm = confusion_matrix(y_test, model.predict(X_train_hotenc_test), labels=clf.classes_)\n",
    "\n",
    "disp = ConfusionMatrixDisplay(\n",
    "    confusion_matrix=cm,                            \n",
    "    display_labels=clf.classes_)\n",
    "disp.plot()\n",
    "plt.show()"
   ]
  }
 ],
 "metadata": {
  "colab": {
   "provenance": []
  },
  "instance_type": "ml.t3.medium",
  "kernelspec": {
   "display_name": "customer_analytics",
   "language": "python",
   "name": "python3"
  },
  "language_info": {
   "codemirror_mode": {
    "name": "ipython",
    "version": 3
   },
   "file_extension": ".py",
   "mimetype": "text/x-python",
   "name": "python",
   "nbconvert_exporter": "python",
   "pygments_lexer": "ipython3",
   "version": "3.8.13"
  },
  "vscode": {
   "interpreter": {
    "hash": "d6d257a4de92dbbd8540bc21a788c880e0ed004671baa4a130c0cbca69d8aa15"
   }
  }
 },
 "nbformat": 4,
 "nbformat_minor": 4
}
