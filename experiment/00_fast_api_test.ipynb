{
 "cells": [
  {
   "cell_type": "code",
   "execution_count": 1,
   "metadata": {},
   "outputs": [],
   "source": [
    "import requests"
   ]
  },
  {
   "cell_type": "code",
   "execution_count": 2,
   "metadata": {},
   "outputs": [],
   "source": [
    "url = 'http://127.0.0.1:8000/predict_bmi/'"
   ]
  },
  {
   "cell_type": "code",
   "execution_count": 3,
   "metadata": {},
   "outputs": [],
   "source": [
    "input_list = [\n",
    "    {'weight': 95, 'height': 1.92},\n",
    "    {'weight': 75, 'height': 1.75},\n",
    "    {'weight': 85, 'height': 2.00}\n",
    "]"
   ]
  },
  {
   "cell_type": "code",
   "execution_count": 4,
   "metadata": {},
   "outputs": [],
   "source": [
    "responses = []\n",
    "for inputs in input_list:\n",
    "    response = requests.post(\n",
    "        url, \n",
    "        params=inputs)\n",
    "    responses.append(response)"
   ]
  },
  {
   "cell_type": "code",
   "execution_count": 5,
   "metadata": {},
   "outputs": [
    {
     "name": "stdout",
     "output_type": "stream",
     "text": [
      "{\"predicted bmi\":[25.770399305555557]}\n",
      "{\"predicted bmi\":[24.489795918367346]}\n",
      "{\"predicted bmi\":[21.25]}\n"
     ]
    }
   ],
   "source": [
    "for response in responses:\n",
    "    print(response.text)"
   ]
  }
 ],
 "metadata": {
  "kernelspec": {
   "display_name": "base",
   "language": "python",
   "name": "python3"
  },
  "language_info": {
   "codemirror_mode": {
    "name": "ipython",
    "version": 3
   },
   "file_extension": ".py",
   "mimetype": "text/x-python",
   "name": "python",
   "nbconvert_exporter": "python",
   "pygments_lexer": "ipython3",
   "version": "3.8.8"
  },
  "orig_nbformat": 4,
  "vscode": {
   "interpreter": {
    "hash": "3bae3d8c463296fe75c902895712520123bdee03fdc749cca1f2f6fed1a18ba7"
   }
  }
 },
 "nbformat": 4,
 "nbformat_minor": 2
}
